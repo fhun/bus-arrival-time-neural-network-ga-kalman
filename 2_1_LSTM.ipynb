{
  "nbformat": 4,
  "nbformat_minor": 0,
  "metadata": {
    "colab": {
      "name": "2.1_LSTM.ipynb",
      "provenance": [],
      "toc_visible": true,
      "mount_file_id": "1IG_AUpztGlas7GE4_6zDxpWq9vffu3g9",
      "authorship_tag": "ABX9TyNw5DNpMrGBKG1ckM8M2eoR",
      "include_colab_link": true
    },
    "kernelspec": {
      "name": "python3",
      "display_name": "Python 3"
    },
    "accelerator": "GPU"
  },
  "cells": [
    {
      "cell_type": "markdown",
      "metadata": {
        "id": "view-in-github",
        "colab_type": "text"
      },
      "source": [
        "<a href=\"https://colab.research.google.com/github/fhun/bus-arrival-time-neural-network-ga-kalman/blob/master/2_1_LSTM.ipynb\" target=\"_parent\"><img src=\"https://colab.research.google.com/assets/colab-badge.svg\" alt=\"Open In Colab\"/></a>"
      ]
    },
    {
      "cell_type": "code",
      "metadata": {
        "id": "KBp1TcRyY-US"
      },
      "source": [
        "import pandas as pd\n",
        "import matplotlib.pyplot as plt\n",
        "import matplotlib as mpl\n",
        "\n",
        "import seaborn as sns\n",
        "import numpy as np\n",
        "\n",
        "#from sklearn.preprocessing import StandardScaler\n",
        "from sklearn.preprocessing import MinMaxScaler"
      ],
      "execution_count": null,
      "outputs": []
    },
    {
      "cell_type": "code",
      "metadata": {
        "id": "BK5dgeE9ZOR5",
        "colab": {
          "base_uri": "https://localhost:8080/"
        },
        "outputId": "16ea23e1-c384-4608-c3ef-b4e2feb1addb"
      },
      "source": [
        "from google.colab import drive\n",
        "drive.mount('/content/drive')"
      ],
      "execution_count": null,
      "outputs": [
        {
          "output_type": "stream",
          "text": [
            "Drive already mounted at /content/drive; to attempt to forcibly remount, call drive.mount(\"/content/drive\", force_remount=True).\n"
          ],
          "name": "stdout"
        }
      ]
    },
    {
      "cell_type": "code",
      "metadata": {
        "id": "PHg2zPK2T6qN"
      },
      "source": [
        "from psutil import * #retrieving information on running processes and system utilization (CPU, memory, disks, network, sensors)"
      ],
      "execution_count": null,
      "outputs": []
    },
    {
      "cell_type": "code",
      "metadata": {
        "colab": {
          "base_uri": "https://localhost:8080/"
        },
        "id": "9wfnSn1YT9ml",
        "outputId": "afe23965-61f5-44db-81e5-1e42bbb41a35"
      },
      "source": [
        "from tensorflow.python.client import device_lib\n",
        "device_lib.list_local_devices()"
      ],
      "execution_count": null,
      "outputs": [
        {
          "output_type": "execute_result",
          "data": {
            "text/plain": [
              "[name: \"/device:CPU:0\"\n",
              " device_type: \"CPU\"\n",
              " memory_limit: 268435456\n",
              " locality {\n",
              " }\n",
              " incarnation: 1096384324746844924, name: \"/device:GPU:0\"\n",
              " device_type: \"GPU\"\n",
              " memory_limit: 14638920512\n",
              " locality {\n",
              "   bus_id: 1\n",
              "   links {\n",
              "   }\n",
              " }\n",
              " incarnation: 13564136572673732469\n",
              " physical_device_desc: \"device: 0, name: Tesla T4, pci bus id: 0000:00:04.0, compute capability: 7.5\"]"
            ]
          },
          "metadata": {
            "tags": []
          },
          "execution_count": 1
        }
      ]
    },
    {
      "cell_type": "markdown",
      "metadata": {
        "id": "jgyzQRGgNV1z"
      },
      "source": [
        "# Import data"
      ]
    },
    {
      "cell_type": "markdown",
      "metadata": {
        "id": "zklVI4yPOR_s"
      },
      "source": [
        "Route 101 ***U Wandsbek Markt to S Rübenkamp***"
      ]
    },
    {
      "cell_type": "code",
      "metadata": {
        "id": "TLSgGl3dZPUO"
      },
      "source": [
        "#path = \"/content/drive/My Drive/Colab Notebooks/Thesis/ist_0420_data_processed.csv\"\n",
        "path = \"/content/drive/My Drive/Colab Notebooks/Thesis/ist_01_12_19_data_processed.csv\"\n",
        "df_proceeded = pd.read_csv(path)"
      ],
      "execution_count": null,
      "outputs": []
    },
    {
      "cell_type": "code",
      "metadata": {
        "id": "eAIXPv37ZgEn",
        "colab": {
          "base_uri": "https://localhost:8080/"
        },
        "outputId": "94e5b48b-fb2d-4468-bbe4-ba06fc5b63d0"
      },
      "source": [
        "df_proceeded"
      ],
      "execution_count": null,
      "outputs": [
        {
          "output_type": "execute_result",
          "data": {
            "text/html": [
              "<div>\n",
              "<style scoped>\n",
              "    .dataframe tbody tr th:only-of-type {\n",
              "        vertical-align: middle;\n",
              "    }\n",
              "\n",
              "    .dataframe tbody tr th {\n",
              "        vertical-align: top;\n",
              "    }\n",
              "\n",
              "    .dataframe thead th {\n",
              "        text-align: right;\n",
              "    }\n",
              "</style>\n",
              "<table border=\"1\" class=\"dataframe\">\n",
              "  <thead>\n",
              "    <tr style=\"text-align: right;\">\n",
              "      <th></th>\n",
              "      <th>Unnamed: 0</th>\n",
              "      <th>Time</th>\n",
              "      <th>Node A to Node B</th>\n",
              "      <th>Precipitation</th>\n",
              "      <th>Driving_time_s_p</th>\n",
              "      <th>Driving_time_s</th>\n",
              "      <th>dayofweek</th>\n",
              "      <th>month</th>\n",
              "      <th>timeofday</th>\n",
              "    </tr>\n",
              "  </thead>\n",
              "  <tbody>\n",
              "    <tr>\n",
              "      <th>0</th>\n",
              "      <td>0</td>\n",
              "      <td>2019-01-02 09:47:00</td>\n",
              "      <td>U Wandsbek Markt|Wandsbeker Allee</td>\n",
              "      <td>0.0</td>\n",
              "      <td>180.0</td>\n",
              "      <td>204.0</td>\n",
              "      <td>2</td>\n",
              "      <td>1</td>\n",
              "      <td>1</td>\n",
              "    </tr>\n",
              "    <tr>\n",
              "      <th>1</th>\n",
              "      <td>1</td>\n",
              "      <td>2019-01-02 09:50:00</td>\n",
              "      <td>Wandsbeker Allee|U Straßburger Straße</td>\n",
              "      <td>0.0</td>\n",
              "      <td>120.0</td>\n",
              "      <td>108.0</td>\n",
              "      <td>2</td>\n",
              "      <td>1</td>\n",
              "      <td>1</td>\n",
              "    </tr>\n",
              "    <tr>\n",
              "      <th>2</th>\n",
              "      <td>2</td>\n",
              "      <td>2019-01-02 09:52:00</td>\n",
              "      <td>U Straßburger Straße|U Alter Teichweg</td>\n",
              "      <td>0.0</td>\n",
              "      <td>120.0</td>\n",
              "      <td>96.0</td>\n",
              "      <td>2</td>\n",
              "      <td>1</td>\n",
              "      <td>1</td>\n",
              "    </tr>\n",
              "    <tr>\n",
              "      <th>3</th>\n",
              "      <td>3</td>\n",
              "      <td>2019-01-02 09:54:00</td>\n",
              "      <td>U Alter Teichweg|Habichtstraße (Mitte)</td>\n",
              "      <td>0.0</td>\n",
              "      <td>180.0</td>\n",
              "      <td>168.0</td>\n",
              "      <td>2</td>\n",
              "      <td>1</td>\n",
              "      <td>1</td>\n",
              "    </tr>\n",
              "    <tr>\n",
              "      <th>4</th>\n",
              "      <td>4</td>\n",
              "      <td>2019-01-02 09:57:00</td>\n",
              "      <td>Habichtstraße (Mitte)|U Habichtstraße</td>\n",
              "      <td>0.0</td>\n",
              "      <td>60.0</td>\n",
              "      <td>54.0</td>\n",
              "      <td>2</td>\n",
              "      <td>1</td>\n",
              "      <td>1</td>\n",
              "    </tr>\n",
              "    <tr>\n",
              "      <th>...</th>\n",
              "      <td>...</td>\n",
              "      <td>...</td>\n",
              "      <td>...</td>\n",
              "      <td>...</td>\n",
              "      <td>...</td>\n",
              "      <td>...</td>\n",
              "      <td>...</td>\n",
              "      <td>...</td>\n",
              "      <td>...</td>\n",
              "    </tr>\n",
              "    <tr>\n",
              "      <th>133269</th>\n",
              "      <td>133269</td>\n",
              "      <td>2019-12-23 08:58:00</td>\n",
              "      <td>Habichtsplatz|Neue Wöhr</td>\n",
              "      <td>1.0</td>\n",
              "      <td>180.0</td>\n",
              "      <td>144.0</td>\n",
              "      <td>0</td>\n",
              "      <td>12</td>\n",
              "      <td>1</td>\n",
              "    </tr>\n",
              "    <tr>\n",
              "      <th>133270</th>\n",
              "      <td>133270</td>\n",
              "      <td>2019-12-23 09:01:00</td>\n",
              "      <td>Neue Wöhr|Hartzloh</td>\n",
              "      <td>1.0</td>\n",
              "      <td>60.0</td>\n",
              "      <td>66.0</td>\n",
              "      <td>0</td>\n",
              "      <td>12</td>\n",
              "      <td>1</td>\n",
              "    </tr>\n",
              "    <tr>\n",
              "      <th>133271</th>\n",
              "      <td>133271</td>\n",
              "      <td>2019-12-23 09:02:00</td>\n",
              "      <td>Hartzloh|AK Barmbek</td>\n",
              "      <td>1.0</td>\n",
              "      <td>60.0</td>\n",
              "      <td>60.0</td>\n",
              "      <td>0</td>\n",
              "      <td>12</td>\n",
              "      <td>1</td>\n",
              "    </tr>\n",
              "    <tr>\n",
              "      <th>133272</th>\n",
              "      <td>133272</td>\n",
              "      <td>2019-12-23 09:03:00</td>\n",
              "      <td>AK Barmbek|Hebebrandstraße</td>\n",
              "      <td>1.0</td>\n",
              "      <td>120.0</td>\n",
              "      <td>132.0</td>\n",
              "      <td>0</td>\n",
              "      <td>12</td>\n",
              "      <td>1</td>\n",
              "    </tr>\n",
              "    <tr>\n",
              "      <th>133273</th>\n",
              "      <td>133273</td>\n",
              "      <td>2019-12-23 09:05:00</td>\n",
              "      <td>Hebebrandstraße|S Rübenkamp</td>\n",
              "      <td>1.0</td>\n",
              "      <td>120.0</td>\n",
              "      <td>60.0</td>\n",
              "      <td>0</td>\n",
              "      <td>12</td>\n",
              "      <td>1</td>\n",
              "    </tr>\n",
              "  </tbody>\n",
              "</table>\n",
              "<p>133274 rows × 9 columns</p>\n",
              "</div>"
            ],
            "text/plain": [
              "        Unnamed: 0                 Time  ... month  timeofday\n",
              "0                0  2019-01-02 09:47:00  ...     1          1\n",
              "1                1  2019-01-02 09:50:00  ...     1          1\n",
              "2                2  2019-01-02 09:52:00  ...     1          1\n",
              "3                3  2019-01-02 09:54:00  ...     1          1\n",
              "4                4  2019-01-02 09:57:00  ...     1          1\n",
              "...            ...                  ...  ...   ...        ...\n",
              "133269      133269  2019-12-23 08:58:00  ...    12          1\n",
              "133270      133270  2019-12-23 09:01:00  ...    12          1\n",
              "133271      133271  2019-12-23 09:02:00  ...    12          1\n",
              "133272      133272  2019-12-23 09:03:00  ...    12          1\n",
              "133273      133273  2019-12-23 09:05:00  ...    12          1\n",
              "\n",
              "[133274 rows x 9 columns]"
            ]
          },
          "metadata": {
            "tags": []
          },
          "execution_count": 18
        }
      ]
    },
    {
      "cell_type": "code",
      "metadata": {
        "id": "cc-0yo2bil_d"
      },
      "source": [
        "#df_proceeded = df_proceeded.sort_values(by=['Time'])"
      ],
      "execution_count": null,
      "outputs": []
    },
    {
      "cell_type": "markdown",
      "metadata": {
        "id": "_CIQmqfYOZaw"
      },
      "source": [
        "Route 102 ***S Rübenkamp to U Wandsbek Markt***"
      ]
    },
    {
      "cell_type": "code",
      "metadata": {
        "id": "S5OJ7Lm1Ocav"
      },
      "source": [
        "#path = \"/content/drive/My Drive/Colab Notebooks/Thesis/ist_0420_data_processed102.csv\"\n",
        "path = \"/content/drive/My Drive/Colab Notebooks/Thesis/ist_01_12_19_data_processed102.csv\"\n",
        "df_proceeded102 = pd.read_csv(path)\n",
        "#df_proceeded102 = df_proceeded102.sort_values(by=['Time'])"
      ],
      "execution_count": null,
      "outputs": []
    },
    {
      "cell_type": "markdown",
      "metadata": {
        "id": "1z64dy9EOeru"
      },
      "source": [
        "Route 201 ***U Wandsbek Markt to Lufthansa-Basis (Haupteingang)***"
      ]
    },
    {
      "cell_type": "code",
      "metadata": {
        "id": "_3Bi66sdOhIL"
      },
      "source": [
        "#path = \"/content/drive/My Drive/Colab Notebooks/Thesis/ist_0420_data_processed201.csv\"\n",
        "path = \"/content/drive/My Drive/Colab Notebooks/Thesis/ist_01_12_19_data_processed201.csv\"\n",
        "df_proceeded201 = pd.read_csv(path)\n",
        "#df_proceeded201 = df_proceeded201.sort_values(by=['Time'])"
      ],
      "execution_count": null,
      "outputs": []
    },
    {
      "cell_type": "markdown",
      "metadata": {
        "id": "VxEiR1W8OkJB"
      },
      "source": [
        "Route 202 ***Lufthansa-Basis (Haupteingang) to U Wandsbek Markt***"
      ]
    },
    {
      "cell_type": "code",
      "metadata": {
        "id": "sZdc12QvOn5h"
      },
      "source": [
        "#path = \"/content/drive/My Drive/Colab Notebooks/Thesis/ist_0420_data_processed202.csv\"\n",
        "path = \"/content/drive/My Drive/Colab Notebooks/Thesis/ist_01_12_19_data_processed202.csv\"\n",
        "df_proceeded202 = pd.read_csv(path)\n",
        "#df_proceeded202 = df_proceeded202.sort_values(by=['Time'])"
      ],
      "execution_count": null,
      "outputs": []
    },
    {
      "cell_type": "markdown",
      "metadata": {
        "id": "YTty1BPGeuSL"
      },
      "source": [
        "## **Preprocessing**"
      ]
    },
    {
      "cell_type": "markdown",
      "metadata": {
        "id": "dShXRO_vOy3Y"
      },
      "source": [
        "Route 101 ***U Wandsbek Markt to S Rübenkamp***"
      ]
    },
    {
      "cell_type": "code",
      "metadata": {
        "id": "eDs6hC7bZiAO",
        "colab": {
          "base_uri": "https://localhost:8080/"
        },
        "outputId": "9313a7bf-e04c-4709-ce06-f0d47a607e2d"
      },
      "source": [
        "data = df_proceeded[['Node A to Node B', 'Precipitation', 'dayofweek', 'timeofday', 'Driving_time_s']]\n",
        "data.index = df_proceeded['Time']\n",
        "data['Precipitation'] = data['Precipitation'].astype('int')\n",
        "data['timeofday'] = data['timeofday'].astype('int')"
      ],
      "execution_count": null,
      "outputs": [
        {
          "output_type": "stream",
          "text": [
            "/usr/local/lib/python3.6/dist-packages/ipykernel_launcher.py:3: SettingWithCopyWarning: \n",
            "A value is trying to be set on a copy of a slice from a DataFrame.\n",
            "Try using .loc[row_indexer,col_indexer] = value instead\n",
            "\n",
            "See the caveats in the documentation: https://pandas.pydata.org/pandas-docs/stable/user_guide/indexing.html#returning-a-view-versus-a-copy\n",
            "  This is separate from the ipykernel package so we can avoid doing imports until\n",
            "/usr/local/lib/python3.6/dist-packages/ipykernel_launcher.py:4: SettingWithCopyWarning: \n",
            "A value is trying to be set on a copy of a slice from a DataFrame.\n",
            "Try using .loc[row_indexer,col_indexer] = value instead\n",
            "\n",
            "See the caveats in the documentation: https://pandas.pydata.org/pandas-docs/stable/user_guide/indexing.html#returning-a-view-versus-a-copy\n",
            "  after removing the cwd from sys.path.\n"
          ],
          "name": "stderr"
        }
      ]
    },
    {
      "cell_type": "code",
      "metadata": {
        "id": "idrT_5hSe_ix",
        "colab": {
          "base_uri": "https://localhost:8080/"
        },
        "outputId": "202e9a2a-a913-44e4-9c1b-5864527a01b6"
      },
      "source": [
        "data"
      ],
      "execution_count": null,
      "outputs": [
        {
          "output_type": "execute_result",
          "data": {
            "text/html": [
              "<div>\n",
              "<style scoped>\n",
              "    .dataframe tbody tr th:only-of-type {\n",
              "        vertical-align: middle;\n",
              "    }\n",
              "\n",
              "    .dataframe tbody tr th {\n",
              "        vertical-align: top;\n",
              "    }\n",
              "\n",
              "    .dataframe thead th {\n",
              "        text-align: right;\n",
              "    }\n",
              "</style>\n",
              "<table border=\"1\" class=\"dataframe\">\n",
              "  <thead>\n",
              "    <tr style=\"text-align: right;\">\n",
              "      <th></th>\n",
              "      <th>Node A to Node B</th>\n",
              "      <th>Precipitation</th>\n",
              "      <th>dayofweek</th>\n",
              "      <th>timeofday</th>\n",
              "      <th>Driving_time_s</th>\n",
              "    </tr>\n",
              "    <tr>\n",
              "      <th>Time</th>\n",
              "      <th></th>\n",
              "      <th></th>\n",
              "      <th></th>\n",
              "      <th></th>\n",
              "      <th></th>\n",
              "    </tr>\n",
              "  </thead>\n",
              "  <tbody>\n",
              "    <tr>\n",
              "      <th>2019-01-02 09:47:00</th>\n",
              "      <td>U Wandsbek Markt|Wandsbeker Allee</td>\n",
              "      <td>0</td>\n",
              "      <td>2</td>\n",
              "      <td>1</td>\n",
              "      <td>204.0</td>\n",
              "    </tr>\n",
              "    <tr>\n",
              "      <th>2019-01-02 09:50:00</th>\n",
              "      <td>Wandsbeker Allee|U Straßburger Straße</td>\n",
              "      <td>0</td>\n",
              "      <td>2</td>\n",
              "      <td>1</td>\n",
              "      <td>108.0</td>\n",
              "    </tr>\n",
              "    <tr>\n",
              "      <th>2019-01-02 09:52:00</th>\n",
              "      <td>U Straßburger Straße|U Alter Teichweg</td>\n",
              "      <td>0</td>\n",
              "      <td>2</td>\n",
              "      <td>1</td>\n",
              "      <td>96.0</td>\n",
              "    </tr>\n",
              "    <tr>\n",
              "      <th>2019-01-02 09:54:00</th>\n",
              "      <td>U Alter Teichweg|Habichtstraße (Mitte)</td>\n",
              "      <td>0</td>\n",
              "      <td>2</td>\n",
              "      <td>1</td>\n",
              "      <td>168.0</td>\n",
              "    </tr>\n",
              "    <tr>\n",
              "      <th>2019-01-02 09:57:00</th>\n",
              "      <td>Habichtstraße (Mitte)|U Habichtstraße</td>\n",
              "      <td>0</td>\n",
              "      <td>2</td>\n",
              "      <td>1</td>\n",
              "      <td>54.0</td>\n",
              "    </tr>\n",
              "    <tr>\n",
              "      <th>...</th>\n",
              "      <td>...</td>\n",
              "      <td>...</td>\n",
              "      <td>...</td>\n",
              "      <td>...</td>\n",
              "      <td>...</td>\n",
              "    </tr>\n",
              "    <tr>\n",
              "      <th>2019-12-23 08:58:00</th>\n",
              "      <td>Habichtsplatz|Neue Wöhr</td>\n",
              "      <td>1</td>\n",
              "      <td>0</td>\n",
              "      <td>1</td>\n",
              "      <td>144.0</td>\n",
              "    </tr>\n",
              "    <tr>\n",
              "      <th>2019-12-23 09:01:00</th>\n",
              "      <td>Neue Wöhr|Hartzloh</td>\n",
              "      <td>1</td>\n",
              "      <td>0</td>\n",
              "      <td>1</td>\n",
              "      <td>66.0</td>\n",
              "    </tr>\n",
              "    <tr>\n",
              "      <th>2019-12-23 09:02:00</th>\n",
              "      <td>Hartzloh|AK Barmbek</td>\n",
              "      <td>1</td>\n",
              "      <td>0</td>\n",
              "      <td>1</td>\n",
              "      <td>60.0</td>\n",
              "    </tr>\n",
              "    <tr>\n",
              "      <th>2019-12-23 09:03:00</th>\n",
              "      <td>AK Barmbek|Hebebrandstraße</td>\n",
              "      <td>1</td>\n",
              "      <td>0</td>\n",
              "      <td>1</td>\n",
              "      <td>132.0</td>\n",
              "    </tr>\n",
              "    <tr>\n",
              "      <th>2019-12-23 09:05:00</th>\n",
              "      <td>Hebebrandstraße|S Rübenkamp</td>\n",
              "      <td>1</td>\n",
              "      <td>0</td>\n",
              "      <td>1</td>\n",
              "      <td>60.0</td>\n",
              "    </tr>\n",
              "  </tbody>\n",
              "</table>\n",
              "<p>133274 rows × 5 columns</p>\n",
              "</div>"
            ],
            "text/plain": [
              "                                           Node A to Node B  ...  Driving_time_s\n",
              "Time                                                         ...                \n",
              "2019-01-02 09:47:00       U Wandsbek Markt|Wandsbeker Allee  ...           204.0\n",
              "2019-01-02 09:50:00   Wandsbeker Allee|U Straßburger Straße  ...           108.0\n",
              "2019-01-02 09:52:00   U Straßburger Straße|U Alter Teichweg  ...            96.0\n",
              "2019-01-02 09:54:00  U Alter Teichweg|Habichtstraße (Mitte)  ...           168.0\n",
              "2019-01-02 09:57:00   Habichtstraße (Mitte)|U Habichtstraße  ...            54.0\n",
              "...                                                     ...  ...             ...\n",
              "2019-12-23 08:58:00                 Habichtsplatz|Neue Wöhr  ...           144.0\n",
              "2019-12-23 09:01:00                      Neue Wöhr|Hartzloh  ...            66.0\n",
              "2019-12-23 09:02:00                     Hartzloh|AK Barmbek  ...            60.0\n",
              "2019-12-23 09:03:00              AK Barmbek|Hebebrandstraße  ...           132.0\n",
              "2019-12-23 09:05:00             Hebebrandstraße|S Rübenkamp  ...            60.0\n",
              "\n",
              "[133274 rows x 5 columns]"
            ]
          },
          "metadata": {
            "tags": []
          },
          "execution_count": 24
        }
      ]
    },
    {
      "cell_type": "code",
      "metadata": {
        "id": "zLiw2wEdcRyU",
        "colab": {
          "base_uri": "https://localhost:8080/"
        },
        "outputId": "a79cdc62-78b2-4dff-8a7c-ed001d2bb1cd"
      },
      "source": [
        "columns_to_category = ['Node A to Node B', 'Precipitation', 'dayofweek', 'timeofday']\n",
        "data[columns_to_category] = data[columns_to_category].astype('category') # change datetypes to category"
      ],
      "execution_count": null,
      "outputs": [
        {
          "output_type": "stream",
          "text": [
            "/usr/local/lib/python3.6/dist-packages/pandas/core/frame.py:3069: SettingWithCopyWarning: \n",
            "A value is trying to be set on a copy of a slice from a DataFrame.\n",
            "Try using .loc[row_indexer,col_indexer] = value instead\n",
            "\n",
            "See the caveats in the documentation: https://pandas.pydata.org/pandas-docs/stable/user_guide/indexing.html#returning-a-view-versus-a-copy\n",
            "  self[k1] = value[k2]\n"
          ],
          "name": "stderr"
        }
      ]
    },
    {
      "cell_type": "code",
      "metadata": {
        "id": "wUdJ_TvledAy",
        "colab": {
          "base_uri": "https://localhost:8080/"
        },
        "outputId": "f72d284c-47a6-41bf-e898-1fd6208e2363"
      },
      "source": [
        "data.dtypes"
      ],
      "execution_count": null,
      "outputs": [
        {
          "output_type": "execute_result",
          "data": {
            "text/plain": [
              "Node A to Node B    category\n",
              "Precipitation       category\n",
              "dayofweek           category\n",
              "timeofday           category\n",
              "Driving_time_s       float64\n",
              "dtype: object"
            ]
          },
          "metadata": {
            "tags": []
          },
          "execution_count": 26
        }
      ]
    },
    {
      "cell_type": "markdown",
      "metadata": {
        "id": "hP7fpPv5gGiW"
      },
      "source": [
        "## One-hot encoding"
      ]
    },
    {
      "cell_type": "markdown",
      "metadata": {
        "id": "ngmjPjYBgSGb"
      },
      "source": [
        "One-hot encode the categorical feautures.\n",
        "\n"
      ]
    },
    {
      "cell_type": "code",
      "metadata": {
        "id": "YyXqx2CGfxN4",
        "colab": {
          "base_uri": "https://localhost:8080/"
        },
        "outputId": "d4c6ca26-001f-4814-9d3d-aa7bbba0cf43"
      },
      "source": [
        "data = pd.get_dummies(data, columns=columns_to_category) # One-hot encoding the categories\n",
        "data.head()"
      ],
      "execution_count": null,
      "outputs": [
        {
          "output_type": "execute_result",
          "data": {
            "text/html": [
              "<div>\n",
              "<style scoped>\n",
              "    .dataframe tbody tr th:only-of-type {\n",
              "        vertical-align: middle;\n",
              "    }\n",
              "\n",
              "    .dataframe tbody tr th {\n",
              "        vertical-align: top;\n",
              "    }\n",
              "\n",
              "    .dataframe thead th {\n",
              "        text-align: right;\n",
              "    }\n",
              "</style>\n",
              "<table border=\"1\" class=\"dataframe\">\n",
              "  <thead>\n",
              "    <tr style=\"text-align: right;\">\n",
              "      <th></th>\n",
              "      <th>Driving_time_s</th>\n",
              "      <th>Node A to Node B_AK Barmbek|Hebebrandstraße</th>\n",
              "      <th>Node A to Node B_Habichtsplatz|AK Barmbek</th>\n",
              "      <th>Node A to Node B_Habichtsplatz|Hartzloh</th>\n",
              "      <th>Node A to Node B_Habichtsplatz|Neue Wöhr</th>\n",
              "      <th>Node A to Node B_Habichtstraße (Mitte)|Habichtsplatz</th>\n",
              "      <th>Node A to Node B_Habichtstraße (Mitte)|U Habichtstraße</th>\n",
              "      <th>Node A to Node B_Hartzloh|AK Barmbek</th>\n",
              "      <th>Node A to Node B_Hartzloh|Hebebrandstraße</th>\n",
              "      <th>Node A to Node B_Hebebrandstraße|S Rübenkamp</th>\n",
              "      <th>Node A to Node B_Lämmersieth (Nord)|Habichtstraße (Mitte)</th>\n",
              "      <th>Node A to Node B_Neue Wöhr|Hartzloh</th>\n",
              "      <th>Node A to Node B_Neue Wöhr|S Rübenkamp</th>\n",
              "      <th>Node A to Node B_S Rübenkamp|Source</th>\n",
              "      <th>Node A to Node B_U Alter Teichweg|Habichtstraße (Mitte)</th>\n",
              "      <th>Node A to Node B_U Alter Teichweg|Lämmersieth (Nord)</th>\n",
              "      <th>Node A to Node B_U Alter Teichweg|U Habichtstraße</th>\n",
              "      <th>Node A to Node B_U Habichtstraße|Habichtsplatz</th>\n",
              "      <th>Node A to Node B_U Straßburger Straße|Habichtstraße (Mitte)</th>\n",
              "      <th>Node A to Node B_U Straßburger Straße|U Alter Teichweg</th>\n",
              "      <th>Node A to Node B_U Wandsbek Markt|Habichtsplatz</th>\n",
              "      <th>Node A to Node B_U Wandsbek Markt|Habichtstraße (Mitte)</th>\n",
              "      <th>Node A to Node B_U Wandsbek Markt|Neue Wöhr</th>\n",
              "      <th>Node A to Node B_U Wandsbek Markt|S Rübenkamp</th>\n",
              "      <th>Node A to Node B_U Wandsbek Markt|U Alter Teichweg</th>\n",
              "      <th>Node A to Node B_U Wandsbek Markt|U Habichtstraße</th>\n",
              "      <th>Node A to Node B_U Wandsbek Markt|U Straßburger Straße</th>\n",
              "      <th>Node A to Node B_U Wandsbek Markt|Wandsbeker Allee</th>\n",
              "      <th>Node A to Node B_Wandsbeker Allee|U Alter Teichweg</th>\n",
              "      <th>Node A to Node B_Wandsbeker Allee|U Straßburger Straße</th>\n",
              "      <th>Precipitation_-499</th>\n",
              "      <th>Precipitation_0</th>\n",
              "      <th>Precipitation_1</th>\n",
              "      <th>dayofweek_0</th>\n",
              "      <th>dayofweek_1</th>\n",
              "      <th>dayofweek_2</th>\n",
              "      <th>dayofweek_3</th>\n",
              "      <th>dayofweek_4</th>\n",
              "      <th>dayofweek_5</th>\n",
              "      <th>dayofweek_6</th>\n",
              "      <th>timeofday_0</th>\n",
              "      <th>timeofday_1</th>\n",
              "      <th>timeofday_2</th>\n",
              "      <th>timeofday_3</th>\n",
              "      <th>timeofday_4</th>\n",
              "    </tr>\n",
              "    <tr>\n",
              "      <th>Time</th>\n",
              "      <th></th>\n",
              "      <th></th>\n",
              "      <th></th>\n",
              "      <th></th>\n",
              "      <th></th>\n",
              "      <th></th>\n",
              "      <th></th>\n",
              "      <th></th>\n",
              "      <th></th>\n",
              "      <th></th>\n",
              "      <th></th>\n",
              "      <th></th>\n",
              "      <th></th>\n",
              "      <th></th>\n",
              "      <th></th>\n",
              "      <th></th>\n",
              "      <th></th>\n",
              "      <th></th>\n",
              "      <th></th>\n",
              "      <th></th>\n",
              "      <th></th>\n",
              "      <th></th>\n",
              "      <th></th>\n",
              "      <th></th>\n",
              "      <th></th>\n",
              "      <th></th>\n",
              "      <th></th>\n",
              "      <th></th>\n",
              "      <th></th>\n",
              "      <th></th>\n",
              "      <th></th>\n",
              "      <th></th>\n",
              "      <th></th>\n",
              "      <th></th>\n",
              "      <th></th>\n",
              "      <th></th>\n",
              "      <th></th>\n",
              "      <th></th>\n",
              "      <th></th>\n",
              "      <th></th>\n",
              "      <th></th>\n",
              "      <th></th>\n",
              "      <th></th>\n",
              "      <th></th>\n",
              "      <th></th>\n",
              "    </tr>\n",
              "  </thead>\n",
              "  <tbody>\n",
              "    <tr>\n",
              "      <th>2019-01-02 09:47:00</th>\n",
              "      <td>204.0</td>\n",
              "      <td>0</td>\n",
              "      <td>0</td>\n",
              "      <td>0</td>\n",
              "      <td>0</td>\n",
              "      <td>0</td>\n",
              "      <td>0</td>\n",
              "      <td>0</td>\n",
              "      <td>0</td>\n",
              "      <td>0</td>\n",
              "      <td>0</td>\n",
              "      <td>0</td>\n",
              "      <td>0</td>\n",
              "      <td>0</td>\n",
              "      <td>0</td>\n",
              "      <td>0</td>\n",
              "      <td>0</td>\n",
              "      <td>0</td>\n",
              "      <td>0</td>\n",
              "      <td>0</td>\n",
              "      <td>0</td>\n",
              "      <td>0</td>\n",
              "      <td>0</td>\n",
              "      <td>0</td>\n",
              "      <td>0</td>\n",
              "      <td>0</td>\n",
              "      <td>0</td>\n",
              "      <td>1</td>\n",
              "      <td>0</td>\n",
              "      <td>0</td>\n",
              "      <td>0</td>\n",
              "      <td>1</td>\n",
              "      <td>0</td>\n",
              "      <td>0</td>\n",
              "      <td>0</td>\n",
              "      <td>1</td>\n",
              "      <td>0</td>\n",
              "      <td>0</td>\n",
              "      <td>0</td>\n",
              "      <td>0</td>\n",
              "      <td>0</td>\n",
              "      <td>1</td>\n",
              "      <td>0</td>\n",
              "      <td>0</td>\n",
              "      <td>0</td>\n",
              "    </tr>\n",
              "    <tr>\n",
              "      <th>2019-01-02 09:50:00</th>\n",
              "      <td>108.0</td>\n",
              "      <td>0</td>\n",
              "      <td>0</td>\n",
              "      <td>0</td>\n",
              "      <td>0</td>\n",
              "      <td>0</td>\n",
              "      <td>0</td>\n",
              "      <td>0</td>\n",
              "      <td>0</td>\n",
              "      <td>0</td>\n",
              "      <td>0</td>\n",
              "      <td>0</td>\n",
              "      <td>0</td>\n",
              "      <td>0</td>\n",
              "      <td>0</td>\n",
              "      <td>0</td>\n",
              "      <td>0</td>\n",
              "      <td>0</td>\n",
              "      <td>0</td>\n",
              "      <td>0</td>\n",
              "      <td>0</td>\n",
              "      <td>0</td>\n",
              "      <td>0</td>\n",
              "      <td>0</td>\n",
              "      <td>0</td>\n",
              "      <td>0</td>\n",
              "      <td>0</td>\n",
              "      <td>0</td>\n",
              "      <td>0</td>\n",
              "      <td>1</td>\n",
              "      <td>0</td>\n",
              "      <td>1</td>\n",
              "      <td>0</td>\n",
              "      <td>0</td>\n",
              "      <td>0</td>\n",
              "      <td>1</td>\n",
              "      <td>0</td>\n",
              "      <td>0</td>\n",
              "      <td>0</td>\n",
              "      <td>0</td>\n",
              "      <td>0</td>\n",
              "      <td>1</td>\n",
              "      <td>0</td>\n",
              "      <td>0</td>\n",
              "      <td>0</td>\n",
              "    </tr>\n",
              "    <tr>\n",
              "      <th>2019-01-02 09:52:00</th>\n",
              "      <td>96.0</td>\n",
              "      <td>0</td>\n",
              "      <td>0</td>\n",
              "      <td>0</td>\n",
              "      <td>0</td>\n",
              "      <td>0</td>\n",
              "      <td>0</td>\n",
              "      <td>0</td>\n",
              "      <td>0</td>\n",
              "      <td>0</td>\n",
              "      <td>0</td>\n",
              "      <td>0</td>\n",
              "      <td>0</td>\n",
              "      <td>0</td>\n",
              "      <td>0</td>\n",
              "      <td>0</td>\n",
              "      <td>0</td>\n",
              "      <td>0</td>\n",
              "      <td>0</td>\n",
              "      <td>1</td>\n",
              "      <td>0</td>\n",
              "      <td>0</td>\n",
              "      <td>0</td>\n",
              "      <td>0</td>\n",
              "      <td>0</td>\n",
              "      <td>0</td>\n",
              "      <td>0</td>\n",
              "      <td>0</td>\n",
              "      <td>0</td>\n",
              "      <td>0</td>\n",
              "      <td>0</td>\n",
              "      <td>1</td>\n",
              "      <td>0</td>\n",
              "      <td>0</td>\n",
              "      <td>0</td>\n",
              "      <td>1</td>\n",
              "      <td>0</td>\n",
              "      <td>0</td>\n",
              "      <td>0</td>\n",
              "      <td>0</td>\n",
              "      <td>0</td>\n",
              "      <td>1</td>\n",
              "      <td>0</td>\n",
              "      <td>0</td>\n",
              "      <td>0</td>\n",
              "    </tr>\n",
              "    <tr>\n",
              "      <th>2019-01-02 09:54:00</th>\n",
              "      <td>168.0</td>\n",
              "      <td>0</td>\n",
              "      <td>0</td>\n",
              "      <td>0</td>\n",
              "      <td>0</td>\n",
              "      <td>0</td>\n",
              "      <td>0</td>\n",
              "      <td>0</td>\n",
              "      <td>0</td>\n",
              "      <td>0</td>\n",
              "      <td>0</td>\n",
              "      <td>0</td>\n",
              "      <td>0</td>\n",
              "      <td>0</td>\n",
              "      <td>1</td>\n",
              "      <td>0</td>\n",
              "      <td>0</td>\n",
              "      <td>0</td>\n",
              "      <td>0</td>\n",
              "      <td>0</td>\n",
              "      <td>0</td>\n",
              "      <td>0</td>\n",
              "      <td>0</td>\n",
              "      <td>0</td>\n",
              "      <td>0</td>\n",
              "      <td>0</td>\n",
              "      <td>0</td>\n",
              "      <td>0</td>\n",
              "      <td>0</td>\n",
              "      <td>0</td>\n",
              "      <td>0</td>\n",
              "      <td>1</td>\n",
              "      <td>0</td>\n",
              "      <td>0</td>\n",
              "      <td>0</td>\n",
              "      <td>1</td>\n",
              "      <td>0</td>\n",
              "      <td>0</td>\n",
              "      <td>0</td>\n",
              "      <td>0</td>\n",
              "      <td>0</td>\n",
              "      <td>1</td>\n",
              "      <td>0</td>\n",
              "      <td>0</td>\n",
              "      <td>0</td>\n",
              "    </tr>\n",
              "    <tr>\n",
              "      <th>2019-01-02 09:57:00</th>\n",
              "      <td>54.0</td>\n",
              "      <td>0</td>\n",
              "      <td>0</td>\n",
              "      <td>0</td>\n",
              "      <td>0</td>\n",
              "      <td>0</td>\n",
              "      <td>1</td>\n",
              "      <td>0</td>\n",
              "      <td>0</td>\n",
              "      <td>0</td>\n",
              "      <td>0</td>\n",
              "      <td>0</td>\n",
              "      <td>0</td>\n",
              "      <td>0</td>\n",
              "      <td>0</td>\n",
              "      <td>0</td>\n",
              "      <td>0</td>\n",
              "      <td>0</td>\n",
              "      <td>0</td>\n",
              "      <td>0</td>\n",
              "      <td>0</td>\n",
              "      <td>0</td>\n",
              "      <td>0</td>\n",
              "      <td>0</td>\n",
              "      <td>0</td>\n",
              "      <td>0</td>\n",
              "      <td>0</td>\n",
              "      <td>0</td>\n",
              "      <td>0</td>\n",
              "      <td>0</td>\n",
              "      <td>0</td>\n",
              "      <td>1</td>\n",
              "      <td>0</td>\n",
              "      <td>0</td>\n",
              "      <td>0</td>\n",
              "      <td>1</td>\n",
              "      <td>0</td>\n",
              "      <td>0</td>\n",
              "      <td>0</td>\n",
              "      <td>0</td>\n",
              "      <td>0</td>\n",
              "      <td>1</td>\n",
              "      <td>0</td>\n",
              "      <td>0</td>\n",
              "      <td>0</td>\n",
              "    </tr>\n",
              "  </tbody>\n",
              "</table>\n",
              "</div>"
            ],
            "text/plain": [
              "                     Driving_time_s  ...  timeofday_4\n",
              "Time                                 ...             \n",
              "2019-01-02 09:47:00           204.0  ...            0\n",
              "2019-01-02 09:50:00           108.0  ...            0\n",
              "2019-01-02 09:52:00            96.0  ...            0\n",
              "2019-01-02 09:54:00           168.0  ...            0\n",
              "2019-01-02 09:57:00            54.0  ...            0\n",
              "\n",
              "[5 rows x 45 columns]"
            ]
          },
          "metadata": {
            "tags": []
          },
          "execution_count": 27
        }
      ]
    },
    {
      "cell_type": "code",
      "metadata": {
        "id": "NqNZvpJj3Ysa",
        "colab": {
          "base_uri": "https://localhost:8080/"
        },
        "outputId": "221da165-41b0-4cf6-ee46-af941f4aaa73"
      },
      "source": [
        "data.describe"
      ],
      "execution_count": null,
      "outputs": [
        {
          "output_type": "execute_result",
          "data": {
            "text/plain": [
              "<bound method NDFrame.describe of                      Driving_time_s  ...  timeofday_4\n",
              "Time                                 ...             \n",
              "2019-01-02 09:47:00           204.0  ...            0\n",
              "2019-01-02 09:50:00           108.0  ...            0\n",
              "2019-01-02 09:52:00            96.0  ...            0\n",
              "2019-01-02 09:54:00           168.0  ...            0\n",
              "2019-01-02 09:57:00            54.0  ...            0\n",
              "...                             ...  ...          ...\n",
              "2019-12-23 08:58:00           144.0  ...            0\n",
              "2019-12-23 09:01:00            66.0  ...            0\n",
              "2019-12-23 09:02:00            60.0  ...            0\n",
              "2019-12-23 09:03:00           132.0  ...            0\n",
              "2019-12-23 09:05:00            60.0  ...            0\n",
              "\n",
              "[133274 rows x 45 columns]>"
            ]
          },
          "metadata": {
            "tags": []
          },
          "execution_count": 28
        }
      ]
    },
    {
      "cell_type": "code",
      "metadata": {
        "id": "MGvKCxKSO9Zv"
      },
      "source": [
        "data101 = data.copy()\n",
        "data101"
      ],
      "execution_count": null,
      "outputs": []
    },
    {
      "cell_type": "markdown",
      "metadata": {
        "id": "lEUSFuXnPnVj"
      },
      "source": [
        "## Preprocessing with other routes (journeys)"
      ]
    },
    {
      "cell_type": "markdown",
      "metadata": {
        "id": "zoXrAJDkPBPb"
      },
      "source": [
        "Journey 102 ***S Rübenkamp to U Wandsbek Markt***"
      ]
    },
    {
      "cell_type": "code",
      "metadata": {
        "id": "yMN02Xn0PL5I",
        "colab": {
          "base_uri": "https://localhost:8080/"
        },
        "outputId": "729966ee-3d08-4f3a-9e0f-d1af86364774"
      },
      "source": [
        "data = df_proceeded102[['Node A to Node B', 'Precipitation', 'dayofweek', 'timeofday', 'Driving_time_s']]\n",
        "data.index = df_proceeded102['Time']\n",
        "data['Precipitation'] = data['Precipitation'].astype('int')\n",
        "data['timeofday'] = data['timeofday'].astype('int')"
      ],
      "execution_count": null,
      "outputs": [
        {
          "output_type": "stream",
          "text": [
            "/usr/local/lib/python3.6/dist-packages/ipykernel_launcher.py:3: SettingWithCopyWarning: \n",
            "A value is trying to be set on a copy of a slice from a DataFrame.\n",
            "Try using .loc[row_indexer,col_indexer] = value instead\n",
            "\n",
            "See the caveats in the documentation: https://pandas.pydata.org/pandas-docs/stable/user_guide/indexing.html#returning-a-view-versus-a-copy\n",
            "  This is separate from the ipykernel package so we can avoid doing imports until\n",
            "/usr/local/lib/python3.6/dist-packages/ipykernel_launcher.py:4: SettingWithCopyWarning: \n",
            "A value is trying to be set on a copy of a slice from a DataFrame.\n",
            "Try using .loc[row_indexer,col_indexer] = value instead\n",
            "\n",
            "See the caveats in the documentation: https://pandas.pydata.org/pandas-docs/stable/user_guide/indexing.html#returning-a-view-versus-a-copy\n",
            "  after removing the cwd from sys.path.\n"
          ],
          "name": "stderr"
        }
      ]
    },
    {
      "cell_type": "code",
      "metadata": {
        "colab": {
          "base_uri": "https://localhost:8080/"
        },
        "id": "4WhJQMgeL5pt",
        "outputId": "4778ab4b-9ce7-4b2e-c383-c05aec8b17eb"
      },
      "source": [
        "data.loc[data.Precipitation == -499 ]=0\n",
        "data.loc[data.Precipitation == -499 ]"
      ],
      "execution_count": null,
      "outputs": [
        {
          "output_type": "stream",
          "text": [
            "/usr/local/lib/python3.6/dist-packages/pandas/core/indexing.py:1763: SettingWithCopyWarning: \n",
            "A value is trying to be set on a copy of a slice from a DataFrame.\n",
            "Try using .loc[row_indexer,col_indexer] = value instead\n",
            "\n",
            "See the caveats in the documentation: https://pandas.pydata.org/pandas-docs/stable/user_guide/indexing.html#returning-a-view-versus-a-copy\n",
            "  isetter(loc, value)\n"
          ],
          "name": "stderr"
        },
        {
          "output_type": "execute_result",
          "data": {
            "text/html": [
              "<div>\n",
              "<style scoped>\n",
              "    .dataframe tbody tr th:only-of-type {\n",
              "        vertical-align: middle;\n",
              "    }\n",
              "\n",
              "    .dataframe tbody tr th {\n",
              "        vertical-align: top;\n",
              "    }\n",
              "\n",
              "    .dataframe thead th {\n",
              "        text-align: right;\n",
              "    }\n",
              "</style>\n",
              "<table border=\"1\" class=\"dataframe\">\n",
              "  <thead>\n",
              "    <tr style=\"text-align: right;\">\n",
              "      <th></th>\n",
              "      <th>Node A to Node B</th>\n",
              "      <th>Precipitation</th>\n",
              "      <th>dayofweek</th>\n",
              "      <th>timeofday</th>\n",
              "      <th>Driving_time_s</th>\n",
              "    </tr>\n",
              "    <tr>\n",
              "      <th>Time</th>\n",
              "      <th></th>\n",
              "      <th></th>\n",
              "      <th></th>\n",
              "      <th></th>\n",
              "      <th></th>\n",
              "    </tr>\n",
              "  </thead>\n",
              "  <tbody>\n",
              "  </tbody>\n",
              "</table>\n",
              "</div>"
            ],
            "text/plain": [
              "Empty DataFrame\n",
              "Columns: [Node A to Node B, Precipitation, dayofweek, timeofday, Driving_time_s]\n",
              "Index: []"
            ]
          },
          "metadata": {
            "tags": []
          },
          "execution_count": 31
        }
      ]
    },
    {
      "cell_type": "code",
      "metadata": {
        "id": "aMoESyWMMnLm"
      },
      "source": [
        "data = data.loc[data['Node A to Node B'].isin(['U Straßburger Straße|Wandsbeker Allee',\n",
        "'AK Barmbek|Hartzloh',\n",
        "'U Habichtstraße|Habichtstraße (Mitte)',\n",
        "'Habichtsplatz|U Habichtstraße',\n",
        "'U Alter Teichweg|U Straßburger Straße',\n",
        "'Wandsbeker Allee|U Wandsbek Markt',\n",
        "'Hartzloh|Habichtsplatz',\n",
        "'S Rübenkamp|AK Barmbek',\n",
        "'Habichtstraße (Mitte)|U Alter Teichweg'])]\n",
        "df_proceeded102 = data"
      ],
      "execution_count": null,
      "outputs": []
    },
    {
      "cell_type": "code",
      "metadata": {
        "id": "5voDsmlDPNLc"
      },
      "source": [
        "columns_to_category = ['Node A to Node B', 'Precipitation', 'dayofweek', 'timeofday']\n",
        "data[columns_to_category] = data[columns_to_category].astype('category') # change datetypes to category"
      ],
      "execution_count": null,
      "outputs": []
    },
    {
      "cell_type": "code",
      "metadata": {
        "id": "5CNHFnEBPPyC"
      },
      "source": [
        "data = pd.get_dummies(data, columns=columns_to_category) # One hot encoding the categories\n",
        "data[:50]"
      ],
      "execution_count": null,
      "outputs": []
    },
    {
      "cell_type": "code",
      "metadata": {
        "id": "nxtY2PbMPSbt"
      },
      "source": [
        "data102 = data.copy()\n",
        "data102"
      ],
      "execution_count": null,
      "outputs": []
    },
    {
      "cell_type": "markdown",
      "metadata": {
        "id": "tcrJ3n7fPVey"
      },
      "source": [
        "Route 201 ***U Wandsbek Markt to Lufthansa-Basis (Haupteingang)***"
      ]
    },
    {
      "cell_type": "code",
      "metadata": {
        "id": "xw6FHyowPphg",
        "colab": {
          "base_uri": "https://localhost:8080/"
        },
        "outputId": "109cdbac-3cb4-4336-f732-66f08b389843"
      },
      "source": [
        "data = df_proceeded201[['Node A to Node B', 'Precipitation', 'dayofweek', 'timeofday', 'Driving_time_s']]\n",
        "data.index = df_proceeded201['Time']\n",
        "data['Precipitation'] = data['Precipitation'].astype('int')\n",
        "data['timeofday'] = data['timeofday'].astype('int')"
      ],
      "execution_count": null,
      "outputs": [
        {
          "output_type": "stream",
          "text": [
            "/usr/local/lib/python3.6/dist-packages/ipykernel_launcher.py:3: SettingWithCopyWarning: \n",
            "A value is trying to be set on a copy of a slice from a DataFrame.\n",
            "Try using .loc[row_indexer,col_indexer] = value instead\n",
            "\n",
            "See the caveats in the documentation: https://pandas.pydata.org/pandas-docs/stable/user_guide/indexing.html#returning-a-view-versus-a-copy\n",
            "  This is separate from the ipykernel package so we can avoid doing imports until\n",
            "/usr/local/lib/python3.6/dist-packages/ipykernel_launcher.py:4: SettingWithCopyWarning: \n",
            "A value is trying to be set on a copy of a slice from a DataFrame.\n",
            "Try using .loc[row_indexer,col_indexer] = value instead\n",
            "\n",
            "See the caveats in the documentation: https://pandas.pydata.org/pandas-docs/stable/user_guide/indexing.html#returning-a-view-versus-a-copy\n",
            "  after removing the cwd from sys.path.\n"
          ],
          "name": "stderr"
        }
      ]
    },
    {
      "cell_type": "code",
      "metadata": {
        "colab": {
          "base_uri": "https://localhost:8080/"
        },
        "id": "jDXMMhmjMx9I",
        "outputId": "61c10efd-8910-4b2b-e29c-007e14d92b18"
      },
      "source": [
        "data.loc[data.Precipitation == -499 ]=0\n",
        "data.loc[data.Precipitation == -499 ]"
      ],
      "execution_count": null,
      "outputs": [
        {
          "output_type": "stream",
          "text": [
            "/usr/local/lib/python3.6/dist-packages/pandas/core/indexing.py:1763: SettingWithCopyWarning: \n",
            "A value is trying to be set on a copy of a slice from a DataFrame.\n",
            "Try using .loc[row_indexer,col_indexer] = value instead\n",
            "\n",
            "See the caveats in the documentation: https://pandas.pydata.org/pandas-docs/stable/user_guide/indexing.html#returning-a-view-versus-a-copy\n",
            "  isetter(loc, value)\n"
          ],
          "name": "stderr"
        },
        {
          "output_type": "execute_result",
          "data": {
            "text/html": [
              "<div>\n",
              "<style scoped>\n",
              "    .dataframe tbody tr th:only-of-type {\n",
              "        vertical-align: middle;\n",
              "    }\n",
              "\n",
              "    .dataframe tbody tr th {\n",
              "        vertical-align: top;\n",
              "    }\n",
              "\n",
              "    .dataframe thead th {\n",
              "        text-align: right;\n",
              "    }\n",
              "</style>\n",
              "<table border=\"1\" class=\"dataframe\">\n",
              "  <thead>\n",
              "    <tr style=\"text-align: right;\">\n",
              "      <th></th>\n",
              "      <th>Node A to Node B</th>\n",
              "      <th>Precipitation</th>\n",
              "      <th>dayofweek</th>\n",
              "      <th>timeofday</th>\n",
              "      <th>Driving_time_s</th>\n",
              "    </tr>\n",
              "    <tr>\n",
              "      <th>Time</th>\n",
              "      <th></th>\n",
              "      <th></th>\n",
              "      <th></th>\n",
              "      <th></th>\n",
              "      <th></th>\n",
              "    </tr>\n",
              "  </thead>\n",
              "  <tbody>\n",
              "  </tbody>\n",
              "</table>\n",
              "</div>"
            ],
            "text/plain": [
              "Empty DataFrame\n",
              "Columns: [Node A to Node B, Precipitation, dayofweek, timeofday, Driving_time_s]\n",
              "Index: []"
            ]
          },
          "metadata": {
            "tags": []
          },
          "execution_count": 37
        }
      ]
    },
    {
      "cell_type": "code",
      "metadata": {
        "id": "9oCb5ks3C5BI"
      },
      "source": [
        "data = data.loc[data['Node A to Node B'].isin(['Kapstadtring|Manilabrücke',\n",
        "'U Alsterdorf|Hindenburgstraße',\n",
        "'Habichtstraße (Mitte)|U Habichtstraße',\n",
        "'Neue Wöhr|Hartzloh',\n",
        "'Hartzloh|AK Barmbek',\n",
        "'Brabandstraße|Moltrechtweg',\n",
        "'Alsterkrugchaussee (Mitte)|Obenhauptstraße',\n",
        "'Manilabrücke|Sydneystraße',\n",
        "'Hebebrandstraße|S Rübenkamp',\n",
        "'U Habichtstraße|Habichtsplatz',\n",
        "'Moltrechtweg|Alsterkrugchaussee (Mitte)',\n",
        "'Hindenburgstraße|Brabandstraße',\n",
        "'S Rübenkamp|Kapstadtring',\n",
        "'Wandsbeker Allee|U Straßburger Straße',\n",
        "'Sydneystraße|U Alsterdorf',\n",
        "'Habichtsplatz|Neue Wöhr',\n",
        "'AK Barmbek|Hebebrandstraße',\n",
        "'U Straßburger Straße|U Alter Teichweg',\n",
        "'Obenhauptstraße|Lufthansa-Basis (Haupteingang)',\n",
        "'U Alter Teichweg|Habichtstraße (Mitte)',\n",
        "'U Wandsbek Markt|Wandsbeker Allee',\n",
        "])]\n",
        "df_proceeded201 = data"
      ],
      "execution_count": null,
      "outputs": []
    },
    {
      "cell_type": "code",
      "metadata": {
        "id": "TJCYBpJJPwGT"
      },
      "source": [
        "columns_to_category = ['Node A to Node B', 'Precipitation', 'dayofweek', 'timeofday']\n",
        "data[columns_to_category] = data[columns_to_category].astype('category') # change datetypes to category"
      ],
      "execution_count": null,
      "outputs": []
    },
    {
      "cell_type": "code",
      "metadata": {
        "id": "8cOGuVMOP1xG"
      },
      "source": [
        "data = pd.get_dummies(data, columns=columns_to_category) # One hot encoding the categories\n",
        "data[:50]"
      ],
      "execution_count": null,
      "outputs": []
    },
    {
      "cell_type": "code",
      "metadata": {
        "id": "V7vEjg1uP4yW"
      },
      "source": [
        "data201 = data.copy()\n",
        "data201"
      ],
      "execution_count": null,
      "outputs": []
    },
    {
      "cell_type": "markdown",
      "metadata": {
        "id": "PBLdO4NQP56n"
      },
      "source": [
        "Route 202 ***Lufthansa-Basis (Haupteingang) to U Wandsbek Markt***"
      ]
    },
    {
      "cell_type": "code",
      "metadata": {
        "id": "_nPGb_2fP_2o",
        "colab": {
          "base_uri": "https://localhost:8080/"
        },
        "outputId": "99bca99d-4d20-48e9-d9b1-20d11f2a9d61"
      },
      "source": [
        "data = df_proceeded202[['Node A to Node B', 'Precipitation', 'dayofweek', 'timeofday', 'Driving_time_s']]\n",
        "data.index = df_proceeded202['Time']\n",
        "data['Precipitation'] = data['Precipitation'].astype('int')\n",
        "data['timeofday'] = data['timeofday'].astype('int')"
      ],
      "execution_count": null,
      "outputs": [
        {
          "output_type": "stream",
          "text": [
            "/usr/local/lib/python3.6/dist-packages/ipykernel_launcher.py:3: SettingWithCopyWarning: \n",
            "A value is trying to be set on a copy of a slice from a DataFrame.\n",
            "Try using .loc[row_indexer,col_indexer] = value instead\n",
            "\n",
            "See the caveats in the documentation: https://pandas.pydata.org/pandas-docs/stable/user_guide/indexing.html#returning-a-view-versus-a-copy\n",
            "  This is separate from the ipykernel package so we can avoid doing imports until\n",
            "/usr/local/lib/python3.6/dist-packages/ipykernel_launcher.py:4: SettingWithCopyWarning: \n",
            "A value is trying to be set on a copy of a slice from a DataFrame.\n",
            "Try using .loc[row_indexer,col_indexer] = value instead\n",
            "\n",
            "See the caveats in the documentation: https://pandas.pydata.org/pandas-docs/stable/user_guide/indexing.html#returning-a-view-versus-a-copy\n",
            "  after removing the cwd from sys.path.\n"
          ],
          "name": "stderr"
        }
      ]
    },
    {
      "cell_type": "code",
      "metadata": {
        "colab": {
          "base_uri": "https://localhost:8080/"
        },
        "id": "T3Fc7VrFDiwi",
        "outputId": "93f32a77-0f72-4f35-de33-354f54a5a881"
      },
      "source": [
        "data.loc[data.Precipitation == -499 ]=0\n",
        "data.loc[data.Precipitation == -499 ]"
      ],
      "execution_count": null,
      "outputs": [
        {
          "output_type": "stream",
          "text": [
            "/usr/local/lib/python3.6/dist-packages/pandas/core/indexing.py:1763: SettingWithCopyWarning: \n",
            "A value is trying to be set on a copy of a slice from a DataFrame.\n",
            "Try using .loc[row_indexer,col_indexer] = value instead\n",
            "\n",
            "See the caveats in the documentation: https://pandas.pydata.org/pandas-docs/stable/user_guide/indexing.html#returning-a-view-versus-a-copy\n",
            "  isetter(loc, value)\n"
          ],
          "name": "stderr"
        },
        {
          "output_type": "execute_result",
          "data": {
            "text/html": [
              "<div>\n",
              "<style scoped>\n",
              "    .dataframe tbody tr th:only-of-type {\n",
              "        vertical-align: middle;\n",
              "    }\n",
              "\n",
              "    .dataframe tbody tr th {\n",
              "        vertical-align: top;\n",
              "    }\n",
              "\n",
              "    .dataframe thead th {\n",
              "        text-align: right;\n",
              "    }\n",
              "</style>\n",
              "<table border=\"1\" class=\"dataframe\">\n",
              "  <thead>\n",
              "    <tr style=\"text-align: right;\">\n",
              "      <th></th>\n",
              "      <th>Node A to Node B</th>\n",
              "      <th>Precipitation</th>\n",
              "      <th>dayofweek</th>\n",
              "      <th>timeofday</th>\n",
              "      <th>Driving_time_s</th>\n",
              "    </tr>\n",
              "    <tr>\n",
              "      <th>Time</th>\n",
              "      <th></th>\n",
              "      <th></th>\n",
              "      <th></th>\n",
              "      <th></th>\n",
              "      <th></th>\n",
              "    </tr>\n",
              "  </thead>\n",
              "  <tbody>\n",
              "  </tbody>\n",
              "</table>\n",
              "</div>"
            ],
            "text/plain": [
              "Empty DataFrame\n",
              "Columns: [Node A to Node B, Precipitation, dayofweek, timeofday, Driving_time_s]\n",
              "Index: []"
            ]
          },
          "metadata": {
            "tags": []
          },
          "execution_count": 43
        }
      ]
    },
    {
      "cell_type": "code",
      "metadata": {
        "id": "dNC2FLxSDlql"
      },
      "source": [
        "data = data.loc[data['Node A to Node B'].isin(['Lufthansa-Basis (Haupteingang)|Obenhauptstraße',\n",
        "        'Obenhauptstraße|Alsterkrugchaussee (Mitte)',\n",
        "        'Alsterkrugchaussee (Mitte)|Moltrechtweg',\n",
        "        'Moltrechtweg|Brabandstraße', 'Brabandstraße|Hindenburgstraße',\n",
        "        'Hindenburgstraße|U Alsterdorf', 'U Alsterdorf|Sydneystraße',\n",
        "        'Sydneystraße|Manilabrücke', 'Manilabrücke|Kapstadtring',\n",
        "        'Kapstadtring|S Rübenkamp', 'S Rübenkamp|AK Barmbek', 'AK Barmbek|Hartzloh',\n",
        "        'Hartzloh|Habichtsplatz', 'Habichtsplatz|U Habichtstraße',\n",
        "        'U Habichtstraße|Habichtstraße (Mitte)',\n",
        "        'Habichtstraße (Mitte)|U Alter Teichweg',\n",
        "        'U Alter Teichweg|U Straßburger Straße',\n",
        "        'U Straßburger Straße|Wandsbeker Allee',\n",
        "        'Wandsbeker Allee|U Wandsbek Markt'])]\n",
        "df_proceeded202 = data"
      ],
      "execution_count": null,
      "outputs": []
    },
    {
      "cell_type": "code",
      "metadata": {
        "id": "KRW5qSTnQBKq"
      },
      "source": [
        "columns_to_category = ['Node A to Node B', 'Precipitation', 'dayofweek', 'timeofday']\n",
        "data[columns_to_category] = data[columns_to_category].astype('category') # change datetypes to category"
      ],
      "execution_count": null,
      "outputs": []
    },
    {
      "cell_type": "code",
      "metadata": {
        "id": "yGKpSFYaQNar"
      },
      "source": [
        "data = pd.get_dummies(data, columns=columns_to_category) # One hot encoding the categories\n",
        "data[:50]"
      ],
      "execution_count": null,
      "outputs": []
    },
    {
      "cell_type": "code",
      "metadata": {
        "id": "rX0K6hlXQDyi"
      },
      "source": [
        "data202 = data.copy()\n",
        "data202"
      ],
      "execution_count": null,
      "outputs": []
    },
    {
      "cell_type": "markdown",
      "metadata": {
        "id": "TWr1tngbQS9t"
      },
      "source": [
        "# Select route to implement"
      ]
    },
    {
      "cell_type": "code",
      "metadata": {
        "id": "27vcUnOvQWAr"
      },
      "source": [
        "#select the route one by one\n",
        "route = 202\n",
        "month = 4\n",
        "\n",
        "if route == 101:\n",
        "  #route 101\n",
        "  data = data101.copy()\n",
        "  path_end = \"data101\"\n",
        "  path_name = \"Route 101 U Wandsbek Markt to S Rübenkamp\"\n",
        "  bs = 2**4\n",
        "  bs_name = str(bs)\n",
        "  n_layers = 3\n",
        "\n",
        "elif route ==102:\n",
        "  #route 102\n",
        "  data = data102.copy()\n",
        "  path_end = \"data102\"\n",
        "  path_name = \"Route 102 S Rübenkamp to U Wandsbek Markt\"\n",
        "  bs = 2**7\n",
        "  bs_name = str(bs)\n",
        "  n_layers = 2\n",
        "\n",
        "elif route == 201:\n",
        "  #route 201\n",
        "  data = data201.copy()\n",
        "  path_end = \"data201\"\n",
        "  path_name = \"Route 201 U Wandsbek Markt to Lufthansa-Basis (Haupteingang)\"\n",
        "  bs = 2**6\n",
        "  bs_name = str(bs)\n",
        "  n_layers = 2\n",
        "\n",
        "elif route == 202:\n",
        "#route 202\n",
        "  data = data202.copy()\n",
        "  path_end = \"data202\"\n",
        "  path_name = \"Route 202 Lufthansa-Basis (Haupteingang) to U Wandsbek Markt\"\n",
        "  bs = 2**6\n",
        "  bs_name = str(bs)\n",
        "  n_layers = 3\n",
        "\n"
      ],
      "execution_count": null,
      "outputs": []
    },
    {
      "cell_type": "code",
      "metadata": {
        "id": "6sA-FiunP1l0"
      },
      "source": [
        "data = data.loc[pd.to_datetime(data.index).month == month]"
      ],
      "execution_count": null,
      "outputs": []
    },
    {
      "cell_type": "code",
      "metadata": {
        "id": "P7MA4pvra7yU"
      },
      "source": [
        "#Import data to collect results and compare\n",
        "#comb_result = pd.read_csv(\"/content/drive/My Drive/Colab Notebooks/Thesis/combine_result_\"+path_end+\".csv\")\n",
        "#comb_result_rmse = pd.read_csv(\"/content/drive/My Drive/Colab Notebooks/Thesis/combine_result_rmse_\"+path_end+\".csv\")\n",
        "comb_result = pd.read_csv(\"/content/drive/My Drive/Colab Notebooks/Thesis/combine_result_\"+path_end+\"_m\"+str(month)+\".csv\")\n",
        "#comb_result_rmse = pd.read_csv(\"/content/drive/My Drive/Colab Notebooks/Thesis/combine_result_rmse_\"+path_end+\"_m\"+str(month)+\".csv\")"
      ],
      "execution_count": null,
      "outputs": []
    },
    {
      "cell_type": "code",
      "metadata": {
        "id": "SMnb7iePbJUX"
      },
      "source": [
        "size_trip = len(comb_result['Path'].unique())\n",
        "#size_trip = 1"
      ],
      "execution_count": null,
      "outputs": []
    },
    {
      "cell_type": "markdown",
      "metadata": {
        "id": "t4FFZGHRQnde"
      },
      "source": [
        "# Select model"
      ]
    },
    {
      "cell_type": "code",
      "metadata": {
        "id": "d5qdIctsQtZd"
      },
      "source": [
        "# set variable for RNN structure\n",
        "look_back = size_trip*1 #1*24 # D -> 1, H -> 5*24\n",
        "num_features = data.shape[1] - 1\n",
        "output_dim = 1\n"
      ],
      "execution_count": null,
      "outputs": []
    },
    {
      "cell_type": "markdown",
      "metadata": {
        "id": "XaLg54F00aHr"
      },
      "source": [
        "# Data Preprocessing to RNN format"
      ]
    },
    {
      "cell_type": "markdown",
      "metadata": {
        "id": "lhmR6mEMXpiz"
      },
      "source": [
        "\"The LSTM network expects the input data (X) to be provided with a specific array structure in the form of: [samples, time steps, features].\"\n",
        "\n",
        "https://machinelearningmastery.com/time-series-prediction-lstm-recurrent-neural-networks-python-keras/"
      ]
    },
    {
      "cell_type": "code",
      "metadata": {
        "id": "aXKas5PI04X9"
      },
      "source": [
        "def df_to_rnn_scaling(df, look_back=5, target_column='target', scale_X=True): #, test_size=0.5\n",
        "    df = df.copy()\n",
        "\n",
        "    # move traget function to last column of the dataframe\n",
        "    df['target'] = df[target_column] # Make a copy of the target column to the last column\n",
        "    df = df.drop(columns=[target_column]) # Drop the original target column\n",
        "    \n",
        "    target_location = df.shape[1] - 1 # column index number of target\n",
        "\n",
        "    \n",
        "    #Split with day of the month\n",
        "    s =pd.to_datetime(data.index).day.tolist()\n",
        "\n",
        "    split_index_val = s.index(15) #validation set is cover on 3th week\n",
        "    split_index_test = s.index(23) #test set covers last week\n",
        "    #split_index = int(df.shape[0]*test_size) # the index at which to split df into train and test\n",
        "    \n",
        "    train = df[:split_index_val]\n",
        "    val = df[split_index_val:split_index_test]\n",
        "    test = df[split_index_test:]\n",
        "   \n",
        "    # features scaling\n",
        "    scaler = MinMaxScaler()\n",
        "    # fit scaler\n",
        "    scaler.fit(train)\n",
        "    # transform training dataset\n",
        "    train = scaler.transform(train)\n",
        "    # transform validation dataset\n",
        "    val = scaler.transform(val)\n",
        "    # transform test dataset\n",
        "    test = scaler.transform(test)\n",
        "\n",
        "    # ...train\n",
        "    X_train = train[:, :target_location]\n",
        "    y_train = train[:, target_location]\n",
        "\n",
        "    # ...validation\n",
        "    X_val = val[:, :target_location]\n",
        "    y_val = val[:, target_location]\n",
        "\n",
        "    # ...test\n",
        "    X_test = test[:, :target_location]\n",
        "    y_test = test[:, target_location] \n",
        "        \n",
        "    # Reshape the arrays\n",
        "    num_features = target_location # All columns before the target column are features\n",
        "\n",
        "    # train\n",
        "    samples_train = X_train.shape[0] - look_back\n",
        "    X_train_reshaped = np.zeros((samples_train, look_back, num_features)) # Initialize the required dataframe with an zeros array.\n",
        "    y_train_reshaped = np.zeros((samples_train))\n",
        "\n",
        "    for i in range(samples_train):\n",
        "        y_position = i + look_back\n",
        "        X_train_reshaped[i] = X_train[i:y_position]\n",
        "        y_train_reshaped[i] = y_train[y_position]\n",
        "\n",
        "    # validation\n",
        "    samples_val = X_val.shape[0] - look_back\n",
        "    X_val_reshaped = np.zeros((samples_val, look_back, num_features))\n",
        "    y_val_reshaped = np.zeros((samples_val))\n",
        "\n",
        "    for i in range(samples_val):\n",
        "        y_position = i + look_back\n",
        "        X_val_reshaped[i] = X_val[i:y_position]\n",
        "        y_val_reshaped[i] = y_val[y_position]\n",
        "\n",
        "    # test\n",
        "    samples_test = X_test.shape[0] - look_back\n",
        "    X_test_reshaped = np.zeros((samples_test, look_back, num_features))\n",
        "    y_test_reshaped = np.zeros((samples_test))\n",
        "\n",
        "    for i in range(samples_test):\n",
        "        y_position = i + look_back\n",
        "        X_test_reshaped[i] = X_test[i:y_position]\n",
        "        y_test_reshaped[i] = y_test[y_position]\n",
        "    \n",
        "    return X_train_reshaped, y_train_reshaped, X_val_reshaped, y_val_reshaped, X_test_reshaped, y_test_reshaped, split_index_test, scaler"
      ],
      "execution_count": null,
      "outputs": []
    },
    {
      "cell_type": "code",
      "metadata": {
        "id": "SFFvVhA47SBl"
      },
      "source": [
        "X_train, y_train, X_val, y_val, X_test, y_test, split_index_test, scaler = df_to_rnn_scaling(df=data, look_back=look_back, target_column='Driving_time_s', scale_X=True)"
      ],
      "execution_count": null,
      "outputs": []
    },
    {
      "cell_type": "code",
      "metadata": {
        "id": "6pcU1kHX8ZFR",
        "colab": {
          "base_uri": "https://localhost:8080/"
        },
        "outputId": "650bb361-2358-4b6a-c151-47ff2550e109"
      },
      "source": [
        "print('X_train_shape: ', X_train.shape,' ', 'X_test_shape: ', X_test.shape)\n",
        "print('y_train_shape: ', y_train.shape,' ', 'y_test_shape: ', y_test.shape)"
      ],
      "execution_count": null,
      "outputs": [
        {
          "output_type": "stream",
          "text": [
            "X_train_shape:  (9046, 19, 32)   X_test_shape:  (1422, 19, 32)\n",
            "y_train_shape:  (9046,)   y_test_shape:  (1422,)\n"
          ],
          "name": "stdout"
        }
      ]
    },
    {
      "cell_type": "code",
      "metadata": {
        "id": "iQw0vd0EZ0IA",
        "colab": {
          "base_uri": "https://localhost:8080/"
        },
        "outputId": "854c0249-aac4-49c4-d82c-b64bff438289"
      },
      "source": [
        "X_train[:1]"
      ],
      "execution_count": null,
      "outputs": [
        {
          "output_type": "execute_result",
          "data": {
            "text/plain": [
              "array([[[0., 0., 0., 0., 0., 0., 0., 0., 1., 0., 0., 0., 0., 0., 0., 0.,\n",
              "         0., 0., 0., 1., 0., 1., 0., 0., 0., 0., 0., 0., 0., 1., 0., 0.],\n",
              "        [0., 0., 0., 0., 0., 0., 0., 0., 0., 0., 0., 1., 0., 0., 0., 0.,\n",
              "         0., 0., 0., 1., 0., 1., 0., 0., 0., 0., 0., 0., 0., 1., 0., 0.],\n",
              "        [0., 1., 0., 0., 0., 0., 0., 0., 0., 0., 0., 0., 0., 0., 0., 0.,\n",
              "         0., 0., 0., 1., 0., 1., 0., 0., 0., 0., 0., 0., 0., 1., 0., 0.],\n",
              "        [0., 0., 0., 0., 0., 0., 0., 0., 0., 0., 1., 0., 0., 0., 0., 0.,\n",
              "         0., 0., 0., 1., 0., 1., 0., 0., 0., 0., 0., 0., 0., 1., 0., 0.],\n",
              "        [0., 0., 1., 0., 0., 0., 0., 0., 0., 0., 0., 0., 0., 0., 0., 0.,\n",
              "         0., 0., 0., 1., 0., 1., 0., 0., 0., 0., 0., 0., 0., 1., 0., 0.],\n",
              "        [0., 0., 0., 0., 0., 0., 1., 0., 0., 0., 0., 0., 0., 0., 0., 0.,\n",
              "         0., 0., 0., 1., 0., 1., 0., 0., 0., 0., 0., 0., 0., 1., 0., 0.],\n",
              "        [0., 0., 0., 0., 0., 0., 0., 0., 0., 0., 0., 0., 0., 0., 1., 0.,\n",
              "         0., 0., 0., 1., 0., 1., 0., 0., 0., 0., 0., 0., 0., 1., 0., 0.],\n",
              "        [0., 0., 0., 0., 0., 0., 0., 0., 0., 0., 0., 0., 0., 1., 0., 0.,\n",
              "         0., 0., 0., 1., 0., 1., 0., 0., 0., 0., 0., 0., 0., 1., 0., 0.],\n",
              "        [0., 0., 0., 0., 0., 0., 0., 0., 0., 1., 0., 0., 0., 0., 0., 0.,\n",
              "         0., 0., 0., 1., 0., 1., 0., 0., 0., 0., 0., 0., 0., 1., 0., 0.],\n",
              "        [0., 0., 0., 0., 0., 0., 0., 1., 0., 0., 0., 0., 0., 0., 0., 0.,\n",
              "         0., 0., 0., 1., 0., 1., 0., 0., 0., 0., 0., 0., 0., 1., 0., 0.],\n",
              "        [0., 0., 0., 0., 0., 0., 0., 0., 0., 0., 0., 0., 1., 0., 0., 0.,\n",
              "         0., 0., 0., 1., 0., 1., 0., 0., 0., 0., 0., 0., 0., 1., 0., 0.],\n",
              "        [1., 0., 0., 0., 0., 0., 0., 0., 0., 0., 0., 0., 0., 0., 0., 0.,\n",
              "         0., 0., 0., 1., 0., 1., 0., 0., 0., 0., 0., 0., 0., 1., 0., 0.],\n",
              "        [0., 0., 0., 0., 0., 1., 0., 0., 0., 0., 0., 0., 0., 0., 0., 0.,\n",
              "         0., 0., 0., 1., 0., 1., 0., 0., 0., 0., 0., 0., 0., 1., 0., 0.],\n",
              "        [0., 0., 0., 1., 0., 0., 0., 0., 0., 0., 0., 0., 0., 0., 0., 0.,\n",
              "         0., 0., 0., 1., 0., 1., 0., 0., 0., 0., 0., 0., 0., 1., 0., 0.],\n",
              "        [0., 0., 0., 0., 0., 0., 0., 0., 0., 0., 0., 0., 0., 0., 0., 0.,\n",
              "         1., 0., 0., 1., 0., 1., 0., 0., 0., 0., 0., 0., 0., 1., 0., 0.],\n",
              "        [0., 0., 0., 0., 1., 0., 0., 0., 0., 0., 0., 0., 0., 0., 0., 0.,\n",
              "         0., 0., 0., 1., 0., 1., 0., 0., 0., 0., 0., 0., 0., 1., 0., 0.],\n",
              "        [0., 0., 0., 0., 0., 0., 0., 0., 0., 0., 0., 0., 0., 0., 0., 1.,\n",
              "         0., 0., 0., 1., 0., 1., 0., 0., 0., 0., 0., 0., 0., 1., 0., 0.],\n",
              "        [0., 0., 0., 0., 0., 0., 0., 0., 0., 0., 0., 0., 0., 0., 0., 0.,\n",
              "         0., 1., 0., 1., 0., 1., 0., 0., 0., 0., 0., 0., 0., 1., 0., 0.],\n",
              "        [0., 0., 0., 0., 0., 0., 0., 0., 0., 0., 0., 0., 0., 0., 0., 0.,\n",
              "         0., 0., 1., 1., 0., 1., 0., 0., 0., 0., 0., 0., 0., 1., 0., 0.]]])"
            ]
          },
          "metadata": {
            "tags": []
          },
          "execution_count": 196
        }
      ]
    },
    {
      "cell_type": "code",
      "metadata": {
        "id": "feIvsKi2Tfeq",
        "colab": {
          "base_uri": "https://localhost:8080/"
        },
        "outputId": "75b511f9-3295-461b-cad2-2f9183b43734"
      },
      "source": [
        "date_time = pd.to_datetime(data.index)\n",
        "#plot_cols = ['T (degC)', 'p (mbar)', 'rho (g/m**3)']\n",
        "plot_features = data['Driving_time_s']\n",
        "plot_features.index = date_time\n",
        "_ = plot_features.plot()\n"
      ],
      "execution_count": null,
      "outputs": [
        {
          "output_type": "display_data",
          "data": {
            "image/png": "[encoded data removed]",
            "text/plain": [
              "<Figure size 432x288 with 1 Axes>"
            ]
          },
          "metadata": {
            "tags": [],
            "needs_background": "light"
          }
        }
      ]
    },
    {
      "cell_type": "markdown",
      "metadata": {
        "id": "Y6VYHgkItcXb"
      },
      "source": [
        "# LSTM model"
      ]
    },
    {
      "cell_type": "code",
      "metadata": {
        "id": "GaHBG9ECuror",
        "colab": {
          "base_uri": "https://localhost:8080/"
        },
        "outputId": "3d8f929c-39fc-48c2-963f-fea31b0465b8"
      },
      "source": [
        "!pip show keras"
      ],
      "execution_count": null,
      "outputs": [
        {
          "output_type": "stream",
          "text": [
            "Name: Keras\n",
            "Version: 2.4.3\n",
            "Summary: Deep Learning for humans\n",
            "Home-page: https://github.com/keras-team/keras\n",
            "Author: Francois Chollet\n",
            "Author-email: francois.chollet@gmail.com\n",
            "License: MIT\n",
            "Location: /usr/local/lib/python3.6/dist-packages\n",
            "Requires: pyyaml, h5py, scipy, numpy\n",
            "Required-by: textgenrnn, keras-vis, kapre, fancyimpute\n"
          ],
          "name": "stdout"
        }
      ]
    },
    {
      "cell_type": "code",
      "metadata": {
        "id": "OwCYWdLS_OOX",
        "colab": {
          "base_uri": "https://localhost:8080/"
        },
        "outputId": "9639e42d-cfe9-42b2-a8ef-d76c33426041"
      },
      "source": [
        "# TensorFlow ≥2.0 is required\n",
        "import tensorflow as tf\n",
        "assert tf.__version__ >= \"2.0\"\n",
        "\n",
        "from tensorflow import keras\n",
        "from keras.layers import LeakyReLU\n",
        "from keras.layers.normalization import BatchNormalization\n",
        "keras.backend.clear_session()\n",
        "from keras.optimizers import Adam, SGD, Nadam\n",
        "!pip install livelossplot\n",
        "from livelossplot import PlotLossesKeras\n",
        "#from keras.experimental import CosineDecayRestarts"
      ],
      "execution_count": null,
      "outputs": [
        {
          "output_type": "stream",
          "text": [
            "Requirement already satisfied: livelossplot in /usr/local/lib/python3.6/dist-packages (0.5.3)\n",
            "Requirement already satisfied: matplotlib; python_version >= \"3.6\" in /usr/local/lib/python3.6/dist-packages (from livelossplot) (3.2.2)\n",
            "Requirement already satisfied: ipython in /usr/local/lib/python3.6/dist-packages (from livelossplot) (5.5.0)\n",
            "Requirement already satisfied: bokeh; python_version >= \"3.6\" in /usr/local/lib/python3.6/dist-packages (from livelossplot) (2.1.1)\n",
            "Requirement already satisfied: numpy>=1.11 in /usr/local/lib/python3.6/dist-packages (from matplotlib; python_version >= \"3.6\"->livelossplot) (1.19.5)\n",
            "Requirement already satisfied: cycler>=0.10 in /usr/local/lib/python3.6/dist-packages (from matplotlib; python_version >= \"3.6\"->livelossplot) (0.10.0)\n",
            "Requirement already satisfied: pyparsing!=2.0.4,!=2.1.2,!=2.1.6,>=2.0.1 in /usr/local/lib/python3.6/dist-packages (from matplotlib; python_version >= \"3.6\"->livelossplot) (2.4.7)\n",
            "Requirement already satisfied: python-dateutil>=2.1 in /usr/local/lib/python3.6/dist-packages (from matplotlib; python_version >= \"3.6\"->livelossplot) (2.8.1)\n",
            "Requirement already satisfied: kiwisolver>=1.0.1 in /usr/local/lib/python3.6/dist-packages (from matplotlib; python_version >= \"3.6\"->livelossplot) (1.3.1)\n",
            "Requirement already satisfied: prompt-toolkit<2.0.0,>=1.0.4 in /usr/local/lib/python3.6/dist-packages (from ipython->livelossplot) (1.0.18)\n",
            "Requirement already satisfied: decorator in /usr/local/lib/python3.6/dist-packages (from ipython->livelossplot) (4.4.2)\n",
            "Requirement already satisfied: setuptools>=18.5 in /usr/local/lib/python3.6/dist-packages (from ipython->livelossplot) (51.1.1)\n",
            "Requirement already satisfied: simplegeneric>0.8 in /usr/local/lib/python3.6/dist-packages (from ipython->livelossplot) (0.8.1)\n",
            "Requirement already satisfied: traitlets>=4.2 in /usr/local/lib/python3.6/dist-packages (from ipython->livelossplot) (4.3.3)\n",
            "Requirement already satisfied: pexpect; sys_platform != \"win32\" in /usr/local/lib/python3.6/dist-packages (from ipython->livelossplot) (4.8.0)\n",
            "Requirement already satisfied: pygments in /usr/local/lib/python3.6/dist-packages (from ipython->livelossplot) (2.6.1)\n",
            "Requirement already satisfied: pickleshare in /usr/local/lib/python3.6/dist-packages (from ipython->livelossplot) (0.7.5)\n",
            "Requirement already satisfied: typing-extensions>=3.7.4 in /usr/local/lib/python3.6/dist-packages (from bokeh; python_version >= \"3.6\"->livelossplot) (3.7.4.3)\n",
            "Requirement already satisfied: pillow>=4.0 in /usr/local/lib/python3.6/dist-packages (from bokeh; python_version >= \"3.6\"->livelossplot) (7.0.0)\n",
            "Requirement already satisfied: PyYAML>=3.10 in /usr/local/lib/python3.6/dist-packages (from bokeh; python_version >= \"3.6\"->livelossplot) (3.13)\n",
            "Requirement already satisfied: Jinja2>=2.7 in /usr/local/lib/python3.6/dist-packages (from bokeh; python_version >= \"3.6\"->livelossplot) (2.11.2)\n",
            "Requirement already satisfied: tornado>=5.1 in /usr/local/lib/python3.6/dist-packages (from bokeh; python_version >= \"3.6\"->livelossplot) (5.1.1)\n",
            "Requirement already satisfied: packaging>=16.8 in /usr/local/lib/python3.6/dist-packages (from bokeh; python_version >= \"3.6\"->livelossplot) (20.8)\n",
            "Requirement already satisfied: six in /usr/local/lib/python3.6/dist-packages (from cycler>=0.10->matplotlib; python_version >= \"3.6\"->livelossplot) (1.15.0)\n",
            "Requirement already satisfied: wcwidth in /usr/local/lib/python3.6/dist-packages (from prompt-toolkit<2.0.0,>=1.0.4->ipython->livelossplot) (0.2.5)\n",
            "Requirement already satisfied: ipython-genutils in /usr/local/lib/python3.6/dist-packages (from traitlets>=4.2->ipython->livelossplot) (0.2.0)\n",
            "Requirement already satisfied: ptyprocess>=0.5 in /usr/local/lib/python3.6/dist-packages (from pexpect; sys_platform != \"win32\"->ipython->livelossplot) (0.7.0)\n",
            "Requirement already satisfied: MarkupSafe>=0.23 in /usr/local/lib/python3.6/dist-packages (from Jinja2>=2.7->bokeh; python_version >= \"3.6\"->livelossplot) (1.1.1)\n"
          ],
          "name": "stdout"
        }
      ]
    },
    {
      "cell_type": "code",
      "metadata": {
        "id": "JXfRDK8yqZHY"
      },
      "source": [
        "# to make output stable across runs\n",
        "np.random.seed(42)\n",
        "tf.random.set_seed(42)"
      ],
      "execution_count": null,
      "outputs": []
    },
    {
      "cell_type": "code",
      "metadata": {
        "id": "1BXQ4fYaGU4l"
      },
      "source": [
        "from keras.callbacks import EarlyStopping, TensorBoard, ModelCheckpoint\n",
        "\n",
        "callback = keras.callbacks.EarlyStopping(monitor='val_loss', patience=5)\n",
        "\n",
        "checkpoint1 = ModelCheckpoint(\"/content/drive/My Drive/Colab Notebooks/Thesis/best model/LSTM.best_mse_\"+path_end+bs_name+\".hdf5\", monitor='val_loss', verbose=1, save_best_only=True, mode='min')\n",
        "checkpoint2 = ModelCheckpoint(\"/content/drive/My Drive/Colab Notebooks/Thesis/best model/LSTM.best_rmse_\"+path_end+bs_name+\".hdf5\", monitor='val_root_mean_squared_error', verbose=1, save_best_only=True, mode='min')\n",
        "checkpoint3 = ModelCheckpoint(\"/content/drive/My Drive/Colab Notebooks/Thesis/best model/LSTM.best_mae_\"+path_end+bs_name+\".hdf5\", monitor='val_mae', verbose=1, save_best_only=True, mode='min')\n"
      ],
      "execution_count": null,
      "outputs": []
    },
    {
      "cell_type": "markdown",
      "metadata": {
        "id": "zHrjrugr1gNp"
      },
      "source": [
        "LSTM model\n",
        "\n"
      ]
    },
    {
      "cell_type": "code",
      "metadata": {
        "id": "NdeqWRzNzV1I"
      },
      "source": [
        "#crate model\n",
        "model = keras.models.Sequential() \n",
        "model.add(BatchNormalization(name = 'batch_norm_0', input_shape = (look_back, num_features)))\n",
        "#Hidden Layer 1\n",
        "model.add(keras.layers.LSTM(16, name = 'lstm_1', return_sequences=True, kernel_initializer='TruncatedNormal'))#, activation='relu'))\n",
        "model.add(LeakyReLU())\n",
        "model.add(keras.layers.Dropout(0.2, name = 'dropout_1'))\n",
        "model.add(BatchNormalization(name = 'batch_norm_1'))\n",
        "\n",
        "# Adds remaining hidden layers\n",
        "for i in range(2, n_layers + 1):\n",
        "    if i == n_layers: #the last hidden layer\n",
        "        model.add(keras.layers.LSTM(16, name = 'lstm_{}'.format(i), return_sequences=False, kernel_initializer='TruncatedNormal', use_bias=False, activation='relu'))\n",
        "        model.add(keras.layers.Dropout(0.2, name = 'dropout_{}'.format(i)))\n",
        "        model.add(BatchNormalization(name = 'batch_norm_{}'.format(i)))\n",
        "    else:\n",
        "        model.add(keras.layers.LSTM(16, name = 'lstm_{}'.format(i), return_sequences=True, kernel_initializer='TruncatedNormal', use_bias=False)) #16*(2**i)\n",
        "                        #name='h{}'.format(i)))#, activation='relu'))\n",
        "        model.add(LeakyReLU())\n",
        "        model.add(keras.layers.Dropout(0.2, name = 'dropout_{}'.format(i)))\n",
        "        model.add(BatchNormalization(name = 'batch_norm_{}'.format(i)))\n",
        "\n",
        "#Layer output\n",
        "model.add(keras.layers.Dense(1))\n",
        "\n",
        "\n",
        "\n",
        "'''\n",
        "lr = tf.keras.experimental.CosineDecayRestarts(\n",
        "    initial_learning_rate=0.0005, first_decay_steps=300, t_mul=2.0, m_mul=1.0, alpha=0.0,\n",
        "    name=None\n",
        ")\n",
        "'''\n",
        "lr=1.e-3\n",
        "'''\n",
        "n_steps=2000\n",
        "global_step=1\n",
        "LR = keras.experimental.CosineDecayRestarts(\n",
        "    initial_learning_rate=lr,\n",
        "    first_decay_steps=n_steps,\n",
        "    t_mul= 1.5,\n",
        "    m_mul= 1,\n",
        "    alpha=0.1,\n",
        "    name=None\n",
        ")\n",
        "'''\n",
        "adam = Adam(learning_rate=lr) #, weight_decay=1e-5)"
      ],
      "execution_count": null,
      "outputs": []
    },
    {
      "cell_type": "code",
      "metadata": {
        "id": "W5czarb27807",
        "colab": {
          "base_uri": "https://localhost:8080/",
          "height": 1000
        },
        "outputId": "d63f9cd9-27cd-436d-ddbc-6774572d3981"
      },
      "source": [
        "model.compile(loss=\"mean_squared_error\", optimizer=adam, metrics=['RootMeanSquaredError', 'mae'])\n",
        "\n",
        "\n",
        "'''\n",
        "schedule = SGDRScheduler(min_lr=7.7e-6, #1e-5\n",
        "                                     max_lr=2.9e-2, # 1e-2\n",
        "                                     steps_per_epoch=np.ceil(1/2**13),\n",
        "                                     lr_decay=0.9,\n",
        "                                     cycle_length=25, # 5\n",
        "                                     mult_factor=1.5)\n",
        "'''\n",
        "history = model.fit(X_train, y_train, epochs=50, batch_size=32, callbacks=[callback, checkpoint1, checkpoint2, checkpoint3, PlotLossesKeras()],\n",
        "                   validation_data=(X_val, y_val))\n",
        "#mse_test = model.evaluate(X_test, y_test)"
      ],
      "execution_count": null,
      "outputs": [
        {
          "output_type": "display_data",
          "data": {
            "image/png": "[encoded data removed]",
            "text/plain": [
              "<Figure size 864x864 with 4 Axes>"
            ]
          },
          "metadata": {
            "tags": [],
            "needs_background": "light"
          }
        },
        {
          "output_type": "stream",
          "text": [
            "Loss\n",
            "\ttraining         \t (min:    0.005, max:    0.542, cur:    0.005)\n",
            "\tvalidation       \t (min:    0.005, max:    0.015, cur:    0.005)\n",
            "mae\n",
            "\ttraining         \t (min:    0.049, max:    0.486, cur:    0.049)\n",
            "\tvalidation       \t (min:    0.046, max:    0.092, cur:    0.046)\n",
            "root_mean_squared_error\n",
            "\ttraining         \t (min:    0.068, max:    0.736, cur:    0.069)\n",
            "\tvalidation       \t (min:    0.070, max:    0.122, cur:    0.070)\n"
          ],
          "name": "stdout"
        }
      ]
    },
    {
      "cell_type": "code",
      "metadata": {
        "id": "dVGvOwlP8IGZ",
        "colab": {
          "base_uri": "https://localhost:8080/"
        },
        "outputId": "f4f2691c-996d-4966-94b4-5504345193c8"
      },
      "source": [
        "model.summary()"
      ],
      "execution_count": null,
      "outputs": [
        {
          "output_type": "stream",
          "text": [
            "Model: \"sequential\"\n",
            "_________________________________________________________________\n",
            "Layer (type)                 Output Shape              Param #   \n",
            "=================================================================\n",
            "batch_norm_0 (BatchNormaliza (None, 19, 32)            128       \n",
            "_________________________________________________________________\n",
            "lstm_1 (LSTM)                (None, 19, 32)            8320      \n",
            "_________________________________________________________________\n",
            "leaky_re_lu (LeakyReLU)      (None, 19, 32)            0         \n",
            "_________________________________________________________________\n",
            "dropout_1 (Dropout)          (None, 19, 32)            0         \n",
            "_________________________________________________________________\n",
            "batch_norm_1 (BatchNormaliza (None, 19, 32)            128       \n",
            "_________________________________________________________________\n",
            "lstm_2 (LSTM)                (None, 19, 64)            24576     \n",
            "_________________________________________________________________\n",
            "leaky_re_lu_1 (LeakyReLU)    (None, 19, 64)            0         \n",
            "_________________________________________________________________\n",
            "dropout_2 (Dropout)          (None, 19, 64)            0         \n",
            "_________________________________________________________________\n",
            "batch_norm_2 (BatchNormaliza (None, 19, 64)            256       \n",
            "_________________________________________________________________\n",
            "lstm_3 (LSTM)                (None, 32)                12288     \n",
            "_________________________________________________________________\n",
            "dropout_3 (Dropout)          (None, 32)                0         \n",
            "_________________________________________________________________\n",
            "batch_norm_3 (BatchNormaliza (None, 32)                128       \n",
            "_________________________________________________________________\n",
            "dense (Dense)                (None, 1)                 33        \n",
            "=================================================================\n",
            "Total params: 45,857\n",
            "Trainable params: 45,537\n",
            "Non-trainable params: 320\n",
            "_________________________________________________________________\n"
          ],
          "name": "stdout"
        }
      ]
    },
    {
      "cell_type": "code",
      "metadata": {
        "id": "DVbK1WQw8TJk",
        "colab": {
          "base_uri": "https://localhost:8080/",
          "height": 1000
        },
        "outputId": "4dbf1979-741d-4242-c91b-83e2780beec7"
      },
      "source": [
        "keras.utils.plot_model(model, \"my_hb_model.png\", show_shapes=True)"
      ],
      "execution_count": null,
      "outputs": [
        {
          "output_type": "execute_result",
          "data": {
            "image/png": "[encoded data removed]",
            "text/plain": [
              "<IPython.core.display.Image object>"
            ]
          },
          "metadata": {
            "tags": []
          },
          "execution_count": 205
        }
      ]
    },
    {
      "cell_type": "code",
      "metadata": {
        "id": "tpk7kL1N-Db8",
        "colab": {
          "base_uri": "https://localhost:8080/",
          "height": 265
        },
        "outputId": "24faf118-daeb-4d4c-e60b-8b1a388b695a"
      },
      "source": [
        "plt.plot(pd.DataFrame(history.history))\n",
        "plt.grid(True)\n",
        "#plt.gca().set_ylim(0, 1)\n",
        "plt.show()"
      ],
      "execution_count": null,
      "outputs": [
        {
          "output_type": "display_data",
          "data": {
            "image/png": "[encoded data removed]",
            "text/plain": [
              "<Figure size 432x288 with 1 Axes>"
            ]
          },
          "metadata": {
            "tags": [],
            "needs_background": "light"
          }
        }
      ]
    },
    {
      "cell_type": "markdown",
      "metadata": {
        "id": "Xp-YfPAuAwDg"
      },
      "source": [
        "# Cross validate on the test set"
      ]
    },
    {
      "cell_type": "code",
      "metadata": {
        "id": "IfHfr-s9aE1_",
        "colab": {
          "base_uri": "https://localhost:8080/"
        },
        "outputId": "2e55e096-119c-4d6e-9cc3-ca966f1e55a1"
      },
      "source": [
        "%time\n",
        "from keras.models import load_model\n",
        "\n",
        "# Load the model\n",
        "model = load_model('/content/drive/My Drive/Colab Notebooks/Thesis/best model/LSTM.best_mse_'+path_end+bs_name+'.hdf5') # Gave an error when loading without 'custom_objects'.. fixed by https://github.com/keras-team/keras/issues/3911\n",
        "\n",
        "# Compile with the same settings as it has been saved with earlier\n",
        "model.compile(loss=\"mean_squared_error\", optimizer=adam, metrics=['RootMeanSquaredError', 'mae'])\n",
        "\n",
        "print('FINISHED')"
      ],
      "execution_count": null,
      "outputs": [
        {
          "output_type": "stream",
          "text": [
            "CPU times: user 4 µs, sys: 0 ns, total: 4 µs\n",
            "Wall time: 8.82 µs\n",
            "FINISHED\n"
          ],
          "name": "stdout"
        }
      ]
    },
    {
      "cell_type": "code",
      "metadata": {
        "id": "ThaH8zR7Au-A"
      },
      "source": [
        "#predict from test set\n",
        "y_pred = model.predict(X_test)\n",
        "y_true = y_test.reshape(y_test.shape[0], 1)"
      ],
      "execution_count": null,
      "outputs": []
    },
    {
      "cell_type": "code",
      "metadata": {
        "id": "NUAtAF-xF651",
        "colab": {
          "base_uri": "https://localhost:8080/"
        },
        "outputId": "bfb27f25-6322-4f6d-9211-5aaadbeac114"
      },
      "source": [
        "model.evaluate(X_test, y_test)"
      ],
      "execution_count": null,
      "outputs": [
        {
          "output_type": "stream",
          "text": [
            "45/45 [==============================] - 1s 6ms/step - loss: 0.0040 - root_mean_squared_error: 0.0631 - mae: 0.0449\n"
          ],
          "name": "stdout"
        },
        {
          "output_type": "execute_result",
          "data": {
            "text/plain": [
              "[0.004672599490731955, 0.06835641711950302, 0.045974887907505035]"
            ]
          },
          "metadata": {
            "tags": []
          },
          "execution_count": 209
        }
      ]
    },
    {
      "cell_type": "code",
      "metadata": {
        "id": "8AIrGfWxF6GT"
      },
      "source": [
        "# invert scaling for forecast\n",
        "inv_X_test = X_test.reshape((X_test.shape[0], look_back*num_features))\n",
        "inv_y_pred = np.concatenate((inv_X_test[:, -num_features:], y_pred), axis=1)\n",
        "inv_y_pred = scaler.inverse_transform(inv_y_pred)\n",
        "inv_y_pred = inv_y_pred[:,-1]"
      ],
      "execution_count": null,
      "outputs": []
    },
    {
      "cell_type": "code",
      "metadata": {
        "id": "8VGQIwj8JXpf",
        "colab": {
          "base_uri": "https://localhost:8080/"
        },
        "outputId": "b35b156f-bc92-43a3-9903-55385441bf86"
      },
      "source": [
        "inv_y_pred"
      ],
      "execution_count": null,
      "outputs": [
        {
          "output_type": "execute_result",
          "data": {
            "text/plain": [
              "array([178.26169288,  62.64709917,  89.75245437, ..., 169.36238122,\n",
              "        71.8743255 , 158.60638994])"
            ]
          },
          "metadata": {
            "tags": []
          },
          "execution_count": 211
        }
      ]
    },
    {
      "cell_type": "code",
      "metadata": {
        "id": "tvXCZWadJIWD"
      },
      "source": [
        "# invert scaling for actual\n",
        "inv_y_true = np.concatenate((inv_X_test[:,-num_features:], y_true), axis=1)\n",
        "inv_y_true = scaler.inverse_transform(inv_y_true)\n",
        "inv_y_true = inv_y_true[:,-1]"
      ],
      "execution_count": null,
      "outputs": []
    },
    {
      "cell_type": "code",
      "metadata": {
        "id": "qg5_Hke-JQwo",
        "colab": {
          "base_uri": "https://localhost:8080/"
        },
        "outputId": "7ed909e2-636d-46a6-8f4c-f35861e0ad92"
      },
      "source": [
        "# calculate RMSE\n",
        "from sklearn.metrics import mean_squared_error, mean_absolute_error\n",
        "\n",
        "mse = mean_squared_error(inv_y_true, inv_y_pred)\n",
        "rmse = np.sqrt(mean_squared_error(inv_y_true, inv_y_pred))\n",
        "mae = mean_absolute_error(inv_y_true, inv_y_pred)\n",
        "print('Test MSE: %.3f' % mse)\n",
        "print('Test RMSE: %.3f' % rmse)\n",
        "print('Test MAE: %.3f' % mae)"
      ],
      "execution_count": null,
      "outputs": [
        {
          "output_type": "stream",
          "text": [
            "Test MSE: 1715.946\n",
            "Test RMSE: 41.424\n",
            "Test MAE: 27.861\n"
          ],
          "name": "stdout"
        }
      ]
    },
    {
      "cell_type": "code",
      "metadata": {
        "id": "e6Sfvun2KuuO"
      },
      "source": [
        "#for plotting graph\n",
        "\n",
        "x = data[split_index_test:]\n",
        "\n",
        "datetime_difference = len(x) - len(y_true)\n",
        "x = x[datetime_difference:]"
      ],
      "execution_count": null,
      "outputs": []
    },
    {
      "cell_type": "markdown",
      "metadata": {
        "id": "1AMA-hgy3PQM"
      },
      "source": [
        "Show in the graph only first 50 points."
      ]
    },
    {
      "cell_type": "code",
      "metadata": {
        "id": "_d_Csz7EBAs-",
        "colab": {
          "base_uri": "https://localhost:8080/"
        },
        "outputId": "eba2f6a2-c037-487b-a36e-5d5f323825f6"
      },
      "source": [
        "plt.figure(figsize=(20,10))\n",
        "plt.plot(inv_y_true[:50], '.-', color='red', label='Real values', alpha=0.5)\n",
        "plt.plot(inv_y_pred[:50], '.-', color='blue', label='Predicted values', alpha=1)\n",
        "\n",
        "plt.ylabel(r'Driving time [s]', fontsize=14)\n",
        "plt.xlabel('time point', fontsize=14) #TODO: set x values as actual dates\n",
        "\n",
        "plt.xticks(fontsize=10, rotation=90)\n",
        "plt.yticks(fontsize=10)\n",
        "\n",
        "plt.legend(loc='upper left', borderaxespad=0, frameon=False, fontsize=14, markerscale=3)\n",
        "\n",
        "mse_result, rmse_result, mae_result = model.evaluate(X_test, y_test)\n",
        "\n",
        "plt.title(path_name+'\\n LSTM %.0f hidden layers result \\n batch_size = %.0f \\n MSE = %.2f \\n RMASE = %.1f  \\n MAE = %.1f' % (n_layers, bs, mse, rmse, mae), fontsize = 14)\n",
        "\n",
        "print('FINISHED')"
      ],
      "execution_count": null,
      "outputs": [
        {
          "output_type": "stream",
          "text": [
            "45/45 [==============================] - 0s 6ms/step - loss: 0.0047 - root_mean_squared_error: 0.0684 - mae: 0.0460\n",
            "FINISHED\n"
          ],
          "name": "stdout"
        },
        {
          "output_type": "display_data",
          "data": {
            "image/png": "[encoded data removed]",
            "text/plain": [
              "<Figure size 1440x720 with 1 Axes>"
            ]
          },
          "metadata": {
            "tags": [],
            "needs_background": "light"
          }
        }
      ]
    },
    {
      "cell_type": "code",
      "metadata": {
        "id": "ToZ1K7xALIZG",
        "colab": {
          "base_uri": "https://localhost:8080/"
        },
        "outputId": "2d936c36-9949-45d6-d1ad-023699f42324"
      },
      "source": [
        "plt.figure(figsize=(20,10))\n",
        "plt.plot( inv_y_true, '.-', color='red', label='Real values', alpha=0.5)\n",
        "plt.plot( inv_y_pred, '.-', color='blue', label='Predicted values', alpha=1)\n",
        "\n",
        "plt.ylabel(r'Driving time [s]', fontsize=14)\n",
        "plt.xlabel('datetime [-]', fontsize=14) #TODO: set x values as actual dates\n",
        "\n",
        "plt.xticks(fontsize=10, rotation=90)\n",
        "plt.yticks(fontsize=10)\n",
        "\n",
        "plt.legend(loc='upper left', borderaxespad=0, frameon=False, fontsize=14, markerscale=3)\n",
        "\n",
        "mse_result, rmse_result, mae_result = model.evaluate(X_test, y_test)\n",
        "\n",
        "plt.title(path_name+'\\n LSTM %.0f hidden layers result \\n batch_size = %.0f \\n MSE = %.2f \\n RMASE = %.1f  \\n MAE = %.1f' % (n_layers, bs, mse, rmse, mae), fontsize = 14)\n",
        "\n",
        "print('FINISHED')"
      ],
      "execution_count": null,
      "outputs": [
        {
          "output_type": "stream",
          "text": [
            "45/45 [==============================] - 0s 6ms/step - loss: 0.0047 - root_mean_squared_error: 0.0684 - mae: 0.0460\n",
            "FINISHED\n"
          ],
          "name": "stdout"
        },
        {
          "output_type": "display_data",
          "data": {
            "image/png": "[encoded data removed]",
            "text/plain": [
              "<Figure size 1440x720 with 1 Axes>"
            ]
          },
          "metadata": {
            "tags": [],
            "needs_background": "light"
          }
        }
      ]
    },
    {
      "cell_type": "markdown",
      "metadata": {
        "id": "TmJnUXtLMPVD"
      },
      "source": [
        "# Combine results"
      ]
    },
    {
      "cell_type": "code",
      "metadata": {
        "id": "BshbaVGdZqHj"
      },
      "source": [
        "comb_result= comb_result.drop(['Unnamed: 0'], axis=1) #, 'Unnamed: 0.1', 'Unnamed: 0.1.1'"
      ],
      "execution_count": null,
      "outputs": []
    },
    {
      "cell_type": "code",
      "metadata": {
        "id": "sOC302HI4sMp"
      },
      "source": [
        "comb_result"
      ],
      "execution_count": null,
      "outputs": []
    },
    {
      "cell_type": "code",
      "metadata": {
        "id": "SuBIB81yZ1it",
        "colab": {
          "base_uri": "https://localhost:8080/"
        },
        "outputId": "75ee251d-3a9e-4a15-f687-15efc5cd3c47"
      },
      "source": [
        "int(datetime_difference)"
      ],
      "execution_count": null,
      "outputs": [
        {
          "output_type": "execute_result",
          "data": {
            "text/plain": [
              "19"
            ]
          },
          "metadata": {
            "tags": []
          },
          "execution_count": 219
        }
      ]
    },
    {
      "cell_type": "code",
      "metadata": {
        "id": "CfSlVampL8wH"
      },
      "source": [
        "comb_result=comb_result[int(datetime_difference):].reset_index(drop=True)\n",
        "#comb_result = comb_result.drop(['level_0'], axis = 1)\n",
        "comb_result"
      ],
      "execution_count": null,
      "outputs": []
    },
    {
      "cell_type": "code",
      "metadata": {
        "id": "-yzn9qb5ZHYc",
        "colab": {
          "base_uri": "https://localhost:8080/"
        },
        "outputId": "2170e94b-49fe-4ade-b67a-6282820ad07d"
      },
      "source": [
        "len(inv_y_pred[:])"
      ],
      "execution_count": null,
      "outputs": [
        {
          "output_type": "execute_result",
          "data": {
            "text/plain": [
              "1422"
            ]
          },
          "metadata": {
            "tags": []
          },
          "execution_count": 221
        }
      ]
    },
    {
      "cell_type": "code",
      "metadata": {
        "id": "h1mAVAfBMOPA",
        "colab": {
          "base_uri": "https://localhost:8080/",
          "height": 589
        },
        "outputId": "a6af00d5-c974-43c3-d226-801652915e40"
      },
      "source": [
        "comb_result['LSTM_'+str(n_layers)+'H_'+bs_name] = inv_y_pred[:]\n",
        "comb_result"
      ],
      "execution_count": null,
      "outputs": [
        {
          "output_type": "execute_result",
          "data": {
            "text/html": [
              "<div>\n",
              "<style scoped>\n",
              "    .dataframe tbody tr th:only-of-type {\n",
              "        vertical-align: middle;\n",
              "    }\n",
              "\n",
              "    .dataframe tbody tr th {\n",
              "        vertical-align: top;\n",
              "    }\n",
              "\n",
              "    .dataframe thead th {\n",
              "        text-align: right;\n",
              "    }\n",
              "</style>\n",
              "<table border=\"1\" class=\"dataframe\">\n",
              "  <thead>\n",
              "    <tr style=\"text-align: right;\">\n",
              "      <th></th>\n",
              "      <th>Date time</th>\n",
              "      <th>Path</th>\n",
              "      <th>Actual</th>\n",
              "      <th>Actual_trip_cum</th>\n",
              "      <th>MLP</th>\n",
              "      <th>MLP_trip_cum</th>\n",
              "      <th>MLP_Kalman</th>\n",
              "      <th>MLP_Kalman_trip_cum</th>\n",
              "      <th>LSTM_3H_64</th>\n",
              "    </tr>\n",
              "  </thead>\n",
              "  <tbody>\n",
              "    <tr>\n",
              "      <th>0</th>\n",
              "      <td>2019-04-23 16:49:00</td>\n",
              "      <td>Lufthansa-Basis (Haupteingang)|Obenhauptstraße</td>\n",
              "      <td>156.0</td>\n",
              "      <td>156</td>\n",
              "      <td>121.648451</td>\n",
              "      <td>121</td>\n",
              "      <td>121.648451</td>\n",
              "      <td>121.648451</td>\n",
              "      <td>178.261693</td>\n",
              "    </tr>\n",
              "    <tr>\n",
              "      <th>1</th>\n",
              "      <td>2019-04-23 16:51:00</td>\n",
              "      <td>Obenhauptstraße|Alsterkrugchaussee (Mitte)</td>\n",
              "      <td>66.0</td>\n",
              "      <td>222</td>\n",
              "      <td>121.315331</td>\n",
              "      <td>242</td>\n",
              "      <td>138.491105</td>\n",
              "      <td>260.139556</td>\n",
              "      <td>62.647099</td>\n",
              "    </tr>\n",
              "    <tr>\n",
              "      <th>2</th>\n",
              "      <td>2019-04-23 16:52:00</td>\n",
              "      <td>Alsterkrugchaussee (Mitte)|Moltrechtweg</td>\n",
              "      <td>72.0</td>\n",
              "      <td>294</td>\n",
              "      <td>122.158887</td>\n",
              "      <td>365</td>\n",
              "      <td>109.445701</td>\n",
              "      <td>369.585258</td>\n",
              "      <td>89.752454</td>\n",
              "    </tr>\n",
              "    <tr>\n",
              "      <th>3</th>\n",
              "      <td>2019-04-23 16:54:00</td>\n",
              "      <td>Moltrechtweg|Brabandstraße</td>\n",
              "      <td>42.0</td>\n",
              "      <td>336</td>\n",
              "      <td>120.377157</td>\n",
              "      <td>485</td>\n",
              "      <td>101.480843</td>\n",
              "      <td>471.066100</td>\n",
              "      <td>73.118218</td>\n",
              "    </tr>\n",
              "    <tr>\n",
              "      <th>4</th>\n",
              "      <td>2019-04-23 16:55:00</td>\n",
              "      <td>Brabandstraße|Hindenburgstraße</td>\n",
              "      <td>126.0</td>\n",
              "      <td>462</td>\n",
              "      <td>121.039073</td>\n",
              "      <td>606</td>\n",
              "      <td>94.025853</td>\n",
              "      <td>565.091953</td>\n",
              "      <td>100.192943</td>\n",
              "    </tr>\n",
              "    <tr>\n",
              "      <th>...</th>\n",
              "      <td>...</td>\n",
              "      <td>...</td>\n",
              "      <td>...</td>\n",
              "      <td>...</td>\n",
              "      <td>...</td>\n",
              "      <td>...</td>\n",
              "      <td>...</td>\n",
              "      <td>...</td>\n",
              "      <td>...</td>\n",
              "    </tr>\n",
              "    <tr>\n",
              "      <th>1417</th>\n",
              "      <td>2019-04-25 07:41:00</td>\n",
              "      <td>U Habichtstraße|Habichtstraße (Mitte)</td>\n",
              "      <td>54.0</td>\n",
              "      <td>1614</td>\n",
              "      <td>125.380412</td>\n",
              "      <td>1876</td>\n",
              "      <td>118.402453</td>\n",
              "      <td>1783.071842</td>\n",
              "      <td>94.599245</td>\n",
              "    </tr>\n",
              "    <tr>\n",
              "      <th>1418</th>\n",
              "      <td>2019-04-25 07:43:00</td>\n",
              "      <td>Habichtstraße (Mitte)|U Alter Teichweg</td>\n",
              "      <td>252.0</td>\n",
              "      <td>1866</td>\n",
              "      <td>125.380394</td>\n",
              "      <td>2002</td>\n",
              "      <td>114.813404</td>\n",
              "      <td>1897.885246</td>\n",
              "      <td>227.284139</td>\n",
              "    </tr>\n",
              "    <tr>\n",
              "      <th>1419</th>\n",
              "      <td>2019-04-25 07:46:00</td>\n",
              "      <td>U Alter Teichweg|U Straßburger Straße</td>\n",
              "      <td>180.0</td>\n",
              "      <td>2046</td>\n",
              "      <td>124.038584</td>\n",
              "      <td>2126</td>\n",
              "      <td>122.162981</td>\n",
              "      <td>2020.048227</td>\n",
              "      <td>169.362381</td>\n",
              "    </tr>\n",
              "    <tr>\n",
              "      <th>1420</th>\n",
              "      <td>2019-04-25 07:48:00</td>\n",
              "      <td>U Straßburger Straße|Wandsbeker Allee</td>\n",
              "      <td>78.0</td>\n",
              "      <td>2124</td>\n",
              "      <td>125.380412</td>\n",
              "      <td>2251</td>\n",
              "      <td>126.822178</td>\n",
              "      <td>2146.870405</td>\n",
              "      <td>71.874325</td>\n",
              "    </tr>\n",
              "    <tr>\n",
              "      <th>1421</th>\n",
              "      <td>2019-04-25 07:49:00</td>\n",
              "      <td>Wandsbeker Allee|U Wandsbek Markt</td>\n",
              "      <td>186.0</td>\n",
              "      <td>2310</td>\n",
              "      <td>125.380412</td>\n",
              "      <td>2376</td>\n",
              "      <td>124.176707</td>\n",
              "      <td>2271.047112</td>\n",
              "      <td>158.606390</td>\n",
              "    </tr>\n",
              "  </tbody>\n",
              "</table>\n",
              "<p>1422 rows × 9 columns</p>\n",
              "</div>"
            ],
            "text/plain": [
              "                Date time  ...  LSTM_3H_64\n",
              "0     2019-04-23 16:49:00  ...  178.261693\n",
              "1     2019-04-23 16:51:00  ...   62.647099\n",
              "2     2019-04-23 16:52:00  ...   89.752454\n",
              "3     2019-04-23 16:54:00  ...   73.118218\n",
              "4     2019-04-23 16:55:00  ...  100.192943\n",
              "...                   ...  ...         ...\n",
              "1417  2019-04-25 07:41:00  ...   94.599245\n",
              "1418  2019-04-25 07:43:00  ...  227.284139\n",
              "1419  2019-04-25 07:46:00  ...  169.362381\n",
              "1420  2019-04-25 07:48:00  ...   71.874325\n",
              "1421  2019-04-25 07:49:00  ...  158.606390\n",
              "\n",
              "[1422 rows x 9 columns]"
            ]
          },
          "metadata": {
            "tags": []
          },
          "execution_count": 222
        }
      ]
    },
    {
      "cell_type": "code",
      "metadata": {
        "id": "hlL6EP2qNZr1",
        "colab": {
          "base_uri": "https://localhost:8080/"
        },
        "outputId": "a17bac58-c52c-4999-eff4-d943bb2f655c"
      },
      "source": [
        "if route == 202:\n",
        "  route_unique = np.array(['Lufthansa-Basis (Haupteingang)|Obenhauptstraße',\n",
        "        'Obenhauptstraße|Alsterkrugchaussee (Mitte)',\n",
        "        'Alsterkrugchaussee (Mitte)|Moltrechtweg',\n",
        "        'Moltrechtweg|Brabandstraße', 'Brabandstraße|Hindenburgstraße',\n",
        "        'Hindenburgstraße|U Alsterdorf', 'U Alsterdorf|Sydneystraße',\n",
        "        'Sydneystraße|Manilabrücke', 'Manilabrücke|Kapstadtring',\n",
        "        'Kapstadtring|S Rübenkamp', 'S Rübenkamp|AK Barmbek', 'AK Barmbek|Hartzloh',\n",
        "        'Hartzloh|Habichtsplatz', 'Habichtsplatz|U Habichtstraße',\n",
        "        'U Habichtstraße|Habichtstraße (Mitte)',\n",
        "        'Habichtstraße (Mitte)|U Alter Teichweg',\n",
        "        'U Alter Teichweg|U Straßburger Straße',\n",
        "        'U Straßburger Straße|Wandsbeker Allee',\n",
        "        'Wandsbeker Allee|U Wandsbek Markt'], dtype= object)\n",
        "else:\n",
        "  route_unique = (comb_result.Path.unique())\n",
        "route_unique"
      ],
      "execution_count": null,
      "outputs": [
        {
          "output_type": "execute_result",
          "data": {
            "text/plain": [
              "array(['Lufthansa-Basis (Haupteingang)|Obenhauptstraße',\n",
              "       'Obenhauptstraße|Alsterkrugchaussee (Mitte)',\n",
              "       'Alsterkrugchaussee (Mitte)|Moltrechtweg',\n",
              "       'Moltrechtweg|Brabandstraße', 'Brabandstraße|Hindenburgstraße',\n",
              "       'Hindenburgstraße|U Alsterdorf', 'U Alsterdorf|Sydneystraße',\n",
              "       'Sydneystraße|Manilabrücke', 'Manilabrücke|Kapstadtring',\n",
              "       'Kapstadtring|S Rübenkamp', 'S Rübenkamp|AK Barmbek',\n",
              "       'AK Barmbek|Hartzloh', 'Hartzloh|Habichtsplatz',\n",
              "       'Habichtsplatz|U Habichtstraße',\n",
              "       'U Habichtstraße|Habichtstraße (Mitte)',\n",
              "       'Habichtstraße (Mitte)|U Alter Teichweg',\n",
              "       'U Alter Teichweg|U Straßburger Straße',\n",
              "       'U Straßburger Straße|Wandsbeker Allee',\n",
              "       'Wandsbeker Allee|U Wandsbek Markt'], dtype=object)"
            ]
          },
          "metadata": {
            "tags": []
          },
          "execution_count": 223
        }
      ]
    },
    {
      "cell_type": "code",
      "metadata": {
        "id": "TVJ84ivTUeqY",
        "colab": {
          "base_uri": "https://localhost:8080/"
        },
        "outputId": "6543cc02-e015-4d64-b8d0-fb41c1f423a4"
      },
      "source": [
        "comb_result['Path']"
      ],
      "execution_count": null,
      "outputs": [
        {
          "output_type": "execute_result",
          "data": {
            "text/plain": [
              "0       Lufthansa-Basis (Haupteingang)|Obenhauptstraße\n",
              "1           Obenhauptstraße|Alsterkrugchaussee (Mitte)\n",
              "2              Alsterkrugchaussee (Mitte)|Moltrechtweg\n",
              "3                           Moltrechtweg|Brabandstraße\n",
              "4                       Brabandstraße|Hindenburgstraße\n",
              "                             ...                      \n",
              "1417             U Habichtstraße|Habichtstraße (Mitte)\n",
              "1418            Habichtstraße (Mitte)|U Alter Teichweg\n",
              "1419             U Alter Teichweg|U Straßburger Straße\n",
              "1420             U Straßburger Straße|Wandsbeker Allee\n",
              "1421                 Wandsbeker Allee|U Wandsbek Markt\n",
              "Name: Path, Length: 1422, dtype: object"
            ]
          },
          "metadata": {
            "tags": []
          },
          "execution_count": 224
        }
      ]
    },
    {
      "cell_type": "code",
      "metadata": {
        "id": "5T_diThVNgxZ",
        "colab": {
          "base_uri": "https://localhost:8080/",
          "height": 1000
        },
        "outputId": "c7841f8a-fe8e-48ee-c71e-fee8029e04f6"
      },
      "source": [
        "#add a new column for trip accumulate\n",
        "comb_result['LSTM_'+str(n_layers)+'H_'+bs_name+'_trip_cum'] = 0\n",
        "a = 0\n",
        "for i in range(len(comb_result)):\n",
        "  if comb_result['Path'][i] == route_unique[0]: #the first path\n",
        "    a = comb_result['LSTM_'+str(n_layers)+'H_'+bs_name][i]\n",
        "    comb_result['LSTM_'+str(n_layers)+'H_'+bs_name+'_trip_cum'][i] = a\n",
        "  else:\n",
        "    a += comb_result['LSTM_'+str(n_layers)+'H_'+bs_name][i] \n",
        "    comb_result['LSTM_'+str(n_layers)+'H_'+bs_name+'_trip_cum'][i] = a\n",
        "comb_result[:50]"
      ],
      "execution_count": null,
      "outputs": [
        {
          "output_type": "stream",
          "text": [
            "/usr/local/lib/python3.6/dist-packages/ipykernel_launcher.py:6: SettingWithCopyWarning: \n",
            "A value is trying to be set on a copy of a slice from a DataFrame\n",
            "\n",
            "See the caveats in the documentation: https://pandas.pydata.org/pandas-docs/stable/user_guide/indexing.html#returning-a-view-versus-a-copy\n",
            "  \n",
            "/usr/local/lib/python3.6/dist-packages/ipykernel_launcher.py:9: SettingWithCopyWarning: \n",
            "A value is trying to be set on a copy of a slice from a DataFrame\n",
            "\n",
            "See the caveats in the documentation: https://pandas.pydata.org/pandas-docs/stable/user_guide/indexing.html#returning-a-view-versus-a-copy\n",
            "  if __name__ == '__main__':\n"
          ],
          "name": "stderr"
        },
        {
          "output_type": "execute_result",
          "data": {
            "text/html": [
              "<div>\n",
              "<style scoped>\n",
              "    .dataframe tbody tr th:only-of-type {\n",
              "        vertical-align: middle;\n",
              "    }\n",
              "\n",
              "    .dataframe tbody tr th {\n",
              "        vertical-align: top;\n",
              "    }\n",
              "\n",
              "    .dataframe thead th {\n",
              "        text-align: right;\n",
              "    }\n",
              "</style>\n",
              "<table border=\"1\" class=\"dataframe\">\n",
              "  <thead>\n",
              "    <tr style=\"text-align: right;\">\n",
              "      <th></th>\n",
              "      <th>Date time</th>\n",
              "      <th>Path</th>\n",
              "      <th>Actual</th>\n",
              "      <th>Actual_trip_cum</th>\n",
              "      <th>MLP</th>\n",
              "      <th>MLP_trip_cum</th>\n",
              "      <th>MLP_Kalman</th>\n",
              "      <th>MLP_Kalman_trip_cum</th>\n",
              "      <th>LSTM_3H_64</th>\n",
              "      <th>LSTM_3H_64_trip_cum</th>\n",
              "    </tr>\n",
              "  </thead>\n",
              "  <tbody>\n",
              "    <tr>\n",
              "      <th>0</th>\n",
              "      <td>2019-04-23 16:49:00</td>\n",
              "      <td>Lufthansa-Basis (Haupteingang)|Obenhauptstraße</td>\n",
              "      <td>156.0</td>\n",
              "      <td>156</td>\n",
              "      <td>121.648451</td>\n",
              "      <td>121</td>\n",
              "      <td>121.648451</td>\n",
              "      <td>121.648451</td>\n",
              "      <td>178.261693</td>\n",
              "      <td>178</td>\n",
              "    </tr>\n",
              "    <tr>\n",
              "      <th>1</th>\n",
              "      <td>2019-04-23 16:51:00</td>\n",
              "      <td>Obenhauptstraße|Alsterkrugchaussee (Mitte)</td>\n",
              "      <td>66.0</td>\n",
              "      <td>222</td>\n",
              "      <td>121.315331</td>\n",
              "      <td>242</td>\n",
              "      <td>138.491105</td>\n",
              "      <td>260.139556</td>\n",
              "      <td>62.647099</td>\n",
              "      <td>240</td>\n",
              "    </tr>\n",
              "    <tr>\n",
              "      <th>2</th>\n",
              "      <td>2019-04-23 16:52:00</td>\n",
              "      <td>Alsterkrugchaussee (Mitte)|Moltrechtweg</td>\n",
              "      <td>72.0</td>\n",
              "      <td>294</td>\n",
              "      <td>122.158887</td>\n",
              "      <td>365</td>\n",
              "      <td>109.445701</td>\n",
              "      <td>369.585258</td>\n",
              "      <td>89.752454</td>\n",
              "      <td>330</td>\n",
              "    </tr>\n",
              "    <tr>\n",
              "      <th>3</th>\n",
              "      <td>2019-04-23 16:54:00</td>\n",
              "      <td>Moltrechtweg|Brabandstraße</td>\n",
              "      <td>42.0</td>\n",
              "      <td>336</td>\n",
              "      <td>120.377157</td>\n",
              "      <td>485</td>\n",
              "      <td>101.480843</td>\n",
              "      <td>471.066100</td>\n",
              "      <td>73.118218</td>\n",
              "      <td>403</td>\n",
              "    </tr>\n",
              "    <tr>\n",
              "      <th>4</th>\n",
              "      <td>2019-04-23 16:55:00</td>\n",
              "      <td>Brabandstraße|Hindenburgstraße</td>\n",
              "      <td>126.0</td>\n",
              "      <td>462</td>\n",
              "      <td>121.039073</td>\n",
              "      <td>606</td>\n",
              "      <td>94.025853</td>\n",
              "      <td>565.091953</td>\n",
              "      <td>100.192943</td>\n",
              "      <td>503</td>\n",
              "    </tr>\n",
              "    <tr>\n",
              "      <th>5</th>\n",
              "      <td>2019-04-23 16:57:00</td>\n",
              "      <td>Hindenburgstraße|U Alsterdorf</td>\n",
              "      <td>60.0</td>\n",
              "      <td>522</td>\n",
              "      <td>120.530470</td>\n",
              "      <td>727</td>\n",
              "      <td>103.348478</td>\n",
              "      <td>668.440431</td>\n",
              "      <td>81.446439</td>\n",
              "      <td>585</td>\n",
              "    </tr>\n",
              "    <tr>\n",
              "      <th>6</th>\n",
              "      <td>2019-04-23 16:59:00</td>\n",
              "      <td>U Alsterdorf|Sydneystraße</td>\n",
              "      <td>126.0</td>\n",
              "      <td>648</td>\n",
              "      <td>119.346741</td>\n",
              "      <td>846</td>\n",
              "      <td>98.426679</td>\n",
              "      <td>766.867110</td>\n",
              "      <td>121.422229</td>\n",
              "      <td>706</td>\n",
              "    </tr>\n",
              "    <tr>\n",
              "      <th>7</th>\n",
              "      <td>2019-04-23 17:01:00</td>\n",
              "      <td>Sydneystraße|Manilabrücke</td>\n",
              "      <td>72.0</td>\n",
              "      <td>720</td>\n",
              "      <td>121.856107</td>\n",
              "      <td>968</td>\n",
              "      <td>106.997719</td>\n",
              "      <td>873.864829</td>\n",
              "      <td>53.454142</td>\n",
              "      <td>760</td>\n",
              "    </tr>\n",
              "    <tr>\n",
              "      <th>8</th>\n",
              "      <td>2019-04-23 17:02:00</td>\n",
              "      <td>Manilabrücke|Kapstadtring</td>\n",
              "      <td>72.0</td>\n",
              "      <td>792</td>\n",
              "      <td>122.411125</td>\n",
              "      <td>1090</td>\n",
              "      <td>105.315033</td>\n",
              "      <td>979.179861</td>\n",
              "      <td>94.758040</td>\n",
              "      <td>855</td>\n",
              "    </tr>\n",
              "    <tr>\n",
              "      <th>9</th>\n",
              "      <td>2019-04-23 17:03:00</td>\n",
              "      <td>Kapstadtring|S Rübenkamp</td>\n",
              "      <td>108.0</td>\n",
              "      <td>900</td>\n",
              "      <td>121.787361</td>\n",
              "      <td>1212</td>\n",
              "      <td>103.069375</td>\n",
              "      <td>1082.249237</td>\n",
              "      <td>112.105618</td>\n",
              "      <td>967</td>\n",
              "    </tr>\n",
              "    <tr>\n",
              "      <th>10</th>\n",
              "      <td>2019-04-23 17:05:00</td>\n",
              "      <td>S Rübenkamp|AK Barmbek</td>\n",
              "      <td>180.0</td>\n",
              "      <td>1080</td>\n",
              "      <td>121.315520</td>\n",
              "      <td>1333</td>\n",
              "      <td>104.747408</td>\n",
              "      <td>1186.996644</td>\n",
              "      <td>169.873648</td>\n",
              "      <td>1137</td>\n",
              "    </tr>\n",
              "    <tr>\n",
              "      <th>11</th>\n",
              "      <td>2019-04-23 17:07:00</td>\n",
              "      <td>AK Barmbek|Hartzloh</td>\n",
              "      <td>66.0</td>\n",
              "      <td>1146</td>\n",
              "      <td>123.708146</td>\n",
              "      <td>1457</td>\n",
              "      <td>114.791759</td>\n",
              "      <td>1301.788403</td>\n",
              "      <td>76.570562</td>\n",
              "      <td>1213</td>\n",
              "    </tr>\n",
              "    <tr>\n",
              "      <th>12</th>\n",
              "      <td>2019-04-23 17:08:00</td>\n",
              "      <td>Hartzloh|Habichtsplatz</td>\n",
              "      <td>162.0</td>\n",
              "      <td>1308</td>\n",
              "      <td>121.253691</td>\n",
              "      <td>1578</td>\n",
              "      <td>109.269968</td>\n",
              "      <td>1411.058371</td>\n",
              "      <td>147.587568</td>\n",
              "      <td>1361</td>\n",
              "    </tr>\n",
              "    <tr>\n",
              "      <th>13</th>\n",
              "      <td>2019-04-23 17:11:00</td>\n",
              "      <td>Habichtsplatz|U Habichtstraße</td>\n",
              "      <td>294.0</td>\n",
              "      <td>1602</td>\n",
              "      <td>120.353309</td>\n",
              "      <td>1699</td>\n",
              "      <td>112.991996</td>\n",
              "      <td>1524.050367</td>\n",
              "      <td>183.978597</td>\n",
              "      <td>1545</td>\n",
              "    </tr>\n",
              "    <tr>\n",
              "      <th>14</th>\n",
              "      <td>2019-04-23 17:12:00</td>\n",
              "      <td>U Habichtstraße|Habichtstraße (Mitte)</td>\n",
              "      <td>294.0</td>\n",
              "      <td>1896</td>\n",
              "      <td>124.371055</td>\n",
              "      <td>1823</td>\n",
              "      <td>129.567697</td>\n",
              "      <td>1653.618064</td>\n",
              "      <td>211.250088</td>\n",
              "      <td>1756</td>\n",
              "    </tr>\n",
              "    <tr>\n",
              "      <th>15</th>\n",
              "      <td>2019-04-23 17:14:00</td>\n",
              "      <td>Habichtstraße (Mitte)|U Alter Teichweg</td>\n",
              "      <td>324.0</td>\n",
              "      <td>2220</td>\n",
              "      <td>124.011611</td>\n",
              "      <td>1947</td>\n",
              "      <td>139.160482</td>\n",
              "      <td>1792.778546</td>\n",
              "      <td>337.523284</td>\n",
              "      <td>2093</td>\n",
              "    </tr>\n",
              "    <tr>\n",
              "      <th>16</th>\n",
              "      <td>2019-04-23 17:17:00</td>\n",
              "      <td>U Alter Teichweg|U Straßburger Straße</td>\n",
              "      <td>222.0</td>\n",
              "      <td>2442</td>\n",
              "      <td>123.563736</td>\n",
              "      <td>2071</td>\n",
              "      <td>148.694410</td>\n",
              "      <td>1941.472956</td>\n",
              "      <td>171.370405</td>\n",
              "      <td>2265</td>\n",
              "    </tr>\n",
              "    <tr>\n",
              "      <th>17</th>\n",
              "      <td>2019-04-23 17:19:00</td>\n",
              "      <td>U Straßburger Straße|Wandsbeker Allee</td>\n",
              "      <td>72.0</td>\n",
              "      <td>2514</td>\n",
              "      <td>120.552630</td>\n",
              "      <td>2191</td>\n",
              "      <td>148.359688</td>\n",
              "      <td>2089.832644</td>\n",
              "      <td>83.905444</td>\n",
              "      <td>2349</td>\n",
              "    </tr>\n",
              "    <tr>\n",
              "      <th>18</th>\n",
              "      <td>2019-04-23 17:20:00</td>\n",
              "      <td>Wandsbeker Allee|U Wandsbek Markt</td>\n",
              "      <td>168.0</td>\n",
              "      <td>2682</td>\n",
              "      <td>123.236377</td>\n",
              "      <td>2314</td>\n",
              "      <td>145.560975</td>\n",
              "      <td>2235.393618</td>\n",
              "      <td>160.201594</td>\n",
              "      <td>2509</td>\n",
              "    </tr>\n",
              "    <tr>\n",
              "      <th>19</th>\n",
              "      <td>2019-04-23 07:10:00</td>\n",
              "      <td>Lufthansa-Basis (Haupteingang)|Obenhauptstraße</td>\n",
              "      <td>174.0</td>\n",
              "      <td>174</td>\n",
              "      <td>124.276067</td>\n",
              "      <td>124</td>\n",
              "      <td>124.276067</td>\n",
              "      <td>124.276067</td>\n",
              "      <td>178.261693</td>\n",
              "      <td>178</td>\n",
              "    </tr>\n",
              "    <tr>\n",
              "      <th>20</th>\n",
              "      <td>2019-04-23 07:12:00</td>\n",
              "      <td>Obenhauptstraße|Alsterkrugchaussee (Mitte)</td>\n",
              "      <td>48.0</td>\n",
              "      <td>222</td>\n",
              "      <td>123.942955</td>\n",
              "      <td>248</td>\n",
              "      <td>148.804922</td>\n",
              "      <td>273.080989</td>\n",
              "      <td>59.364828</td>\n",
              "      <td>237</td>\n",
              "    </tr>\n",
              "    <tr>\n",
              "      <th>21</th>\n",
              "      <td>2019-04-23 07:13:00</td>\n",
              "      <td>Alsterkrugchaussee (Mitte)|Moltrechtweg</td>\n",
              "      <td>60.0</td>\n",
              "      <td>282</td>\n",
              "      <td>124.786484</td>\n",
              "      <td>373</td>\n",
              "      <td>107.759488</td>\n",
              "      <td>380.840477</td>\n",
              "      <td>87.526425</td>\n",
              "      <td>325</td>\n",
              "    </tr>\n",
              "    <tr>\n",
              "      <th>22</th>\n",
              "      <td>2019-04-23 07:15:00</td>\n",
              "      <td>Moltrechtweg|Brabandstraße</td>\n",
              "      <td>78.0</td>\n",
              "      <td>360</td>\n",
              "      <td>123.004773</td>\n",
              "      <td>496</td>\n",
              "      <td>98.294653</td>\n",
              "      <td>479.135130</td>\n",
              "      <td>70.076247</td>\n",
              "      <td>395</td>\n",
              "    </tr>\n",
              "    <tr>\n",
              "      <th>23</th>\n",
              "      <td>2019-04-23 07:16:00</td>\n",
              "      <td>Brabandstraße|Hindenburgstraße</td>\n",
              "      <td>132.0</td>\n",
              "      <td>492</td>\n",
              "      <td>123.666688</td>\n",
              "      <td>619</td>\n",
              "      <td>99.839662</td>\n",
              "      <td>578.974793</td>\n",
              "      <td>99.249550</td>\n",
              "      <td>494</td>\n",
              "    </tr>\n",
              "    <tr>\n",
              "      <th>24</th>\n",
              "      <td>2019-04-23 07:18:00</td>\n",
              "      <td>Hindenburgstraße|U Alsterdorf</td>\n",
              "      <td>78.0</td>\n",
              "      <td>570</td>\n",
              "      <td>123.158095</td>\n",
              "      <td>742</td>\n",
              "      <td>108.662296</td>\n",
              "      <td>687.637089</td>\n",
              "      <td>77.428864</td>\n",
              "      <td>571</td>\n",
              "    </tr>\n",
              "    <tr>\n",
              "      <th>25</th>\n",
              "      <td>2019-04-23 07:19:00</td>\n",
              "      <td>U Alsterdorf|Sydneystraße</td>\n",
              "      <td>102.0</td>\n",
              "      <td>672</td>\n",
              "      <td>122.702851</td>\n",
              "      <td>865</td>\n",
              "      <td>105.897553</td>\n",
              "      <td>793.534642</td>\n",
              "      <td>120.259061</td>\n",
              "      <td>692</td>\n",
              "    </tr>\n",
              "    <tr>\n",
              "      <th>26</th>\n",
              "      <td>2019-04-23 07:21:00</td>\n",
              "      <td>Sydneystraße|Manilabrücke</td>\n",
              "      <td>30.0</td>\n",
              "      <td>702</td>\n",
              "      <td>124.994357</td>\n",
              "      <td>990</td>\n",
              "      <td>109.802527</td>\n",
              "      <td>903.337169</td>\n",
              "      <td>47.981692</td>\n",
              "      <td>740</td>\n",
              "    </tr>\n",
              "    <tr>\n",
              "      <th>27</th>\n",
              "      <td>2019-04-23 07:22:00</td>\n",
              "      <td>Manilabrücke|Kapstadtring</td>\n",
              "      <td>36.0</td>\n",
              "      <td>738</td>\n",
              "      <td>125.038731</td>\n",
              "      <td>1115</td>\n",
              "      <td>102.667935</td>\n",
              "      <td>1006.005104</td>\n",
              "      <td>89.594617</td>\n",
              "      <td>829</td>\n",
              "    </tr>\n",
              "    <tr>\n",
              "      <th>28</th>\n",
              "      <td>2019-04-23 07:23:00</td>\n",
              "      <td>Kapstadtring|S Rübenkamp</td>\n",
              "      <td>150.0</td>\n",
              "      <td>888</td>\n",
              "      <td>124.414995</td>\n",
              "      <td>1239</td>\n",
              "      <td>97.614485</td>\n",
              "      <td>1103.619588</td>\n",
              "      <td>101.137898</td>\n",
              "      <td>930</td>\n",
              "    </tr>\n",
              "    <tr>\n",
              "      <th>29</th>\n",
              "      <td>2019-04-23 07:25:00</td>\n",
              "      <td>S Rübenkamp|AK Barmbek</td>\n",
              "      <td>132.0</td>\n",
              "      <td>1020</td>\n",
              "      <td>123.943145</td>\n",
              "      <td>1363</td>\n",
              "      <td>104.341364</td>\n",
              "      <td>1207.960952</td>\n",
              "      <td>164.015910</td>\n",
              "      <td>1094</td>\n",
              "    </tr>\n",
              "    <tr>\n",
              "      <th>30</th>\n",
              "      <td>2019-04-23 07:27:00</td>\n",
              "      <td>AK Barmbek|Hartzloh</td>\n",
              "      <td>60.0</td>\n",
              "      <td>1080</td>\n",
              "      <td>125.380449</td>\n",
              "      <td>1489</td>\n",
              "      <td>109.717036</td>\n",
              "      <td>1317.677988</td>\n",
              "      <td>73.733881</td>\n",
              "      <td>1168</td>\n",
              "    </tr>\n",
              "    <tr>\n",
              "      <th>31</th>\n",
              "      <td>2019-04-23 07:28:00</td>\n",
              "      <td>Hartzloh|Habichtsplatz</td>\n",
              "      <td>132.0</td>\n",
              "      <td>1212</td>\n",
              "      <td>123.881298</td>\n",
              "      <td>1613</td>\n",
              "      <td>105.598376</td>\n",
              "      <td>1423.276364</td>\n",
              "      <td>136.324681</td>\n",
              "      <td>1304</td>\n",
              "    </tr>\n",
              "    <tr>\n",
              "      <th>32</th>\n",
              "      <td>2019-04-23 07:30:00</td>\n",
              "      <td>Habichtsplatz|U Habichtstraße</td>\n",
              "      <td>54.0</td>\n",
              "      <td>1266</td>\n",
              "      <td>123.168913</td>\n",
              "      <td>1736</td>\n",
              "      <td>108.077744</td>\n",
              "      <td>1531.354108</td>\n",
              "      <td>96.549540</td>\n",
              "      <td>1401</td>\n",
              "    </tr>\n",
              "    <tr>\n",
              "      <th>33</th>\n",
              "      <td>2019-04-23 07:31:00</td>\n",
              "      <td>U Habichtstraße|Habichtstraße (Mitte)</td>\n",
              "      <td>66.0</td>\n",
              "      <td>1332</td>\n",
              "      <td>125.380421</td>\n",
              "      <td>1861</td>\n",
              "      <td>107.690148</td>\n",
              "      <td>1639.044256</td>\n",
              "      <td>97.415870</td>\n",
              "      <td>1498</td>\n",
              "    </tr>\n",
              "    <tr>\n",
              "      <th>34</th>\n",
              "      <td>2019-04-23 07:33:00</td>\n",
              "      <td>Habichtstraße (Mitte)|U Alter Teichweg</td>\n",
              "      <td>288.0</td>\n",
              "      <td>1620</td>\n",
              "      <td>125.380403</td>\n",
              "      <td>1987</td>\n",
              "      <td>106.190137</td>\n",
              "      <td>1745.234393</td>\n",
              "      <td>220.342843</td>\n",
              "      <td>1719</td>\n",
              "    </tr>\n",
              "    <tr>\n",
              "      <th>35</th>\n",
              "      <td>2019-04-23 07:36:00</td>\n",
              "      <td>U Alter Teichweg|U Straßburger Straße</td>\n",
              "      <td>318.0</td>\n",
              "      <td>1938</td>\n",
              "      <td>125.380449</td>\n",
              "      <td>2112</td>\n",
              "      <td>118.013720</td>\n",
              "      <td>1863.248112</td>\n",
              "      <td>166.442479</td>\n",
              "      <td>1885</td>\n",
              "    </tr>\n",
              "    <tr>\n",
              "      <th>36</th>\n",
              "      <td>2019-04-23 07:38:00</td>\n",
              "      <td>U Straßburger Straße|Wandsbeker Allee</td>\n",
              "      <td>48.0</td>\n",
              "      <td>1986</td>\n",
              "      <td>123.180246</td>\n",
              "      <td>2235</td>\n",
              "      <td>127.333128</td>\n",
              "      <td>1990.581241</td>\n",
              "      <td>72.333019</td>\n",
              "      <td>1958</td>\n",
              "    </tr>\n",
              "    <tr>\n",
              "      <th>37</th>\n",
              "      <td>2019-04-23 07:39:00</td>\n",
              "      <td>Wandsbeker Allee|U Wandsbek Markt</td>\n",
              "      <td>246.0</td>\n",
              "      <td>2232</td>\n",
              "      <td>125.380412</td>\n",
              "      <td>2361</td>\n",
              "      <td>125.139294</td>\n",
              "      <td>2115.720535</td>\n",
              "      <td>158.119974</td>\n",
              "      <td>2116</td>\n",
              "    </tr>\n",
              "    <tr>\n",
              "      <th>38</th>\n",
              "      <td>2019-04-23 08:40:00</td>\n",
              "      <td>Lufthansa-Basis (Haupteingang)|Obenhauptstraße</td>\n",
              "      <td>138.0</td>\n",
              "      <td>138</td>\n",
              "      <td>124.276067</td>\n",
              "      <td>124</td>\n",
              "      <td>124.276067</td>\n",
              "      <td>124.276067</td>\n",
              "      <td>171.891822</td>\n",
              "      <td>171</td>\n",
              "    </tr>\n",
              "    <tr>\n",
              "      <th>39</th>\n",
              "      <td>2019-04-23 08:42:00</td>\n",
              "      <td>Obenhauptstraße|Alsterkrugchaussee (Mitte)</td>\n",
              "      <td>36.0</td>\n",
              "      <td>174</td>\n",
              "      <td>123.942955</td>\n",
              "      <td>248</td>\n",
              "      <td>130.804922</td>\n",
              "      <td>255.080989</td>\n",
              "      <td>51.573948</td>\n",
              "      <td>223</td>\n",
              "    </tr>\n",
              "    <tr>\n",
              "      <th>40</th>\n",
              "      <td>2019-04-23 08:43:00</td>\n",
              "      <td>Alsterkrugchaussee (Mitte)|Moltrechtweg</td>\n",
              "      <td>48.0</td>\n",
              "      <td>222</td>\n",
              "      <td>124.786484</td>\n",
              "      <td>373</td>\n",
              "      <td>97.759488</td>\n",
              "      <td>352.840477</td>\n",
              "      <td>89.311948</td>\n",
              "      <td>312</td>\n",
              "    </tr>\n",
              "    <tr>\n",
              "      <th>41</th>\n",
              "      <td>2019-04-23 08:45:00</td>\n",
              "      <td>Moltrechtweg|Brabandstraße</td>\n",
              "      <td>90.0</td>\n",
              "      <td>312</td>\n",
              "      <td>123.004773</td>\n",
              "      <td>496</td>\n",
              "      <td>90.294653</td>\n",
              "      <td>443.135130</td>\n",
              "      <td>69.795885</td>\n",
              "      <td>382</td>\n",
              "    </tr>\n",
              "    <tr>\n",
              "      <th>42</th>\n",
              "      <td>2019-04-23 08:46:00</td>\n",
              "      <td>Brabandstraße|Hindenburgstraße</td>\n",
              "      <td>156.0</td>\n",
              "      <td>468</td>\n",
              "      <td>123.666688</td>\n",
              "      <td>619</td>\n",
              "      <td>97.439662</td>\n",
              "      <td>540.574793</td>\n",
              "      <td>100.261256</td>\n",
              "      <td>482</td>\n",
              "    </tr>\n",
              "    <tr>\n",
              "      <th>43</th>\n",
              "      <td>2019-04-23 08:48:00</td>\n",
              "      <td>Hindenburgstraße|U Alsterdorf</td>\n",
              "      <td>54.0</td>\n",
              "      <td>522</td>\n",
              "      <td>123.158095</td>\n",
              "      <td>742</td>\n",
              "      <td>111.062296</td>\n",
              "      <td>651.637089</td>\n",
              "      <td>76.317389</td>\n",
              "      <td>559</td>\n",
              "    </tr>\n",
              "    <tr>\n",
              "      <th>44</th>\n",
              "      <td>2019-04-23 08:49:00</td>\n",
              "      <td>U Alsterdorf|Sydneystraße</td>\n",
              "      <td>114.0</td>\n",
              "      <td>636</td>\n",
              "      <td>122.702851</td>\n",
              "      <td>865</td>\n",
              "      <td>104.183267</td>\n",
              "      <td>755.820356</td>\n",
              "      <td>119.525338</td>\n",
              "      <td>678</td>\n",
              "    </tr>\n",
              "    <tr>\n",
              "      <th>45</th>\n",
              "      <td>2019-04-23 08:51:00</td>\n",
              "      <td>Sydneystraße|Manilabrücke</td>\n",
              "      <td>24.0</td>\n",
              "      <td>660</td>\n",
              "      <td>124.994357</td>\n",
              "      <td>990</td>\n",
              "      <td>110.016813</td>\n",
              "      <td>865.837169</td>\n",
              "      <td>47.032077</td>\n",
              "      <td>725</td>\n",
              "    </tr>\n",
              "    <tr>\n",
              "      <th>46</th>\n",
              "      <td>2019-04-23 08:52:00</td>\n",
              "      <td>Manilabrücke|Kapstadtring</td>\n",
              "      <td>54.0</td>\n",
              "      <td>714</td>\n",
              "      <td>125.038731</td>\n",
              "      <td>1115</td>\n",
              "      <td>102.167935</td>\n",
              "      <td>968.005104</td>\n",
              "      <td>89.922618</td>\n",
              "      <td>815</td>\n",
              "    </tr>\n",
              "    <tr>\n",
              "      <th>47</th>\n",
              "      <td>2019-04-23 08:53:00</td>\n",
              "      <td>Kapstadtring|S Rübenkamp</td>\n",
              "      <td>72.0</td>\n",
              "      <td>786</td>\n",
              "      <td>124.414995</td>\n",
              "      <td>1239</td>\n",
              "      <td>99.014485</td>\n",
              "      <td>1067.019588</td>\n",
              "      <td>100.008494</td>\n",
              "      <td>915</td>\n",
              "    </tr>\n",
              "    <tr>\n",
              "      <th>48</th>\n",
              "      <td>2019-04-23 08:55:00</td>\n",
              "      <td>S Rübenkamp|AK Barmbek</td>\n",
              "      <td>186.0</td>\n",
              "      <td>972</td>\n",
              "      <td>123.943145</td>\n",
              "      <td>1363</td>\n",
              "      <td>98.395910</td>\n",
              "      <td>1165.415498</td>\n",
              "      <td>162.710265</td>\n",
              "      <td>1078</td>\n",
              "    </tr>\n",
              "    <tr>\n",
              "      <th>49</th>\n",
              "      <td>2019-04-23 08:58:00</td>\n",
              "      <td>AK Barmbek|Hartzloh</td>\n",
              "      <td>36.0</td>\n",
              "      <td>1008</td>\n",
              "      <td>125.380449</td>\n",
              "      <td>1489</td>\n",
              "      <td>109.262490</td>\n",
              "      <td>1274.677988</td>\n",
              "      <td>73.229514</td>\n",
              "      <td>1151</td>\n",
              "    </tr>\n",
              "  </tbody>\n",
              "</table>\n",
              "</div>"
            ],
            "text/plain": [
              "              Date time  ... LSTM_3H_64_trip_cum\n",
              "0   2019-04-23 16:49:00  ...                 178\n",
              "1   2019-04-23 16:51:00  ...                 240\n",
              "2   2019-04-23 16:52:00  ...                 330\n",
              "3   2019-04-23 16:54:00  ...                 403\n",
              "4   2019-04-23 16:55:00  ...                 503\n",
              "5   2019-04-23 16:57:00  ...                 585\n",
              "6   2019-04-23 16:59:00  ...                 706\n",
              "7   2019-04-23 17:01:00  ...                 760\n",
              "8   2019-04-23 17:02:00  ...                 855\n",
              "9   2019-04-23 17:03:00  ...                 967\n",
              "10  2019-04-23 17:05:00  ...                1137\n",
              "11  2019-04-23 17:07:00  ...                1213\n",
              "12  2019-04-23 17:08:00  ...                1361\n",
              "13  2019-04-23 17:11:00  ...                1545\n",
              "14  2019-04-23 17:12:00  ...                1756\n",
              "15  2019-04-23 17:14:00  ...                2093\n",
              "16  2019-04-23 17:17:00  ...                2265\n",
              "17  2019-04-23 17:19:00  ...                2349\n",
              "18  2019-04-23 17:20:00  ...                2509\n",
              "19  2019-04-23 07:10:00  ...                 178\n",
              "20  2019-04-23 07:12:00  ...                 237\n",
              "21  2019-04-23 07:13:00  ...                 325\n",
              "22  2019-04-23 07:15:00  ...                 395\n",
              "23  2019-04-23 07:16:00  ...                 494\n",
              "24  2019-04-23 07:18:00  ...                 571\n",
              "25  2019-04-23 07:19:00  ...                 692\n",
              "26  2019-04-23 07:21:00  ...                 740\n",
              "27  2019-04-23 07:22:00  ...                 829\n",
              "28  2019-04-23 07:23:00  ...                 930\n",
              "29  2019-04-23 07:25:00  ...                1094\n",
              "30  2019-04-23 07:27:00  ...                1168\n",
              "31  2019-04-23 07:28:00  ...                1304\n",
              "32  2019-04-23 07:30:00  ...                1401\n",
              "33  2019-04-23 07:31:00  ...                1498\n",
              "34  2019-04-23 07:33:00  ...                1719\n",
              "35  2019-04-23 07:36:00  ...                1885\n",
              "36  2019-04-23 07:38:00  ...                1958\n",
              "37  2019-04-23 07:39:00  ...                2116\n",
              "38  2019-04-23 08:40:00  ...                 171\n",
              "39  2019-04-23 08:42:00  ...                 223\n",
              "40  2019-04-23 08:43:00  ...                 312\n",
              "41  2019-04-23 08:45:00  ...                 382\n",
              "42  2019-04-23 08:46:00  ...                 482\n",
              "43  2019-04-23 08:48:00  ...                 559\n",
              "44  2019-04-23 08:49:00  ...                 678\n",
              "45  2019-04-23 08:51:00  ...                 725\n",
              "46  2019-04-23 08:52:00  ...                 815\n",
              "47  2019-04-23 08:53:00  ...                 915\n",
              "48  2019-04-23 08:55:00  ...                1078\n",
              "49  2019-04-23 08:58:00  ...                1151\n",
              "\n",
              "[50 rows x 10 columns]"
            ]
          },
          "metadata": {
            "tags": []
          },
          "execution_count": 225
        }
      ]
    },
    {
      "cell_type": "code",
      "metadata": {
        "id": "ELJsgHWK53FB"
      },
      "source": [
        "#comb_result = comb_result[['index','Date time','Path','Actual','Actual_trip_cum','MLP','MLP_trip_cum','MLP_Kalman','MLP_Kalman_trip_cum','MLP_2H_64','MLP_2H_64_trip_cum','LSTM_3H_64','LSTM_3H_64_trip_cum','LSTMGA_2H_32','LSTMGA_2H_32_trip_cum','MLPGA_2H_32','MLPGA_2H_32_trip_cum','LSTMGA_Kalman','LSTMGA_Kalman_trip_cum','MLPGA_Kalman','MLPGA_Kalman_trip_cum']]"
      ],
      "execution_count": null,
      "outputs": []
    },
    {
      "cell_type": "markdown",
      "metadata": {
        "id": "GKyin5mMmQQW"
      },
      "source": [
        "# Export data"
      ]
    },
    {
      "cell_type": "code",
      "metadata": {
        "id": "hFZbMxb3lwvu"
      },
      "source": [
        "#path_file = 'combine_result'+path_end+'.csv'\n",
        "#comb_result.to_csv(\"/content/drive/My Drive/Colab Notebooks/Thesis/combine_result_\"+path_end+\".csv\")\n",
        "#comb_result_rmse.to_csv(\"/content/drive/My Drive/Colab Notebooks/Thesis/combine_result_rmse_\"+path_end+\".csv\")\n",
        "#!cp path_file \"/content/drive/My Drive/Colab Notebooks/Thesis\"\n",
        "\n",
        "comb_result.to_csv(\"/content/drive/My Drive/Colab Notebooks/Thesis/combine_result_\"+path_end+\"_m\"+str(month)+\".csv\")\n",
        "#comb_result_rmse.to_csv(\"/content/drive/My Drive/Colab Notebooks/Thesis/combine_result_rmse_\"+path_end+\"_m\"+str(month)+\".csv\")"
      ],
      "execution_count": null,
      "outputs": []
    }
  ]
}