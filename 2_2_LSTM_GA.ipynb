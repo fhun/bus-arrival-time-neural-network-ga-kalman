{
  "nbformat": 4,
  "nbformat_minor": 0,
  "metadata": {
    "colab": {
      "name": "2.2_LSTM_GA.ipynb",
      "provenance": [],
      "collapsed_sections": [
        "YTty1BPGeuSL",
        "hP7fpPv5gGiW",
        "lEUSFuXnPnVj",
        "TWr1tngbQS9t",
        "t4FFZGHRQnde",
        "XaLg54F00aHr",
        "Y6VYHgkItcXb",
        "Xp-YfPAuAwDg",
        "JxsokaxwBQRC",
        "P3lPkjUoSFv-"
      ],
      "toc_visible": true,
      "mount_file_id": "1K721-cGzI_bwOIxN3ZjRG0z87BH5lub6",
      "authorship_tag": "ABX9TyMWAIOTgde4dcuF8yUe//TV"
    },
    "kernelspec": {
      "name": "python3",
      "display_name": "Python 3"
    }
  },
  "cells": [
    {
      "cell_type": "code",
      "metadata": {
        "id": "KBp1TcRyY-US"
      },
      "source": [
        "import pandas as pd\n",
        "import matplotlib.pyplot as plt\n",
        "import matplotlib as mpl\n",
        "\n",
        "import seaborn as sns\n",
        "import numpy as np\n",
        "\n",
        "#from sklearn.preprocessing import StandardScaler\n",
        "from sklearn.preprocessing import MinMaxScaler\n",
        "\n",
        "import random\n",
        "\n",
        "from tqdm import tqdm  #show a progress meter in the loop"
      ],
      "execution_count": null,
      "outputs": []
    },
    {
      "cell_type": "code",
      "metadata": {
        "id": "BK5dgeE9ZOR5",
        "colab": {
          "base_uri": "https://localhost:8080/"
        },
        "outputId": "4336a074-705d-443c-d7c8-876300ccc36a"
      },
      "source": [
        "from google.colab import drive\n",
        "drive.mount('/content/drive')"
      ],
      "execution_count": null,
      "outputs": [
        {
          "output_type": "stream",
          "text": [
            "Drive already mounted at /content/drive; to attempt to forcibly remount, call drive.mount(\"/content/drive\", force_remount=True).\n"
          ],
          "name": "stdout"
        }
      ]
    },
    {
      "cell_type": "markdown",
      "metadata": {
        "id": "jgyzQRGgNV1z"
      },
      "source": [
        "# Import data"
      ]
    },
    {
      "cell_type": "markdown",
      "metadata": {
        "id": "zklVI4yPOR_s"
      },
      "source": [
        "Journey 101 ***U Wandsbek Markt to S Rübenkamp***"
      ]
    },
    {
      "cell_type": "code",
      "metadata": {
        "id": "TLSgGl3dZPUO"
      },
      "source": [
        "path = \"/content/drive/My Drive/Colab Notebooks/Thesis/ist_01_12_19_data_processed.csv\"\n",
        "#path = \"/content/drive/My Drive/Colab Notebooks/Thesis/ist_0420_data_processed.csv\"\n",
        "#path = \"/content/drive/My Drive/Colab Notebooks/Thesis/ist_01_12_19_data_processed.csv\"\n",
        "df_proceeded = pd.read_csv(path)"
      ],
      "execution_count": null,
      "outputs": []
    },
    {
      "cell_type": "code",
      "metadata": {
        "id": "eAIXPv37ZgEn"
      },
      "source": [
        "df_proceeded"
      ],
      "execution_count": null,
      "outputs": []
    },
    {
      "cell_type": "code",
      "metadata": {
        "id": "cc-0yo2bil_d"
      },
      "source": [
        "#df_proceeded = df_proceeded.sort_values(by=['Time'])"
      ],
      "execution_count": null,
      "outputs": []
    },
    {
      "cell_type": "markdown",
      "metadata": {
        "id": "_CIQmqfYOZaw"
      },
      "source": [
        "Journey 102 ***S Rübenkamp to U Wandsbek Markt***"
      ]
    },
    {
      "cell_type": "code",
      "metadata": {
        "id": "S5OJ7Lm1Ocav"
      },
      "source": [
        "#path = \"/content/drive/My Drive/Colab Notebooks/Thesis/ist_0420_data_processed102.csv\"\n",
        "path = \"/content/drive/My Drive/Colab Notebooks/Thesis/ist_01_12_19_data_processed102.csv\"\n",
        "df_proceeded102 = pd.read_csv(path)\n",
        "#df_proceeded102 = df_proceeded102.sort_values(by=['Time'])"
      ],
      "execution_count": null,
      "outputs": []
    },
    {
      "cell_type": "markdown",
      "metadata": {
        "id": "1z64dy9EOeru"
      },
      "source": [
        "Journey 201 ***U Wandsbek Markt to Lufthansa-Basis (Haupteingang)***"
      ]
    },
    {
      "cell_type": "code",
      "metadata": {
        "id": "_3Bi66sdOhIL"
      },
      "source": [
        "#path = \"/content/drive/My Drive/Colab Notebooks/Thesis/ist_0420_data_processed201.csv\"\n",
        "path = \"/content/drive/My Drive/Colab Notebooks/Thesis/ist_01_12_19_data_processed201.csv\"\n",
        "df_proceeded201 = pd.read_csv(path)\n",
        "#df_proceeded201 = df_proceeded201.sort_values(by=['Time'])"
      ],
      "execution_count": null,
      "outputs": []
    },
    {
      "cell_type": "markdown",
      "metadata": {
        "id": "VxEiR1W8OkJB"
      },
      "source": [
        "Journey 202 ***Lufthansa-Basis (Haupteingang) to U Wandsbek Markt***"
      ]
    },
    {
      "cell_type": "code",
      "metadata": {
        "id": "sZdc12QvOn5h"
      },
      "source": [
        "#path = \"/content/drive/My Drive/Colab Notebooks/Thesis/ist_0420_data_processed202.csv\"\n",
        "path = \"/content/drive/My Drive/Colab Notebooks/Thesis/ist_01_12_19_data_processed202.csv\"\n",
        "df_proceeded202 = pd.read_csv(path)\n",
        "#df_proceeded202 = df_proceeded202.sort_values(by=['Time'])"
      ],
      "execution_count": null,
      "outputs": []
    },
    {
      "cell_type": "markdown",
      "metadata": {
        "id": "YTty1BPGeuSL"
      },
      "source": [
        "## **Preprocessing**"
      ]
    },
    {
      "cell_type": "markdown",
      "metadata": {
        "id": "dShXRO_vOy3Y"
      },
      "source": [
        "Journey 101 ***U Wandsbek Markt to S Rübenkamp***"
      ]
    },
    {
      "cell_type": "code",
      "metadata": {
        "id": "eDs6hC7bZiAO",
        "colab": {
          "base_uri": "https://localhost:8080/"
        },
        "outputId": "c347e105-9008-4067-8e4f-aa67df6bf7e8"
      },
      "source": [
        "data = df_proceeded[['Node A to Node B', 'Precipitation', 'dayofweek', 'timeofday', 'Driving_time_s']]\n",
        "data.index = df_proceeded['Time']\n",
        "data['Precipitation'] = data['Precipitation'].astype('int')\n",
        "data['timeofday'] = data['timeofday'].astype('int')"
      ],
      "execution_count": null,
      "outputs": [
        {
          "output_type": "stream",
          "text": [
            "/usr/local/lib/python3.6/dist-packages/ipykernel_launcher.py:3: SettingWithCopyWarning: \n",
            "A value is trying to be set on a copy of a slice from a DataFrame.\n",
            "Try using .loc[row_indexer,col_indexer] = value instead\n",
            "\n",
            "See the caveats in the documentation: https://pandas.pydata.org/pandas-docs/stable/user_guide/indexing.html#returning-a-view-versus-a-copy\n",
            "  This is separate from the ipykernel package so we can avoid doing imports until\n",
            "/usr/local/lib/python3.6/dist-packages/ipykernel_launcher.py:4: SettingWithCopyWarning: \n",
            "A value is trying to be set on a copy of a slice from a DataFrame.\n",
            "Try using .loc[row_indexer,col_indexer] = value instead\n",
            "\n",
            "See the caveats in the documentation: https://pandas.pydata.org/pandas-docs/stable/user_guide/indexing.html#returning-a-view-versus-a-copy\n",
            "  after removing the cwd from sys.path.\n"
          ],
          "name": "stderr"
        }
      ]
    },
    {
      "cell_type": "code",
      "metadata": {
        "id": "idrT_5hSe_ix"
      },
      "source": [
        "data"
      ],
      "execution_count": null,
      "outputs": []
    },
    {
      "cell_type": "code",
      "metadata": {
        "id": "IKV5mWjM1HK8",
        "colab": {
          "base_uri": "https://localhost:8080/"
        },
        "outputId": "bd969cb7-a962-4ce5-aa68-14fb2191db8f"
      },
      "source": [
        "data.loc[data.Precipitation == -499 ]=0"
      ],
      "execution_count": null,
      "outputs": [
        {
          "output_type": "stream",
          "text": [
            "/usr/local/lib/python3.6/dist-packages/pandas/core/indexing.py:1763: SettingWithCopyWarning: \n",
            "A value is trying to be set on a copy of a slice from a DataFrame.\n",
            "Try using .loc[row_indexer,col_indexer] = value instead\n",
            "\n",
            "See the caveats in the documentation: https://pandas.pydata.org/pandas-docs/stable/user_guide/indexing.html#returning-a-view-versus-a-copy\n",
            "  isetter(loc, value)\n"
          ],
          "name": "stderr"
        }
      ]
    },
    {
      "cell_type": "code",
      "metadata": {
        "id": "6mhKpm9y1Jgr",
        "colab": {
          "base_uri": "https://localhost:8080/"
        },
        "outputId": "8dd03ebf-3e23-43c6-e45a-5bed7e46b217"
      },
      "source": [
        "data.loc[data.Precipitation == -499 ]"
      ],
      "execution_count": null,
      "outputs": [
        {
          "output_type": "execute_result",
          "data": {
            "text/html": [
              "<div>\n",
              "<style scoped>\n",
              "    .dataframe tbody tr th:only-of-type {\n",
              "        vertical-align: middle;\n",
              "    }\n",
              "\n",
              "    .dataframe tbody tr th {\n",
              "        vertical-align: top;\n",
              "    }\n",
              "\n",
              "    .dataframe thead th {\n",
              "        text-align: right;\n",
              "    }\n",
              "</style>\n",
              "<table border=\"1\" class=\"dataframe\">\n",
              "  <thead>\n",
              "    <tr style=\"text-align: right;\">\n",
              "      <th></th>\n",
              "      <th>Node A to Node B</th>\n",
              "      <th>Precipitation</th>\n",
              "      <th>dayofweek</th>\n",
              "      <th>timeofday</th>\n",
              "      <th>Driving_time_s</th>\n",
              "    </tr>\n",
              "    <tr>\n",
              "      <th>Time</th>\n",
              "      <th></th>\n",
              "      <th></th>\n",
              "      <th></th>\n",
              "      <th></th>\n",
              "      <th></th>\n",
              "    </tr>\n",
              "  </thead>\n",
              "  <tbody>\n",
              "  </tbody>\n",
              "</table>\n",
              "</div>"
            ],
            "text/plain": [
              "Empty DataFrame\n",
              "Columns: [Node A to Node B, Precipitation, dayofweek, timeofday, Driving_time_s]\n",
              "Index: []"
            ]
          },
          "metadata": {
            "tags": []
          },
          "execution_count": 12
        }
      ]
    },
    {
      "cell_type": "code",
      "metadata": {
        "id": "ZQi6xcGK1LrC"
      },
      "source": [
        "#data = data.loc[data['dayofweek'].isin([1])]"
      ],
      "execution_count": null,
      "outputs": []
    },
    {
      "cell_type": "code",
      "metadata": {
        "id": "idQfLoslqZm-"
      },
      "source": [
        "data = data.loc[data['Node A to Node B'].isin(['U Wandsbek Markt|Wandsbeker Allee',\n",
        "       'Wandsbeker Allee|U Straßburger Straße',\n",
        "       'U Straßburger Straße|U Alter Teichweg',\n",
        "       'U Alter Teichweg|Habichtstraße (Mitte)',\n",
        "       'Habichtstraße (Mitte)|U Habichtstraße',\n",
        "       'U Habichtstraße|Habichtsplatz', 'Habichtsplatz|Neue Wöhr',\n",
        "       'Neue Wöhr|Hartzloh', 'Hartzloh|AK Barmbek',\n",
        "       'AK Barmbek|Hebebrandstraße', 'Hebebrandstraße|S Rübenkamp'])]\n",
        "df_proceeded = data"
      ],
      "execution_count": null,
      "outputs": []
    },
    {
      "cell_type": "code",
      "metadata": {
        "id": "zLiw2wEdcRyU",
        "colab": {
          "base_uri": "https://localhost:8080/"
        },
        "outputId": "b9f29ed2-f9b4-4aec-bbd8-4079b6fcee4c"
      },
      "source": [
        "columns_to_category = ['Node A to Node B', 'Precipitation', 'dayofweek', 'timeofday']\n",
        "data[columns_to_category] = data[columns_to_category].astype('category') # change datetypes to category"
      ],
      "execution_count": null,
      "outputs": [
        {
          "output_type": "stream",
          "text": [
            "/usr/local/lib/python3.6/dist-packages/pandas/core/frame.py:3069: SettingWithCopyWarning: \n",
            "A value is trying to be set on a copy of a slice from a DataFrame.\n",
            "Try using .loc[row_indexer,col_indexer] = value instead\n",
            "\n",
            "See the caveats in the documentation: https://pandas.pydata.org/pandas-docs/stable/user_guide/indexing.html#returning-a-view-versus-a-copy\n",
            "  self[k1] = value[k2]\n"
          ],
          "name": "stderr"
        }
      ]
    },
    {
      "cell_type": "code",
      "metadata": {
        "id": "wUdJ_TvledAy",
        "colab": {
          "base_uri": "https://localhost:8080/"
        },
        "outputId": "06ff527b-d708-4bd6-b95b-75670feac2dc"
      },
      "source": [
        "data.dtypes"
      ],
      "execution_count": null,
      "outputs": [
        {
          "output_type": "execute_result",
          "data": {
            "text/plain": [
              "Node A to Node B    category\n",
              "Precipitation       category\n",
              "dayofweek           category\n",
              "timeofday           category\n",
              "Driving_time_s       float64\n",
              "dtype: object"
            ]
          },
          "metadata": {
            "tags": []
          },
          "execution_count": 16
        }
      ]
    },
    {
      "cell_type": "markdown",
      "metadata": {
        "id": "hP7fpPv5gGiW"
      },
      "source": [
        "## One-hot encoding"
      ]
    },
    {
      "cell_type": "markdown",
      "metadata": {
        "id": "ngmjPjYBgSGb"
      },
      "source": [
        "One-hot encode the categorical feautures.\n",
        "\n"
      ]
    },
    {
      "cell_type": "code",
      "metadata": {
        "id": "YyXqx2CGfxN4",
        "colab": {
          "base_uri": "https://localhost:8080/"
        },
        "outputId": "626bae51-b768-43b0-dbc5-c08aa793aff2"
      },
      "source": [
        "data = pd.get_dummies(data, columns=columns_to_category) # One hot encoding the categories\n",
        "data.head()"
      ],
      "execution_count": null,
      "outputs": [
        {
          "output_type": "execute_result",
          "data": {
            "text/html": [
              "<div>\n",
              "<style scoped>\n",
              "    .dataframe tbody tr th:only-of-type {\n",
              "        vertical-align: middle;\n",
              "    }\n",
              "\n",
              "    .dataframe tbody tr th {\n",
              "        vertical-align: top;\n",
              "    }\n",
              "\n",
              "    .dataframe thead th {\n",
              "        text-align: right;\n",
              "    }\n",
              "</style>\n",
              "<table border=\"1\" class=\"dataframe\">\n",
              "  <thead>\n",
              "    <tr style=\"text-align: right;\">\n",
              "      <th></th>\n",
              "      <th>Driving_time_s</th>\n",
              "      <th>Node A to Node B_AK Barmbek|Hebebrandstraße</th>\n",
              "      <th>Node A to Node B_Habichtsplatz|Neue Wöhr</th>\n",
              "      <th>Node A to Node B_Habichtstraße (Mitte)|U Habichtstraße</th>\n",
              "      <th>Node A to Node B_Hartzloh|AK Barmbek</th>\n",
              "      <th>Node A to Node B_Hebebrandstraße|S Rübenkamp</th>\n",
              "      <th>Node A to Node B_Neue Wöhr|Hartzloh</th>\n",
              "      <th>Node A to Node B_U Alter Teichweg|Habichtstraße (Mitte)</th>\n",
              "      <th>Node A to Node B_U Habichtstraße|Habichtsplatz</th>\n",
              "      <th>Node A to Node B_U Straßburger Straße|U Alter Teichweg</th>\n",
              "      <th>Node A to Node B_U Wandsbek Markt|Wandsbeker Allee</th>\n",
              "      <th>Node A to Node B_Wandsbeker Allee|U Straßburger Straße</th>\n",
              "      <th>Precipitation_0</th>\n",
              "      <th>Precipitation_1</th>\n",
              "      <th>dayofweek_0</th>\n",
              "      <th>dayofweek_1</th>\n",
              "      <th>dayofweek_2</th>\n",
              "      <th>dayofweek_3</th>\n",
              "      <th>dayofweek_4</th>\n",
              "      <th>dayofweek_5</th>\n",
              "      <th>dayofweek_6</th>\n",
              "      <th>timeofday_0</th>\n",
              "      <th>timeofday_1</th>\n",
              "      <th>timeofday_2</th>\n",
              "      <th>timeofday_3</th>\n",
              "      <th>timeofday_4</th>\n",
              "    </tr>\n",
              "    <tr>\n",
              "      <th>Time</th>\n",
              "      <th></th>\n",
              "      <th></th>\n",
              "      <th></th>\n",
              "      <th></th>\n",
              "      <th></th>\n",
              "      <th></th>\n",
              "      <th></th>\n",
              "      <th></th>\n",
              "      <th></th>\n",
              "      <th></th>\n",
              "      <th></th>\n",
              "      <th></th>\n",
              "      <th></th>\n",
              "      <th></th>\n",
              "      <th></th>\n",
              "      <th></th>\n",
              "      <th></th>\n",
              "      <th></th>\n",
              "      <th></th>\n",
              "      <th></th>\n",
              "      <th></th>\n",
              "      <th></th>\n",
              "      <th></th>\n",
              "      <th></th>\n",
              "      <th></th>\n",
              "      <th></th>\n",
              "    </tr>\n",
              "  </thead>\n",
              "  <tbody>\n",
              "    <tr>\n",
              "      <th>2019-01-02 09:47:00</th>\n",
              "      <td>204.0</td>\n",
              "      <td>0</td>\n",
              "      <td>0</td>\n",
              "      <td>0</td>\n",
              "      <td>0</td>\n",
              "      <td>0</td>\n",
              "      <td>0</td>\n",
              "      <td>0</td>\n",
              "      <td>0</td>\n",
              "      <td>0</td>\n",
              "      <td>1</td>\n",
              "      <td>0</td>\n",
              "      <td>1</td>\n",
              "      <td>0</td>\n",
              "      <td>0</td>\n",
              "      <td>0</td>\n",
              "      <td>1</td>\n",
              "      <td>0</td>\n",
              "      <td>0</td>\n",
              "      <td>0</td>\n",
              "      <td>0</td>\n",
              "      <td>0</td>\n",
              "      <td>1</td>\n",
              "      <td>0</td>\n",
              "      <td>0</td>\n",
              "      <td>0</td>\n",
              "    </tr>\n",
              "    <tr>\n",
              "      <th>2019-01-02 09:50:00</th>\n",
              "      <td>108.0</td>\n",
              "      <td>0</td>\n",
              "      <td>0</td>\n",
              "      <td>0</td>\n",
              "      <td>0</td>\n",
              "      <td>0</td>\n",
              "      <td>0</td>\n",
              "      <td>0</td>\n",
              "      <td>0</td>\n",
              "      <td>0</td>\n",
              "      <td>0</td>\n",
              "      <td>1</td>\n",
              "      <td>1</td>\n",
              "      <td>0</td>\n",
              "      <td>0</td>\n",
              "      <td>0</td>\n",
              "      <td>1</td>\n",
              "      <td>0</td>\n",
              "      <td>0</td>\n",
              "      <td>0</td>\n",
              "      <td>0</td>\n",
              "      <td>0</td>\n",
              "      <td>1</td>\n",
              "      <td>0</td>\n",
              "      <td>0</td>\n",
              "      <td>0</td>\n",
              "    </tr>\n",
              "    <tr>\n",
              "      <th>2019-01-02 09:52:00</th>\n",
              "      <td>96.0</td>\n",
              "      <td>0</td>\n",
              "      <td>0</td>\n",
              "      <td>0</td>\n",
              "      <td>0</td>\n",
              "      <td>0</td>\n",
              "      <td>0</td>\n",
              "      <td>0</td>\n",
              "      <td>0</td>\n",
              "      <td>1</td>\n",
              "      <td>0</td>\n",
              "      <td>0</td>\n",
              "      <td>1</td>\n",
              "      <td>0</td>\n",
              "      <td>0</td>\n",
              "      <td>0</td>\n",
              "      <td>1</td>\n",
              "      <td>0</td>\n",
              "      <td>0</td>\n",
              "      <td>0</td>\n",
              "      <td>0</td>\n",
              "      <td>0</td>\n",
              "      <td>1</td>\n",
              "      <td>0</td>\n",
              "      <td>0</td>\n",
              "      <td>0</td>\n",
              "    </tr>\n",
              "    <tr>\n",
              "      <th>2019-01-02 09:54:00</th>\n",
              "      <td>168.0</td>\n",
              "      <td>0</td>\n",
              "      <td>0</td>\n",
              "      <td>0</td>\n",
              "      <td>0</td>\n",
              "      <td>0</td>\n",
              "      <td>0</td>\n",
              "      <td>1</td>\n",
              "      <td>0</td>\n",
              "      <td>0</td>\n",
              "      <td>0</td>\n",
              "      <td>0</td>\n",
              "      <td>1</td>\n",
              "      <td>0</td>\n",
              "      <td>0</td>\n",
              "      <td>0</td>\n",
              "      <td>1</td>\n",
              "      <td>0</td>\n",
              "      <td>0</td>\n",
              "      <td>0</td>\n",
              "      <td>0</td>\n",
              "      <td>0</td>\n",
              "      <td>1</td>\n",
              "      <td>0</td>\n",
              "      <td>0</td>\n",
              "      <td>0</td>\n",
              "    </tr>\n",
              "    <tr>\n",
              "      <th>2019-01-02 09:57:00</th>\n",
              "      <td>54.0</td>\n",
              "      <td>0</td>\n",
              "      <td>0</td>\n",
              "      <td>1</td>\n",
              "      <td>0</td>\n",
              "      <td>0</td>\n",
              "      <td>0</td>\n",
              "      <td>0</td>\n",
              "      <td>0</td>\n",
              "      <td>0</td>\n",
              "      <td>0</td>\n",
              "      <td>0</td>\n",
              "      <td>1</td>\n",
              "      <td>0</td>\n",
              "      <td>0</td>\n",
              "      <td>0</td>\n",
              "      <td>1</td>\n",
              "      <td>0</td>\n",
              "      <td>0</td>\n",
              "      <td>0</td>\n",
              "      <td>0</td>\n",
              "      <td>0</td>\n",
              "      <td>1</td>\n",
              "      <td>0</td>\n",
              "      <td>0</td>\n",
              "      <td>0</td>\n",
              "    </tr>\n",
              "  </tbody>\n",
              "</table>\n",
              "</div>"
            ],
            "text/plain": [
              "                     Driving_time_s  ...  timeofday_4\n",
              "Time                                 ...             \n",
              "2019-01-02 09:47:00           204.0  ...            0\n",
              "2019-01-02 09:50:00           108.0  ...            0\n",
              "2019-01-02 09:52:00            96.0  ...            0\n",
              "2019-01-02 09:54:00           168.0  ...            0\n",
              "2019-01-02 09:57:00            54.0  ...            0\n",
              "\n",
              "[5 rows x 26 columns]"
            ]
          },
          "metadata": {
            "tags": []
          },
          "execution_count": 17
        }
      ]
    },
    {
      "cell_type": "code",
      "metadata": {
        "id": "NqNZvpJj3Ysa"
      },
      "source": [
        "data.describe"
      ],
      "execution_count": null,
      "outputs": []
    },
    {
      "cell_type": "code",
      "metadata": {
        "id": "MGvKCxKSO9Zv"
      },
      "source": [
        "data101 = data.copy()\n",
        "data101"
      ],
      "execution_count": null,
      "outputs": []
    },
    {
      "cell_type": "markdown",
      "metadata": {
        "id": "lEUSFuXnPnVj"
      },
      "source": [
        "## Preprocessing with other journeys (routes)"
      ]
    },
    {
      "cell_type": "markdown",
      "metadata": {
        "id": "zoXrAJDkPBPb"
      },
      "source": [
        "Route 102 ***S Rübenkamp to U Wandsbek Markt***"
      ]
    },
    {
      "cell_type": "code",
      "metadata": {
        "id": "yMN02Xn0PL5I",
        "colab": {
          "base_uri": "https://localhost:8080/"
        },
        "outputId": "48c1cd22-3ba5-46cd-9a5f-f61c651e923b"
      },
      "source": [
        "data = df_proceeded102[['Node A to Node B', 'Precipitation', 'dayofweek', 'timeofday', 'Driving_time_s']]\n",
        "data.index = df_proceeded102['Time']\n",
        "data['Precipitation'] = data['Precipitation'].astype('int')\n",
        "data['timeofday'] = data['timeofday'].astype('int')"
      ],
      "execution_count": null,
      "outputs": [
        {
          "output_type": "stream",
          "text": [
            "/usr/local/lib/python3.6/dist-packages/ipykernel_launcher.py:3: SettingWithCopyWarning: \n",
            "A value is trying to be set on a copy of a slice from a DataFrame.\n",
            "Try using .loc[row_indexer,col_indexer] = value instead\n",
            "\n",
            "See the caveats in the documentation: https://pandas.pydata.org/pandas-docs/stable/user_guide/indexing.html#returning-a-view-versus-a-copy\n",
            "  This is separate from the ipykernel package so we can avoid doing imports until\n",
            "/usr/local/lib/python3.6/dist-packages/ipykernel_launcher.py:4: SettingWithCopyWarning: \n",
            "A value is trying to be set on a copy of a slice from a DataFrame.\n",
            "Try using .loc[row_indexer,col_indexer] = value instead\n",
            "\n",
            "See the caveats in the documentation: https://pandas.pydata.org/pandas-docs/stable/user_guide/indexing.html#returning-a-view-versus-a-copy\n",
            "  after removing the cwd from sys.path.\n"
          ],
          "name": "stderr"
        }
      ]
    },
    {
      "cell_type": "code",
      "metadata": {
        "colab": {
          "base_uri": "https://localhost:8080/"
        },
        "id": "5KMirypDL9vz",
        "outputId": "99093712-6b2a-4d47-9dec-fc3a3d862b06"
      },
      "source": [
        "data.loc[data.Precipitation == -499 ]=0\n",
        "data.loc[data.Precipitation == -499 ]"
      ],
      "execution_count": null,
      "outputs": [
        {
          "output_type": "stream",
          "text": [
            "/usr/local/lib/python3.6/dist-packages/pandas/core/indexing.py:1763: SettingWithCopyWarning: \n",
            "A value is trying to be set on a copy of a slice from a DataFrame.\n",
            "Try using .loc[row_indexer,col_indexer] = value instead\n",
            "\n",
            "See the caveats in the documentation: https://pandas.pydata.org/pandas-docs/stable/user_guide/indexing.html#returning-a-view-versus-a-copy\n",
            "  isetter(loc, value)\n"
          ],
          "name": "stderr"
        },
        {
          "output_type": "execute_result",
          "data": {
            "text/html": [
              "<div>\n",
              "<style scoped>\n",
              "    .dataframe tbody tr th:only-of-type {\n",
              "        vertical-align: middle;\n",
              "    }\n",
              "\n",
              "    .dataframe tbody tr th {\n",
              "        vertical-align: top;\n",
              "    }\n",
              "\n",
              "    .dataframe thead th {\n",
              "        text-align: right;\n",
              "    }\n",
              "</style>\n",
              "<table border=\"1\" class=\"dataframe\">\n",
              "  <thead>\n",
              "    <tr style=\"text-align: right;\">\n",
              "      <th></th>\n",
              "      <th>Node A to Node B</th>\n",
              "      <th>Precipitation</th>\n",
              "      <th>dayofweek</th>\n",
              "      <th>timeofday</th>\n",
              "      <th>Driving_time_s</th>\n",
              "    </tr>\n",
              "    <tr>\n",
              "      <th>Time</th>\n",
              "      <th></th>\n",
              "      <th></th>\n",
              "      <th></th>\n",
              "      <th></th>\n",
              "      <th></th>\n",
              "    </tr>\n",
              "  </thead>\n",
              "  <tbody>\n",
              "  </tbody>\n",
              "</table>\n",
              "</div>"
            ],
            "text/plain": [
              "Empty DataFrame\n",
              "Columns: [Node A to Node B, Precipitation, dayofweek, timeofday, Driving_time_s]\n",
              "Index: []"
            ]
          },
          "metadata": {
            "tags": []
          },
          "execution_count": 21
        }
      ]
    },
    {
      "cell_type": "code",
      "metadata": {
        "id": "w0hOSnLnMoSs"
      },
      "source": [
        "data = data.loc[data['Node A to Node B'].isin(['U Straßburger Straße|Wandsbeker Allee',\n",
        "'AK Barmbek|Hartzloh',\n",
        "'U Habichtstraße|Habichtstraße (Mitte)',\n",
        "'Habichtsplatz|U Habichtstraße',\n",
        "'U Alter Teichweg|U Straßburger Straße',\n",
        "'Wandsbeker Allee|U Wandsbek Markt',\n",
        "'Hartzloh|Habichtsplatz',\n",
        "'S Rübenkamp|AK Barmbek',\n",
        "'Habichtstraße (Mitte)|U Alter Teichweg'])]\n",
        "df_proceeded102 = data"
      ],
      "execution_count": null,
      "outputs": []
    },
    {
      "cell_type": "code",
      "metadata": {
        "id": "5voDsmlDPNLc"
      },
      "source": [
        "columns_to_category = ['Node A to Node B', 'Precipitation', 'dayofweek', 'timeofday']\n",
        "data[columns_to_category] = data[columns_to_category].astype('category') # change datetypes to category"
      ],
      "execution_count": null,
      "outputs": []
    },
    {
      "cell_type": "code",
      "metadata": {
        "id": "5CNHFnEBPPyC"
      },
      "source": [
        "data = pd.get_dummies(data, columns=columns_to_category) # One-hot encoding the categories\n",
        "data[:50]"
      ],
      "execution_count": null,
      "outputs": []
    },
    {
      "cell_type": "code",
      "metadata": {
        "id": "nxtY2PbMPSbt"
      },
      "source": [
        "data102 = data.copy()\n",
        "data102"
      ],
      "execution_count": null,
      "outputs": []
    },
    {
      "cell_type": "markdown",
      "metadata": {
        "id": "tcrJ3n7fPVey"
      },
      "source": [
        "Route 201 ***U Wandsbek Markt to Lufthansa-Basis (Haupteingang)***"
      ]
    },
    {
      "cell_type": "code",
      "metadata": {
        "id": "xw6FHyowPphg",
        "colab": {
          "base_uri": "https://localhost:8080/"
        },
        "outputId": "55ecccc3-7597-41c3-c4b4-1a43ecaff2f8"
      },
      "source": [
        "data = df_proceeded201[['Node A to Node B', 'Precipitation', 'dayofweek', 'timeofday', 'Driving_time_s']]\n",
        "data.index = df_proceeded201['Time']\n",
        "data['Precipitation'] = data['Precipitation'].astype('int')\n",
        "data['timeofday'] = data['timeofday'].astype('int')"
      ],
      "execution_count": null,
      "outputs": [
        {
          "output_type": "stream",
          "text": [
            "/usr/local/lib/python3.6/dist-packages/ipykernel_launcher.py:3: SettingWithCopyWarning: \n",
            "A value is trying to be set on a copy of a slice from a DataFrame.\n",
            "Try using .loc[row_indexer,col_indexer] = value instead\n",
            "\n",
            "See the caveats in the documentation: https://pandas.pydata.org/pandas-docs/stable/user_guide/indexing.html#returning-a-view-versus-a-copy\n",
            "  This is separate from the ipykernel package so we can avoid doing imports until\n",
            "/usr/local/lib/python3.6/dist-packages/ipykernel_launcher.py:4: SettingWithCopyWarning: \n",
            "A value is trying to be set on a copy of a slice from a DataFrame.\n",
            "Try using .loc[row_indexer,col_indexer] = value instead\n",
            "\n",
            "See the caveats in the documentation: https://pandas.pydata.org/pandas-docs/stable/user_guide/indexing.html#returning-a-view-versus-a-copy\n",
            "  after removing the cwd from sys.path.\n"
          ],
          "name": "stderr"
        }
      ]
    },
    {
      "cell_type": "code",
      "metadata": {
        "colab": {
          "base_uri": "https://localhost:8080/"
        },
        "id": "xq0gaaVyC1RZ",
        "outputId": "6d21c2d3-3516-4ef2-e0f5-4bfcd0850f48"
      },
      "source": [
        "data.loc[data.Precipitation == -499 ]=0\n",
        "data.loc[data.Precipitation == -499 ]"
      ],
      "execution_count": null,
      "outputs": [
        {
          "output_type": "stream",
          "text": [
            "/usr/local/lib/python3.6/dist-packages/pandas/core/indexing.py:1763: SettingWithCopyWarning: \n",
            "A value is trying to be set on a copy of a slice from a DataFrame.\n",
            "Try using .loc[row_indexer,col_indexer] = value instead\n",
            "\n",
            "See the caveats in the documentation: https://pandas.pydata.org/pandas-docs/stable/user_guide/indexing.html#returning-a-view-versus-a-copy\n",
            "  isetter(loc, value)\n"
          ],
          "name": "stderr"
        },
        {
          "output_type": "execute_result",
          "data": {
            "text/html": [
              "<div>\n",
              "<style scoped>\n",
              "    .dataframe tbody tr th:only-of-type {\n",
              "        vertical-align: middle;\n",
              "    }\n",
              "\n",
              "    .dataframe tbody tr th {\n",
              "        vertical-align: top;\n",
              "    }\n",
              "\n",
              "    .dataframe thead th {\n",
              "        text-align: right;\n",
              "    }\n",
              "</style>\n",
              "<table border=\"1\" class=\"dataframe\">\n",
              "  <thead>\n",
              "    <tr style=\"text-align: right;\">\n",
              "      <th></th>\n",
              "      <th>Node A to Node B</th>\n",
              "      <th>Precipitation</th>\n",
              "      <th>dayofweek</th>\n",
              "      <th>timeofday</th>\n",
              "      <th>Driving_time_s</th>\n",
              "    </tr>\n",
              "    <tr>\n",
              "      <th>Time</th>\n",
              "      <th></th>\n",
              "      <th></th>\n",
              "      <th></th>\n",
              "      <th></th>\n",
              "      <th></th>\n",
              "    </tr>\n",
              "  </thead>\n",
              "  <tbody>\n",
              "  </tbody>\n",
              "</table>\n",
              "</div>"
            ],
            "text/plain": [
              "Empty DataFrame\n",
              "Columns: [Node A to Node B, Precipitation, dayofweek, timeofday, Driving_time_s]\n",
              "Index: []"
            ]
          },
          "metadata": {
            "tags": []
          },
          "execution_count": 27
        }
      ]
    },
    {
      "cell_type": "code",
      "metadata": {
        "id": "9oCb5ks3C5BI"
      },
      "source": [
        "data = data.loc[data['Node A to Node B'].isin(['Kapstadtring|Manilabrücke',\n",
        "'U Alsterdorf|Hindenburgstraße',\n",
        "'Habichtstraße (Mitte)|U Habichtstraße',\n",
        "'Neue Wöhr|Hartzloh',\n",
        "'Hartzloh|AK Barmbek',\n",
        "'Brabandstraße|Moltrechtweg',\n",
        "'Alsterkrugchaussee (Mitte)|Obenhauptstraße',\n",
        "'Manilabrücke|Sydneystraße',\n",
        "'Hebebrandstraße|S Rübenkamp',\n",
        "'U Habichtstraße|Habichtsplatz',\n",
        "'Moltrechtweg|Alsterkrugchaussee (Mitte)',\n",
        "'Hindenburgstraße|Brabandstraße',\n",
        "'S Rübenkamp|Kapstadtring',\n",
        "'Wandsbeker Allee|U Straßburger Straße',\n",
        "'Sydneystraße|U Alsterdorf',\n",
        "'Habichtsplatz|Neue Wöhr',\n",
        "'AK Barmbek|Hebebrandstraße',\n",
        "'U Straßburger Straße|U Alter Teichweg',\n",
        "'Obenhauptstraße|Lufthansa-Basis (Haupteingang)',\n",
        "'U Alter Teichweg|Habichtstraße (Mitte)',\n",
        "'U Wandsbek Markt|Wandsbeker Allee',\n",
        "])]\n",
        "df_proceeded201 = data"
      ],
      "execution_count": null,
      "outputs": []
    },
    {
      "cell_type": "code",
      "metadata": {
        "id": "TJCYBpJJPwGT"
      },
      "source": [
        "columns_to_category = ['Node A to Node B', 'Precipitation', 'dayofweek', 'timeofday']\n",
        "data[columns_to_category] = data[columns_to_category].astype('category') # change datetypes to category"
      ],
      "execution_count": null,
      "outputs": []
    },
    {
      "cell_type": "code",
      "metadata": {
        "id": "8cOGuVMOP1xG"
      },
      "source": [
        "data = pd.get_dummies(data, columns=columns_to_category) # One-hot encoding the categories\n",
        "data[:50]"
      ],
      "execution_count": null,
      "outputs": []
    },
    {
      "cell_type": "code",
      "metadata": {
        "id": "V7vEjg1uP4yW"
      },
      "source": [
        "data201 = data.copy()\n",
        "data201"
      ],
      "execution_count": null,
      "outputs": []
    },
    {
      "cell_type": "markdown",
      "metadata": {
        "id": "PBLdO4NQP56n"
      },
      "source": [
        "Route 202 ***Lufthansa-Basis (Haupteingang) to U Wandsbek Markt***"
      ]
    },
    {
      "cell_type": "code",
      "metadata": {
        "id": "_nPGb_2fP_2o",
        "colab": {
          "base_uri": "https://localhost:8080/"
        },
        "outputId": "b10e29f2-677d-44df-c352-f69f4df887fa"
      },
      "source": [
        "data = df_proceeded202[['Node A to Node B', 'Precipitation', 'dayofweek', 'timeofday', 'Driving_time_s']]\n",
        "data.index = df_proceeded202['Time']\n",
        "data['Precipitation'] = data['Precipitation'].astype('int')\n",
        "data['timeofday'] = data['timeofday'].astype('int')"
      ],
      "execution_count": null,
      "outputs": [
        {
          "output_type": "stream",
          "text": [
            "/usr/local/lib/python3.6/dist-packages/ipykernel_launcher.py:3: SettingWithCopyWarning: \n",
            "A value is trying to be set on a copy of a slice from a DataFrame.\n",
            "Try using .loc[row_indexer,col_indexer] = value instead\n",
            "\n",
            "See the caveats in the documentation: https://pandas.pydata.org/pandas-docs/stable/user_guide/indexing.html#returning-a-view-versus-a-copy\n",
            "  This is separate from the ipykernel package so we can avoid doing imports until\n",
            "/usr/local/lib/python3.6/dist-packages/ipykernel_launcher.py:4: SettingWithCopyWarning: \n",
            "A value is trying to be set on a copy of a slice from a DataFrame.\n",
            "Try using .loc[row_indexer,col_indexer] = value instead\n",
            "\n",
            "See the caveats in the documentation: https://pandas.pydata.org/pandas-docs/stable/user_guide/indexing.html#returning-a-view-versus-a-copy\n",
            "  after removing the cwd from sys.path.\n"
          ],
          "name": "stderr"
        }
      ]
    },
    {
      "cell_type": "code",
      "metadata": {
        "colab": {
          "base_uri": "https://localhost:8080/"
        },
        "id": "T3Fc7VrFDiwi",
        "outputId": "bd8aecc1-7919-4d83-f31f-898561965b3a"
      },
      "source": [
        "data.loc[data.Precipitation == -499 ]=0\n",
        "data.loc[data.Precipitation == -499 ]"
      ],
      "execution_count": null,
      "outputs": [
        {
          "output_type": "stream",
          "text": [
            "/usr/local/lib/python3.6/dist-packages/pandas/core/indexing.py:1763: SettingWithCopyWarning: \n",
            "A value is trying to be set on a copy of a slice from a DataFrame.\n",
            "Try using .loc[row_indexer,col_indexer] = value instead\n",
            "\n",
            "See the caveats in the documentation: https://pandas.pydata.org/pandas-docs/stable/user_guide/indexing.html#returning-a-view-versus-a-copy\n",
            "  isetter(loc, value)\n"
          ],
          "name": "stderr"
        },
        {
          "output_type": "execute_result",
          "data": {
            "text/html": [
              "<div>\n",
              "<style scoped>\n",
              "    .dataframe tbody tr th:only-of-type {\n",
              "        vertical-align: middle;\n",
              "    }\n",
              "\n",
              "    .dataframe tbody tr th {\n",
              "        vertical-align: top;\n",
              "    }\n",
              "\n",
              "    .dataframe thead th {\n",
              "        text-align: right;\n",
              "    }\n",
              "</style>\n",
              "<table border=\"1\" class=\"dataframe\">\n",
              "  <thead>\n",
              "    <tr style=\"text-align: right;\">\n",
              "      <th></th>\n",
              "      <th>Node A to Node B</th>\n",
              "      <th>Precipitation</th>\n",
              "      <th>dayofweek</th>\n",
              "      <th>timeofday</th>\n",
              "      <th>Driving_time_s</th>\n",
              "    </tr>\n",
              "    <tr>\n",
              "      <th>Time</th>\n",
              "      <th></th>\n",
              "      <th></th>\n",
              "      <th></th>\n",
              "      <th></th>\n",
              "      <th></th>\n",
              "    </tr>\n",
              "  </thead>\n",
              "  <tbody>\n",
              "  </tbody>\n",
              "</table>\n",
              "</div>"
            ],
            "text/plain": [
              "Empty DataFrame\n",
              "Columns: [Node A to Node B, Precipitation, dayofweek, timeofday, Driving_time_s]\n",
              "Index: []"
            ]
          },
          "metadata": {
            "tags": []
          },
          "execution_count": 33
        }
      ]
    },
    {
      "cell_type": "code",
      "metadata": {
        "id": "dNC2FLxSDlql"
      },
      "source": [
        "data = data.loc[data['Node A to Node B'].isin(['Lufthansa-Basis (Haupteingang)|Obenhauptstraße',\n",
        "        'Obenhauptstraße|Alsterkrugchaussee (Mitte)',\n",
        "        'Alsterkrugchaussee (Mitte)|Moltrechtweg',\n",
        "        'Moltrechtweg|Brabandstraße', 'Brabandstraße|Hindenburgstraße',\n",
        "        'Hindenburgstraße|U Alsterdorf', 'U Alsterdorf|Sydneystraße',\n",
        "        'Sydneystraße|Manilabrücke', 'Manilabrücke|Kapstadtring',\n",
        "        'Kapstadtring|S Rübenkamp', 'S Rübenkamp|AK Barmbek', 'AK Barmbek|Hartzloh',\n",
        "        'Hartzloh|Habichtsplatz', 'Habichtsplatz|U Habichtstraße',\n",
        "        'U Habichtstraße|Habichtstraße (Mitte)',\n",
        "        'Habichtstraße (Mitte)|U Alter Teichweg',\n",
        "        'U Alter Teichweg|U Straßburger Straße',\n",
        "        'U Straßburger Straße|Wandsbeker Allee',\n",
        "        'Wandsbeker Allee|U Wandsbek Markt'])]\n",
        "df_proceeded202 = data"
      ],
      "execution_count": null,
      "outputs": []
    },
    {
      "cell_type": "code",
      "metadata": {
        "id": "KRW5qSTnQBKq"
      },
      "source": [
        "columns_to_category = ['Node A to Node B', 'Precipitation', 'dayofweek', 'timeofday']\n",
        "data[columns_to_category] = data[columns_to_category].astype('category') # change datetypes to category"
      ],
      "execution_count": null,
      "outputs": []
    },
    {
      "cell_type": "code",
      "metadata": {
        "id": "yGKpSFYaQNar"
      },
      "source": [
        "data = pd.get_dummies(data, columns=columns_to_category) # One hot encoding the categories\n",
        "data[:50]"
      ],
      "execution_count": null,
      "outputs": []
    },
    {
      "cell_type": "code",
      "metadata": {
        "id": "rX0K6hlXQDyi"
      },
      "source": [
        "data202 = data.copy()\n",
        "data202"
      ],
      "execution_count": null,
      "outputs": []
    },
    {
      "cell_type": "markdown",
      "metadata": {
        "id": "TWr1tngbQS9t"
      },
      "source": [
        "# Select route to implement"
      ]
    },
    {
      "cell_type": "code",
      "metadata": {
        "id": "27vcUnOvQWAr"
      },
      "source": [
        "#select the route one by one\n",
        "route = 101\n",
        "month = 9\n",
        "\n",
        "if route == 101:\n",
        "  #route 101\n",
        "  data = data101.copy()\n",
        "  path_end = \"data101\"\n",
        "  path_name = \"Route 101 U Wandsbek Markt to S Rübenkamp\"\n",
        "  #bs = 2**4\n",
        "  #bs_name = str(bs)\n",
        "  #n_layers = 3\n",
        "\n",
        "elif route ==102:\n",
        "  #route 102\n",
        "  data = data102.copy()\n",
        "  path_end = \"data102\"\n",
        "  path_name = \"Route 102 S Rübenkamp to U Wandsbek Markt\"\n",
        "  #bs = 2**7\n",
        "  #bs_name = str(bs)\n",
        "  #n_layers = 2\n",
        "\n",
        "elif route == 201:\n",
        "  #route 201\n",
        "  data = data201.copy()\n",
        "  path_end = \"data201\"\n",
        "  path_name = \"Route 201 U Wandsbek Markt to Lufthansa-Basis (Haupteingang)\"\n",
        "  #bs = 2**6\n",
        "  #bs_name = str(bs)\n",
        "  #n_layers = 2\n",
        "\n",
        "elif route == 202:\n",
        "#route 202\n",
        "  data = data202.copy()\n",
        "  path_end = \"data202\"\n",
        "  path_name = \"Route 202 Lufthansa-Basis (Haupteingang) to U Wandsbek Markt\"\n",
        "  #bs = 2**6\n",
        "  #bs_name = str(bs)\n",
        "  #n_layers = 2\n",
        "\n"
      ],
      "execution_count": null,
      "outputs": []
    },
    {
      "cell_type": "code",
      "metadata": {
        "id": "d4j7KD4XvjMn"
      },
      "source": [
        "data = data.loc[pd.to_datetime(data.index).month == month]"
      ],
      "execution_count": null,
      "outputs": []
    },
    {
      "cell_type": "code",
      "metadata": {
        "id": "P7MA4pvra7yU"
      },
      "source": [
        "#Import data to collect results and compare\n",
        "#st_comb_result = pd.read_csv(\"/content/drive/My Drive/Colab Notebooks/Thesis/combine_result_\"+path_end+\".csv\")\n",
        "#comb_result_rmse = pd.read_csv(\"/content/drive/My Drive/Colab Notebooks/Thesis/combine_result_rmse_\"+path_end+\".csv\")\n",
        "st_comb_result = pd.read_csv(\"/content/drive/My Drive/Colab Notebooks/Thesis/combine_result_\"+path_end+\"_m\"+str(month)+\".csv\")\n",
        "comb_result_rmse = pd.read_csv(\"/content/drive/My Drive/Colab Notebooks/Thesis/combine_result_rmse_\"+path_end+\"_m\"+str(month)+\".csv\")"
      ],
      "execution_count": null,
      "outputs": []
    },
    {
      "cell_type": "code",
      "metadata": {
        "id": "SMnb7iePbJUX"
      },
      "source": [
        "size_trip = len(st_comb_result['Path'].unique())\n",
        "#size_trip = 1"
      ],
      "execution_count": null,
      "outputs": []
    },
    {
      "cell_type": "code",
      "metadata": {
        "id": "d5qdIctsQtZd"
      },
      "source": [
        "# set initial variables for RNN structure\n",
        "look_back = round(size_trip) #1*24 # D -> 1, H -> 5*24\n",
        "num_features = data.shape[1] - 1\n",
        "output_dim = 1\n"
      ],
      "execution_count": null,
      "outputs": []
    },
    {
      "cell_type": "markdown",
      "metadata": {
        "id": "XaLg54F00aHr"
      },
      "source": [
        "# Data Preprocessing to RNN format"
      ]
    },
    {
      "cell_type": "markdown",
      "metadata": {
        "id": "lhmR6mEMXpiz"
      },
      "source": [
        "\"The LSTM network expects the input data (X) to be provided with a specific array structure in the form of: [samples, time steps, features].\"\n",
        "\n",
        "https://machinelearningmastery.com/time-series-prediction-lstm-recurrent-neural-networks-python-keras/"
      ]
    },
    {
      "cell_type": "code",
      "metadata": {
        "id": "aXKas5PI04X9"
      },
      "source": [
        "def df_to_rnn_scaling(df, look_back=5, target_column='target'): #, test_size=0.5\n",
        "    df = df.copy()\n",
        "\n",
        "    # move traget function to last column of the dataframe\n",
        "    df['target'] = df[target_column] # Make a copy of the target column to the last column\n",
        "    df = df.drop(columns=[target_column]) # Drop the original target column\n",
        "    \n",
        "    target_location = df.shape[1] - 1 # column index number of target\n",
        "\n",
        "    \n",
        "    #Split with day of the month\n",
        "    s =pd.to_datetime(data.index).day.tolist()\n",
        "\n",
        "    split_index_val = s.index(15) #validation set is cover on 3th week\n",
        "    split_index_test = s.index(23) #test set covers last week\n",
        "    '''\n",
        "    \n",
        "    #Split with month\n",
        "    s =pd.to_datetime(df.index).month\n",
        "    d = pd.to_datetime(df.index).day\n",
        "\n",
        "    split_index_val = np.where((s == 4))[0][0]\n",
        "    split_index_test = np.where((s == 5) )[0][0] #& (d == 11)\n",
        "    split_index_end = np.where((s == 6) )[0][0]\n",
        "    '''\n",
        "    train = df[:split_index_val]\n",
        "    val = df[split_index_val:split_index_test]\n",
        "    test = df[split_index_test:] #split_index_end\n",
        "   \n",
        "    # features scaling\n",
        "    scaler = MinMaxScaler()\n",
        "    # fit scaler\n",
        "    scaler.fit(train)\n",
        "    # transform training dataset\n",
        "    train = scaler.transform(train)\n",
        "    # transform validation dataset\n",
        "    val = scaler.transform(val)\n",
        "    # transform test dataset\n",
        "    test = scaler.transform(test)\n",
        "\n",
        "    # ...train\n",
        "    X_train = train[:, :target_location]\n",
        "    y_train = train[:, target_location]\n",
        "\n",
        "    # ...validation\n",
        "    X_val = val[:, :target_location]\n",
        "    y_val = val[:, target_location]\n",
        "\n",
        "    # ...test\n",
        "    X_test = test[:, :target_location] \n",
        "    y_test = test[:, target_location] \n",
        "        \n",
        "    # Reshape the arrays\n",
        "    num_features = target_location # All columns before the target column are features\n",
        "\n",
        "    # train\n",
        "    samples_train = X_train.shape[0] - look_back\n",
        "    X_train_reshaped = np.zeros((samples_train, look_back, num_features)) # Initialize the required dataframe with an zeros array.\n",
        "    y_train_reshaped = np.zeros((samples_train))\n",
        "\n",
        "    for i in range(samples_train):\n",
        "        y_position = i + look_back\n",
        "        X_train_reshaped[i] = X_train[i:y_position]\n",
        "        y_train_reshaped[i] = y_train[y_position]\n",
        "\n",
        "    # validation\n",
        "    samples_val = X_val.shape[0] - look_back\n",
        "    X_val_reshaped = np.zeros((samples_val, look_back, num_features)) \n",
        "    y_val_reshaped = np.zeros((samples_val))\n",
        "\n",
        "    for i in range(samples_val):\n",
        "        y_position = i + look_back\n",
        "        X_val_reshaped[i] = X_val[i:y_position]\n",
        "        y_val_reshaped[i] = y_val[y_position]\n",
        "\n",
        "    # test\n",
        "    samples_test = X_test.shape[0] - look_back\n",
        "    X_test_reshaped = np.zeros((samples_test, look_back, num_features))\n",
        "    y_test_reshaped = np.zeros((samples_test))\n",
        "\n",
        "    for i in range(samples_test):\n",
        "        y_position = i + look_back\n",
        "        X_test_reshaped[i] = X_test[i:y_position]\n",
        "        y_test_reshaped[i] = y_test[y_position]\n",
        "    \n",
        "    return X_train_reshaped, y_train_reshaped, X_val_reshaped, y_val_reshaped, X_test_reshaped, y_test_reshaped, split_index_test, scaler"
      ],
      "execution_count": null,
      "outputs": []
    },
    {
      "cell_type": "code",
      "metadata": {
        "id": "SFFvVhA47SBl"
      },
      "source": [
        "X_train, y_train, X_val, y_val, X_test, y_test, split_index_test, scaler = df_to_rnn_scaling(df=data, look_back=look_back, target_column='Driving_time_s')"
      ],
      "execution_count": null,
      "outputs": []
    },
    {
      "cell_type": "code",
      "metadata": {
        "id": "Kk6vef9-KAw3",
        "colab": {
          "base_uri": "https://localhost:8080/"
        },
        "outputId": "a8948745-c527-4f5d-ff43-3f57c9e75335"
      },
      "source": [
        "look_back"
      ],
      "execution_count": null,
      "outputs": [
        {
          "output_type": "execute_result",
          "data": {
            "text/plain": [
              "11"
            ]
          },
          "metadata": {
            "tags": []
          },
          "execution_count": 45
        }
      ]
    },
    {
      "cell_type": "code",
      "metadata": {
        "id": "6pcU1kHX8ZFR",
        "colab": {
          "base_uri": "https://localhost:8080/"
        },
        "outputId": "3a125464-7c56-419d-eee8-70af9d64af84"
      },
      "source": [
        "print('X_train_shape: ', X_train.shape,' ', 'X_val_shape: ', X_val.shape,' ', 'X_test_shape: ', X_test.shape)\n",
        "print('y_train_shape: ', y_train.shape,' ', 'y_val_shape: ', y_val.shape,' ', 'y_test_shape: ', y_test.shape)\n",
        "print(look_back, num_features)"
      ],
      "execution_count": null,
      "outputs": [
        {
          "output_type": "stream",
          "text": [
            "X_train_shape:  (6659, 11, 25)   X_val_shape:  (3827, 11, 25)   X_test_shape:  (979, 11, 25)\n",
            "y_train_shape:  (6659,)   y_val_shape:  (3827,)   y_test_shape:  (979,)\n",
            "11 25\n"
          ],
          "name": "stdout"
        }
      ]
    },
    {
      "cell_type": "code",
      "metadata": {
        "id": "feIvsKi2Tfeq",
        "colab": {
          "base_uri": "https://localhost:8080/"
        },
        "outputId": "efe9ded6-392c-45c7-ead5-2af27bec5864"
      },
      "source": [
        "date_time = pd.to_datetime(data.index)\n",
        "#plot_cols = ['T (degC)', 'p (mbar)', 'rho (g/m**3)']\n",
        "plot_features = data['Driving_time_s']\n",
        "plot_features.index = date_time\n",
        "_ = plot_features.plot()\n"
      ],
      "execution_count": null,
      "outputs": [
        {
          "output_type": "display_data",
          "data": {
            "image/png": "[encoded data removed]",
            "text/plain": [
              "<Figure size 432x288 with 1 Axes>"
            ]
          },
          "metadata": {
            "tags": [],
            "needs_background": "light"
          }
        }
      ]
    },
    {
      "cell_type": "code",
      "metadata": {
        "id": "wP2UFiMCRAnn"
      },
      "source": [
        "#check that this month data contains weekend?\n",
        "#data.loc[(pd.to_datetime(data.index).month == month)& (data['dayofweek_6']== 1) ]"
      ],
      "execution_count": null,
      "outputs": []
    },
    {
      "cell_type": "markdown",
      "metadata": {
        "id": "Y6VYHgkItcXb"
      },
      "source": [
        "# LSTM model"
      ]
    },
    {
      "cell_type": "code",
      "metadata": {
        "id": "GaHBG9ECuror",
        "colab": {
          "base_uri": "https://localhost:8080/"
        },
        "outputId": "07163246-7eb1-473c-bfbb-b0623a1c9d84"
      },
      "source": [
        "!pip show keras"
      ],
      "execution_count": null,
      "outputs": [
        {
          "output_type": "stream",
          "text": [
            "Name: Keras\n",
            "Version: 2.4.3\n",
            "Summary: Deep Learning for humans\n",
            "Home-page: https://github.com/keras-team/keras\n",
            "Author: Francois Chollet\n",
            "Author-email: francois.chollet@gmail.com\n",
            "License: MIT\n",
            "Location: /usr/local/lib/python3.6/dist-packages\n",
            "Requires: h5py, scipy, numpy, pyyaml\n",
            "Required-by: textgenrnn, keras-vis, kapre, fancyimpute\n"
          ],
          "name": "stdout"
        }
      ]
    },
    {
      "cell_type": "code",
      "metadata": {
        "id": "9GclneuEBd4u"
      },
      "source": [
        "#!pip install tf-nightly"
      ],
      "execution_count": null,
      "outputs": []
    },
    {
      "cell_type": "code",
      "metadata": {
        "id": "OwCYWdLS_OOX",
        "colab": {
          "base_uri": "https://localhost:8080/"
        },
        "outputId": "ab86a2b2-c0d7-473a-f9be-d455cd3c75d4"
      },
      "source": [
        "# TensorFlow ≥2.0 is required\n",
        "import tensorflow as tf\n",
        "assert tf.__version__ >= \"2.0\"\n",
        "\n",
        "from tensorflow import keras\n",
        "from keras.layers import LeakyReLU\n",
        "from keras.layers.normalization import BatchNormalization\n",
        "keras.backend.clear_session()\n",
        "from keras.optimizers import Adam, SGD, Nadam\n",
        "!pip install livelossplot\n",
        "from livelossplot import PlotLossesKeras\n",
        "#from keras.experimental import CosineDecayRestarts\n",
        "\n",
        "from keras.models import load_model\n",
        "\n",
        "from keras.callbacks import EarlyStopping, TensorBoard, ModelCheckpoint\n",
        "from keras.constraints import min_max_norm"
      ],
      "execution_count": null,
      "outputs": [
        {
          "output_type": "stream",
          "text": [
            "Collecting livelossplot\n",
            "  Downloading https://files.pythonhosted.org/packages/0f/08/1884157a3de72d41fa97cacacafaa49abf00eba53cb7e08615b2b65b4a9d/livelossplot-0.5.3-py3-none-any.whl\n",
            "Requirement already satisfied: ipython in /usr/local/lib/python3.6/dist-packages (from livelossplot) (5.5.0)\n",
            "Requirement already satisfied: matplotlib; python_version >= \"3.6\" in /usr/local/lib/python3.6/dist-packages (from livelossplot) (3.2.2)\n",
            "Requirement already satisfied: bokeh; python_version >= \"3.6\" in /usr/local/lib/python3.6/dist-packages (from livelossplot) (2.1.1)\n",
            "Requirement already satisfied: traitlets>=4.2 in /usr/local/lib/python3.6/dist-packages (from ipython->livelossplot) (4.3.3)\n",
            "Requirement already satisfied: pickleshare in /usr/local/lib/python3.6/dist-packages (from ipython->livelossplot) (0.7.5)\n",
            "Requirement already satisfied: simplegeneric>0.8 in /usr/local/lib/python3.6/dist-packages (from ipython->livelossplot) (0.8.1)\n",
            "Requirement already satisfied: setuptools>=18.5 in /usr/local/lib/python3.6/dist-packages (from ipython->livelossplot) (51.3.3)\n",
            "Requirement already satisfied: pexpect; sys_platform != \"win32\" in /usr/local/lib/python3.6/dist-packages (from ipython->livelossplot) (4.8.0)\n",
            "Requirement already satisfied: prompt-toolkit<2.0.0,>=1.0.4 in /usr/local/lib/python3.6/dist-packages (from ipython->livelossplot) (1.0.18)\n",
            "Requirement already satisfied: pygments in /usr/local/lib/python3.6/dist-packages (from ipython->livelossplot) (2.6.1)\n",
            "Requirement already satisfied: decorator in /usr/local/lib/python3.6/dist-packages (from ipython->livelossplot) (4.4.2)\n",
            "Requirement already satisfied: numpy>=1.11 in /usr/local/lib/python3.6/dist-packages (from matplotlib; python_version >= \"3.6\"->livelossplot) (1.19.5)\n",
            "Requirement already satisfied: python-dateutil>=2.1 in /usr/local/lib/python3.6/dist-packages (from matplotlib; python_version >= \"3.6\"->livelossplot) (2.8.1)\n",
            "Requirement already satisfied: kiwisolver>=1.0.1 in /usr/local/lib/python3.6/dist-packages (from matplotlib; python_version >= \"3.6\"->livelossplot) (1.3.1)\n",
            "Requirement already satisfied: pyparsing!=2.0.4,!=2.1.2,!=2.1.6,>=2.0.1 in /usr/local/lib/python3.6/dist-packages (from matplotlib; python_version >= \"3.6\"->livelossplot) (2.4.7)\n",
            "Requirement already satisfied: cycler>=0.10 in /usr/local/lib/python3.6/dist-packages (from matplotlib; python_version >= \"3.6\"->livelossplot) (0.10.0)\n",
            "Requirement already satisfied: Jinja2>=2.7 in /usr/local/lib/python3.6/dist-packages (from bokeh; python_version >= \"3.6\"->livelossplot) (2.11.2)\n",
            "Requirement already satisfied: PyYAML>=3.10 in /usr/local/lib/python3.6/dist-packages (from bokeh; python_version >= \"3.6\"->livelossplot) (3.13)\n",
            "Requirement already satisfied: packaging>=16.8 in /usr/local/lib/python3.6/dist-packages (from bokeh; python_version >= \"3.6\"->livelossplot) (20.8)\n",
            "Requirement already satisfied: typing-extensions>=3.7.4 in /usr/local/lib/python3.6/dist-packages (from bokeh; python_version >= \"3.6\"->livelossplot) (3.7.4.3)\n",
            "Requirement already satisfied: tornado>=5.1 in /usr/local/lib/python3.6/dist-packages (from bokeh; python_version >= \"3.6\"->livelossplot) (5.1.1)\n",
            "Requirement already satisfied: pillow>=4.0 in /usr/local/lib/python3.6/dist-packages (from bokeh; python_version >= \"3.6\"->livelossplot) (7.0.0)\n",
            "Requirement already satisfied: six in /usr/local/lib/python3.6/dist-packages (from traitlets>=4.2->ipython->livelossplot) (1.15.0)\n",
            "Requirement already satisfied: ipython-genutils in /usr/local/lib/python3.6/dist-packages (from traitlets>=4.2->ipython->livelossplot) (0.2.0)\n",
            "Requirement already satisfied: ptyprocess>=0.5 in /usr/local/lib/python3.6/dist-packages (from pexpect; sys_platform != \"win32\"->ipython->livelossplot) (0.7.0)\n",
            "Requirement already satisfied: wcwidth in /usr/local/lib/python3.6/dist-packages (from prompt-toolkit<2.0.0,>=1.0.4->ipython->livelossplot) (0.2.5)\n",
            "Requirement already satisfied: MarkupSafe>=0.23 in /usr/local/lib/python3.6/dist-packages (from Jinja2>=2.7->bokeh; python_version >= \"3.6\"->livelossplot) (1.1.1)\n",
            "Installing collected packages: livelossplot\n",
            "Successfully installed livelossplot-0.5.3\n"
          ],
          "name": "stdout"
        }
      ]
    },
    {
      "cell_type": "code",
      "metadata": {
        "id": "bH9RTE-WE8Wn"
      },
      "source": [
        "#!pip install tf-nightly"
      ],
      "execution_count": null,
      "outputs": []
    },
    {
      "cell_type": "code",
      "metadata": {
        "id": "Ez8KtxXLcpTu",
        "colab": {
          "base_uri": "https://localhost:8080/"
        },
        "outputId": "be00a734-c268-4bba-8421-d3684a3d12dc"
      },
      "source": [
        "'''device_name = tf.test.gpu_device_name()\n",
        "if device_name != '/device:GPU:0':\n",
        "  raise SystemError('GPU device not found')\n",
        "print('Found GPU at: {}'.format(device_name))'''"
      ],
      "execution_count": null,
      "outputs": [
        {
          "output_type": "execute_result",
          "data": {
            "application/vnd.google.colaboratory.intrinsic+json": {
              "type": "string"
            },
            "text/plain": [
              "\"device_name = tf.test.gpu_device_name()\\nif device_name != '/device:GPU:0':\\n  raise SystemError('GPU device not found')\\nprint('Found GPU at: {}'.format(device_name))\""
            ]
          },
          "metadata": {
            "tags": []
          },
          "execution_count": 53
        }
      ]
    },
    {
      "cell_type": "markdown",
      "metadata": {
        "id": "zHrjrugr1gNp"
      },
      "source": [
        "LSTM model\n",
        "\n"
      ]
    },
    {
      "cell_type": "code",
      "metadata": {
        "id": "TGdkNlOQJ2qR",
        "colab": {
          "base_uri": "https://localhost:8080/"
        },
        "outputId": "c2446c35-98a4-44f4-c7f5-da4070a04770"
      },
      "source": [
        "num_features"
      ],
      "execution_count": null,
      "outputs": [
        {
          "output_type": "execute_result",
          "data": {
            "text/plain": [
              "25"
            ]
          },
          "metadata": {
            "tags": []
          },
          "execution_count": 54
        }
      ]
    },
    {
      "cell_type": "code",
      "metadata": {
        "id": "NdeqWRzNzV1I"
      },
      "source": [
        "def LSTM_train(X_train = X_train, y_train = y_train, X_val = X_val, y_val = y_val,\n",
        "               X_test = X_test, y_test = y_test, look_back = look_back, num_features = num_features,\n",
        "               n_layers = 2, n_neurons = 64, bs_double = 4):\n",
        "\n",
        "    # to make this notebook's output stable across runs but it doesn't work with search logic.\n",
        "    np.random.seed(42)\n",
        "    tf.random.set_seed(42)\n",
        "\n",
        "    bs = 2**bs_double\n",
        "    bs_name = str(bs)\n",
        "\n",
        "    callback = keras.callbacks.EarlyStopping(monitor='val_loss', patience=5)\n",
        "\n",
        "    checkpoint1 = ModelCheckpoint(\"/content/drive/My Drive/Colab Notebooks/Thesis/best model/LSTMGA_update_best_mse_\"+path_end+bs_name+\".hdf5\", monitor='val_loss', verbose=1, save_best_only=True, mode='min')\n",
        "    #checkpoint2 = ModelCheckpoint(\"/content/drive/My Drive/Colab Notebooks/Thesis/best model/LSTMGA_update_best_rmse_\"+path_end+bs_name+\".hdf5\", monitor='val_root_mean_squared_error', verbose=1, save_best_only=True, mode='min')\n",
        "    #checkpoint3 = ModelCheckpoint(\"/content/drive/My Drive/Colab Notebooks/Thesis/best model/LSTMGA_update_best_mae_\"+path_end+bs_name+\".hdf5\", monitor='val_mae', verbose=1, save_best_only=True, mode='min')\n",
        "\n",
        "    \n",
        "    #crate model\n",
        "    model = keras.models.Sequential() \n",
        "    #model.add(BatchNormalization(name = 'batch_norm_0', batch_input_shape= (bs, look_back, num_features))) #\n",
        "    #model.add(keras.layers.Bidirectional(keras.layers.LSTM(n_neurons, name = 'bidi_01', return_sequences = True)))\n",
        "    #model.add(keras.layers.Bidirectional(keras.layers.LSTM(int(n_neurons/2), name = 'bidi_02', return_sequences = True)))\n",
        "\n",
        "    #Hidden Layer 1\n",
        "    \n",
        "    model.add(keras.layers.LSTM(n_neurons, name = 'lstm_1', batch_input_shape= (bs, look_back, num_features), return_sequences=True, stateful=True, kernel_initializer='TruncatedNormal'))#, activation='relu'))\n",
        "    model.add(LeakyReLU(name = 'leaky_relu_1'))\n",
        "    model.add(keras.layers.Dropout(0.2, name = 'dropout_1'))\n",
        "    model.add(BatchNormalization(name = 'batch_norm_1'))\n",
        "\n",
        "    # Adds remaining hidden layers\n",
        "    for i in range(2, n_layers + 1):\n",
        "        if i == n_layers:\n",
        "            #model.add(keras.layers.Bidirectional(keras.layers.LSTM(n_neurons, name = 'lstm_{}'.format(i), return_sequences=False, stateful= False, kernel_initializer='TruncatedNormal', use_bias=False, activation='relu'))) #\n",
        "            model.add(keras.layers.LSTM(n_neurons, name = 'lstm_{}'.format(i), return_sequences=False, stateful= True, kernel_initializer='TruncatedNormal', use_bias=False, activation='relu')) #\n",
        "            model.add(keras.layers.Dropout(0.2, name = 'dropout_{}'.format(i)))\n",
        "            model.add(BatchNormalization(name = 'batch_norm_{}'.format(i)))\n",
        "        else:\n",
        "            #model.add(keras.layers.Bidirectional(keras.layers.LSTM(n_neurons, name = 'bidi_{}'.format(i), return_sequences = True)))\n",
        "            model.add(keras.layers.LSTM(n_neurons, name = 'lstm_{}'.format(i), return_sequences=True, stateful=True, kernel_initializer='TruncatedNormal', use_bias=False)) #,\n",
        "                            #name='h{}'.format(i)))#, activation='relu'))\n",
        "            model.add(LeakyReLU(name = 'leaky_relu_{}'.format(i)))\n",
        "            model.add(keras.layers.Dropout(0.2, name = 'dropout_{}'.format(i)))\n",
        "            model.add(BatchNormalization(name = 'batch_norm_{}'.format(i)))\n",
        "\n",
        "    #Layer output\n",
        "    model.add(keras.layers.Dense(1))\n",
        " \n",
        "    '''\n",
        "    #crate model\n",
        "    model = keras.models.Sequential() \n",
        "    model.add(BatchNormalization(name = 'batch_norm_0', input_shape = (look_back, num_features)))\n",
        "    #Hidden Layer 1\n",
        "    model.add(keras.layers.LSTM(n_neurons, name = 'lstm_1', return_sequences=True, kernel_initializer='TruncatedNormal'))#, activation='relu'))\n",
        "    model.add(LeakyReLU())\n",
        "    model.add(keras.layers.Dropout(0.01, name = 'dropout_1'))\n",
        "    model.add(BatchNormalization(name = 'batch_norm_1'))\n",
        "\n",
        "    # Adds remaining hidden layers\n",
        "    for i in range(2, n_layers + 1):\n",
        "        if i == n_layers:\n",
        "            model.add(keras.layers.LSTM(n_neurons, name = 'lstm_{}'.format(i), return_sequences=False, kernel_initializer='TruncatedNormal', use_bias=False, activation='relu'))\n",
        "            model.add(keras.layers.Dropout(0.01, name = 'dropout_{}'.format(i)))\n",
        "            model.add(BatchNormalization(name = 'batch_norm_{}'.format(i)))\n",
        "        else:\n",
        "            model.add(keras.layers.LSTM(n_neurons*(2**i), name = 'lstm_{}'.format(i), return_sequences=True, kernel_initializer='TruncatedNormal', use_bias=False)) #,\n",
        "                            #name='h{}'.format(i)))#, activation='relu'))\n",
        "            model.add(LeakyReLU())\n",
        "            model.add(keras.layers.Dropout(0.01, name = 'dropout_{}'.format(i)))\n",
        "            model.add(BatchNormalization(name = 'batch_norm_{}'.format(i)))\n",
        "\n",
        "    #Layer output\n",
        "    model.add(keras.layers.Dense(1)) #,  kernel_constraint = NonNeg , activation='relu', kernel_constraint = min_max_norm(min_value=0.0, max_value=1.0 )\n",
        "    '''\n",
        "    #set learning rate and optimizer\n",
        "    lr=1.e-3\n",
        "    '''\n",
        "    n_steps=2000\n",
        "    global_step=1\n",
        "    LR = keras.experimental.CosineDecayRestarts(\n",
        "        initial_learning_rate=lr,\n",
        "        first_decay_steps=n_steps,\n",
        "        t_mul= 1.5,\n",
        "        m_mul= 1,\n",
        "        alpha=0.1,\n",
        "        name=None\n",
        "    )\n",
        "    '''\n",
        "    adam = Adam(learning_rate=lr) #, weight_decay=1e-5)\n",
        "\n",
        "\n",
        "    model.compile(loss=\"mean_squared_error\", optimizer=adam, metrics=['RootMeanSquaredError', 'mae'])\n",
        "\n",
        "    model.fit(X_train, y_train, epochs=50, batch_size=bs, callbacks=[callback, checkpoint1], # checkpoint2, checkpoint3, PlotLossesKeras()\n",
        "              validation_data=(X_val, y_val)) #, shuffle=False\n",
        "    #model.reset_states\n",
        "  \n",
        "    # Load the architecture\n",
        "    model = load_model(\"/content/drive/My Drive/Colab Notebooks/Thesis/best model/LSTMGA_update_best_mse_\"+path_end+bs_name+\".hdf5\")\n",
        "\n",
        "    # Compile with the same settings as it has been saved with earlier\n",
        "    #model.compile(loss=\"mean_squared_error\", optimizer=adam, metrics=['RootMeanSquaredError', 'mae'])\n",
        "\n",
        "    # Calculate the RMSE score as fitness score for GA\n",
        "    rmse = model.evaluate(X_val, y_val)[1]\n",
        "    #print('Validation RMSE: ', rmse,'\\n')\n",
        "    \n",
        "    return rmse,"
      ],
      "execution_count": null,
      "outputs": []
    },
    {
      "cell_type": "code",
      "metadata": {
        "id": "-fC3uALkfQ3U",
        "colab": {
          "base_uri": "https://localhost:8080/"
        },
        "outputId": "973a9719-b666-43bd-9c1a-26f554d66e27"
      },
      "source": [
        "!pip install ipython-autotime\n",
        "\n",
        "%load_ext autotime"
      ],
      "execution_count": null,
      "outputs": [
        {
          "output_type": "stream",
          "text": [
            "Collecting ipython-autotime\n",
            "  Downloading https://files.pythonhosted.org/packages/b4/c9/b413a24f759641bc27ef98c144b590023c8038dfb8a3f09e713e9dff12c1/ipython_autotime-0.3.1-py2.py3-none-any.whl\n",
            "Requirement already satisfied: ipython in /usr/local/lib/python3.6/dist-packages (from ipython-autotime) (5.5.0)\n",
            "Requirement already satisfied: pygments in /usr/local/lib/python3.6/dist-packages (from ipython->ipython-autotime) (2.6.1)\n",
            "Requirement already satisfied: simplegeneric>0.8 in /usr/local/lib/python3.6/dist-packages (from ipython->ipython-autotime) (0.8.1)\n",
            "Requirement already satisfied: setuptools>=18.5 in /usr/local/lib/python3.6/dist-packages (from ipython->ipython-autotime) (51.3.3)\n",
            "Requirement already satisfied: pickleshare in /usr/local/lib/python3.6/dist-packages (from ipython->ipython-autotime) (0.7.5)\n",
            "Requirement already satisfied: prompt-toolkit<2.0.0,>=1.0.4 in /usr/local/lib/python3.6/dist-packages (from ipython->ipython-autotime) (1.0.18)\n",
            "Requirement already satisfied: pexpect; sys_platform != \"win32\" in /usr/local/lib/python3.6/dist-packages (from ipython->ipython-autotime) (4.8.0)\n",
            "Requirement already satisfied: traitlets>=4.2 in /usr/local/lib/python3.6/dist-packages (from ipython->ipython-autotime) (4.3.3)\n",
            "Requirement already satisfied: decorator in /usr/local/lib/python3.6/dist-packages (from ipython->ipython-autotime) (4.4.2)\n",
            "Requirement already satisfied: wcwidth in /usr/local/lib/python3.6/dist-packages (from prompt-toolkit<2.0.0,>=1.0.4->ipython->ipython-autotime) (0.2.5)\n",
            "Requirement already satisfied: six>=1.9.0 in /usr/local/lib/python3.6/dist-packages (from prompt-toolkit<2.0.0,>=1.0.4->ipython->ipython-autotime) (1.15.0)\n",
            "Requirement already satisfied: ptyprocess>=0.5 in /usr/local/lib/python3.6/dist-packages (from pexpect; sys_platform != \"win32\"->ipython->ipython-autotime) (0.7.0)\n",
            "Requirement already satisfied: ipython-genutils in /usr/local/lib/python3.6/dist-packages (from traitlets>=4.2->ipython->ipython-autotime) (0.2.0)\n",
            "Installing collected packages: ipython-autotime\n",
            "Successfully installed ipython-autotime-0.3.1\n",
            "time: 173 µs (started: 2021-01-25 22:37:48 +00:00)\n"
          ],
          "name": "stdout"
        }
      ]
    },
    {
      "cell_type": "markdown",
      "metadata": {
        "id": "dUuJxgIPeoM4"
      },
      "source": [
        "# Using genetic algorithms to fine-tune hyperparameters in the model\n",
        "\n",
        "time window size = look back\n",
        "\n",
        "number of unit = nuerons in hidden layers\n",
        "\n",
        "[code adapted from https://blog.coast.ai/lets-evolve-a-neural-network-with-a-genetic-algorithm-code-included-8809bece164]"
      ]
    },
    {
      "cell_type": "code",
      "metadata": {
        "id": "G07oJKZ6nvnB",
        "colab": {
          "base_uri": "https://localhost:8080/"
        },
        "outputId": "8ff96a94-0b2d-4934-d96a-1f3159d4f74c"
      },
      "source": [
        "nn_param_choices = {\n",
        "    'n_neurons': [16, 32, 64, 128], #, 512, 768, 1024\n",
        "    'n_layers': [2, 3, 4], #\n",
        "    'bs_double': [4, 5, 6, 7, 8, 9, 10], # , 4, 5, 6, 7, 8, 9, 10\n",
        "    'n_timewindow' : [0.5, 1, 1.5, 2], #0.5, 1, 1.5, 2\n",
        "    \n",
        "}\n",
        "network = {} #vector\n",
        "count = 10 # Number of population in each generation.\n",
        "generations = 5  # Number of times to produce the generation.\n",
        "retain=0.4 # the of population that will keep from the current gen to next gen.\n",
        "random_select=0.1 # randomly keep the abandon vectors by compare a random number with this value.\n",
        "mutate_chance=0.2 # Randomly mutate the children that have a random number higher than this number.\n"
      ],
      "execution_count": null,
      "outputs": [
        {
          "output_type": "stream",
          "text": [
            "time: 6.51 ms (started: 2021-01-25 22:37:48 +00:00)\n"
          ],
          "name": "stdout"
        }
      ]
    },
    {
      "cell_type": "code",
      "metadata": {
        "id": "gWr0kflMiIh4",
        "colab": {
          "base_uri": "https://localhost:8080/"
        },
        "outputId": "a0754158-0f90-4db0-fec7-ae07e93c35dc"
      },
      "source": [
        "#create a random vector(network)\n",
        "def create_rand(nn_param_choices):\n",
        "  for key in nn_param_choices:\n",
        "    network[key] = random.choice(nn_param_choices[key])\n",
        "  return network"
      ],
      "execution_count": null,
      "outputs": [
        {
          "output_type": "stream",
          "text": [
            "time: 1.54 ms (started: 2021-01-25 22:37:49 +00:00)\n"
          ],
          "name": "stdout"
        }
      ]
    },
    {
      "cell_type": "code",
      "metadata": {
        "id": "wmzmk8GMpMRu",
        "colab": {
          "base_uri": "https://localhost:8080/"
        },
        "outputId": "29c445c4-4376-4ca7-93b9-aec146bf2907"
      },
      "source": [
        "#create population from the create_rand function as prerequisite size\n",
        "def create_population(nn_param_choices, count):\n",
        "  pop = []\n",
        "  for _ in range(0, count):\n",
        "      n = create_rand(nn_param_choices).copy()\n",
        "      pop.append(n)\n",
        "  return pop"
      ],
      "execution_count": null,
      "outputs": [
        {
          "output_type": "stream",
          "text": [
            "time: 5.15 ms (started: 2021-01-25 22:37:49 +00:00)\n"
          ],
          "name": "stdout"
        }
      ]
    },
    {
      "cell_type": "code",
      "metadata": {
        "id": "rnk7dNzqImYJ",
        "colab": {
          "base_uri": "https://localhost:8080/"
        },
        "outputId": "becaf734-4ca7-4d57-e9c7-a7a3cfa0a5b7"
      },
      "source": [
        "#train each vector in population to get fitness value\n",
        "def train_networks(networks, data= data):\n",
        "    pbar = tqdm(total=len(networks))\n",
        "    accuracy = []\n",
        "    for network in networks:\n",
        "        print(network)\n",
        "        print(network['n_neurons'])\n",
        "        look_back = round(size_trip*network['n_timewindow'])\n",
        "        X_train, y_train, X_val, y_val, X_test, y_test, split_index_test, scaler = df_to_rnn_scaling(df=data, look_back=look_back, target_column='Driving_time_s')\n",
        "        accuracy.append(LSTM_train(X_train, y_train, X_val, y_val, X_test, y_test , look_back , n_neurons= network['n_neurons'], n_layers= network['n_layers'], bs_double= network['bs_double']))\n",
        "        pbar.update(1)\n",
        "    pbar.close()\n",
        "    return accuracy"
      ],
      "execution_count": null,
      "outputs": [
        {
          "output_type": "stream",
          "text": [
            "time: 13.2 ms (started: 2021-01-25 22:37:49 +00:00)\n"
          ],
          "name": "stdout"
        }
      ]
    },
    {
      "cell_type": "code",
      "metadata": {
        "id": "KtagokRzADK3",
        "colab": {
          "base_uri": "https://localhost:8080/"
        },
        "outputId": "8620fd6e-6121-4210-e671-a47f219152bc"
      },
      "source": [
        "networks = create_population(nn_param_choices, count)\n",
        "networks"
      ],
      "execution_count": null,
      "outputs": [
        {
          "output_type": "execute_result",
          "data": {
            "text/plain": [
              "[{'bs_double': 10, 'n_layers': 4, 'n_neurons': 32, 'n_timewindow': 2},\n",
              " {'bs_double': 5, 'n_layers': 4, 'n_neurons': 32, 'n_timewindow': 2},\n",
              " {'bs_double': 7, 'n_layers': 3, 'n_neurons': 32, 'n_timewindow': 1},\n",
              " {'bs_double': 8, 'n_layers': 4, 'n_neurons': 64, 'n_timewindow': 1.5},\n",
              " {'bs_double': 7, 'n_layers': 3, 'n_neurons': 32, 'n_timewindow': 1.5},\n",
              " {'bs_double': 9, 'n_layers': 3, 'n_neurons': 64, 'n_timewindow': 2},\n",
              " {'bs_double': 6, 'n_layers': 3, 'n_neurons': 32, 'n_timewindow': 1},\n",
              " {'bs_double': 7, 'n_layers': 2, 'n_neurons': 16, 'n_timewindow': 1.5},\n",
              " {'bs_double': 8, 'n_layers': 4, 'n_neurons': 64, 'n_timewindow': 1},\n",
              " {'bs_double': 4, 'n_layers': 3, 'n_neurons': 16, 'n_timewindow': 1}]"
            ]
          },
          "metadata": {
            "tags": []
          },
          "execution_count": 62
        },
        {
          "output_type": "stream",
          "text": [
            "time: 6.15 ms (started: 2021-01-25 22:37:59 +00:00)\n"
          ],
          "name": "stdout"
        }
      ]
    },
    {
      "cell_type": "code",
      "metadata": {
        "id": "c1kKfJvZLVem",
        "colab": {
          "base_uri": "https://localhost:8080/"
        },
        "outputId": "2d84f763-36db-41ef-bd3f-8de3f9bca7b7"
      },
      "source": [
        "#networks[1]['n_timewindow']\n",
        "#networks == [{'bs_double': 9, 'n_layers': 2, 'n_neurons': 128, 'n_timewindow': 0.5}]\n",
        "#networks.index({'bs_double': 8, 'n_layers': 2, 'n_neurons': 128, 'n_timewindow': 0.5})\n",
        "#{'bs_double': 9, 'n_layers': 2, 'n_neurons': 128, 'n_timewindow': 0.5} in networks\n",
        "networks[:3]"
      ],
      "execution_count": null,
      "outputs": [
        {
          "output_type": "execute_result",
          "data": {
            "text/plain": [
              "[{'bs_double': 8, 'n_layers': 4, 'n_neurons': 64, 'n_timewindow': 2},\n",
              " {'bs_double': 8, 'n_layers': 4, 'n_neurons': 128, 'n_timewindow': 1.5},\n",
              " {'bs_double': 8, 'n_layers': 4, 'n_neurons': 128, 'n_timewindow': 0.5}]"
            ]
          },
          "metadata": {
            "tags": []
          },
          "execution_count": 150
        },
        {
          "output_type": "stream",
          "text": [
            "time: 7.85 ms (started: 2021-01-14 16:33:46 +00:00)\n"
          ],
          "name": "stdout"
        }
      ]
    },
    {
      "cell_type": "code",
      "metadata": {
        "id": "MatFWkKGZYR6",
        "colab": {
          "base_uri": "https://localhost:8080/"
        },
        "outputId": "ff7c6a4d-cbf8-4095-fa24-56525086ef90"
      },
      "source": [
        "#offspring children by crossover then two new children are produced\n",
        "def breed(mother, father, nn_param_choices = nn_param_choices, mutate_chance=0.2):\n",
        "    children = []\n",
        "    for _ in range(2):\n",
        "\n",
        "        child = {}\n",
        "\n",
        "        if _ == 1:\n",
        "            for param in nn_param_choices:\n",
        "                if children[0][param] == mother[param]:\n",
        "                    child[param] = father[param]\n",
        "                else:\n",
        "                    child[param] = mother[param]\n",
        "        else:\n",
        "            # Loop through the parameters\n",
        "            for param in nn_param_choices:\n",
        "                child[param] = random.choice(\n",
        "                    [mother[param], father[param]]\n",
        "                )\n",
        "\n",
        "        # Randomly mutate some of the children.\n",
        "        if mutate_chance > random.random():\n",
        "            network = mutate(child)\n",
        "\n",
        "        children.append(child)\n",
        "\n",
        "    return children"
      ],
      "execution_count": null,
      "outputs": [
        {
          "output_type": "stream",
          "text": [
            "time: 9.14 ms (started: 2021-01-25 22:38:07 +00:00)\n"
          ],
          "name": "stdout"
        }
      ]
    },
    {
      "cell_type": "code",
      "metadata": {
        "id": "b-YPo5YUepX5",
        "colab": {
          "base_uri": "https://localhost:8080/"
        },
        "outputId": "975343ac-7c7b-45b9-dc3d-18611099e62b"
      },
      "source": [
        "#mutate some part of hyperparameter set\n",
        "def mutate(child):\n",
        "    # Choose a random parm.\n",
        "    mutation = random.choice(list(nn_param_choices.keys()))\n",
        "\n",
        "    # Mutate the random params.\n",
        "    child[mutation] = random.choice(nn_param_choices[mutation])\n",
        "\n",
        "    return child"
      ],
      "execution_count": null,
      "outputs": [
        {
          "output_type": "stream",
          "text": [
            "time: 2.29 ms (started: 2021-01-25 22:38:10 +00:00)\n"
          ],
          "name": "stdout"
        }
      ]
    },
    {
      "cell_type": "code",
      "metadata": {
        "id": "ncHTzX3BOomW",
        "colab": {
          "base_uri": "https://localhost:8080/"
        },
        "outputId": "e0465c07-1e11-454e-8fee-ae62f50b5515"
      },
      "source": [
        "#evolve function to generate a new generation\n",
        "def evolve(networks, parent_accuracy=[1,1,1,1], retain=retain, random_select=0.1, nn_param_choices = nn_param_choices, iteration = 1):\n",
        "    \n",
        "    # find the size of parents to retian in the next gen\n",
        "    retain_length = int(len(networks)*retain)\n",
        "    \n",
        "    # Get scores for each network\n",
        "    if iteration == 0: #train all networks to get score\n",
        "        accuracy = train_networks(networks)\n",
        "    else: #in other generation get score for remain parents from previous training\n",
        "        accuracy_parent_last = parent_accuracy\n",
        "        accuracy_child = train_networks(networks[retain_length:])\n",
        "        accuracy = accuracy_parent_last + accuracy_child\n",
        "\n",
        "    # ranking the scores\n",
        "    sorted_network_accuracy = [x for _,x in sorted(zip(accuracy,networks), key=lambda pair: pair[0])]\n",
        "    sorted_accuracy = sorted(accuracy)\n",
        "\n",
        "    # The remain parents\n",
        "    parents = sorted_network_accuracy[:retain_length]\n",
        "    parents_acc = sorted_accuracy[:retain_length]\n",
        "\n",
        "    # randomly keep some of unqualified vectors.\n",
        "    for individual in sorted_network_accuracy[retain_length:]:\n",
        "        if random_select > random.random():\n",
        "            parents.append(individual)\n",
        "\n",
        "    # find number of free spots\n",
        "    parents_length = len(parents)\n",
        "    desired_length = len(networks) - parents_length\n",
        "    children = []\n",
        "\n",
        "    # Add children to the free spaces\n",
        "    while len(children) < desired_length:\n",
        "\n",
        "        # random mother and father.\n",
        "        male = random.randint(0, parents_length-1)\n",
        "        female = random.randint(0, parents_length-1)\n",
        "\n",
        "        # ensure that they are not the same vector\n",
        "        if male != female:\n",
        "            male = parents[male]\n",
        "            female = parents[female]\n",
        "\n",
        "            # Offspring\n",
        "            babies = breed(male, female, nn_param_choices)\n",
        "\n",
        "            # Add kid one by one to make sure it dose not exceed free spaces\n",
        "            for baby in babies:\n",
        "                if (len(children) < desired_length) & ~(baby in parents):\n",
        "                    children.append(baby)\n",
        "\n",
        "    parents.extend(children)\n",
        "    #print(parents_acc)\n",
        "\n",
        "    return parents, parents_acc"
      ],
      "execution_count": null,
      "outputs": [
        {
          "output_type": "stream",
          "text": [
            "time: 32.9 ms (started: 2021-01-25 22:38:15 +00:00)\n"
          ],
          "name": "stdout"
        }
      ]
    },
    {
      "cell_type": "code",
      "metadata": {
        "id": "9kyJnnccrjJj",
        "colab": {
          "base_uri": "https://localhost:8080/"
        },
        "outputId": "023cbedd-cd28-4fee-dc8f-febc61059811"
      },
      "source": [
        "#function to run the genetic algorithm\n",
        "def generate(generations, count, nn_param_choices, networks):\n",
        "    #networks = create_population(nn_param_choices, count) #if want to initial networks here\n",
        "    networks = networks\n",
        "    #dummy parent_acc for the first iteration\n",
        "    parent_acc = list(range(int(len(networks)*retain)))\n",
        "    print(networks)\n",
        "    #run iterations\n",
        "    for i in range(generations-1):\n",
        "        print('Iteration: ', i+1)\n",
        "        #print(networks)\n",
        "        networks, parent_acc = evolve(networks, parent_accuracy= parent_acc, iteration = i)\n",
        "        print(networks)\n",
        "    \n",
        "    #get the score\n",
        "    print('Iteration: ', i+2)\n",
        "    score = train_networks(networks)\n",
        "\n",
        "    #ranking\n",
        "    sorted_network_score = [x for _,x in sorted(zip(score,networks), key=lambda pair: pair[0])]\n",
        "    sorted_score = sorted(score)\n",
        "    return sorted_network_score,sorted_score"
      ],
      "execution_count": null,
      "outputs": [
        {
          "output_type": "stream",
          "text": [
            "time: 17.2 ms (started: 2021-01-25 22:38:18 +00:00)\n"
          ],
          "name": "stdout"
        }
      ]
    },
    {
      "cell_type": "code",
      "metadata": {
        "id": "fLiKySnnGKYR",
        "colab": {
          "base_uri": "https://localhost:8080/"
        },
        "outputId": "6275b3a7-164e-4058-9e12-7388469c372c"
      },
      "source": [
        "#for 201 that exeed the maximum running time\n",
        "#networks = [{'n_neurons': 32, 'n_layers': 4, 'bs_double': 5, 'n_timewindow': 1.5}, {'n_neurons': 32, 'n_layers': 3, 'bs_double': 5, 'n_timewindow': 1.5}, {'n_neurons': 16, 'n_layers': 3, 'bs_double': 5, 'n_timewindow': 1.5}, {'n_neurons': 32, 'n_layers': 3, 'bs_double': 5, 'n_timewindow': 1.5}, {'n_neurons': 32, 'n_layers': 3, 'bs_double': 5, 'n_timewindow': 1.5}, {'n_neurons': 16, 'n_layers': 4, 'bs_double': 5, 'n_timewindow': 1.5}, {'n_neurons': 32, 'n_layers': 3, 'bs_double': 5, 'n_timewindow': 1.5}, {'n_neurons': 32, 'n_layers': 3, 'bs_double': 5, 'n_timewindow': 1.5}, {'n_neurons': 32, 'n_layers': 3, 'bs_double': 5, 'n_timewindow': 1.5}, {'n_neurons': 32, 'n_layers': 3, 'bs_double': 5, 'n_timewindow': 1.5}]\n",
        "#[{'n_neurons': 32, 'n_layers': 3, 'bs_double': 5, 'n_timewindow': 1.5},{'n_neurons': 64, 'n_layers': 3, 'bs_double': 6, 'n_timewindow': 0.5}, {'n_neurons': 16, 'n_layers': 4, 'bs_double': 6, 'n_timewindow': 1.5}, {'n_neurons': 16, 'n_layers': 4, 'bs_double': 6, 'n_timewindow': 1.5}, {'n_neurons': 16, 'n_layers': 3, 'bs_double': 5, 'n_timewindow': 1.5}, {'n_neurons': 32, 'n_layers': 4, 'bs_double': 5, 'n_timewindow': 1.5}, {'n_neurons': 64, 'n_layers': 3, 'bs_double': 6, 'n_timewindow': 0.5}, {'n_neurons': 16, 'n_layers': 4, 'bs_double': 6, 'n_timewindow': 0.5}, {'n_neurons': 32, 'n_layers': 3, 'bs_double': 5, 'n_timewindow': 1.5}, {'n_neurons': 64, 'n_layers': 3, 'bs_double': 6, 'n_timewindow': 0.5}] iter 3\n",
        "#networks\n",
        "#for 202 that exeed the maximum running time\n",
        "networks = [{'n_neurons': 64, 'n_layers': 2, 'bs_double': 5, 'n_timewindow': 1.5}, {'n_neurons': 16, 'n_layers': 2, 'bs_double': 5, 'n_timewindow': 2}, {'n_neurons': 128, 'n_layers': 2, 'bs_double': 5, 'n_timewindow': 2}, {'n_neurons': 16, 'n_layers': 3, 'bs_double': 6, 'n_timewindow': 1.5}, {'n_neurons': 64, 'n_layers': 4, 'bs_double': 5, 'n_timewindow': 1.5}, {'n_neurons': 64, 'n_layers': 2, 'bs_double': 6, 'n_timewindow': 1.5}, {'n_neurons': 64, 'n_layers': 2, 'bs_double': 6, 'n_timewindow': 1.5}, {'n_neurons': 16, 'n_layers': 3, 'bs_double': 5, 'n_timewindow': 2}, {'n_neurons': 64, 'n_layers': 4, 'bs_double': 6, 'n_timewindow': 1.5}, {'n_neurons': 16, 'n_layers': 4, 'bs_double': 5, 'n_timewindow': 1.5}]\n",
        "\n",
        "\n",
        "networks"
      ],
      "execution_count": null,
      "outputs": [
        {
          "output_type": "execute_result",
          "data": {
            "text/plain": [
              "[{'bs_double': 5, 'n_layers': 2, 'n_neurons': 64, 'n_timewindow': 1.5},\n",
              " {'bs_double': 5, 'n_layers': 2, 'n_neurons': 16, 'n_timewindow': 2},\n",
              " {'bs_double': 5, 'n_layers': 2, 'n_neurons': 128, 'n_timewindow': 2},\n",
              " {'bs_double': 6, 'n_layers': 3, 'n_neurons': 16, 'n_timewindow': 1.5},\n",
              " {'bs_double': 5, 'n_layers': 4, 'n_neurons': 64, 'n_timewindow': 1.5},\n",
              " {'bs_double': 6, 'n_layers': 2, 'n_neurons': 64, 'n_timewindow': 1.5},\n",
              " {'bs_double': 6, 'n_layers': 2, 'n_neurons': 64, 'n_timewindow': 1.5},\n",
              " {'bs_double': 5, 'n_layers': 3, 'n_neurons': 16, 'n_timewindow': 2},\n",
              " {'bs_double': 6, 'n_layers': 4, 'n_neurons': 64, 'n_timewindow': 1.5},\n",
              " {'bs_double': 5, 'n_layers': 4, 'n_neurons': 16, 'n_timewindow': 1.5}]"
            ]
          },
          "metadata": {
            "tags": []
          },
          "execution_count": 67
        },
        {
          "output_type": "stream",
          "text": [
            "time: 17.4 ms (started: 2021-01-25 22:38:21 +00:00)\n"
          ],
          "name": "stdout"
        }
      ]
    },
    {
      "cell_type": "code",
      "metadata": {
        "colab": {
          "base_uri": "https://localhost:8080/"
        },
        "id": "hvJc1NJAH_c4",
        "outputId": "98fdc1b9-3bbc-4983-ce40-fcfc19d18a71"
      },
      "source": [
        "ga_network, rmse = generate(generations, count, nn_param_choices, networks)"
      ],
      "execution_count": null,
      "outputs": [
        {
          "output_type": "stream",
          "text": [
            "\r  0%|          | 0/10 [00:00<?, ?it/s]"
          ],
          "name": "stderr"
        },
        {
          "output_type": "stream",
          "text": [
            "[{'n_neurons': 64, 'n_layers': 2, 'bs_double': 5, 'n_timewindow': 1.5}, {'n_neurons': 16, 'n_layers': 2, 'bs_double': 5, 'n_timewindow': 2}, {'n_neurons': 128, 'n_layers': 2, 'bs_double': 5, 'n_timewindow': 2}, {'n_neurons': 16, 'n_layers': 3, 'bs_double': 6, 'n_timewindow': 1.5}, {'n_neurons': 64, 'n_layers': 4, 'bs_double': 5, 'n_timewindow': 1.5}, {'n_neurons': 64, 'n_layers': 2, 'bs_double': 6, 'n_timewindow': 1.5}, {'n_neurons': 64, 'n_layers': 2, 'bs_double': 6, 'n_timewindow': 1.5}, {'n_neurons': 16, 'n_layers': 3, 'bs_double': 5, 'n_timewindow': 2}, {'n_neurons': 64, 'n_layers': 4, 'bs_double': 6, 'n_timewindow': 1.5}, {'n_neurons': 16, 'n_layers': 4, 'bs_double': 5, 'n_timewindow': 1.5}]\n",
            "Iteration:  1\n",
            "{'n_neurons': 64, 'n_layers': 2, 'bs_double': 5, 'n_timewindow': 1.5}\n",
            "64\n",
            "Epoch 1/50\n",
            "208/208 [==============================] - 10s 30ms/step - loss: 0.3110 - root_mean_squared_error: 0.5303 - mae: 0.3778 - val_loss: 0.0148 - val_root_mean_squared_error: 0.1218 - val_mae: 0.1101\n",
            "\n",
            "Epoch 00001: val_loss improved from inf to 0.01483, saving model to /content/drive/My Drive/Colab Notebooks/Thesis/best model/LSTMGA_update_best_mse_data10132.hdf5\n",
            "Epoch 2/50\n",
            "208/208 [==============================] - 5s 26ms/step - loss: 0.0478 - root_mean_squared_error: 0.2186 - mae: 0.1559 - val_loss: 0.0094 - val_root_mean_squared_error: 0.0972 - val_mae: 0.0723\n",
            "\n",
            "Epoch 00002: val_loss improved from 0.01483 to 0.00945, saving model to /content/drive/My Drive/Colab Notebooks/Thesis/best model/LSTMGA_update_best_mse_data10132.hdf5\n",
            "Epoch 3/50\n",
            "208/208 [==============================] - 5s 26ms/step - loss: 0.0291 - root_mean_squared_error: 0.1704 - mae: 0.1170 - val_loss: 0.0082 - val_root_mean_squared_error: 0.0906 - val_mae: 0.0694\n",
            "\n",
            "Epoch 00003: val_loss improved from 0.00945 to 0.00820, saving model to /content/drive/My Drive/Colab Notebooks/Thesis/best model/LSTMGA_update_best_mse_data10132.hdf5\n",
            "Epoch 4/50\n",
            "208/208 [==============================] - 5s 26ms/step - loss: 0.0269 - root_mean_squared_error: 0.1636 - mae: 0.1069 - val_loss: 0.0056 - val_root_mean_squared_error: 0.0746 - val_mae: 0.0548\n",
            "\n",
            "Epoch 00004: val_loss improved from 0.00820 to 0.00557, saving model to /content/drive/My Drive/Colab Notebooks/Thesis/best model/LSTMGA_update_best_mse_data10132.hdf5\n",
            "Epoch 5/50\n",
            "208/208 [==============================] - 5s 25ms/step - loss: 0.0197 - root_mean_squared_error: 0.1401 - mae: 0.0919 - val_loss: 0.0054 - val_root_mean_squared_error: 0.0738 - val_mae: 0.0512\n",
            "\n",
            "Epoch 00005: val_loss improved from 0.00557 to 0.00544, saving model to /content/drive/My Drive/Colab Notebooks/Thesis/best model/LSTMGA_update_best_mse_data10132.hdf5\n",
            "Epoch 6/50\n",
            "208/208 [==============================] - 5s 26ms/step - loss: 0.0194 - root_mean_squared_error: 0.1385 - mae: 0.0870 - val_loss: 0.0044 - val_root_mean_squared_error: 0.0664 - val_mae: 0.0510\n",
            "\n",
            "Epoch 00006: val_loss improved from 0.00544 to 0.00441, saving model to /content/drive/My Drive/Colab Notebooks/Thesis/best model/LSTMGA_update_best_mse_data10132.hdf5\n",
            "Epoch 7/50\n",
            "208/208 [==============================] - 5s 26ms/step - loss: 0.0161 - root_mean_squared_error: 0.1268 - mae: 0.0824 - val_loss: 0.0031 - val_root_mean_squared_error: 0.0557 - val_mae: 0.0404\n",
            "\n",
            "Epoch 00007: val_loss improved from 0.00441 to 0.00310, saving model to /content/drive/My Drive/Colab Notebooks/Thesis/best model/LSTMGA_update_best_mse_data10132.hdf5\n",
            "Epoch 8/50\n",
            "208/208 [==============================] - 5s 26ms/step - loss: 0.0184 - root_mean_squared_error: 0.1354 - mae: 0.0818 - val_loss: 0.0028 - val_root_mean_squared_error: 0.0530 - val_mae: 0.0379\n",
            "\n",
            "Epoch 00008: val_loss improved from 0.00310 to 0.00281, saving model to /content/drive/My Drive/Colab Notebooks/Thesis/best model/LSTMGA_update_best_mse_data10132.hdf5\n",
            "Epoch 9/50\n",
            "208/208 [==============================] - 5s 25ms/step - loss: 0.0143 - root_mean_squared_error: 0.1195 - mae: 0.0731 - val_loss: 0.0032 - val_root_mean_squared_error: 0.0563 - val_mae: 0.0417\n",
            "\n",
            "Epoch 00009: val_loss did not improve from 0.00281\n",
            "Epoch 10/50\n",
            "208/208 [==============================] - 5s 26ms/step - loss: 0.0163 - root_mean_squared_error: 0.1276 - mae: 0.0776 - val_loss: 0.0050 - val_root_mean_squared_error: 0.0709 - val_mae: 0.0544\n",
            "\n",
            "Epoch 00010: val_loss did not improve from 0.00281\n",
            "Epoch 11/50\n",
            "208/208 [==============================] - 5s 25ms/step - loss: 0.0150 - root_mean_squared_error: 0.1226 - mae: 0.0785 - val_loss: 0.0062 - val_root_mean_squared_error: 0.0790 - val_mae: 0.0559\n",
            "\n",
            "Epoch 00011: val_loss did not improve from 0.00281\n",
            "Epoch 12/50\n",
            "208/208 [==============================] - 5s 25ms/step - loss: 0.0116 - root_mean_squared_error: 0.1077 - mae: 0.0686 - val_loss: 0.0038 - val_root_mean_squared_error: 0.0615 - val_mae: 0.0455\n",
            "\n",
            "Epoch 00012: val_loss did not improve from 0.00281\n",
            "Epoch 13/50\n",
            "208/208 [==============================] - 5s 25ms/step - loss: 0.0095 - root_mean_squared_error: 0.0973 - mae: 0.0641 - val_loss: 0.0039 - val_root_mean_squared_error: 0.0628 - val_mae: 0.0483\n",
            "\n",
            "Epoch 00013: val_loss did not improve from 0.00281\n",
            "120/120 [==============================] - 1s 5ms/step - loss: 0.0028 - root_mean_squared_error: 0.0530 - mae: 0.0379\n"
          ],
          "name": "stdout"
        },
        {
          "output_type": "stream",
          "text": [
            "\r 10%|█         | 1/10 [01:20<12:04, 80.50s/it]"
          ],
          "name": "stderr"
        },
        {
          "output_type": "stream",
          "text": [
            "{'n_neurons': 16, 'n_layers': 2, 'bs_double': 5, 'n_timewindow': 2}\n",
            "16\n",
            "Epoch 1/50\n",
            "208/208 [==============================] - 8s 25ms/step - loss: 0.3829 - root_mean_squared_error: 0.5631 - mae: 0.3789 - val_loss: 0.0118 - val_root_mean_squared_error: 0.1085 - val_mae: 0.0693\n",
            "\n",
            "Epoch 00001: val_loss improved from inf to 0.01177, saving model to /content/drive/My Drive/Colab Notebooks/Thesis/best model/LSTMGA_update_best_mse_data10132.hdf5\n",
            "Epoch 2/50\n",
            "208/208 [==============================] - 5s 22ms/step - loss: 0.0382 - root_mean_squared_error: 0.1952 - mae: 0.1316 - val_loss: 0.0161 - val_root_mean_squared_error: 0.1268 - val_mae: 0.0930\n",
            "\n",
            "Epoch 00002: val_loss did not improve from 0.01177\n",
            "Epoch 3/50\n",
            "208/208 [==============================] - 5s 24ms/step - loss: 0.0272 - root_mean_squared_error: 0.1647 - mae: 0.1064 - val_loss: 0.0127 - val_root_mean_squared_error: 0.1127 - val_mae: 0.0859\n",
            "\n",
            "Epoch 00003: val_loss did not improve from 0.01177\n",
            "Epoch 4/50\n",
            "208/208 [==============================] - 5s 23ms/step - loss: 0.0194 - root_mean_squared_error: 0.1392 - mae: 0.0878 - val_loss: 0.0067 - val_root_mean_squared_error: 0.0819 - val_mae: 0.0604\n",
            "\n",
            "Epoch 00004: val_loss improved from 0.01177 to 0.00670, saving model to /content/drive/My Drive/Colab Notebooks/Thesis/best model/LSTMGA_update_best_mse_data10132.hdf5\n",
            "Epoch 5/50\n",
            "208/208 [==============================] - 5s 23ms/step - loss: 0.0182 - root_mean_squared_error: 0.1349 - mae: 0.0834 - val_loss: 0.0078 - val_root_mean_squared_error: 0.0882 - val_mae: 0.0672\n",
            "\n",
            "Epoch 00005: val_loss did not improve from 0.00670\n",
            "Epoch 6/50\n",
            "208/208 [==============================] - 5s 23ms/step - loss: 0.0138 - root_mean_squared_error: 0.1173 - mae: 0.0737 - val_loss: 0.0053 - val_root_mean_squared_error: 0.0727 - val_mae: 0.0538\n",
            "\n",
            "Epoch 00006: val_loss improved from 0.00670 to 0.00529, saving model to /content/drive/My Drive/Colab Notebooks/Thesis/best model/LSTMGA_update_best_mse_data10132.hdf5\n",
            "Epoch 7/50\n",
            "208/208 [==============================] - 5s 23ms/step - loss: 0.0139 - root_mean_squared_error: 0.1173 - mae: 0.0725 - val_loss: 0.0047 - val_root_mean_squared_error: 0.0684 - val_mae: 0.0496\n",
            "\n",
            "Epoch 00007: val_loss improved from 0.00529 to 0.00468, saving model to /content/drive/My Drive/Colab Notebooks/Thesis/best model/LSTMGA_update_best_mse_data10132.hdf5\n",
            "Epoch 8/50\n",
            "208/208 [==============================] - 5s 23ms/step - loss: 0.0098 - root_mean_squared_error: 0.0991 - mae: 0.0649 - val_loss: 0.0037 - val_root_mean_squared_error: 0.0608 - val_mae: 0.0440\n",
            "\n",
            "Epoch 00008: val_loss improved from 0.00468 to 0.00370, saving model to /content/drive/My Drive/Colab Notebooks/Thesis/best model/LSTMGA_update_best_mse_data10132.hdf5\n",
            "Epoch 9/50\n",
            "208/208 [==============================] - 5s 23ms/step - loss: 0.0095 - root_mean_squared_error: 0.0976 - mae: 0.0628 - val_loss: 0.0040 - val_root_mean_squared_error: 0.0636 - val_mae: 0.0460\n",
            "\n",
            "Epoch 00009: val_loss did not improve from 0.00370\n",
            "Epoch 10/50\n",
            "208/208 [==============================] - 5s 23ms/step - loss: 0.0101 - root_mean_squared_error: 0.1002 - mae: 0.0631 - val_loss: 0.0052 - val_root_mean_squared_error: 0.0724 - val_mae: 0.0538\n",
            "\n",
            "Epoch 00010: val_loss did not improve from 0.00370\n",
            "Epoch 11/50\n",
            "208/208 [==============================] - 5s 23ms/step - loss: 0.0101 - root_mean_squared_error: 0.0993 - mae: 0.0634 - val_loss: 0.0053 - val_root_mean_squared_error: 0.0726 - val_mae: 0.0525\n",
            "\n",
            "Epoch 00011: val_loss did not improve from 0.00370\n",
            "Epoch 12/50\n",
            "208/208 [==============================] - 5s 23ms/step - loss: 0.0074 - root_mean_squared_error: 0.0857 - mae: 0.0562 - val_loss: 0.0031 - val_root_mean_squared_error: 0.0555 - val_mae: 0.0399\n",
            "\n",
            "Epoch 00012: val_loss improved from 0.00370 to 0.00308, saving model to /content/drive/My Drive/Colab Notebooks/Thesis/best model/LSTMGA_update_best_mse_data10132.hdf5\n",
            "Epoch 13/50\n",
            "208/208 [==============================] - 5s 23ms/step - loss: 0.0068 - root_mean_squared_error: 0.0821 - mae: 0.0526 - val_loss: 0.0032 - val_root_mean_squared_error: 0.0569 - val_mae: 0.0407\n",
            "\n",
            "Epoch 00013: val_loss did not improve from 0.00308\n",
            "Epoch 14/50\n",
            "208/208 [==============================] - 5s 23ms/step - loss: 0.0049 - root_mean_squared_error: 0.0697 - mae: 0.0484 - val_loss: 0.0028 - val_root_mean_squared_error: 0.0530 - val_mae: 0.0380\n",
            "\n",
            "Epoch 00014: val_loss improved from 0.00308 to 0.00281, saving model to /content/drive/My Drive/Colab Notebooks/Thesis/best model/LSTMGA_update_best_mse_data10132.hdf5\n",
            "Epoch 15/50\n",
            "208/208 [==============================] - 5s 24ms/step - loss: 0.0055 - root_mean_squared_error: 0.0739 - mae: 0.0462 - val_loss: 0.0025 - val_root_mean_squared_error: 0.0504 - val_mae: 0.0352\n",
            "\n",
            "Epoch 00015: val_loss improved from 0.00281 to 0.00254, saving model to /content/drive/My Drive/Colab Notebooks/Thesis/best model/LSTMGA_update_best_mse_data10132.hdf5\n",
            "Epoch 16/50\n",
            "208/208 [==============================] - 5s 23ms/step - loss: 0.0046 - root_mean_squared_error: 0.0673 - mae: 0.0441 - val_loss: 0.0021 - val_root_mean_squared_error: 0.0455 - val_mae: 0.0304\n",
            "\n",
            "Epoch 00016: val_loss improved from 0.00254 to 0.00207, saving model to /content/drive/My Drive/Colab Notebooks/Thesis/best model/LSTMGA_update_best_mse_data10132.hdf5\n",
            "Epoch 17/50\n",
            "208/208 [==============================] - 5s 23ms/step - loss: 0.0042 - root_mean_squared_error: 0.0645 - mae: 0.0433 - val_loss: 0.0024 - val_root_mean_squared_error: 0.0494 - val_mae: 0.0346\n",
            "\n",
            "Epoch 00017: val_loss did not improve from 0.00207\n",
            "Epoch 18/50\n",
            "208/208 [==============================] - 5s 23ms/step - loss: 0.0042 - root_mean_squared_error: 0.0649 - mae: 0.0424 - val_loss: 0.0020 - val_root_mean_squared_error: 0.0446 - val_mae: 0.0300\n",
            "\n",
            "Epoch 00018: val_loss improved from 0.00207 to 0.00199, saving model to /content/drive/My Drive/Colab Notebooks/Thesis/best model/LSTMGA_update_best_mse_data10132.hdf5\n",
            "Epoch 19/50\n",
            "208/208 [==============================] - 5s 23ms/step - loss: 0.0045 - root_mean_squared_error: 0.0666 - mae: 0.0421 - val_loss: 0.0022 - val_root_mean_squared_error: 0.0467 - val_mae: 0.0316\n",
            "\n",
            "Epoch 00019: val_loss did not improve from 0.00199\n",
            "Epoch 20/50\n",
            "208/208 [==============================] - 5s 23ms/step - loss: 0.0034 - root_mean_squared_error: 0.0586 - mae: 0.0400 - val_loss: 0.0020 - val_root_mean_squared_error: 0.0449 - val_mae: 0.0298\n",
            "\n",
            "Epoch 00020: val_loss did not improve from 0.00199\n",
            "Epoch 21/50\n",
            "208/208 [==============================] - 5s 23ms/step - loss: 0.0035 - root_mean_squared_error: 0.0593 - mae: 0.0388 - val_loss: 0.0020 - val_root_mean_squared_error: 0.0449 - val_mae: 0.0298\n",
            "\n",
            "Epoch 00021: val_loss did not improve from 0.00199\n",
            "Epoch 22/50\n",
            "208/208 [==============================] - 5s 23ms/step - loss: 0.0035 - root_mean_squared_error: 0.0593 - mae: 0.0384 - val_loss: 0.0021 - val_root_mean_squared_error: 0.0459 - val_mae: 0.0306\n",
            "\n",
            "Epoch 00022: val_loss did not improve from 0.00199\n",
            "Epoch 23/50\n",
            "208/208 [==============================] - 5s 23ms/step - loss: 0.0036 - root_mean_squared_error: 0.0598 - mae: 0.0395 - val_loss: 0.0020 - val_root_mean_squared_error: 0.0442 - val_mae: 0.0294\n",
            "\n",
            "Epoch 00023: val_loss improved from 0.00199 to 0.00195, saving model to /content/drive/My Drive/Colab Notebooks/Thesis/best model/LSTMGA_update_best_mse_data10132.hdf5\n",
            "Epoch 24/50\n",
            "208/208 [==============================] - 5s 23ms/step - loss: 0.0033 - root_mean_squared_error: 0.0573 - mae: 0.0380 - val_loss: 0.0019 - val_root_mean_squared_error: 0.0441 - val_mae: 0.0291\n",
            "\n",
            "Epoch 00024: val_loss improved from 0.00195 to 0.00194, saving model to /content/drive/My Drive/Colab Notebooks/Thesis/best model/LSTMGA_update_best_mse_data10132.hdf5\n",
            "Epoch 25/50\n",
            "208/208 [==============================] - 5s 24ms/step - loss: 0.0042 - root_mean_squared_error: 0.0648 - mae: 0.0438 - val_loss: 0.0037 - val_root_mean_squared_error: 0.0608 - val_mae: 0.0408\n",
            "\n",
            "Epoch 00025: val_loss did not improve from 0.00194\n",
            "Epoch 26/50\n",
            "208/208 [==============================] - 5s 24ms/step - loss: 0.0040 - root_mean_squared_error: 0.0632 - mae: 0.0433 - val_loss: 0.0032 - val_root_mean_squared_error: 0.0564 - val_mae: 0.0373\n",
            "\n",
            "Epoch 00026: val_loss did not improve from 0.00194\n",
            "Epoch 27/50\n",
            "208/208 [==============================] - 5s 23ms/step - loss: 0.0036 - root_mean_squared_error: 0.0596 - mae: 0.0401 - val_loss: 0.0020 - val_root_mean_squared_error: 0.0451 - val_mae: 0.0301\n",
            "\n",
            "Epoch 00027: val_loss did not improve from 0.00194\n",
            "Epoch 28/50\n",
            "208/208 [==============================] - 5s 23ms/step - loss: 0.0032 - root_mean_squared_error: 0.0565 - mae: 0.0380 - val_loss: 0.0025 - val_root_mean_squared_error: 0.0496 - val_mae: 0.0336\n",
            "\n",
            "Epoch 00028: val_loss did not improve from 0.00194\n",
            "Epoch 29/50\n",
            "208/208 [==============================] - 5s 23ms/step - loss: 0.0032 - root_mean_squared_error: 0.0563 - mae: 0.0378 - val_loss: 0.0020 - val_root_mean_squared_error: 0.0449 - val_mae: 0.0299\n",
            "\n",
            "Epoch 00029: val_loss did not improve from 0.00194\n",
            "120/120 [==============================] - 1s 5ms/step - loss: 0.0019 - root_mean_squared_error: 0.0441 - mae: 0.0291\n"
          ],
          "name": "stdout"
        },
        {
          "output_type": "stream",
          "text": [
            "\r 20%|██        | 2/10 [03:51<13:33, 101.74s/it]"
          ],
          "name": "stderr"
        },
        {
          "output_type": "stream",
          "text": [
            "{'n_neurons': 128, 'n_layers': 2, 'bs_double': 5, 'n_timewindow': 2}\n",
            "128\n",
            "Epoch 1/50\n",
            "208/208 [==============================] - 17s 65ms/step - loss: 0.4277 - root_mean_squared_error: 0.6212 - mae: 0.4450 - val_loss: 0.0191 - val_root_mean_squared_error: 0.1380 - val_mae: 0.1027\n",
            "\n",
            "Epoch 00001: val_loss improved from inf to 0.01905, saving model to /content/drive/My Drive/Colab Notebooks/Thesis/best model/LSTMGA_update_best_mse_data10132.hdf5\n",
            "Epoch 2/50\n",
            "208/208 [==============================] - 13s 62ms/step - loss: 0.0489 - root_mean_squared_error: 0.2210 - mae: 0.1643 - val_loss: 0.0093 - val_root_mean_squared_error: 0.0964 - val_mae: 0.0713\n",
            "\n",
            "Epoch 00002: val_loss improved from 0.01905 to 0.00930, saving model to /content/drive/My Drive/Colab Notebooks/Thesis/best model/LSTMGA_update_best_mse_data10132.hdf5\n",
            "Epoch 3/50\n",
            "208/208 [==============================] - 13s 62ms/step - loss: 0.0339 - root_mean_squared_error: 0.1841 - mae: 0.1352 - val_loss: 0.0139 - val_root_mean_squared_error: 0.1180 - val_mae: 0.0977\n",
            "\n",
            "Epoch 00003: val_loss did not improve from 0.00930\n",
            "Epoch 4/50\n",
            "208/208 [==============================] - 13s 62ms/step - loss: 0.0272 - root_mean_squared_error: 0.1647 - mae: 0.1174 - val_loss: 0.0058 - val_root_mean_squared_error: 0.0759 - val_mae: 0.0564\n",
            "\n",
            "Epoch 00004: val_loss improved from 0.00930 to 0.00575, saving model to /content/drive/My Drive/Colab Notebooks/Thesis/best model/LSTMGA_update_best_mse_data10132.hdf5\n",
            "Epoch 5/50\n",
            "208/208 [==============================] - 13s 62ms/step - loss: 0.0212 - root_mean_squared_error: 0.1454 - mae: 0.1007 - val_loss: 0.0055 - val_root_mean_squared_error: 0.0742 - val_mae: 0.0574\n",
            "\n",
            "Epoch 00005: val_loss improved from 0.00575 to 0.00551, saving model to /content/drive/My Drive/Colab Notebooks/Thesis/best model/LSTMGA_update_best_mse_data10132.hdf5\n",
            "Epoch 6/50\n",
            "208/208 [==============================] - 13s 61ms/step - loss: 0.0186 - root_mean_squared_error: 0.1363 - mae: 0.0906 - val_loss: 0.0051 - val_root_mean_squared_error: 0.0713 - val_mae: 0.0542\n",
            "\n",
            "Epoch 00006: val_loss improved from 0.00551 to 0.00509, saving model to /content/drive/My Drive/Colab Notebooks/Thesis/best model/LSTMGA_update_best_mse_data10132.hdf5\n",
            "Epoch 7/50\n",
            "208/208 [==============================] - 13s 63ms/step - loss: 0.0162 - root_mean_squared_error: 0.1272 - mae: 0.0868 - val_loss: 0.0037 - val_root_mean_squared_error: 0.0610 - val_mae: 0.0448\n",
            "\n",
            "Epoch 00007: val_loss improved from 0.00509 to 0.00372, saving model to /content/drive/My Drive/Colab Notebooks/Thesis/best model/LSTMGA_update_best_mse_data10132.hdf5\n",
            "Epoch 8/50\n",
            "208/208 [==============================] - 13s 61ms/step - loss: 0.0184 - root_mean_squared_error: 0.1354 - mae: 0.0908 - val_loss: 0.0030 - val_root_mean_squared_error: 0.0548 - val_mae: 0.0405\n",
            "\n",
            "Epoch 00008: val_loss improved from 0.00372 to 0.00300, saving model to /content/drive/My Drive/Colab Notebooks/Thesis/best model/LSTMGA_update_best_mse_data10132.hdf5\n",
            "Epoch 9/50\n",
            "208/208 [==============================] - 13s 61ms/step - loss: 0.0150 - root_mean_squared_error: 0.1225 - mae: 0.0805 - val_loss: 0.0028 - val_root_mean_squared_error: 0.0529 - val_mae: 0.0385\n",
            "\n",
            "Epoch 00009: val_loss improved from 0.00300 to 0.00280, saving model to /content/drive/My Drive/Colab Notebooks/Thesis/best model/LSTMGA_update_best_mse_data10132.hdf5\n",
            "Epoch 10/50\n",
            "208/208 [==============================] - 13s 63ms/step - loss: 0.0163 - root_mean_squared_error: 0.1277 - mae: 0.0834 - val_loss: 0.0131 - val_root_mean_squared_error: 0.1144 - val_mae: 0.0949\n",
            "\n",
            "Epoch 00010: val_loss did not improve from 0.00280\n",
            "Epoch 11/50\n",
            "208/208 [==============================] - 18s 89ms/step - loss: 0.0176 - root_mean_squared_error: 0.1324 - mae: 0.0942 - val_loss: 0.0060 - val_root_mean_squared_error: 0.0773 - val_mae: 0.0605\n",
            "\n",
            "Epoch 00011: val_loss did not improve from 0.00280\n",
            "Epoch 12/50\n",
            "208/208 [==============================] - 13s 62ms/step - loss: 0.0155 - root_mean_squared_error: 0.1243 - mae: 0.0875 - val_loss: 0.0041 - val_root_mean_squared_error: 0.0644 - val_mae: 0.0499\n",
            "\n",
            "Epoch 00012: val_loss did not improve from 0.00280\n",
            "Epoch 13/50\n",
            "208/208 [==============================] - 13s 62ms/step - loss: 0.0103 - root_mean_squared_error: 0.1015 - mae: 0.0704 - val_loss: 0.0047 - val_root_mean_squared_error: 0.0685 - val_mae: 0.0527\n",
            "\n",
            "Epoch 00013: val_loss did not improve from 0.00280\n",
            "Epoch 14/50\n",
            "208/208 [==============================] - 13s 62ms/step - loss: 0.0106 - root_mean_squared_error: 0.1027 - mae: 0.0715 - val_loss: 0.0039 - val_root_mean_squared_error: 0.0622 - val_mae: 0.0484\n",
            "\n",
            "Epoch 00014: val_loss did not improve from 0.00280\n",
            "120/120 [==============================] - 2s 14ms/step - loss: 0.0028 - root_mean_squared_error: 0.0529 - mae: 0.0385\n"
          ],
          "name": "stdout"
        },
        {
          "output_type": "stream",
          "text": [
            "\r 30%|███       | 3/10 [07:20<15:36, 133.73s/it]"
          ],
          "name": "stderr"
        },
        {
          "output_type": "stream",
          "text": [
            "{'n_neurons': 16, 'n_layers': 3, 'bs_double': 6, 'n_timewindow': 1.5}\n",
            "16\n",
            "Epoch 1/50\n",
            "104/104 [==============================] - 9s 42ms/step - loss: 0.3031 - root_mean_squared_error: 0.5118 - mae: 0.3373 - val_loss: 0.0191 - val_root_mean_squared_error: 0.1382 - val_mae: 0.1286\n",
            "\n",
            "Epoch 00001: val_loss improved from inf to 0.01910, saving model to /content/drive/My Drive/Colab Notebooks/Thesis/best model/LSTMGA_update_best_mse_data10164.hdf5\n",
            "Epoch 2/50\n",
            "104/104 [==============================] - 4s 35ms/step - loss: 0.0663 - root_mean_squared_error: 0.2573 - mae: 0.1580 - val_loss: 0.0325 - val_root_mean_squared_error: 0.1804 - val_mae: 0.1685\n",
            "\n",
            "Epoch 00002: val_loss did not improve from 0.01910\n",
            "Epoch 3/50\n",
            "104/104 [==============================] - 4s 34ms/step - loss: 0.0374 - root_mean_squared_error: 0.1934 - mae: 0.1216 - val_loss: 0.0377 - val_root_mean_squared_error: 0.1942 - val_mae: 0.1805\n",
            "\n",
            "Epoch 00003: val_loss did not improve from 0.01910\n",
            "Epoch 4/50\n",
            "104/104 [==============================] - 4s 35ms/step - loss: 0.0369 - root_mean_squared_error: 0.1916 - mae: 0.1128 - val_loss: 0.0302 - val_root_mean_squared_error: 0.1738 - val_mae: 0.1580\n",
            "\n",
            "Epoch 00004: val_loss did not improve from 0.01910\n",
            "Epoch 5/50\n",
            "104/104 [==============================] - 4s 36ms/step - loss: 0.0288 - root_mean_squared_error: 0.1694 - mae: 0.1013 - val_loss: 0.0177 - val_root_mean_squared_error: 0.1330 - val_mae: 0.1135\n",
            "\n",
            "Epoch 00005: val_loss improved from 0.01910 to 0.01770, saving model to /content/drive/My Drive/Colab Notebooks/Thesis/best model/LSTMGA_update_best_mse_data10164.hdf5\n",
            "Epoch 6/50\n",
            "104/104 [==============================] - 4s 34ms/step - loss: 0.0263 - root_mean_squared_error: 0.1610 - mae: 0.0936 - val_loss: 0.0096 - val_root_mean_squared_error: 0.0980 - val_mae: 0.0795\n",
            "\n",
            "Epoch 00006: val_loss improved from 0.01770 to 0.00961, saving model to /content/drive/My Drive/Colab Notebooks/Thesis/best model/LSTMGA_update_best_mse_data10164.hdf5\n",
            "Epoch 7/50\n",
            "104/104 [==============================] - 4s 34ms/step - loss: 0.0241 - root_mean_squared_error: 0.1540 - mae: 0.0890 - val_loss: 0.0107 - val_root_mean_squared_error: 0.1033 - val_mae: 0.0817\n",
            "\n",
            "Epoch 00007: val_loss did not improve from 0.00961\n",
            "Epoch 8/50\n",
            "104/104 [==============================] - 4s 34ms/step - loss: 0.0196 - root_mean_squared_error: 0.1392 - mae: 0.0803 - val_loss: 0.0057 - val_root_mean_squared_error: 0.0756 - val_mae: 0.0566\n",
            "\n",
            "Epoch 00008: val_loss improved from 0.00961 to 0.00571, saving model to /content/drive/My Drive/Colab Notebooks/Thesis/best model/LSTMGA_update_best_mse_data10164.hdf5\n",
            "Epoch 9/50\n",
            "104/104 [==============================] - 4s 34ms/step - loss: 0.0247 - root_mean_squared_error: 0.1564 - mae: 0.0839 - val_loss: 0.0048 - val_root_mean_squared_error: 0.0694 - val_mae: 0.0519\n",
            "\n",
            "Epoch 00009: val_loss improved from 0.00571 to 0.00482, saving model to /content/drive/My Drive/Colab Notebooks/Thesis/best model/LSTMGA_update_best_mse_data10164.hdf5\n",
            "Epoch 10/50\n",
            "104/104 [==============================] - 4s 35ms/step - loss: 0.0230 - root_mean_squared_error: 0.1511 - mae: 0.0775 - val_loss: 0.0059 - val_root_mean_squared_error: 0.0767 - val_mae: 0.0588\n",
            "\n",
            "Epoch 00010: val_loss did not improve from 0.00482\n",
            "Epoch 11/50\n",
            "104/104 [==============================] - 4s 35ms/step - loss: 0.0186 - root_mean_squared_error: 0.1362 - mae: 0.0730 - val_loss: 0.0087 - val_root_mean_squared_error: 0.0933 - val_mae: 0.0626\n",
            "\n",
            "Epoch 00011: val_loss did not improve from 0.00482\n",
            "Epoch 12/50\n",
            "104/104 [==============================] - 4s 34ms/step - loss: 0.0215 - root_mean_squared_error: 0.1464 - mae: 0.0729 - val_loss: 0.0060 - val_root_mean_squared_error: 0.0772 - val_mae: 0.0563\n",
            "\n",
            "Epoch 00012: val_loss did not improve from 0.00482\n",
            "Epoch 13/50\n",
            "104/104 [==============================] - 4s 34ms/step - loss: 0.0163 - root_mean_squared_error: 0.1273 - mae: 0.0681 - val_loss: 0.0037 - val_root_mean_squared_error: 0.0605 - val_mae: 0.0449\n",
            "\n",
            "Epoch 00013: val_loss improved from 0.00482 to 0.00366, saving model to /content/drive/My Drive/Colab Notebooks/Thesis/best model/LSTMGA_update_best_mse_data10164.hdf5\n",
            "Epoch 14/50\n",
            "104/104 [==============================] - 4s 34ms/step - loss: 0.0162 - root_mean_squared_error: 0.1268 - mae: 0.0652 - val_loss: 0.0036 - val_root_mean_squared_error: 0.0598 - val_mae: 0.0440\n",
            "\n",
            "Epoch 00014: val_loss improved from 0.00366 to 0.00357, saving model to /content/drive/My Drive/Colab Notebooks/Thesis/best model/LSTMGA_update_best_mse_data10164.hdf5\n",
            "Epoch 15/50\n",
            "104/104 [==============================] - 4s 34ms/step - loss: 0.0168 - root_mean_squared_error: 0.1293 - mae: 0.0666 - val_loss: 0.0049 - val_root_mean_squared_error: 0.0698 - val_mae: 0.0497\n",
            "\n",
            "Epoch 00015: val_loss did not improve from 0.00357\n",
            "Epoch 16/50\n",
            "104/104 [==============================] - 4s 36ms/step - loss: 0.0183 - root_mean_squared_error: 0.1343 - mae: 0.0662 - val_loss: 0.0035 - val_root_mean_squared_error: 0.0588 - val_mae: 0.0430\n",
            "\n",
            "Epoch 00016: val_loss improved from 0.00357 to 0.00346, saving model to /content/drive/My Drive/Colab Notebooks/Thesis/best model/LSTMGA_update_best_mse_data10164.hdf5\n",
            "Epoch 17/50\n",
            "104/104 [==============================] - 4s 35ms/step - loss: 0.0184 - root_mean_squared_error: 0.1341 - mae: 0.0666 - val_loss: 0.0032 - val_root_mean_squared_error: 0.0570 - val_mae: 0.0413\n",
            "\n",
            "Epoch 00017: val_loss improved from 0.00346 to 0.00325, saving model to /content/drive/My Drive/Colab Notebooks/Thesis/best model/LSTMGA_update_best_mse_data10164.hdf5\n",
            "Epoch 18/50\n",
            "104/104 [==============================] - 4s 36ms/step - loss: 0.0161 - root_mean_squared_error: 0.1265 - mae: 0.0638 - val_loss: 0.0031 - val_root_mean_squared_error: 0.0556 - val_mae: 0.0402\n",
            "\n",
            "Epoch 00018: val_loss improved from 0.00325 to 0.00310, saving model to /content/drive/My Drive/Colab Notebooks/Thesis/best model/LSTMGA_update_best_mse_data10164.hdf5\n",
            "Epoch 19/50\n",
            "104/104 [==============================] - 4s 34ms/step - loss: 0.0159 - root_mean_squared_error: 0.1255 - mae: 0.0645 - val_loss: 0.0031 - val_root_mean_squared_error: 0.0556 - val_mae: 0.0399\n",
            "\n",
            "Epoch 00019: val_loss improved from 0.00310 to 0.00310, saving model to /content/drive/My Drive/Colab Notebooks/Thesis/best model/LSTMGA_update_best_mse_data10164.hdf5\n",
            "Epoch 20/50\n",
            "104/104 [==============================] - 4s 36ms/step - loss: 0.0156 - root_mean_squared_error: 0.1243 - mae: 0.0629 - val_loss: 0.0060 - val_root_mean_squared_error: 0.0775 - val_mae: 0.0555\n",
            "\n",
            "Epoch 00020: val_loss did not improve from 0.00310\n",
            "Epoch 21/50\n",
            "104/104 [==============================] - 4s 36ms/step - loss: 0.0135 - root_mean_squared_error: 0.1157 - mae: 0.0636 - val_loss: 0.0043 - val_root_mean_squared_error: 0.0657 - val_mae: 0.0483\n",
            "\n",
            "Epoch 00021: val_loss did not improve from 0.00310\n",
            "Epoch 22/50\n",
            "104/104 [==============================] - 4s 36ms/step - loss: 0.0139 - root_mean_squared_error: 0.1172 - mae: 0.0609 - val_loss: 0.0060 - val_root_mean_squared_error: 0.0777 - val_mae: 0.0550\n",
            "\n",
            "Epoch 00022: val_loss did not improve from 0.00310\n",
            "Epoch 23/50\n",
            "104/104 [==============================] - 4s 36ms/step - loss: 0.0084 - root_mean_squared_error: 0.0916 - mae: 0.0531 - val_loss: 0.0054 - val_root_mean_squared_error: 0.0733 - val_mae: 0.0538\n",
            "\n",
            "Epoch 00023: val_loss did not improve from 0.00310\n",
            "Epoch 24/50\n",
            "104/104 [==============================] - 4s 35ms/step - loss: 0.0134 - root_mean_squared_error: 0.1151 - mae: 0.0607 - val_loss: 0.0030 - val_root_mean_squared_error: 0.0544 - val_mae: 0.0393\n",
            "\n",
            "Epoch 00024: val_loss improved from 0.00310 to 0.00296, saving model to /content/drive/My Drive/Colab Notebooks/Thesis/best model/LSTMGA_update_best_mse_data10164.hdf5\n",
            "Epoch 25/50\n",
            "104/104 [==============================] - 4s 35ms/step - loss: 0.0076 - root_mean_squared_error: 0.0869 - mae: 0.0509 - val_loss: 0.0081 - val_root_mean_squared_error: 0.0899 - val_mae: 0.0554\n",
            "\n",
            "Epoch 00025: val_loss did not improve from 0.00296\n",
            "Epoch 26/50\n",
            "104/104 [==============================] - 4s 35ms/step - loss: 0.0114 - root_mean_squared_error: 0.1065 - mae: 0.0556 - val_loss: 0.0055 - val_root_mean_squared_error: 0.0745 - val_mae: 0.0495\n",
            "\n",
            "Epoch 00026: val_loss did not improve from 0.00296\n",
            "Epoch 27/50\n",
            "104/104 [==============================] - 4s 37ms/step - loss: 0.0093 - root_mean_squared_error: 0.0962 - mae: 0.0516 - val_loss: 0.0059 - val_root_mean_squared_error: 0.0767 - val_mae: 0.0488\n",
            "\n",
            "Epoch 00027: val_loss did not improve from 0.00296\n",
            "Epoch 28/50\n",
            "104/104 [==============================] - 4s 35ms/step - loss: 0.0066 - root_mean_squared_error: 0.0809 - mae: 0.0480 - val_loss: 0.0029 - val_root_mean_squared_error: 0.0543 - val_mae: 0.0390\n",
            "\n",
            "Epoch 00028: val_loss improved from 0.00296 to 0.00295, saving model to /content/drive/My Drive/Colab Notebooks/Thesis/best model/LSTMGA_update_best_mse_data10164.hdf5\n",
            "Epoch 29/50\n",
            "104/104 [==============================] - 4s 35ms/step - loss: 0.0066 - root_mean_squared_error: 0.0812 - mae: 0.0468 - val_loss: 0.0047 - val_root_mean_squared_error: 0.0686 - val_mae: 0.0463\n",
            "\n",
            "Epoch 00029: val_loss did not improve from 0.00295\n",
            "Epoch 30/50\n",
            "104/104 [==============================] - 4s 36ms/step - loss: 0.0068 - root_mean_squared_error: 0.0824 - mae: 0.0473 - val_loss: 0.0021 - val_root_mean_squared_error: 0.0461 - val_mae: 0.0312\n",
            "\n",
            "Epoch 00030: val_loss improved from 0.00295 to 0.00212, saving model to /content/drive/My Drive/Colab Notebooks/Thesis/best model/LSTMGA_update_best_mse_data10164.hdf5\n",
            "Epoch 31/50\n",
            "104/104 [==============================] - 4s 35ms/step - loss: 0.0060 - root_mean_squared_error: 0.0773 - mae: 0.0448 - val_loss: 0.0022 - val_root_mean_squared_error: 0.0468 - val_mae: 0.0323\n",
            "\n",
            "Epoch 00031: val_loss did not improve from 0.00212\n",
            "Epoch 32/50\n",
            "104/104 [==============================] - 4s 35ms/step - loss: 0.0067 - root_mean_squared_error: 0.0816 - mae: 0.0468 - val_loss: 0.0021 - val_root_mean_squared_error: 0.0463 - val_mae: 0.0320\n",
            "\n",
            "Epoch 00032: val_loss did not improve from 0.00212\n",
            "Epoch 33/50\n",
            "104/104 [==============================] - 4s 35ms/step - loss: 0.0069 - root_mean_squared_error: 0.0823 - mae: 0.0447 - val_loss: 0.0029 - val_root_mean_squared_error: 0.0538 - val_mae: 0.0373\n",
            "\n",
            "Epoch 00033: val_loss did not improve from 0.00212\n",
            "Epoch 34/50\n",
            "104/104 [==============================] - 4s 36ms/step - loss: 0.0065 - root_mean_squared_error: 0.0803 - mae: 0.0442 - val_loss: 0.0023 - val_root_mean_squared_error: 0.0474 - val_mae: 0.0331\n",
            "\n",
            "Epoch 00034: val_loss did not improve from 0.00212\n",
            "Epoch 35/50\n",
            "104/104 [==============================] - 4s 35ms/step - loss: 0.0079 - root_mean_squared_error: 0.0878 - mae: 0.0470 - val_loss: 0.0022 - val_root_mean_squared_error: 0.0472 - val_mae: 0.0332\n",
            "\n",
            "Epoch 00035: val_loss did not improve from 0.00212\n",
            "120/120 [==============================] - 1s 6ms/step - loss: 0.0021 - root_mean_squared_error: 0.0461 - mae: 0.0312\n"
          ],
          "name": "stdout"
        },
        {
          "output_type": "stream",
          "text": [
            "\r 40%|████      | 4/10 [09:44<13:40, 136.76s/it]"
          ],
          "name": "stderr"
        },
        {
          "output_type": "stream",
          "text": [
            "{'n_neurons': 64, 'n_layers': 4, 'bs_double': 5, 'n_timewindow': 1.5}\n",
            "64\n",
            "Epoch 1/50\n",
            "208/208 [==============================] - 92s 417ms/step - loss: 0.4867 - root_mean_squared_error: 0.6507 - mae: 0.4502 - val_loss: 0.0889 - val_root_mean_squared_error: 0.2982 - val_mae: 0.2820\n",
            "\n",
            "Epoch 00001: val_loss improved from inf to 0.08892, saving model to /content/drive/My Drive/Colab Notebooks/Thesis/best model/LSTMGA_update_best_mse_data10132.hdf5\n",
            "Epoch 2/50\n",
            "208/208 [==============================] - 87s 419ms/step - loss: 0.0812 - root_mean_squared_error: 0.2844 - mae: 0.1900 - val_loss: 0.2733 - val_root_mean_squared_error: 0.5228 - val_mae: 0.3912\n",
            "\n",
            "Epoch 00002: val_loss did not improve from 0.08892\n",
            "Epoch 3/50\n",
            "208/208 [==============================] - 87s 417ms/step - loss: 0.0441 - root_mean_squared_error: 0.2095 - mae: 0.1443 - val_loss: 0.0367 - val_root_mean_squared_error: 0.1915 - val_mae: 0.1660\n",
            "\n",
            "Epoch 00003: val_loss improved from 0.08892 to 0.03669, saving model to /content/drive/My Drive/Colab Notebooks/Thesis/best model/LSTMGA_update_best_mse_data10132.hdf5\n",
            "Epoch 4/50\n",
            "208/208 [==============================] - 87s 419ms/step - loss: 0.0276 - root_mean_squared_error: 0.1661 - mae: 0.1136 - val_loss: 0.0298 - val_root_mean_squared_error: 0.1726 - val_mae: 0.1377\n",
            "\n",
            "Epoch 00004: val_loss improved from 0.03669 to 0.02979, saving model to /content/drive/My Drive/Colab Notebooks/Thesis/best model/LSTMGA_update_best_mse_data10132.hdf5\n",
            "Epoch 5/50\n",
            "208/208 [==============================] - 87s 418ms/step - loss: 0.0232 - root_mean_squared_error: 0.1520 - mae: 0.1031 - val_loss: 0.0119 - val_root_mean_squared_error: 0.1090 - val_mae: 0.0740\n",
            "\n",
            "Epoch 00005: val_loss improved from 0.02979 to 0.01188, saving model to /content/drive/My Drive/Colab Notebooks/Thesis/best model/LSTMGA_update_best_mse_data10132.hdf5\n",
            "Epoch 6/50\n",
            "208/208 [==============================] - 87s 417ms/step - loss: 0.0195 - root_mean_squared_error: 0.1394 - mae: 0.0944 - val_loss: 0.0079 - val_root_mean_squared_error: 0.0887 - val_mae: 0.0631\n",
            "\n",
            "Epoch 00006: val_loss improved from 0.01188 to 0.00787, saving model to /content/drive/My Drive/Colab Notebooks/Thesis/best model/LSTMGA_update_best_mse_data10132.hdf5\n",
            "Epoch 7/50\n",
            "208/208 [==============================] - 87s 419ms/step - loss: 0.0178 - root_mean_squared_error: 0.1335 - mae: 0.0891 - val_loss: 0.0098 - val_root_mean_squared_error: 0.0991 - val_mae: 0.0704\n",
            "\n",
            "Epoch 00007: val_loss did not improve from 0.00787\n",
            "Epoch 8/50\n",
            "208/208 [==============================] - 85s 411ms/step - loss: 0.0174 - root_mean_squared_error: 0.1321 - mae: 0.0883 - val_loss: 0.0066 - val_root_mean_squared_error: 0.0810 - val_mae: 0.0575\n",
            "\n",
            "Epoch 00008: val_loss improved from 0.00787 to 0.00657, saving model to /content/drive/My Drive/Colab Notebooks/Thesis/best model/LSTMGA_update_best_mse_data10132.hdf5\n",
            "Epoch 9/50\n",
            "208/208 [==============================] - 86s 414ms/step - loss: 0.0170 - root_mean_squared_error: 0.1303 - mae: 0.0861 - val_loss: 0.0081 - val_root_mean_squared_error: 0.0902 - val_mae: 0.0578\n",
            "\n",
            "Epoch 00009: val_loss did not improve from 0.00657\n",
            "Epoch 10/50\n",
            "208/208 [==============================] - 86s 414ms/step - loss: 0.0166 - root_mean_squared_error: 0.1286 - mae: 0.0861 - val_loss: 0.0097 - val_root_mean_squared_error: 0.0985 - val_mae: 0.0706\n",
            "\n",
            "Epoch 00010: val_loss did not improve from 0.00657\n",
            "Epoch 11/50\n",
            "208/208 [==============================] - 86s 414ms/step - loss: 0.0180 - root_mean_squared_error: 0.1338 - mae: 0.0920 - val_loss: 0.0090 - val_root_mean_squared_error: 0.0946 - val_mae: 0.0748\n",
            "\n",
            "Epoch 00011: val_loss did not improve from 0.00657\n",
            "Epoch 12/50\n",
            "208/208 [==============================] - 87s 418ms/step - loss: 0.0135 - root_mean_squared_error: 0.1163 - mae: 0.0802 - val_loss: 0.0087 - val_root_mean_squared_error: 0.0931 - val_mae: 0.0736\n",
            "\n",
            "Epoch 00012: val_loss did not improve from 0.00657\n",
            "Epoch 13/50\n",
            "208/208 [==============================] - 86s 414ms/step - loss: 0.0112 - root_mean_squared_error: 0.1056 - mae: 0.0714 - val_loss: 0.0040 - val_root_mean_squared_error: 0.0635 - val_mae: 0.0459\n",
            "\n",
            "Epoch 00013: val_loss improved from 0.00657 to 0.00403, saving model to /content/drive/My Drive/Colab Notebooks/Thesis/best model/LSTMGA_update_best_mse_data10132.hdf5\n",
            "Epoch 14/50\n",
            "208/208 [==============================] - 87s 419ms/step - loss: 0.0098 - root_mean_squared_error: 0.0987 - mae: 0.0658 - val_loss: 0.0036 - val_root_mean_squared_error: 0.0600 - val_mae: 0.0417\n",
            "\n",
            "Epoch 00014: val_loss improved from 0.00403 to 0.00360, saving model to /content/drive/My Drive/Colab Notebooks/Thesis/best model/LSTMGA_update_best_mse_data10132.hdf5\n",
            "Epoch 15/50\n",
            "208/208 [==============================] - 86s 415ms/step - loss: 0.0081 - root_mean_squared_error: 0.0900 - mae: 0.0603 - val_loss: 0.0037 - val_root_mean_squared_error: 0.0612 - val_mae: 0.0421\n",
            "\n",
            "Epoch 00015: val_loss did not improve from 0.00360\n",
            "Epoch 16/50\n",
            "208/208 [==============================] - 87s 417ms/step - loss: 0.0075 - root_mean_squared_error: 0.0863 - mae: 0.0576 - val_loss: 0.0036 - val_root_mean_squared_error: 0.0601 - val_mae: 0.0423\n",
            "\n",
            "Epoch 00016: val_loss did not improve from 0.00360\n",
            "Epoch 17/50\n",
            "208/208 [==============================] - 87s 420ms/step - loss: 0.0068 - root_mean_squared_error: 0.0825 - mae: 0.0561 - val_loss: 0.0031 - val_root_mean_squared_error: 0.0560 - val_mae: 0.0391\n",
            "\n",
            "Epoch 00017: val_loss improved from 0.00360 to 0.00314, saving model to /content/drive/My Drive/Colab Notebooks/Thesis/best model/LSTMGA_update_best_mse_data10132.hdf5\n",
            "Epoch 18/50\n",
            "208/208 [==============================] - 88s 421ms/step - loss: 0.0062 - root_mean_squared_error: 0.0789 - mae: 0.0529 - val_loss: 0.0039 - val_root_mean_squared_error: 0.0622 - val_mae: 0.0447\n",
            "\n",
            "Epoch 00018: val_loss did not improve from 0.00314\n",
            "Epoch 19/50\n",
            "208/208 [==============================] - 87s 417ms/step - loss: 0.0056 - root_mean_squared_error: 0.0748 - mae: 0.0514 - val_loss: 0.0032 - val_root_mean_squared_error: 0.0567 - val_mae: 0.0396\n",
            "\n",
            "Epoch 00019: val_loss did not improve from 0.00314\n",
            "Epoch 20/50\n",
            "208/208 [==============================] - 87s 420ms/step - loss: 0.0055 - root_mean_squared_error: 0.0739 - mae: 0.0501 - val_loss: 0.0030 - val_root_mean_squared_error: 0.0548 - val_mae: 0.0382\n",
            "\n",
            "Epoch 00020: val_loss improved from 0.00314 to 0.00301, saving model to /content/drive/My Drive/Colab Notebooks/Thesis/best model/LSTMGA_update_best_mse_data10132.hdf5\n",
            "Epoch 21/50\n",
            "208/208 [==============================] - 87s 417ms/step - loss: 0.0058 - root_mean_squared_error: 0.0762 - mae: 0.0505 - val_loss: 0.0031 - val_root_mean_squared_error: 0.0555 - val_mae: 0.0391\n",
            "\n",
            "Epoch 00021: val_loss did not improve from 0.00301\n",
            "Epoch 22/50\n",
            "208/208 [==============================] - 87s 418ms/step - loss: 0.0059 - root_mean_squared_error: 0.0768 - mae: 0.0515 - val_loss: 0.0029 - val_root_mean_squared_error: 0.0534 - val_mae: 0.0356\n",
            "\n",
            "Epoch 00022: val_loss improved from 0.00301 to 0.00286, saving model to /content/drive/My Drive/Colab Notebooks/Thesis/best model/LSTMGA_update_best_mse_data10132.hdf5\n",
            "Epoch 23/50\n",
            "208/208 [==============================] - 84s 405ms/step - loss: 0.0059 - root_mean_squared_error: 0.0768 - mae: 0.0510 - val_loss: 0.0029 - val_root_mean_squared_error: 0.0539 - val_mae: 0.0370\n",
            "\n",
            "Epoch 00023: val_loss did not improve from 0.00286\n",
            "Epoch 24/50\n",
            "208/208 [==============================] - 84s 404ms/step - loss: 0.0055 - root_mean_squared_error: 0.0743 - mae: 0.0504 - val_loss: 0.0029 - val_root_mean_squared_error: 0.0540 - val_mae: 0.0359\n",
            "\n",
            "Epoch 00024: val_loss did not improve from 0.00286\n",
            "Epoch 25/50\n",
            "208/208 [==============================] - 84s 404ms/step - loss: 0.0055 - root_mean_squared_error: 0.0739 - mae: 0.0508 - val_loss: 0.0034 - val_root_mean_squared_error: 0.0587 - val_mae: 0.0409\n",
            "\n",
            "Epoch 00025: val_loss did not improve from 0.00286\n",
            "Epoch 26/50\n",
            "208/208 [==============================] - 84s 403ms/step - loss: 0.0057 - root_mean_squared_error: 0.0756 - mae: 0.0515 - val_loss: 0.0033 - val_root_mean_squared_error: 0.0575 - val_mae: 0.0383\n",
            "\n",
            "Epoch 00026: val_loss did not improve from 0.00286\n",
            "Epoch 27/50\n",
            "208/208 [==============================] - 85s 410ms/step - loss: 0.0050 - root_mean_squared_error: 0.0710 - mae: 0.0489 - val_loss: 0.0033 - val_root_mean_squared_error: 0.0570 - val_mae: 0.0386\n",
            "\n",
            "Epoch 00027: val_loss did not improve from 0.00286\n",
            "120/120 [==============================] - 9s 70ms/step - loss: 0.0029 - root_mean_squared_error: 0.0534 - mae: 0.0356\n"
          ],
          "name": "stdout"
        },
        {
          "output_type": "stream",
          "text": [
            "\r 50%|█████     | 5/10 [49:12<1:07:11, 806.27s/it]"
          ],
          "name": "stderr"
        },
        {
          "output_type": "stream",
          "text": [
            "{'n_neurons': 64, 'n_layers': 2, 'bs_double': 6, 'n_timewindow': 1.5}\n",
            "64\n",
            "Epoch 1/50\n",
            "104/104 [==============================] - 7s 38ms/step - loss: 0.3680 - root_mean_squared_error: 0.5731 - mae: 0.4102 - val_loss: 0.0107 - val_root_mean_squared_error: 0.1033 - val_mae: 0.0876\n",
            "\n",
            "Epoch 00001: val_loss improved from inf to 0.01068, saving model to /content/drive/My Drive/Colab Notebooks/Thesis/best model/LSTMGA_update_best_mse_data10164.hdf5\n",
            "Epoch 2/50\n",
            "104/104 [==============================] - 4s 36ms/step - loss: 0.0451 - root_mean_squared_error: 0.2124 - mae: 0.1490 - val_loss: 0.0104 - val_root_mean_squared_error: 0.1020 - val_mae: 0.0851\n",
            "\n",
            "Epoch 00002: val_loss improved from 0.01068 to 0.01041, saving model to /content/drive/My Drive/Colab Notebooks/Thesis/best model/LSTMGA_update_best_mse_data10164.hdf5\n",
            "Epoch 3/50\n",
            "104/104 [==============================] - 3s 32ms/step - loss: 0.0373 - root_mean_squared_error: 0.1930 - mae: 0.1300 - val_loss: 0.0098 - val_root_mean_squared_error: 0.0988 - val_mae: 0.0775\n",
            "\n",
            "Epoch 00003: val_loss improved from 0.01041 to 0.00977, saving model to /content/drive/My Drive/Colab Notebooks/Thesis/best model/LSTMGA_update_best_mse_data10164.hdf5\n",
            "Epoch 4/50\n",
            "104/104 [==============================] - 3s 32ms/step - loss: 0.0319 - root_mean_squared_error: 0.1785 - mae: 0.1141 - val_loss: 0.0099 - val_root_mean_squared_error: 0.0994 - val_mae: 0.0771\n",
            "\n",
            "Epoch 00004: val_loss did not improve from 0.00977\n",
            "Epoch 5/50\n",
            "104/104 [==============================] - 3s 32ms/step - loss: 0.0237 - root_mean_squared_error: 0.1538 - mae: 0.0968 - val_loss: 0.0052 - val_root_mean_squared_error: 0.0719 - val_mae: 0.0554\n",
            "\n",
            "Epoch 00005: val_loss improved from 0.00977 to 0.00516, saving model to /content/drive/My Drive/Colab Notebooks/Thesis/best model/LSTMGA_update_best_mse_data10164.hdf5\n",
            "Epoch 6/50\n",
            "104/104 [==============================] - 3s 32ms/step - loss: 0.0215 - root_mean_squared_error: 0.1465 - mae: 0.0920 - val_loss: 0.0051 - val_root_mean_squared_error: 0.0716 - val_mae: 0.0557\n",
            "\n",
            "Epoch 00006: val_loss improved from 0.00516 to 0.00513, saving model to /content/drive/My Drive/Colab Notebooks/Thesis/best model/LSTMGA_update_best_mse_data10164.hdf5\n",
            "Epoch 7/50\n",
            "104/104 [==============================] - 3s 32ms/step - loss: 0.0227 - root_mean_squared_error: 0.1504 - mae: 0.0903 - val_loss: 0.0053 - val_root_mean_squared_error: 0.0725 - val_mae: 0.0547\n",
            "\n",
            "Epoch 00007: val_loss did not improve from 0.00513\n",
            "Epoch 8/50\n",
            "104/104 [==============================] - 3s 32ms/step - loss: 0.0215 - root_mean_squared_error: 0.1463 - mae: 0.0850 - val_loss: 0.0044 - val_root_mean_squared_error: 0.0664 - val_mae: 0.0502\n",
            "\n",
            "Epoch 00008: val_loss improved from 0.00513 to 0.00441, saving model to /content/drive/My Drive/Colab Notebooks/Thesis/best model/LSTMGA_update_best_mse_data10164.hdf5\n",
            "Epoch 9/50\n",
            "104/104 [==============================] - 3s 32ms/step - loss: 0.0161 - root_mean_squared_error: 0.1267 - mae: 0.0742 - val_loss: 0.0033 - val_root_mean_squared_error: 0.0571 - val_mae: 0.0418\n",
            "\n",
            "Epoch 00009: val_loss improved from 0.00441 to 0.00327, saving model to /content/drive/My Drive/Colab Notebooks/Thesis/best model/LSTMGA_update_best_mse_data10164.hdf5\n",
            "Epoch 10/50\n",
            "104/104 [==============================] - 3s 32ms/step - loss: 0.0190 - root_mean_squared_error: 0.1374 - mae: 0.0819 - val_loss: 0.0058 - val_root_mean_squared_error: 0.0759 - val_mae: 0.0532\n",
            "\n",
            "Epoch 00010: val_loss did not improve from 0.00327\n",
            "Epoch 11/50\n",
            "104/104 [==============================] - 3s 32ms/step - loss: 0.0141 - root_mean_squared_error: 0.1187 - mae: 0.0707 - val_loss: 0.0030 - val_root_mean_squared_error: 0.0544 - val_mae: 0.0392\n",
            "\n",
            "Epoch 00011: val_loss improved from 0.00327 to 0.00296, saving model to /content/drive/My Drive/Colab Notebooks/Thesis/best model/LSTMGA_update_best_mse_data10164.hdf5\n",
            "Epoch 12/50\n",
            "104/104 [==============================] - 3s 32ms/step - loss: 0.0132 - root_mean_squared_error: 0.1149 - mae: 0.0694 - val_loss: 0.0027 - val_root_mean_squared_error: 0.0515 - val_mae: 0.0375\n",
            "\n",
            "Epoch 00012: val_loss improved from 0.00296 to 0.00266, saving model to /content/drive/My Drive/Colab Notebooks/Thesis/best model/LSTMGA_update_best_mse_data10164.hdf5\n",
            "Epoch 13/50\n",
            "104/104 [==============================] - 3s 32ms/step - loss: 0.0141 - root_mean_squared_error: 0.1186 - mae: 0.0688 - val_loss: 0.0032 - val_root_mean_squared_error: 0.0564 - val_mae: 0.0404\n",
            "\n",
            "Epoch 00013: val_loss did not improve from 0.00266\n",
            "Epoch 14/50\n",
            "104/104 [==============================] - 4s 34ms/step - loss: 0.0136 - root_mean_squared_error: 0.1166 - mae: 0.0690 - val_loss: 0.0025 - val_root_mean_squared_error: 0.0505 - val_mae: 0.0364\n",
            "\n",
            "Epoch 00014: val_loss improved from 0.00266 to 0.00255, saving model to /content/drive/My Drive/Colab Notebooks/Thesis/best model/LSTMGA_update_best_mse_data10164.hdf5\n",
            "Epoch 15/50\n",
            "104/104 [==============================] - 3s 32ms/step - loss: 0.0130 - root_mean_squared_error: 0.1138 - mae: 0.0657 - val_loss: 0.0026 - val_root_mean_squared_error: 0.0510 - val_mae: 0.0366\n",
            "\n",
            "Epoch 00015: val_loss did not improve from 0.00255\n",
            "Epoch 16/50\n",
            "104/104 [==============================] - 3s 33ms/step - loss: 0.0123 - root_mean_squared_error: 0.1110 - mae: 0.0642 - val_loss: 0.0026 - val_root_mean_squared_error: 0.0508 - val_mae: 0.0361\n",
            "\n",
            "Epoch 00016: val_loss did not improve from 0.00255\n",
            "Epoch 17/50\n",
            "104/104 [==============================] - 3s 33ms/step - loss: 0.0145 - root_mean_squared_error: 0.1204 - mae: 0.0671 - val_loss: 0.0025 - val_root_mean_squared_error: 0.0499 - val_mae: 0.0354\n",
            "\n",
            "Epoch 00017: val_loss improved from 0.00255 to 0.00249, saving model to /content/drive/My Drive/Colab Notebooks/Thesis/best model/LSTMGA_update_best_mse_data10164.hdf5\n",
            "Epoch 18/50\n",
            "104/104 [==============================] - 3s 33ms/step - loss: 0.0123 - root_mean_squared_error: 0.1109 - mae: 0.0637 - val_loss: 0.0025 - val_root_mean_squared_error: 0.0503 - val_mae: 0.0358\n",
            "\n",
            "Epoch 00018: val_loss did not improve from 0.00249\n",
            "Epoch 19/50\n",
            "104/104 [==============================] - 3s 33ms/step - loss: 0.0120 - root_mean_squared_error: 0.1093 - mae: 0.0636 - val_loss: 0.0024 - val_root_mean_squared_error: 0.0487 - val_mae: 0.0340\n",
            "\n",
            "Epoch 00019: val_loss improved from 0.00249 to 0.00238, saving model to /content/drive/My Drive/Colab Notebooks/Thesis/best model/LSTMGA_update_best_mse_data10164.hdf5\n",
            "Epoch 20/50\n",
            "104/104 [==============================] - 3s 33ms/step - loss: 0.0114 - root_mean_squared_error: 0.1064 - mae: 0.0625 - val_loss: 0.0045 - val_root_mean_squared_error: 0.0672 - val_mae: 0.0510\n",
            "\n",
            "Epoch 00020: val_loss did not improve from 0.00238\n",
            "Epoch 21/50\n",
            "104/104 [==============================] - 3s 32ms/step - loss: 0.0106 - root_mean_squared_error: 0.1030 - mae: 0.0633 - val_loss: 0.0047 - val_root_mean_squared_error: 0.0685 - val_mae: 0.0502\n",
            "\n",
            "Epoch 00021: val_loss did not improve from 0.00238\n",
            "Epoch 22/50\n",
            "104/104 [==============================] - 3s 32ms/step - loss: 0.0100 - root_mean_squared_error: 0.1001 - mae: 0.0610 - val_loss: 0.0030 - val_root_mean_squared_error: 0.0551 - val_mae: 0.0387\n",
            "\n",
            "Epoch 00022: val_loss did not improve from 0.00238\n",
            "Epoch 23/50\n",
            "104/104 [==============================] - 3s 33ms/step - loss: 0.0095 - root_mean_squared_error: 0.0972 - mae: 0.0596 - val_loss: 0.0025 - val_root_mean_squared_error: 0.0497 - val_mae: 0.0355\n",
            "\n",
            "Epoch 00023: val_loss did not improve from 0.00238\n",
            "Epoch 24/50\n",
            "104/104 [==============================] - 3s 33ms/step - loss: 0.0086 - root_mean_squared_error: 0.0925 - mae: 0.0575 - val_loss: 0.0029 - val_root_mean_squared_error: 0.0543 - val_mae: 0.0373\n",
            "\n",
            "Epoch 00024: val_loss did not improve from 0.00238\n",
            "120/120 [==============================] - 1s 5ms/step - loss: 0.0024 - root_mean_squared_error: 0.0487 - mae: 0.0340\n"
          ],
          "name": "stdout"
        },
        {
          "output_type": "stream",
          "text": [
            "\r 60%|██████    | 6/10 [50:45<39:29, 592.45s/it]  "
          ],
          "name": "stderr"
        },
        {
          "output_type": "stream",
          "text": [
            "{'n_neurons': 64, 'n_layers': 2, 'bs_double': 6, 'n_timewindow': 1.5}\n",
            "64\n",
            "Epoch 1/50\n",
            "104/104 [==============================] - 7s 38ms/step - loss: 0.3680 - root_mean_squared_error: 0.5731 - mae: 0.4102 - val_loss: 0.0107 - val_root_mean_squared_error: 0.1033 - val_mae: 0.0876\n",
            "\n",
            "Epoch 00001: val_loss improved from inf to 0.01068, saving model to /content/drive/My Drive/Colab Notebooks/Thesis/best model/LSTMGA_update_best_mse_data10164.hdf5\n",
            "Epoch 2/50\n",
            "104/104 [==============================] - 4s 35ms/step - loss: 0.0451 - root_mean_squared_error: 0.2124 - mae: 0.1490 - val_loss: 0.0104 - val_root_mean_squared_error: 0.1020 - val_mae: 0.0851\n",
            "\n",
            "Epoch 00002: val_loss improved from 0.01068 to 0.01041, saving model to /content/drive/My Drive/Colab Notebooks/Thesis/best model/LSTMGA_update_best_mse_data10164.hdf5\n",
            "Epoch 3/50\n",
            "104/104 [==============================] - 3s 32ms/step - loss: 0.0373 - root_mean_squared_error: 0.1930 - mae: 0.1300 - val_loss: 0.0098 - val_root_mean_squared_error: 0.0988 - val_mae: 0.0775\n",
            "\n",
            "Epoch 00003: val_loss improved from 0.01041 to 0.00977, saving model to /content/drive/My Drive/Colab Notebooks/Thesis/best model/LSTMGA_update_best_mse_data10164.hdf5\n",
            "Epoch 4/50\n",
            "104/104 [==============================] - 3s 32ms/step - loss: 0.0319 - root_mean_squared_error: 0.1785 - mae: 0.1141 - val_loss: 0.0099 - val_root_mean_squared_error: 0.0994 - val_mae: 0.0771\n",
            "\n",
            "Epoch 00004: val_loss did not improve from 0.00977\n",
            "Epoch 5/50\n",
            "104/104 [==============================] - 3s 33ms/step - loss: 0.0237 - root_mean_squared_error: 0.1538 - mae: 0.0968 - val_loss: 0.0052 - val_root_mean_squared_error: 0.0719 - val_mae: 0.0554\n",
            "\n",
            "Epoch 00005: val_loss improved from 0.00977 to 0.00516, saving model to /content/drive/My Drive/Colab Notebooks/Thesis/best model/LSTMGA_update_best_mse_data10164.hdf5\n",
            "Epoch 6/50\n",
            "104/104 [==============================] - 3s 32ms/step - loss: 0.0215 - root_mean_squared_error: 0.1465 - mae: 0.0920 - val_loss: 0.0051 - val_root_mean_squared_error: 0.0716 - val_mae: 0.0557\n",
            "\n",
            "Epoch 00006: val_loss improved from 0.00516 to 0.00513, saving model to /content/drive/My Drive/Colab Notebooks/Thesis/best model/LSTMGA_update_best_mse_data10164.hdf5\n",
            "Epoch 7/50\n",
            "104/104 [==============================] - 3s 32ms/step - loss: 0.0227 - root_mean_squared_error: 0.1504 - mae: 0.0903 - val_loss: 0.0053 - val_root_mean_squared_error: 0.0725 - val_mae: 0.0547\n",
            "\n",
            "Epoch 00007: val_loss did not improve from 0.00513\n",
            "Epoch 8/50\n",
            "104/104 [==============================] - 3s 32ms/step - loss: 0.0215 - root_mean_squared_error: 0.1463 - mae: 0.0850 - val_loss: 0.0044 - val_root_mean_squared_error: 0.0664 - val_mae: 0.0502\n",
            "\n",
            "Epoch 00008: val_loss improved from 0.00513 to 0.00441, saving model to /content/drive/My Drive/Colab Notebooks/Thesis/best model/LSTMGA_update_best_mse_data10164.hdf5\n",
            "Epoch 9/50\n",
            "104/104 [==============================] - 3s 33ms/step - loss: 0.0161 - root_mean_squared_error: 0.1267 - mae: 0.0742 - val_loss: 0.0033 - val_root_mean_squared_error: 0.0571 - val_mae: 0.0418\n",
            "\n",
            "Epoch 00009: val_loss improved from 0.00441 to 0.00327, saving model to /content/drive/My Drive/Colab Notebooks/Thesis/best model/LSTMGA_update_best_mse_data10164.hdf5\n",
            "Epoch 10/50\n",
            "104/104 [==============================] - 3s 33ms/step - loss: 0.0190 - root_mean_squared_error: 0.1374 - mae: 0.0819 - val_loss: 0.0058 - val_root_mean_squared_error: 0.0759 - val_mae: 0.0532\n",
            "\n",
            "Epoch 00010: val_loss did not improve from 0.00327\n",
            "Epoch 11/50\n",
            "104/104 [==============================] - 3s 32ms/step - loss: 0.0141 - root_mean_squared_error: 0.1187 - mae: 0.0707 - val_loss: 0.0030 - val_root_mean_squared_error: 0.0544 - val_mae: 0.0392\n",
            "\n",
            "Epoch 00011: val_loss improved from 0.00327 to 0.00296, saving model to /content/drive/My Drive/Colab Notebooks/Thesis/best model/LSTMGA_update_best_mse_data10164.hdf5\n",
            "Epoch 12/50\n",
            "104/104 [==============================] - 3s 33ms/step - loss: 0.0132 - root_mean_squared_error: 0.1149 - mae: 0.0694 - val_loss: 0.0027 - val_root_mean_squared_error: 0.0515 - val_mae: 0.0375\n",
            "\n",
            "Epoch 00012: val_loss improved from 0.00296 to 0.00266, saving model to /content/drive/My Drive/Colab Notebooks/Thesis/best model/LSTMGA_update_best_mse_data10164.hdf5\n",
            "Epoch 13/50\n",
            "104/104 [==============================] - 3s 34ms/step - loss: 0.0141 - root_mean_squared_error: 0.1186 - mae: 0.0688 - val_loss: 0.0032 - val_root_mean_squared_error: 0.0564 - val_mae: 0.0404\n",
            "\n",
            "Epoch 00013: val_loss did not improve from 0.00266\n",
            "Epoch 14/50\n",
            "104/104 [==============================] - 3s 32ms/step - loss: 0.0136 - root_mean_squared_error: 0.1166 - mae: 0.0690 - val_loss: 0.0025 - val_root_mean_squared_error: 0.0505 - val_mae: 0.0364\n",
            "\n",
            "Epoch 00014: val_loss improved from 0.00266 to 0.00255, saving model to /content/drive/My Drive/Colab Notebooks/Thesis/best model/LSTMGA_update_best_mse_data10164.hdf5\n",
            "Epoch 15/50\n",
            "104/104 [==============================] - 3s 32ms/step - loss: 0.0130 - root_mean_squared_error: 0.1138 - mae: 0.0657 - val_loss: 0.0026 - val_root_mean_squared_error: 0.0510 - val_mae: 0.0366\n",
            "\n",
            "Epoch 00015: val_loss did not improve from 0.00255\n",
            "Epoch 16/50\n",
            "104/104 [==============================] - 3s 33ms/step - loss: 0.0123 - root_mean_squared_error: 0.1110 - mae: 0.0642 - val_loss: 0.0026 - val_root_mean_squared_error: 0.0508 - val_mae: 0.0361\n",
            "\n",
            "Epoch 00016: val_loss did not improve from 0.00255\n",
            "Epoch 17/50\n",
            "104/104 [==============================] - 3s 33ms/step - loss: 0.0145 - root_mean_squared_error: 0.1204 - mae: 0.0671 - val_loss: 0.0025 - val_root_mean_squared_error: 0.0499 - val_mae: 0.0354\n",
            "\n",
            "Epoch 00017: val_loss improved from 0.00255 to 0.00249, saving model to /content/drive/My Drive/Colab Notebooks/Thesis/best model/LSTMGA_update_best_mse_data10164.hdf5\n",
            "Epoch 18/50\n",
            "104/104 [==============================] - 3s 33ms/step - loss: 0.0123 - root_mean_squared_error: 0.1109 - mae: 0.0637 - val_loss: 0.0025 - val_root_mean_squared_error: 0.0503 - val_mae: 0.0358\n",
            "\n",
            "Epoch 00018: val_loss did not improve from 0.00249\n",
            "Epoch 19/50\n",
            "104/104 [==============================] - 4s 34ms/step - loss: 0.0120 - root_mean_squared_error: 0.1093 - mae: 0.0636 - val_loss: 0.0024 - val_root_mean_squared_error: 0.0487 - val_mae: 0.0340\n",
            "\n",
            "Epoch 00019: val_loss improved from 0.00249 to 0.00238, saving model to /content/drive/My Drive/Colab Notebooks/Thesis/best model/LSTMGA_update_best_mse_data10164.hdf5\n",
            "Epoch 20/50\n",
            "104/104 [==============================] - 3s 33ms/step - loss: 0.0114 - root_mean_squared_error: 0.1064 - mae: 0.0625 - val_loss: 0.0045 - val_root_mean_squared_error: 0.0672 - val_mae: 0.0510\n",
            "\n",
            "Epoch 00020: val_loss did not improve from 0.00238\n",
            "Epoch 21/50\n",
            "104/104 [==============================] - 3s 33ms/step - loss: 0.0106 - root_mean_squared_error: 0.1030 - mae: 0.0633 - val_loss: 0.0047 - val_root_mean_squared_error: 0.0685 - val_mae: 0.0502\n",
            "\n",
            "Epoch 00021: val_loss did not improve from 0.00238\n",
            "Epoch 22/50\n",
            "104/104 [==============================] - 3s 33ms/step - loss: 0.0100 - root_mean_squared_error: 0.1001 - mae: 0.0610 - val_loss: 0.0030 - val_root_mean_squared_error: 0.0551 - val_mae: 0.0387\n",
            "\n",
            "Epoch 00022: val_loss did not improve from 0.00238\n",
            "Epoch 23/50\n",
            "104/104 [==============================] - 3s 33ms/step - loss: 0.0095 - root_mean_squared_error: 0.0972 - mae: 0.0596 - val_loss: 0.0025 - val_root_mean_squared_error: 0.0497 - val_mae: 0.0355\n",
            "\n",
            "Epoch 00023: val_loss did not improve from 0.00238\n",
            "Epoch 24/50\n",
            "104/104 [==============================] - 4s 34ms/step - loss: 0.0086 - root_mean_squared_error: 0.0925 - mae: 0.0575 - val_loss: 0.0029 - val_root_mean_squared_error: 0.0543 - val_mae: 0.0373\n",
            "\n",
            "Epoch 00024: val_loss did not improve from 0.00238\n",
            "120/120 [==============================] - 1s 5ms/step - loss: 0.0024 - root_mean_squared_error: 0.0487 - mae: 0.0340\n"
          ],
          "name": "stdout"
        },
        {
          "output_type": "stream",
          "text": [
            "\r 70%|███████   | 7/10 [52:18<22:07, 442.40s/it]"
          ],
          "name": "stderr"
        },
        {
          "output_type": "stream",
          "text": [
            "{'n_neurons': 16, 'n_layers': 3, 'bs_double': 5, 'n_timewindow': 2}\n",
            "16\n",
            "Epoch 1/50\n",
            "208/208 [==============================] - 13s 42ms/step - loss: 0.2363 - root_mean_squared_error: 0.4626 - mae: 0.3199 - val_loss: 0.0228 - val_root_mean_squared_error: 0.1510 - val_mae: 0.1409\n",
            "\n",
            "Epoch 00001: val_loss improved from inf to 0.02281, saving model to /content/drive/My Drive/Colab Notebooks/Thesis/best model/LSTMGA_update_best_mse_data10132.hdf5\n",
            "Epoch 2/50\n",
            "208/208 [==============================] - 8s 36ms/step - loss: 0.0460 - root_mean_squared_error: 0.2141 - mae: 0.1371 - val_loss: 0.0195 - val_root_mean_squared_error: 0.1397 - val_mae: 0.1212\n",
            "\n",
            "Epoch 00002: val_loss improved from 0.02281 to 0.01951, saving model to /content/drive/My Drive/Colab Notebooks/Thesis/best model/LSTMGA_update_best_mse_data10132.hdf5\n",
            "Epoch 3/50\n",
            "208/208 [==============================] - 8s 36ms/step - loss: 0.0336 - root_mean_squared_error: 0.1833 - mae: 0.1126 - val_loss: 0.0101 - val_root_mean_squared_error: 0.1007 - val_mae: 0.0810\n",
            "\n",
            "Epoch 00003: val_loss improved from 0.01951 to 0.01015, saving model to /content/drive/My Drive/Colab Notebooks/Thesis/best model/LSTMGA_update_best_mse_data10132.hdf5\n",
            "Epoch 4/50\n",
            "208/208 [==============================] - 7s 36ms/step - loss: 0.0258 - root_mean_squared_error: 0.1603 - mae: 0.0992 - val_loss: 0.0112 - val_root_mean_squared_error: 0.1056 - val_mae: 0.0806\n",
            "\n",
            "Epoch 00004: val_loss did not improve from 0.01015\n",
            "Epoch 5/50\n",
            "208/208 [==============================] - 8s 37ms/step - loss: 0.0341 - root_mean_squared_error: 0.1837 - mae: 0.1029 - val_loss: 0.0078 - val_root_mean_squared_error: 0.0882 - val_mae: 0.0666\n",
            "\n",
            "Epoch 00005: val_loss improved from 0.01015 to 0.00777, saving model to /content/drive/My Drive/Colab Notebooks/Thesis/best model/LSTMGA_update_best_mse_data10132.hdf5\n",
            "Epoch 6/50\n",
            "208/208 [==============================] - 8s 37ms/step - loss: 0.0223 - root_mean_squared_error: 0.1493 - mae: 0.0876 - val_loss: 0.0077 - val_root_mean_squared_error: 0.0880 - val_mae: 0.0688\n",
            "\n",
            "Epoch 00006: val_loss improved from 0.00777 to 0.00774, saving model to /content/drive/My Drive/Colab Notebooks/Thesis/best model/LSTMGA_update_best_mse_data10132.hdf5\n",
            "Epoch 7/50\n",
            "208/208 [==============================] - 8s 38ms/step - loss: 0.0280 - root_mean_squared_error: 0.1661 - mae: 0.0928 - val_loss: 0.0061 - val_root_mean_squared_error: 0.0781 - val_mae: 0.0591\n",
            "\n",
            "Epoch 00007: val_loss improved from 0.00774 to 0.00609, saving model to /content/drive/My Drive/Colab Notebooks/Thesis/best model/LSTMGA_update_best_mse_data10132.hdf5\n",
            "Epoch 8/50\n",
            "208/208 [==============================] - 8s 37ms/step - loss: 0.0216 - root_mean_squared_error: 0.1463 - mae: 0.0818 - val_loss: 0.0064 - val_root_mean_squared_error: 0.0801 - val_mae: 0.0598\n",
            "\n",
            "Epoch 00008: val_loss did not improve from 0.00609\n",
            "Epoch 9/50\n",
            "208/208 [==============================] - 8s 37ms/step - loss: 0.0187 - root_mean_squared_error: 0.1361 - mae: 0.0791 - val_loss: 0.0051 - val_root_mean_squared_error: 0.0712 - val_mae: 0.0534\n",
            "\n",
            "Epoch 00009: val_loss improved from 0.00609 to 0.00507, saving model to /content/drive/My Drive/Colab Notebooks/Thesis/best model/LSTMGA_update_best_mse_data10132.hdf5\n",
            "Epoch 10/50\n",
            "208/208 [==============================] - 8s 37ms/step - loss: 0.0218 - root_mean_squared_error: 0.1473 - mae: 0.0819 - val_loss: 0.0071 - val_root_mean_squared_error: 0.0844 - val_mae: 0.0647\n",
            "\n",
            "Epoch 00010: val_loss did not improve from 0.00507\n",
            "Epoch 11/50\n",
            "208/208 [==============================] - 8s 37ms/step - loss: 0.0165 - root_mean_squared_error: 0.1282 - mae: 0.0773 - val_loss: 0.0051 - val_root_mean_squared_error: 0.0715 - val_mae: 0.0540\n",
            "\n",
            "Epoch 00011: val_loss did not improve from 0.00507\n",
            "Epoch 12/50\n",
            "208/208 [==============================] - 8s 38ms/step - loss: 0.0151 - root_mean_squared_error: 0.1229 - mae: 0.0705 - val_loss: 0.0038 - val_root_mean_squared_error: 0.0620 - val_mae: 0.0473\n",
            "\n",
            "Epoch 00012: val_loss improved from 0.00507 to 0.00385, saving model to /content/drive/My Drive/Colab Notebooks/Thesis/best model/LSTMGA_update_best_mse_data10132.hdf5\n",
            "Epoch 13/50\n",
            "208/208 [==============================] - 8s 37ms/step - loss: 0.0114 - root_mean_squared_error: 0.1067 - mae: 0.0634 - val_loss: 0.0033 - val_root_mean_squared_error: 0.0571 - val_mae: 0.0413\n",
            "\n",
            "Epoch 00013: val_loss improved from 0.00385 to 0.00326, saving model to /content/drive/My Drive/Colab Notebooks/Thesis/best model/LSTMGA_update_best_mse_data10132.hdf5\n",
            "Epoch 14/50\n",
            "208/208 [==============================] - 8s 37ms/step - loss: 0.0097 - root_mean_squared_error: 0.0986 - mae: 0.0606 - val_loss: 0.0036 - val_root_mean_squared_error: 0.0598 - val_mae: 0.0429\n",
            "\n",
            "Epoch 00014: val_loss did not improve from 0.00326\n",
            "Epoch 15/50\n",
            "208/208 [==============================] - 8s 37ms/step - loss: 0.0114 - root_mean_squared_error: 0.1066 - mae: 0.0591 - val_loss: 0.0024 - val_root_mean_squared_error: 0.0487 - val_mae: 0.0333\n",
            "\n",
            "Epoch 00015: val_loss improved from 0.00326 to 0.00237, saving model to /content/drive/My Drive/Colab Notebooks/Thesis/best model/LSTMGA_update_best_mse_data10132.hdf5\n",
            "Epoch 16/50\n",
            "208/208 [==============================] - 8s 37ms/step - loss: 0.0094 - root_mean_squared_error: 0.0967 - mae: 0.0558 - val_loss: 0.0025 - val_root_mean_squared_error: 0.0497 - val_mae: 0.0354\n",
            "\n",
            "Epoch 00016: val_loss did not improve from 0.00237\n",
            "Epoch 17/50\n",
            "208/208 [==============================] - 8s 37ms/step - loss: 0.0067 - root_mean_squared_error: 0.0818 - mae: 0.0511 - val_loss: 0.0025 - val_root_mean_squared_error: 0.0497 - val_mae: 0.0344\n",
            "\n",
            "Epoch 00017: val_loss did not improve from 0.00237\n",
            "Epoch 18/50\n",
            "208/208 [==============================] - 8s 37ms/step - loss: 0.0070 - root_mean_squared_error: 0.0834 - mae: 0.0503 - val_loss: 0.0024 - val_root_mean_squared_error: 0.0487 - val_mae: 0.0338\n",
            "\n",
            "Epoch 00018: val_loss did not improve from 0.00237\n",
            "Epoch 19/50\n",
            "208/208 [==============================] - 8s 37ms/step - loss: 0.0058 - root_mean_squared_error: 0.0759 - mae: 0.0477 - val_loss: 0.0023 - val_root_mean_squared_error: 0.0476 - val_mae: 0.0326\n",
            "\n",
            "Epoch 00019: val_loss improved from 0.00237 to 0.00226, saving model to /content/drive/My Drive/Colab Notebooks/Thesis/best model/LSTMGA_update_best_mse_data10132.hdf5\n",
            "Epoch 20/50\n",
            "208/208 [==============================] - 8s 37ms/step - loss: 0.0063 - root_mean_squared_error: 0.0792 - mae: 0.0474 - val_loss: 0.0021 - val_root_mean_squared_error: 0.0457 - val_mae: 0.0311\n",
            "\n",
            "Epoch 00020: val_loss improved from 0.00226 to 0.00209, saving model to /content/drive/My Drive/Colab Notebooks/Thesis/best model/LSTMGA_update_best_mse_data10132.hdf5\n",
            "Epoch 21/50\n",
            "208/208 [==============================] - 8s 37ms/step - loss: 0.0074 - root_mean_squared_error: 0.0860 - mae: 0.0493 - val_loss: 0.0021 - val_root_mean_squared_error: 0.0461 - val_mae: 0.0314\n",
            "\n",
            "Epoch 00021: val_loss did not improve from 0.00209\n",
            "Epoch 22/50\n",
            "208/208 [==============================] - 8s 38ms/step - loss: 0.0048 - root_mean_squared_error: 0.0692 - mae: 0.0431 - val_loss: 0.0021 - val_root_mean_squared_error: 0.0463 - val_mae: 0.0310\n",
            "\n",
            "Epoch 00022: val_loss did not improve from 0.00209\n",
            "Epoch 23/50\n",
            "208/208 [==============================] - 8s 39ms/step - loss: 0.0056 - root_mean_squared_error: 0.0747 - mae: 0.0457 - val_loss: 0.0020 - val_root_mean_squared_error: 0.0446 - val_mae: 0.0300\n",
            "\n",
            "Epoch 00023: val_loss improved from 0.00209 to 0.00199, saving model to /content/drive/My Drive/Colab Notebooks/Thesis/best model/LSTMGA_update_best_mse_data10132.hdf5\n",
            "Epoch 24/50\n",
            "208/208 [==============================] - 8s 38ms/step - loss: 0.0064 - root_mean_squared_error: 0.0795 - mae: 0.0452 - val_loss: 0.0020 - val_root_mean_squared_error: 0.0447 - val_mae: 0.0300\n",
            "\n",
            "Epoch 00024: val_loss did not improve from 0.00199\n",
            "Epoch 25/50\n",
            "208/208 [==============================] - 8s 37ms/step - loss: 0.0063 - root_mean_squared_error: 0.0791 - mae: 0.0491 - val_loss: 0.0028 - val_root_mean_squared_error: 0.0530 - val_mae: 0.0361\n",
            "\n",
            "Epoch 00025: val_loss did not improve from 0.00199\n",
            "Epoch 26/50\n",
            "208/208 [==============================] - 8s 37ms/step - loss: 0.0047 - root_mean_squared_error: 0.0688 - mae: 0.0450 - val_loss: 0.0030 - val_root_mean_squared_error: 0.0547 - val_mae: 0.0386\n",
            "\n",
            "Epoch 00026: val_loss did not improve from 0.00199\n",
            "Epoch 27/50\n",
            "208/208 [==============================] - 8s 37ms/step - loss: 0.0047 - root_mean_squared_error: 0.0684 - mae: 0.0441 - val_loss: 0.0021 - val_root_mean_squared_error: 0.0461 - val_mae: 0.0319\n",
            "\n",
            "Epoch 00027: val_loss did not improve from 0.00199\n",
            "Epoch 28/50\n",
            "208/208 [==============================] - 8s 37ms/step - loss: 0.0044 - root_mean_squared_error: 0.0663 - mae: 0.0421 - val_loss: 0.0021 - val_root_mean_squared_error: 0.0463 - val_mae: 0.0318\n",
            "\n",
            "Epoch 00028: val_loss did not improve from 0.00199\n",
            "120/120 [==============================] - 2s 7ms/step - loss: 0.0020 - root_mean_squared_error: 0.0446 - mae: 0.0300\n"
          ],
          "name": "stdout"
        },
        {
          "output_type": "stream",
          "text": [
            "\r 80%|████████  | 8/10 [56:16<12:42, 381.05s/it]"
          ],
          "name": "stderr"
        },
        {
          "output_type": "stream",
          "text": [
            "{'n_neurons': 64, 'n_layers': 4, 'bs_double': 6, 'n_timewindow': 1.5}\n",
            "64\n",
            "Epoch 1/50\n",
            "104/104 [==============================] - 61s 529ms/step - loss: 0.5546 - root_mean_squared_error: 0.6964 - mae: 0.4631 - val_loss: 0.1438 - val_root_mean_squared_error: 0.3793 - val_mae: 0.3667\n",
            "\n",
            "Epoch 00001: val_loss improved from inf to 0.14383, saving model to /content/drive/My Drive/Colab Notebooks/Thesis/best model/LSTMGA_update_best_mse_data10164.hdf5\n",
            "Epoch 2/50\n",
            "104/104 [==============================] - 54s 515ms/step - loss: 0.0713 - root_mean_squared_error: 0.2666 - mae: 0.1819 - val_loss: 0.0987 - val_root_mean_squared_error: 0.3142 - val_mae: 0.2989\n",
            "\n",
            "Epoch 00002: val_loss improved from 0.14383 to 0.09874, saving model to /content/drive/My Drive/Colab Notebooks/Thesis/best model/LSTMGA_update_best_mse_data10164.hdf5\n",
            "Epoch 3/50\n",
            "104/104 [==============================] - 54s 522ms/step - loss: 0.0433 - root_mean_squared_error: 0.2079 - mae: 0.1391 - val_loss: 0.0447 - val_root_mean_squared_error: 0.2115 - val_mae: 0.1857\n",
            "\n",
            "Epoch 00003: val_loss improved from 0.09874 to 0.04474, saving model to /content/drive/My Drive/Colab Notebooks/Thesis/best model/LSTMGA_update_best_mse_data10164.hdf5\n",
            "Epoch 4/50\n",
            "104/104 [==============================] - 54s 517ms/step - loss: 0.0431 - root_mean_squared_error: 0.2074 - mae: 0.1330 - val_loss: 0.0155 - val_root_mean_squared_error: 0.1246 - val_mae: 0.0901\n",
            "\n",
            "Epoch 00004: val_loss improved from 0.04474 to 0.01553, saving model to /content/drive/My Drive/Colab Notebooks/Thesis/best model/LSTMGA_update_best_mse_data10164.hdf5\n",
            "Epoch 5/50\n",
            "104/104 [==============================] - 54s 516ms/step - loss: 0.0335 - root_mean_squared_error: 0.1830 - mae: 0.1157 - val_loss: 0.0131 - val_root_mean_squared_error: 0.1143 - val_mae: 0.0874\n",
            "\n",
            "Epoch 00005: val_loss improved from 0.01553 to 0.01305, saving model to /content/drive/My Drive/Colab Notebooks/Thesis/best model/LSTMGA_update_best_mse_data10164.hdf5\n",
            "Epoch 6/50\n",
            "104/104 [==============================] - 53s 508ms/step - loss: 0.0294 - root_mean_squared_error: 0.1712 - mae: 0.1100 - val_loss: 0.0133 - val_root_mean_squared_error: 0.1153 - val_mae: 0.0861\n",
            "\n",
            "Epoch 00006: val_loss did not improve from 0.01305\n",
            "Epoch 7/50\n",
            "104/104 [==============================] - 53s 507ms/step - loss: 0.0273 - root_mean_squared_error: 0.1651 - mae: 0.1051 - val_loss: 0.0119 - val_root_mean_squared_error: 0.1093 - val_mae: 0.0820\n",
            "\n",
            "Epoch 00007: val_loss improved from 0.01305 to 0.01194, saving model to /content/drive/My Drive/Colab Notebooks/Thesis/best model/LSTMGA_update_best_mse_data10164.hdf5\n",
            "Epoch 8/50\n",
            "104/104 [==============================] - 53s 511ms/step - loss: 0.0261 - root_mean_squared_error: 0.1614 - mae: 0.0996 - val_loss: 0.0083 - val_root_mean_squared_error: 0.0911 - val_mae: 0.0676\n",
            "\n",
            "Epoch 00008: val_loss improved from 0.01194 to 0.00831, saving model to /content/drive/My Drive/Colab Notebooks/Thesis/best model/LSTMGA_update_best_mse_data10164.hdf5\n",
            "Epoch 9/50\n",
            "104/104 [==============================] - 53s 515ms/step - loss: 0.0202 - root_mean_squared_error: 0.1419 - mae: 0.0879 - val_loss: 0.0065 - val_root_mean_squared_error: 0.0807 - val_mae: 0.0606\n",
            "\n",
            "Epoch 00009: val_loss improved from 0.00831 to 0.00652, saving model to /content/drive/My Drive/Colab Notebooks/Thesis/best model/LSTMGA_update_best_mse_data10164.hdf5\n",
            "Epoch 10/50\n",
            "104/104 [==============================] - 54s 518ms/step - loss: 0.0237 - root_mean_squared_error: 0.1537 - mae: 0.0931 - val_loss: 0.0113 - val_root_mean_squared_error: 0.1065 - val_mae: 0.0783\n",
            "\n",
            "Epoch 00010: val_loss did not improve from 0.00652\n",
            "Epoch 11/50\n",
            "104/104 [==============================] - 54s 524ms/step - loss: 0.0248 - root_mean_squared_error: 0.1573 - mae: 0.0900 - val_loss: 0.0064 - val_root_mean_squared_error: 0.0802 - val_mae: 0.0583\n",
            "\n",
            "Epoch 00011: val_loss improved from 0.00652 to 0.00644, saving model to /content/drive/My Drive/Colab Notebooks/Thesis/best model/LSTMGA_update_best_mse_data10164.hdf5\n",
            "Epoch 12/50\n",
            "104/104 [==============================] - 54s 519ms/step - loss: 0.0208 - root_mean_squared_error: 0.1442 - mae: 0.0831 - val_loss: 0.0056 - val_root_mean_squared_error: 0.0748 - val_mae: 0.0556\n",
            "\n",
            "Epoch 00012: val_loss improved from 0.00644 to 0.00559, saving model to /content/drive/My Drive/Colab Notebooks/Thesis/best model/LSTMGA_update_best_mse_data10164.hdf5\n",
            "Epoch 13/50\n",
            "104/104 [==============================] - 54s 516ms/step - loss: 0.0167 - root_mean_squared_error: 0.1291 - mae: 0.0762 - val_loss: 0.0053 - val_root_mean_squared_error: 0.0731 - val_mae: 0.0546\n",
            "\n",
            "Epoch 00013: val_loss improved from 0.00559 to 0.00535, saving model to /content/drive/My Drive/Colab Notebooks/Thesis/best model/LSTMGA_update_best_mse_data10164.hdf5\n",
            "Epoch 14/50\n",
            "104/104 [==============================] - 54s 517ms/step - loss: 0.0154 - root_mean_squared_error: 0.1239 - mae: 0.0719 - val_loss: 0.0040 - val_root_mean_squared_error: 0.0633 - val_mae: 0.0476\n",
            "\n",
            "Epoch 00014: val_loss improved from 0.00535 to 0.00401, saving model to /content/drive/My Drive/Colab Notebooks/Thesis/best model/LSTMGA_update_best_mse_data10164.hdf5\n",
            "Epoch 15/50\n",
            "104/104 [==============================] - 54s 516ms/step - loss: 0.0149 - root_mean_squared_error: 0.1218 - mae: 0.0721 - val_loss: 0.0039 - val_root_mean_squared_error: 0.0621 - val_mae: 0.0451\n",
            "\n",
            "Epoch 00015: val_loss improved from 0.00401 to 0.00385, saving model to /content/drive/My Drive/Colab Notebooks/Thesis/best model/LSTMGA_update_best_mse_data10164.hdf5\n",
            "Epoch 16/50\n",
            "104/104 [==============================] - 53s 513ms/step - loss: 0.0157 - root_mean_squared_error: 0.1252 - mae: 0.0711 - val_loss: 0.0035 - val_root_mean_squared_error: 0.0592 - val_mae: 0.0432\n",
            "\n",
            "Epoch 00016: val_loss improved from 0.00385 to 0.00350, saving model to /content/drive/My Drive/Colab Notebooks/Thesis/best model/LSTMGA_update_best_mse_data10164.hdf5\n",
            "Epoch 17/50\n",
            "104/104 [==============================] - 54s 516ms/step - loss: 0.0147 - root_mean_squared_error: 0.1209 - mae: 0.0704 - val_loss: 0.0040 - val_root_mean_squared_error: 0.0635 - val_mae: 0.0459\n",
            "\n",
            "Epoch 00017: val_loss did not improve from 0.00350\n",
            "Epoch 18/50\n",
            "104/104 [==============================] - 53s 509ms/step - loss: 0.0147 - root_mean_squared_error: 0.1209 - mae: 0.0688 - val_loss: 0.0039 - val_root_mean_squared_error: 0.0627 - val_mae: 0.0446\n",
            "\n",
            "Epoch 00018: val_loss did not improve from 0.00350\n",
            "Epoch 19/50\n",
            "104/104 [==============================] - 53s 512ms/step - loss: 0.0139 - root_mean_squared_error: 0.1174 - mae: 0.0686 - val_loss: 0.0034 - val_root_mean_squared_error: 0.0586 - val_mae: 0.0424\n",
            "\n",
            "Epoch 00019: val_loss improved from 0.00350 to 0.00343, saving model to /content/drive/My Drive/Colab Notebooks/Thesis/best model/LSTMGA_update_best_mse_data10164.hdf5\n",
            "Epoch 20/50\n",
            "104/104 [==============================] - 54s 516ms/step - loss: 0.0142 - root_mean_squared_error: 0.1187 - mae: 0.0687 - val_loss: 0.0102 - val_root_mean_squared_error: 0.1008 - val_mae: 0.0760\n",
            "\n",
            "Epoch 00020: val_loss did not improve from 0.00343\n",
            "Epoch 21/50\n",
            "104/104 [==============================] - 53s 512ms/step - loss: 0.0156 - root_mean_squared_error: 0.1248 - mae: 0.0739 - val_loss: 0.0043 - val_root_mean_squared_error: 0.0659 - val_mae: 0.0487\n",
            "\n",
            "Epoch 00021: val_loss did not improve from 0.00343\n",
            "Epoch 22/50\n",
            "104/104 [==============================] - 54s 518ms/step - loss: 0.0124 - root_mean_squared_error: 0.1112 - mae: 0.0666 - val_loss: 0.0076 - val_root_mean_squared_error: 0.0874 - val_mae: 0.0617\n",
            "\n",
            "Epoch 00022: val_loss did not improve from 0.00343\n",
            "Epoch 23/50\n",
            "104/104 [==============================] - 54s 520ms/step - loss: 0.0141 - root_mean_squared_error: 0.1185 - mae: 0.0702 - val_loss: 0.0054 - val_root_mean_squared_error: 0.0735 - val_mae: 0.0536\n",
            "\n",
            "Epoch 00023: val_loss did not improve from 0.00343\n",
            "Epoch 24/50\n",
            "104/104 [==============================] - 54s 516ms/step - loss: 0.0408 - root_mean_squared_error: 0.2006 - mae: 0.1299 - val_loss: 0.0266 - val_root_mean_squared_error: 0.1631 - val_mae: 0.0999\n",
            "\n",
            "Epoch 00024: val_loss did not improve from 0.00343\n",
            "120/120 [==============================] - 9s 68ms/step - loss: 0.0034 - root_mean_squared_error: 0.0586 - mae: 0.0424\n"
          ],
          "name": "stdout"
        },
        {
          "output_type": "stream",
          "text": [
            "\r 90%|█████████ | 9/10 [1:18:29<11:06, 666.75s/it]"
          ],
          "name": "stderr"
        },
        {
          "output_type": "stream",
          "text": [
            "{'n_neurons': 16, 'n_layers': 4, 'bs_double': 5, 'n_timewindow': 1.5}\n",
            "16\n",
            "Epoch 1/50\n",
            "208/208 [==============================] - 17s 54ms/step - loss: 0.1959 - root_mean_squared_error: 0.4223 - mae: 0.2786 - val_loss: 0.0183 - val_root_mean_squared_error: 0.1354 - val_mae: 0.1259\n",
            "\n",
            "Epoch 00001: val_loss improved from inf to 0.01833, saving model to /content/drive/My Drive/Colab Notebooks/Thesis/best model/LSTMGA_update_best_mse_data10132.hdf5\n",
            "Epoch 2/50\n",
            "208/208 [==============================] - 10s 50ms/step - loss: 0.0366 - root_mean_squared_error: 0.1908 - mae: 0.1231 - val_loss: 0.0108 - val_root_mean_squared_error: 0.1038 - val_mae: 0.0879\n",
            "\n",
            "Epoch 00002: val_loss improved from 0.01833 to 0.01078, saving model to /content/drive/My Drive/Colab Notebooks/Thesis/best model/LSTMGA_update_best_mse_data10132.hdf5\n",
            "Epoch 3/50\n",
            "208/208 [==============================] - 10s 49ms/step - loss: 0.0366 - root_mean_squared_error: 0.1910 - mae: 0.1135 - val_loss: 0.0122 - val_root_mean_squared_error: 0.1106 - val_mae: 0.0827\n",
            "\n",
            "Epoch 00003: val_loss did not improve from 0.01078\n",
            "Epoch 4/50\n",
            "208/208 [==============================] - 10s 49ms/step - loss: 0.0270 - root_mean_squared_error: 0.1639 - mae: 0.0973 - val_loss: 0.0107 - val_root_mean_squared_error: 0.1035 - val_mae: 0.0798\n",
            "\n",
            "Epoch 00004: val_loss improved from 0.01078 to 0.01072, saving model to /content/drive/My Drive/Colab Notebooks/Thesis/best model/LSTMGA_update_best_mse_data10132.hdf5\n",
            "Epoch 5/50\n",
            "208/208 [==============================] - 10s 49ms/step - loss: 0.0263 - root_mean_squared_error: 0.1618 - mae: 0.0972 - val_loss: 0.0099 - val_root_mean_squared_error: 0.0994 - val_mae: 0.0760\n",
            "\n",
            "Epoch 00005: val_loss improved from 0.01072 to 0.00988, saving model to /content/drive/My Drive/Colab Notebooks/Thesis/best model/LSTMGA_update_best_mse_data10132.hdf5\n",
            "Epoch 6/50\n",
            "208/208 [==============================] - 10s 50ms/step - loss: 0.0233 - root_mean_squared_error: 0.1524 - mae: 0.0924 - val_loss: 0.0094 - val_root_mean_squared_error: 0.0967 - val_mae: 0.0755\n",
            "\n",
            "Epoch 00006: val_loss improved from 0.00988 to 0.00936, saving model to /content/drive/My Drive/Colab Notebooks/Thesis/best model/LSTMGA_update_best_mse_data10132.hdf5\n",
            "Epoch 7/50\n",
            "208/208 [==============================] - 10s 49ms/step - loss: 0.0220 - root_mean_squared_error: 0.1478 - mae: 0.0897 - val_loss: 0.0083 - val_root_mean_squared_error: 0.0914 - val_mae: 0.0698\n",
            "\n",
            "Epoch 00007: val_loss improved from 0.00936 to 0.00835, saving model to /content/drive/My Drive/Colab Notebooks/Thesis/best model/LSTMGA_update_best_mse_data10132.hdf5\n",
            "Epoch 8/50\n",
            "208/208 [==============================] - 10s 50ms/step - loss: 0.0175 - root_mean_squared_error: 0.1320 - mae: 0.0846 - val_loss: 0.0081 - val_root_mean_squared_error: 0.0901 - val_mae: 0.0690\n",
            "\n",
            "Epoch 00008: val_loss improved from 0.00835 to 0.00811, saving model to /content/drive/My Drive/Colab Notebooks/Thesis/best model/LSTMGA_update_best_mse_data10132.hdf5\n",
            "Epoch 9/50\n",
            "208/208 [==============================] - 10s 49ms/step - loss: 0.0198 - root_mean_squared_error: 0.1406 - mae: 0.0857 - val_loss: 0.0082 - val_root_mean_squared_error: 0.0905 - val_mae: 0.0697\n",
            "\n",
            "Epoch 00009: val_loss did not improve from 0.00811\n",
            "Epoch 10/50\n",
            "208/208 [==============================] - 10s 49ms/step - loss: 0.0180 - root_mean_squared_error: 0.1340 - mae: 0.0872 - val_loss: 0.1135 - val_root_mean_squared_error: 0.3369 - val_mae: 0.2130\n",
            "\n",
            "Epoch 00010: val_loss did not improve from 0.00811\n",
            "Epoch 11/50\n",
            "208/208 [==============================] - 10s 49ms/step - loss: 0.0195 - root_mean_squared_error: 0.1395 - mae: 0.0892 - val_loss: 0.0095 - val_root_mean_squared_error: 0.0975 - val_mae: 0.0768\n",
            "\n",
            "Epoch 00011: val_loss did not improve from 0.00811\n",
            "Epoch 12/50\n",
            "208/208 [==============================] - 10s 49ms/step - loss: 0.0152 - root_mean_squared_error: 0.1233 - mae: 0.0812 - val_loss: 0.0102 - val_root_mean_squared_error: 0.1012 - val_mae: 0.0770\n",
            "\n",
            "Epoch 00012: val_loss did not improve from 0.00811\n",
            "Epoch 13/50\n",
            "208/208 [==============================] - 10s 49ms/step - loss: 0.0160 - root_mean_squared_error: 0.1261 - mae: 0.0773 - val_loss: 0.0051 - val_root_mean_squared_error: 0.0717 - val_mae: 0.0552\n",
            "\n",
            "Epoch 00013: val_loss improved from 0.00811 to 0.00514, saving model to /content/drive/My Drive/Colab Notebooks/Thesis/best model/LSTMGA_update_best_mse_data10132.hdf5\n",
            "Epoch 14/50\n",
            "208/208 [==============================] - 10s 50ms/step - loss: 0.0124 - root_mean_squared_error: 0.1112 - mae: 0.0708 - val_loss: 0.0062 - val_root_mean_squared_error: 0.0790 - val_mae: 0.0607\n",
            "\n",
            "Epoch 00014: val_loss did not improve from 0.00514\n",
            "Epoch 15/50\n",
            "208/208 [==============================] - 10s 50ms/step - loss: 0.0097 - root_mean_squared_error: 0.0985 - mae: 0.0633 - val_loss: 0.0033 - val_root_mean_squared_error: 0.0575 - val_mae: 0.0427\n",
            "\n",
            "Epoch 00015: val_loss improved from 0.00514 to 0.00330, saving model to /content/drive/My Drive/Colab Notebooks/Thesis/best model/LSTMGA_update_best_mse_data10132.hdf5\n",
            "Epoch 16/50\n",
            "208/208 [==============================] - 11s 51ms/step - loss: 0.0090 - root_mean_squared_error: 0.0944 - mae: 0.0582 - val_loss: 0.0030 - val_root_mean_squared_error: 0.0548 - val_mae: 0.0409\n",
            "\n",
            "Epoch 00016: val_loss improved from 0.00330 to 0.00300, saving model to /content/drive/My Drive/Colab Notebooks/Thesis/best model/LSTMGA_update_best_mse_data10132.hdf5\n",
            "Epoch 17/50\n",
            "208/208 [==============================] - 10s 49ms/step - loss: 0.0087 - root_mean_squared_error: 0.0931 - mae: 0.0576 - val_loss: 0.0032 - val_root_mean_squared_error: 0.0568 - val_mae: 0.0431\n",
            "\n",
            "Epoch 00017: val_loss did not improve from 0.00300\n",
            "Epoch 18/50\n",
            "208/208 [==============================] - 10s 50ms/step - loss: 0.0080 - root_mean_squared_error: 0.0890 - mae: 0.0543 - val_loss: 0.0027 - val_root_mean_squared_error: 0.0519 - val_mae: 0.0374\n",
            "\n",
            "Epoch 00018: val_loss improved from 0.00300 to 0.00270, saving model to /content/drive/My Drive/Colab Notebooks/Thesis/best model/LSTMGA_update_best_mse_data10132.hdf5\n",
            "Epoch 19/50\n",
            "208/208 [==============================] - 10s 49ms/step - loss: 0.0066 - root_mean_squared_error: 0.0810 - mae: 0.0521 - val_loss: 0.0023 - val_root_mean_squared_error: 0.0475 - val_mae: 0.0332\n",
            "\n",
            "Epoch 00019: val_loss improved from 0.00270 to 0.00226, saving model to /content/drive/My Drive/Colab Notebooks/Thesis/best model/LSTMGA_update_best_mse_data10132.hdf5\n",
            "Epoch 20/50\n",
            "208/208 [==============================] - 10s 49ms/step - loss: 0.0056 - root_mean_squared_error: 0.0749 - mae: 0.0485 - val_loss: 0.0025 - val_root_mean_squared_error: 0.0499 - val_mae: 0.0352\n",
            "\n",
            "Epoch 00020: val_loss did not improve from 0.00226\n",
            "Epoch 21/50\n",
            "208/208 [==============================] - 10s 50ms/step - loss: 0.0068 - root_mean_squared_error: 0.0825 - mae: 0.0506 - val_loss: 0.0021 - val_root_mean_squared_error: 0.0457 - val_mae: 0.0316\n",
            "\n",
            "Epoch 00021: val_loss improved from 0.00226 to 0.00209, saving model to /content/drive/My Drive/Colab Notebooks/Thesis/best model/LSTMGA_update_best_mse_data10132.hdf5\n",
            "Epoch 22/50\n",
            "208/208 [==============================] - 10s 49ms/step - loss: 0.0060 - root_mean_squared_error: 0.0772 - mae: 0.0488 - val_loss: 0.0022 - val_root_mean_squared_error: 0.0470 - val_mae: 0.0325\n",
            "\n",
            "Epoch 00022: val_loss did not improve from 0.00209\n",
            "Epoch 23/50\n",
            "208/208 [==============================] - 10s 49ms/step - loss: 0.0053 - root_mean_squared_error: 0.0723 - mae: 0.0466 - val_loss: 0.0021 - val_root_mean_squared_error: 0.0459 - val_mae: 0.0314\n",
            "\n",
            "Epoch 00023: val_loss did not improve from 0.00209\n",
            "Epoch 24/50\n",
            "208/208 [==============================] - 10s 49ms/step - loss: 0.0056 - root_mean_squared_error: 0.0750 - mae: 0.0471 - val_loss: 0.0022 - val_root_mean_squared_error: 0.0474 - val_mae: 0.0321\n",
            "\n",
            "Epoch 00024: val_loss did not improve from 0.00209\n",
            "Epoch 25/50\n",
            "208/208 [==============================] - 10s 49ms/step - loss: 0.0057 - root_mean_squared_error: 0.0752 - mae: 0.0489 - val_loss: 0.0028 - val_root_mean_squared_error: 0.0530 - val_mae: 0.0366\n",
            "\n",
            "Epoch 00025: val_loss did not improve from 0.00209\n",
            "Epoch 26/50\n",
            "208/208 [==============================] - 10s 50ms/step - loss: 0.0052 - root_mean_squared_error: 0.0724 - mae: 0.0481 - val_loss: 0.0023 - val_root_mean_squared_error: 0.0483 - val_mae: 0.0336\n",
            "\n",
            "Epoch 00026: val_loss did not improve from 0.00209\n",
            "120/120 [==============================] - 2s 10ms/step - loss: 0.0021 - root_mean_squared_error: 0.0457 - mae: 0.0316\n"
          ],
          "name": "stdout"
        },
        {
          "output_type": "stream",
          "text": [
            "100%|██████████| 10/10 [1:23:25<00:00, 500.56s/it]\n",
            "  0%|          | 0/6 [00:00<?, ?it/s]"
          ],
          "name": "stderr"
        },
        {
          "output_type": "stream",
          "text": [
            "[{'n_neurons': 16, 'n_layers': 2, 'bs_double': 5, 'n_timewindow': 2}, {'n_neurons': 16, 'n_layers': 3, 'bs_double': 5, 'n_timewindow': 2}, {'n_neurons': 16, 'n_layers': 4, 'bs_double': 5, 'n_timewindow': 1.5}, {'n_neurons': 16, 'n_layers': 3, 'bs_double': 6, 'n_timewindow': 1.5}, {'n_neurons': 64, 'n_layers': 4, 'bs_double': 5, 'n_timewindow': 1.5}, {'n_neurons': 16, 'n_layers': 3, 'bs_double': 9, 'n_timewindow': 2}, {'n_neurons': 16, 'n_layers': 3, 'bs_double': 6, 'n_timewindow': 2}, {'n_neurons': 16, 'n_layers': 3, 'bs_double': 6, 'n_timewindow': 0.5}, {'n_neurons': 16, 'n_layers': 3, 'bs_double': 5, 'n_timewindow': 1.5}, {'n_neurons': 16, 'n_layers': 2, 'bs_double': 5, 'n_timewindow': 1.5}]\n",
            "Iteration:  2\n",
            "{'n_neurons': 64, 'n_layers': 4, 'bs_double': 5, 'n_timewindow': 1.5}\n",
            "64\n",
            "Epoch 1/50\n",
            "208/208 [==============================] - 87s 394ms/step - loss: 0.4867 - root_mean_squared_error: 0.6507 - mae: 0.4502 - val_loss: 0.0889 - val_root_mean_squared_error: 0.2982 - val_mae: 0.2820\n",
            "\n",
            "Epoch 00001: val_loss improved from inf to 0.08892, saving model to /content/drive/My Drive/Colab Notebooks/Thesis/best model/LSTMGA_update_best_mse_data10132.hdf5\n",
            "Epoch 2/50\n",
            "208/208 [==============================] - 82s 395ms/step - loss: 0.0812 - root_mean_squared_error: 0.2844 - mae: 0.1900 - val_loss: 0.2733 - val_root_mean_squared_error: 0.5228 - val_mae: 0.3912\n",
            "\n",
            "Epoch 00002: val_loss did not improve from 0.08892\n",
            "Epoch 3/50\n",
            "208/208 [==============================] - 82s 394ms/step - loss: 0.0441 - root_mean_squared_error: 0.2095 - mae: 0.1443 - val_loss: 0.0367 - val_root_mean_squared_error: 0.1915 - val_mae: 0.1660\n",
            "\n",
            "Epoch 00003: val_loss improved from 0.08892 to 0.03669, saving model to /content/drive/My Drive/Colab Notebooks/Thesis/best model/LSTMGA_update_best_mse_data10132.hdf5\n",
            "Epoch 4/50\n",
            "208/208 [==============================] - 82s 394ms/step - loss: 0.0276 - root_mean_squared_error: 0.1661 - mae: 0.1136 - val_loss: 0.0298 - val_root_mean_squared_error: 0.1726 - val_mae: 0.1377\n",
            "\n",
            "Epoch 00004: val_loss improved from 0.03669 to 0.02979, saving model to /content/drive/My Drive/Colab Notebooks/Thesis/best model/LSTMGA_update_best_mse_data10132.hdf5\n",
            "Epoch 5/50\n",
            "208/208 [==============================] - 82s 393ms/step - loss: 0.0232 - root_mean_squared_error: 0.1520 - mae: 0.1031 - val_loss: 0.0119 - val_root_mean_squared_error: 0.1090 - val_mae: 0.0740\n",
            "\n",
            "Epoch 00005: val_loss improved from 0.02979 to 0.01188, saving model to /content/drive/My Drive/Colab Notebooks/Thesis/best model/LSTMGA_update_best_mse_data10132.hdf5\n",
            "Epoch 6/50\n",
            "208/208 [==============================] - 81s 388ms/step - loss: 0.0195 - root_mean_squared_error: 0.1394 - mae: 0.0944 - val_loss: 0.0079 - val_root_mean_squared_error: 0.0887 - val_mae: 0.0631\n",
            "\n",
            "Epoch 00006: val_loss improved from 0.01188 to 0.00787, saving model to /content/drive/My Drive/Colab Notebooks/Thesis/best model/LSTMGA_update_best_mse_data10132.hdf5\n",
            "Epoch 7/50\n",
            "208/208 [==============================] - 83s 397ms/step - loss: 0.0178 - root_mean_squared_error: 0.1335 - mae: 0.0891 - val_loss: 0.0098 - val_root_mean_squared_error: 0.0991 - val_mae: 0.0704\n",
            "\n",
            "Epoch 00007: val_loss did not improve from 0.00787\n",
            "Epoch 8/50\n",
            "208/208 [==============================] - 85s 408ms/step - loss: 0.0174 - root_mean_squared_error: 0.1321 - mae: 0.0883 - val_loss: 0.0066 - val_root_mean_squared_error: 0.0810 - val_mae: 0.0575\n",
            "\n",
            "Epoch 00008: val_loss improved from 0.00787 to 0.00657, saving model to /content/drive/My Drive/Colab Notebooks/Thesis/best model/LSTMGA_update_best_mse_data10132.hdf5\n",
            "Epoch 9/50\n",
            "208/208 [==============================] - 89s 427ms/step - loss: 0.0170 - root_mean_squared_error: 0.1303 - mae: 0.0861 - val_loss: 0.0081 - val_root_mean_squared_error: 0.0902 - val_mae: 0.0578\n",
            "\n",
            "Epoch 00009: val_loss did not improve from 0.00657\n",
            "Epoch 10/50\n",
            "208/208 [==============================] - 84s 403ms/step - loss: 0.0166 - root_mean_squared_error: 0.1286 - mae: 0.0861 - val_loss: 0.0097 - val_root_mean_squared_error: 0.0985 - val_mae: 0.0706\n",
            "\n",
            "Epoch 00010: val_loss did not improve from 0.00657\n",
            "Epoch 11/50\n",
            "208/208 [==============================] - 83s 400ms/step - loss: 0.0180 - root_mean_squared_error: 0.1338 - mae: 0.0920 - val_loss: 0.0090 - val_root_mean_squared_error: 0.0946 - val_mae: 0.0748\n",
            "\n",
            "Epoch 00011: val_loss did not improve from 0.00657\n",
            "Epoch 12/50\n",
            "208/208 [==============================] - 82s 393ms/step - loss: 0.0135 - root_mean_squared_error: 0.1163 - mae: 0.0802 - val_loss: 0.0087 - val_root_mean_squared_error: 0.0931 - val_mae: 0.0736\n",
            "\n",
            "Epoch 00012: val_loss did not improve from 0.00657\n",
            "Epoch 13/50\n",
            "208/208 [==============================] - 82s 394ms/step - loss: 0.0112 - root_mean_squared_error: 0.1056 - mae: 0.0714 - val_loss: 0.0040 - val_root_mean_squared_error: 0.0635 - val_mae: 0.0459\n",
            "\n",
            "Epoch 00013: val_loss improved from 0.00657 to 0.00403, saving model to /content/drive/My Drive/Colab Notebooks/Thesis/best model/LSTMGA_update_best_mse_data10132.hdf5\n",
            "Epoch 14/50\n",
            "208/208 [==============================] - 82s 392ms/step - loss: 0.0098 - root_mean_squared_error: 0.0987 - mae: 0.0658 - val_loss: 0.0036 - val_root_mean_squared_error: 0.0600 - val_mae: 0.0417\n",
            "\n",
            "Epoch 00014: val_loss improved from 0.00403 to 0.00360, saving model to /content/drive/My Drive/Colab Notebooks/Thesis/best model/LSTMGA_update_best_mse_data10132.hdf5\n",
            "Epoch 15/50\n",
            "208/208 [==============================] - 81s 389ms/step - loss: 0.0081 - root_mean_squared_error: 0.0900 - mae: 0.0603 - val_loss: 0.0037 - val_root_mean_squared_error: 0.0612 - val_mae: 0.0421\n",
            "\n",
            "Epoch 00015: val_loss did not improve from 0.00360\n",
            "Epoch 16/50\n",
            "208/208 [==============================] - 81s 390ms/step - loss: 0.0075 - root_mean_squared_error: 0.0863 - mae: 0.0576 - val_loss: 0.0036 - val_root_mean_squared_error: 0.0601 - val_mae: 0.0423\n",
            "\n",
            "Epoch 00016: val_loss did not improve from 0.00360\n",
            "Epoch 17/50\n",
            "208/208 [==============================] - 80s 387ms/step - loss: 0.0068 - root_mean_squared_error: 0.0825 - mae: 0.0561 - val_loss: 0.0031 - val_root_mean_squared_error: 0.0560 - val_mae: 0.0391\n",
            "\n",
            "Epoch 00017: val_loss improved from 0.00360 to 0.00314, saving model to /content/drive/My Drive/Colab Notebooks/Thesis/best model/LSTMGA_update_best_mse_data10132.hdf5\n",
            "Epoch 18/50\n",
            "208/208 [==============================] - 81s 389ms/step - loss: 0.0062 - root_mean_squared_error: 0.0789 - mae: 0.0529 - val_loss: 0.0039 - val_root_mean_squared_error: 0.0622 - val_mae: 0.0447\n",
            "\n",
            "Epoch 00018: val_loss did not improve from 0.00314\n",
            "Epoch 19/50\n",
            "208/208 [==============================] - 82s 394ms/step - loss: 0.0056 - root_mean_squared_error: 0.0748 - mae: 0.0514 - val_loss: 0.0032 - val_root_mean_squared_error: 0.0567 - val_mae: 0.0396\n",
            "\n",
            "Epoch 00019: val_loss did not improve from 0.00314\n",
            "Epoch 20/50\n",
            "208/208 [==============================] - 81s 390ms/step - loss: 0.0055 - root_mean_squared_error: 0.0739 - mae: 0.0501 - val_loss: 0.0030 - val_root_mean_squared_error: 0.0548 - val_mae: 0.0382\n",
            "\n",
            "Epoch 00020: val_loss improved from 0.00314 to 0.00301, saving model to /content/drive/My Drive/Colab Notebooks/Thesis/best model/LSTMGA_update_best_mse_data10132.hdf5\n",
            "Epoch 21/50\n",
            "208/208 [==============================] - 81s 392ms/step - loss: 0.0058 - root_mean_squared_error: 0.0762 - mae: 0.0505 - val_loss: 0.0031 - val_root_mean_squared_error: 0.0555 - val_mae: 0.0391\n",
            "\n",
            "Epoch 00021: val_loss did not improve from 0.00301\n",
            "Epoch 22/50\n",
            "208/208 [==============================] - 81s 390ms/step - loss: 0.0059 - root_mean_squared_error: 0.0768 - mae: 0.0515 - val_loss: 0.0029 - val_root_mean_squared_error: 0.0534 - val_mae: 0.0356\n",
            "\n",
            "Epoch 00022: val_loss improved from 0.00301 to 0.00286, saving model to /content/drive/My Drive/Colab Notebooks/Thesis/best model/LSTMGA_update_best_mse_data10132.hdf5\n",
            "Epoch 23/50\n",
            "208/208 [==============================] - 80s 387ms/step - loss: 0.0059 - root_mean_squared_error: 0.0768 - mae: 0.0510 - val_loss: 0.0029 - val_root_mean_squared_error: 0.0539 - val_mae: 0.0370\n",
            "\n",
            "Epoch 00023: val_loss did not improve from 0.00286\n",
            "Epoch 24/50\n",
            "208/208 [==============================] - 80s 385ms/step - loss: 0.0055 - root_mean_squared_error: 0.0743 - mae: 0.0504 - val_loss: 0.0029 - val_root_mean_squared_error: 0.0540 - val_mae: 0.0359\n",
            "\n",
            "Epoch 00024: val_loss did not improve from 0.00286\n",
            "Epoch 25/50\n",
            "208/208 [==============================] - 81s 390ms/step - loss: 0.0055 - root_mean_squared_error: 0.0739 - mae: 0.0508 - val_loss: 0.0034 - val_root_mean_squared_error: 0.0587 - val_mae: 0.0409\n",
            "\n",
            "Epoch 00025: val_loss did not improve from 0.00286\n",
            "Epoch 26/50\n",
            "208/208 [==============================] - 82s 394ms/step - loss: 0.0057 - root_mean_squared_error: 0.0756 - mae: 0.0515 - val_loss: 0.0033 - val_root_mean_squared_error: 0.0575 - val_mae: 0.0383\n",
            "\n",
            "Epoch 00026: val_loss did not improve from 0.00286\n",
            "Epoch 27/50\n",
            "208/208 [==============================] - 83s 397ms/step - loss: 0.0050 - root_mean_squared_error: 0.0710 - mae: 0.0489 - val_loss: 0.0033 - val_root_mean_squared_error: 0.0570 - val_mae: 0.0386\n",
            "\n",
            "Epoch 00027: val_loss did not improve from 0.00286\n",
            "120/120 [==============================] - 9s 68ms/step - loss: 0.0029 - root_mean_squared_error: 0.0534 - mae: 0.0356\n"
          ],
          "name": "stdout"
        },
        {
          "output_type": "stream",
          "text": [
            "\r 17%|█▋        | 1/6 [37:33<3:07:48, 2253.61s/it]"
          ],
          "name": "stderr"
        },
        {
          "output_type": "stream",
          "text": [
            "{'n_neurons': 16, 'n_layers': 3, 'bs_double': 9, 'n_timewindow': 2}\n",
            "16\n",
            "Epoch 1/50\n",
            "13/13 [==============================] - 8s 242ms/step - loss: 0.7107 - root_mean_squared_error: 0.8167 - mae: 0.5652 - val_loss: 0.0106 - val_root_mean_squared_error: 0.1031 - val_mae: 0.0655\n",
            "\n",
            "Epoch 00001: val_loss improved from inf to 0.01063, saving model to /content/drive/My Drive/Colab Notebooks/Thesis/best model/LSTMGA_update_best_mse_data101512.hdf5\n",
            "Epoch 2/50\n",
            "13/13 [==============================] - 2s 179ms/step - loss: 0.0822 - root_mean_squared_error: 0.2864 - mae: 0.1992 - val_loss: 0.0103 - val_root_mean_squared_error: 0.1014 - val_mae: 0.0840\n",
            "\n",
            "Epoch 00002: val_loss improved from 0.01063 to 0.01028, saving model to /content/drive/My Drive/Colab Notebooks/Thesis/best model/LSTMGA_update_best_mse_data101512.hdf5\n",
            "Epoch 3/50\n",
            "13/13 [==============================] - 2s 179ms/step - loss: 0.0530 - root_mean_squared_error: 0.2301 - mae: 0.1539 - val_loss: 0.0125 - val_root_mean_squared_error: 0.1118 - val_mae: 0.0996\n",
            "\n",
            "Epoch 00003: val_loss did not improve from 0.01028\n",
            "Epoch 4/50\n",
            "13/13 [==============================] - 2s 178ms/step - loss: 0.0449 - root_mean_squared_error: 0.2119 - mae: 0.1337 - val_loss: 0.0130 - val_root_mean_squared_error: 0.1139 - val_mae: 0.1022\n",
            "\n",
            "Epoch 00004: val_loss did not improve from 0.01028\n",
            "Epoch 5/50\n",
            "13/13 [==============================] - 2s 191ms/step - loss: 0.0367 - root_mean_squared_error: 0.1915 - mae: 0.1178 - val_loss: 0.0134 - val_root_mean_squared_error: 0.1158 - val_mae: 0.1046\n",
            "\n",
            "Epoch 00005: val_loss did not improve from 0.01028\n",
            "Epoch 6/50\n",
            "13/13 [==============================] - 2s 182ms/step - loss: 0.0402 - root_mean_squared_error: 0.2005 - mae: 0.1171 - val_loss: 0.0149 - val_root_mean_squared_error: 0.1222 - val_mae: 0.1120\n",
            "\n",
            "Epoch 00006: val_loss did not improve from 0.01028\n",
            "Epoch 7/50\n",
            "13/13 [==============================] - 2s 180ms/step - loss: 0.0375 - root_mean_squared_error: 0.1934 - mae: 0.1135 - val_loss: 0.0169 - val_root_mean_squared_error: 0.1300 - val_mae: 0.1203\n",
            "\n",
            "Epoch 00007: val_loss did not improve from 0.01028\n",
            "120/120 [==============================] - 1s 7ms/step - loss: 0.0103 - root_mean_squared_error: 0.1014 - mae: 0.0840\n"
          ],
          "name": "stdout"
        },
        {
          "output_type": "stream",
          "text": [
            "\r 33%|███▎      | 2/6 [38:02<1:45:44, 1586.15s/it]"
          ],
          "name": "stderr"
        },
        {
          "output_type": "stream",
          "text": [
            "{'n_neurons': 16, 'n_layers': 3, 'bs_double': 6, 'n_timewindow': 2}\n",
            "16\n",
            "Epoch 1/50\n",
            "104/104 [==============================] - 10s 54ms/step - loss: 0.2921 - root_mean_squared_error: 0.5076 - mae: 0.3355 - val_loss: 0.0186 - val_root_mean_squared_error: 0.1365 - val_mae: 0.1270\n",
            "\n",
            "Epoch 00001: val_loss improved from inf to 0.01864, saving model to /content/drive/My Drive/Colab Notebooks/Thesis/best model/LSTMGA_update_best_mse_data10164.hdf5\n",
            "Epoch 2/50\n",
            "104/104 [==============================] - 5s 44ms/step - loss: 0.0546 - root_mean_squared_error: 0.2332 - mae: 0.1444 - val_loss: 0.0219 - val_root_mean_squared_error: 0.1478 - val_mae: 0.1379\n",
            "\n",
            "Epoch 00002: val_loss did not improve from 0.01864\n",
            "Epoch 3/50\n",
            "104/104 [==============================] - 5s 44ms/step - loss: 0.0382 - root_mean_squared_error: 0.1949 - mae: 0.1193 - val_loss: 0.0294 - val_root_mean_squared_error: 0.1714 - val_mae: 0.1595\n",
            "\n",
            "Epoch 00003: val_loss did not improve from 0.01864\n",
            "Epoch 4/50\n",
            "104/104 [==============================] - 5s 45ms/step - loss: 0.0401 - root_mean_squared_error: 0.1989 - mae: 0.1131 - val_loss: 0.0233 - val_root_mean_squared_error: 0.1527 - val_mae: 0.1372\n",
            "\n",
            "Epoch 00004: val_loss did not improve from 0.01864\n",
            "Epoch 5/50\n",
            "104/104 [==============================] - 5s 45ms/step - loss: 0.0353 - root_mean_squared_error: 0.1871 - mae: 0.1058 - val_loss: 0.0143 - val_root_mean_squared_error: 0.1194 - val_mae: 0.1002\n",
            "\n",
            "Epoch 00005: val_loss improved from 0.01864 to 0.01427, saving model to /content/drive/My Drive/Colab Notebooks/Thesis/best model/LSTMGA_update_best_mse_data10164.hdf5\n",
            "Epoch 6/50\n",
            "104/104 [==============================] - 5s 44ms/step - loss: 0.0216 - root_mean_squared_error: 0.1469 - mae: 0.0904 - val_loss: 0.0089 - val_root_mean_squared_error: 0.0946 - val_mae: 0.0757\n",
            "\n",
            "Epoch 00006: val_loss improved from 0.01427 to 0.00895, saving model to /content/drive/My Drive/Colab Notebooks/Thesis/best model/LSTMGA_update_best_mse_data10164.hdf5\n",
            "Epoch 7/50\n",
            "104/104 [==============================] - 5s 44ms/step - loss: 0.0249 - root_mean_squared_error: 0.1575 - mae: 0.0894 - val_loss: 0.0073 - val_root_mean_squared_error: 0.0852 - val_mae: 0.0661\n",
            "\n",
            "Epoch 00007: val_loss improved from 0.00895 to 0.00725, saving model to /content/drive/My Drive/Colab Notebooks/Thesis/best model/LSTMGA_update_best_mse_data10164.hdf5\n",
            "Epoch 8/50\n",
            "104/104 [==============================] - 5s 45ms/step - loss: 0.0249 - root_mean_squared_error: 0.1577 - mae: 0.0873 - val_loss: 0.0071 - val_root_mean_squared_error: 0.0845 - val_mae: 0.0663\n",
            "\n",
            "Epoch 00008: val_loss improved from 0.00725 to 0.00714, saving model to /content/drive/My Drive/Colab Notebooks/Thesis/best model/LSTMGA_update_best_mse_data10164.hdf5\n",
            "Epoch 9/50\n",
            "104/104 [==============================] - 5s 46ms/step - loss: 0.0210 - root_mean_squared_error: 0.1448 - mae: 0.0824 - val_loss: 0.0065 - val_root_mean_squared_error: 0.0806 - val_mae: 0.0640\n",
            "\n",
            "Epoch 00009: val_loss improved from 0.00714 to 0.00649, saving model to /content/drive/My Drive/Colab Notebooks/Thesis/best model/LSTMGA_update_best_mse_data10164.hdf5\n",
            "Epoch 10/50\n",
            "104/104 [==============================] - 5s 44ms/step - loss: 0.0223 - root_mean_squared_error: 0.1482 - mae: 0.0813 - val_loss: 0.0054 - val_root_mean_squared_error: 0.0738 - val_mae: 0.0565\n",
            "\n",
            "Epoch 00010: val_loss improved from 0.00649 to 0.00545, saving model to /content/drive/My Drive/Colab Notebooks/Thesis/best model/LSTMGA_update_best_mse_data10164.hdf5\n",
            "Epoch 11/50\n",
            "104/104 [==============================] - 5s 45ms/step - loss: 0.0186 - root_mean_squared_error: 0.1359 - mae: 0.0778 - val_loss: 0.0046 - val_root_mean_squared_error: 0.0681 - val_mae: 0.0509\n",
            "\n",
            "Epoch 00011: val_loss improved from 0.00545 to 0.00464, saving model to /content/drive/My Drive/Colab Notebooks/Thesis/best model/LSTMGA_update_best_mse_data10164.hdf5\n",
            "Epoch 12/50\n",
            "104/104 [==============================] - 5s 44ms/step - loss: 0.0164 - root_mean_squared_error: 0.1275 - mae: 0.0714 - val_loss: 0.0047 - val_root_mean_squared_error: 0.0685 - val_mae: 0.0525\n",
            "\n",
            "Epoch 00012: val_loss did not improve from 0.00464\n",
            "Epoch 13/50\n",
            "104/104 [==============================] - 5s 44ms/step - loss: 0.0160 - root_mean_squared_error: 0.1263 - mae: 0.0718 - val_loss: 0.0042 - val_root_mean_squared_error: 0.0650 - val_mae: 0.0491\n",
            "\n",
            "Epoch 00013: val_loss improved from 0.00464 to 0.00422, saving model to /content/drive/My Drive/Colab Notebooks/Thesis/best model/LSTMGA_update_best_mse_data10164.hdf5\n",
            "Epoch 14/50\n",
            "104/104 [==============================] - 5s 44ms/step - loss: 0.0159 - root_mean_squared_error: 0.1257 - mae: 0.0705 - val_loss: 0.0038 - val_root_mean_squared_error: 0.0620 - val_mae: 0.0458\n",
            "\n",
            "Epoch 00014: val_loss improved from 0.00422 to 0.00384, saving model to /content/drive/My Drive/Colab Notebooks/Thesis/best model/LSTMGA_update_best_mse_data10164.hdf5\n",
            "Epoch 15/50\n",
            "104/104 [==============================] - 5s 44ms/step - loss: 0.0158 - root_mean_squared_error: 0.1256 - mae: 0.0700 - val_loss: 0.0037 - val_root_mean_squared_error: 0.0608 - val_mae: 0.0456\n",
            "\n",
            "Epoch 00015: val_loss improved from 0.00384 to 0.00369, saving model to /content/drive/My Drive/Colab Notebooks/Thesis/best model/LSTMGA_update_best_mse_data10164.hdf5\n",
            "Epoch 16/50\n",
            "104/104 [==============================] - 5s 44ms/step - loss: 0.0211 - root_mean_squared_error: 0.1446 - mae: 0.0749 - val_loss: 0.0035 - val_root_mean_squared_error: 0.0593 - val_mae: 0.0437\n",
            "\n",
            "Epoch 00016: val_loss improved from 0.00369 to 0.00351, saving model to /content/drive/My Drive/Colab Notebooks/Thesis/best model/LSTMGA_update_best_mse_data10164.hdf5\n",
            "Epoch 17/50\n",
            "104/104 [==============================] - 5s 45ms/step - loss: 0.0124 - root_mean_squared_error: 0.1110 - mae: 0.0637 - val_loss: 0.0033 - val_root_mean_squared_error: 0.0577 - val_mae: 0.0421\n",
            "\n",
            "Epoch 00017: val_loss improved from 0.00351 to 0.00333, saving model to /content/drive/My Drive/Colab Notebooks/Thesis/best model/LSTMGA_update_best_mse_data10164.hdf5\n",
            "Epoch 18/50\n",
            "104/104 [==============================] - 5s 45ms/step - loss: 0.0152 - root_mean_squared_error: 0.1225 - mae: 0.0674 - val_loss: 0.0033 - val_root_mean_squared_error: 0.0573 - val_mae: 0.0421\n",
            "\n",
            "Epoch 00018: val_loss improved from 0.00333 to 0.00328, saving model to /content/drive/My Drive/Colab Notebooks/Thesis/best model/LSTMGA_update_best_mse_data10164.hdf5\n",
            "Epoch 19/50\n",
            "104/104 [==============================] - 5s 45ms/step - loss: 0.0143 - root_mean_squared_error: 0.1196 - mae: 0.0647 - val_loss: 0.0032 - val_root_mean_squared_error: 0.0564 - val_mae: 0.0412\n",
            "\n",
            "Epoch 00019: val_loss improved from 0.00328 to 0.00318, saving model to /content/drive/My Drive/Colab Notebooks/Thesis/best model/LSTMGA_update_best_mse_data10164.hdf5\n",
            "Epoch 20/50\n",
            "104/104 [==============================] - 5s 46ms/step - loss: 0.0183 - root_mean_squared_error: 0.1347 - mae: 0.0695 - val_loss: 0.0044 - val_root_mean_squared_error: 0.0660 - val_mae: 0.0485\n",
            "\n",
            "Epoch 00020: val_loss did not improve from 0.00318\n",
            "Epoch 21/50\n",
            "104/104 [==============================] - 5s 45ms/step - loss: 0.0136 - root_mean_squared_error: 0.1163 - mae: 0.0662 - val_loss: 0.0036 - val_root_mean_squared_error: 0.0596 - val_mae: 0.0440\n",
            "\n",
            "Epoch 00021: val_loss did not improve from 0.00318\n",
            "Epoch 22/50\n",
            "104/104 [==============================] - 5s 45ms/step - loss: 0.0098 - root_mean_squared_error: 0.0988 - mae: 0.0582 - val_loss: 0.0041 - val_root_mean_squared_error: 0.0641 - val_mae: 0.0472\n",
            "\n",
            "Epoch 00022: val_loss did not improve from 0.00318\n",
            "Epoch 23/50\n",
            "104/104 [==============================] - 5s 45ms/step - loss: 0.0100 - root_mean_squared_error: 0.1000 - mae: 0.0570 - val_loss: 0.0029 - val_root_mean_squared_error: 0.0535 - val_mae: 0.0375\n",
            "\n",
            "Epoch 00023: val_loss improved from 0.00318 to 0.00286, saving model to /content/drive/My Drive/Colab Notebooks/Thesis/best model/LSTMGA_update_best_mse_data10164.hdf5\n",
            "Epoch 24/50\n",
            "104/104 [==============================] - 5s 45ms/step - loss: 0.0105 - root_mean_squared_error: 0.1017 - mae: 0.0545 - val_loss: 0.0027 - val_root_mean_squared_error: 0.0523 - val_mae: 0.0378\n",
            "\n",
            "Epoch 00024: val_loss improved from 0.00286 to 0.00273, saving model to /content/drive/My Drive/Colab Notebooks/Thesis/best model/LSTMGA_update_best_mse_data10164.hdf5\n",
            "Epoch 25/50\n",
            "104/104 [==============================] - 5s 45ms/step - loss: 0.0089 - root_mean_squared_error: 0.0939 - mae: 0.0530 - val_loss: 0.0025 - val_root_mean_squared_error: 0.0500 - val_mae: 0.0356\n",
            "\n",
            "Epoch 00025: val_loss improved from 0.00273 to 0.00250, saving model to /content/drive/My Drive/Colab Notebooks/Thesis/best model/LSTMGA_update_best_mse_data10164.hdf5\n",
            "Epoch 26/50\n",
            "104/104 [==============================] - 5s 44ms/step - loss: 0.0081 - root_mean_squared_error: 0.0900 - mae: 0.0522 - val_loss: 0.0031 - val_root_mean_squared_error: 0.0560 - val_mae: 0.0408\n",
            "\n",
            "Epoch 00026: val_loss did not improve from 0.00250\n",
            "Epoch 27/50\n",
            "104/104 [==============================] - 5s 45ms/step - loss: 0.0070 - root_mean_squared_error: 0.0834 - mae: 0.0490 - val_loss: 0.0031 - val_root_mean_squared_error: 0.0561 - val_mae: 0.0408\n",
            "\n",
            "Epoch 00027: val_loss did not improve from 0.00250\n",
            "Epoch 28/50\n",
            "104/104 [==============================] - 5s 45ms/step - loss: 0.0070 - root_mean_squared_error: 0.0837 - mae: 0.0478 - val_loss: 0.0022 - val_root_mean_squared_error: 0.0466 - val_mae: 0.0330\n",
            "\n",
            "Epoch 00028: val_loss improved from 0.00250 to 0.00217, saving model to /content/drive/My Drive/Colab Notebooks/Thesis/best model/LSTMGA_update_best_mse_data10164.hdf5\n",
            "Epoch 29/50\n",
            "104/104 [==============================] - 5s 44ms/step - loss: 0.0065 - root_mean_squared_error: 0.0801 - mae: 0.0460 - val_loss: 0.0022 - val_root_mean_squared_error: 0.0467 - val_mae: 0.0331\n",
            "\n",
            "Epoch 00029: val_loss did not improve from 0.00217\n",
            "Epoch 30/50\n",
            "104/104 [==============================] - 5s 44ms/step - loss: 0.0066 - root_mean_squared_error: 0.0810 - mae: 0.0455 - val_loss: 0.0021 - val_root_mean_squared_error: 0.0460 - val_mae: 0.0319\n",
            "\n",
            "Epoch 00030: val_loss improved from 0.00217 to 0.00211, saving model to /content/drive/My Drive/Colab Notebooks/Thesis/best model/LSTMGA_update_best_mse_data10164.hdf5\n",
            "Epoch 31/50\n",
            "104/104 [==============================] - 5s 44ms/step - loss: 0.0062 - root_mean_squared_error: 0.0784 - mae: 0.0454 - val_loss: 0.0020 - val_root_mean_squared_error: 0.0451 - val_mae: 0.0305\n",
            "\n",
            "Epoch 00031: val_loss improved from 0.00211 to 0.00204, saving model to /content/drive/My Drive/Colab Notebooks/Thesis/best model/LSTMGA_update_best_mse_data10164.hdf5\n",
            "Epoch 32/50\n",
            "104/104 [==============================] - 5s 46ms/step - loss: 0.0049 - root_mean_squared_error: 0.0702 - mae: 0.0432 - val_loss: 0.0021 - val_root_mean_squared_error: 0.0454 - val_mae: 0.0312\n",
            "\n",
            "Epoch 00032: val_loss did not improve from 0.00204\n",
            "Epoch 33/50\n",
            "104/104 [==============================] - 5s 44ms/step - loss: 0.0049 - root_mean_squared_error: 0.0698 - mae: 0.0414 - val_loss: 0.0021 - val_root_mean_squared_error: 0.0453 - val_mae: 0.0310\n",
            "\n",
            "Epoch 00033: val_loss did not improve from 0.00204\n",
            "Epoch 34/50\n",
            "104/104 [==============================] - 5s 45ms/step - loss: 0.0071 - root_mean_squared_error: 0.0840 - mae: 0.0451 - val_loss: 0.0020 - val_root_mean_squared_error: 0.0446 - val_mae: 0.0304\n",
            "\n",
            "Epoch 00034: val_loss improved from 0.00204 to 0.00199, saving model to /content/drive/My Drive/Colab Notebooks/Thesis/best model/LSTMGA_update_best_mse_data10164.hdf5\n",
            "Epoch 35/50\n",
            "104/104 [==============================] - 5s 44ms/step - loss: 0.0050 - root_mean_squared_error: 0.0706 - mae: 0.0419 - val_loss: 0.0020 - val_root_mean_squared_error: 0.0452 - val_mae: 0.0310\n",
            "\n",
            "Epoch 00035: val_loss did not improve from 0.00199\n",
            "Epoch 36/50\n",
            "104/104 [==============================] - 5s 44ms/step - loss: 0.0054 - root_mean_squared_error: 0.0734 - mae: 0.0422 - val_loss: 0.0019 - val_root_mean_squared_error: 0.0438 - val_mae: 0.0301\n",
            "\n",
            "Epoch 00036: val_loss improved from 0.00199 to 0.00192, saving model to /content/drive/My Drive/Colab Notebooks/Thesis/best model/LSTMGA_update_best_mse_data10164.hdf5\n",
            "Epoch 37/50\n",
            "104/104 [==============================] - 5s 44ms/step - loss: 0.0052 - root_mean_squared_error: 0.0717 - mae: 0.0414 - val_loss: 0.0020 - val_root_mean_squared_error: 0.0445 - val_mae: 0.0310\n",
            "\n",
            "Epoch 00037: val_loss did not improve from 0.00192\n",
            "Epoch 38/50\n",
            "104/104 [==============================] - 5s 44ms/step - loss: 0.0050 - root_mean_squared_error: 0.0706 - mae: 0.0414 - val_loss: 0.0020 - val_root_mean_squared_error: 0.0442 - val_mae: 0.0299\n",
            "\n",
            "Epoch 00038: val_loss did not improve from 0.00192\n",
            "Epoch 39/50\n",
            "104/104 [==============================] - 5s 44ms/step - loss: 0.0048 - root_mean_squared_error: 0.0694 - mae: 0.0407 - val_loss: 0.0019 - val_root_mean_squared_error: 0.0433 - val_mae: 0.0291\n",
            "\n",
            "Epoch 00039: val_loss improved from 0.00192 to 0.00187, saving model to /content/drive/My Drive/Colab Notebooks/Thesis/best model/LSTMGA_update_best_mse_data10164.hdf5\n",
            "Epoch 40/50\n",
            "104/104 [==============================] - 5s 48ms/step - loss: 0.0040 - root_mean_squared_error: 0.0635 - mae: 0.0390 - val_loss: 0.0020 - val_root_mean_squared_error: 0.0446 - val_mae: 0.0304\n",
            "\n",
            "Epoch 00040: val_loss did not improve from 0.00187\n",
            "Epoch 41/50\n",
            "104/104 [==============================] - 5s 45ms/step - loss: 0.0046 - root_mean_squared_error: 0.0674 - mae: 0.0402 - val_loss: 0.0019 - val_root_mean_squared_error: 0.0434 - val_mae: 0.0293\n",
            "\n",
            "Epoch 00041: val_loss did not improve from 0.00187\n",
            "Epoch 42/50\n",
            "104/104 [==============================] - 5s 44ms/step - loss: 0.0045 - root_mean_squared_error: 0.0669 - mae: 0.0392 - val_loss: 0.0019 - val_root_mean_squared_error: 0.0433 - val_mae: 0.0290\n",
            "\n",
            "Epoch 00042: val_loss improved from 0.00187 to 0.00187, saving model to /content/drive/My Drive/Colab Notebooks/Thesis/best model/LSTMGA_update_best_mse_data10164.hdf5\n",
            "Epoch 43/50\n",
            "104/104 [==============================] - 5s 46ms/step - loss: 0.0043 - root_mean_squared_error: 0.0658 - mae: 0.0387 - val_loss: 0.0018 - val_root_mean_squared_error: 0.0428 - val_mae: 0.0286\n",
            "\n",
            "Epoch 00043: val_loss improved from 0.00187 to 0.00183, saving model to /content/drive/My Drive/Colab Notebooks/Thesis/best model/LSTMGA_update_best_mse_data10164.hdf5\n",
            "Epoch 44/50\n",
            "104/104 [==============================] - 5s 45ms/step - loss: 0.0045 - root_mean_squared_error: 0.0669 - mae: 0.0390 - val_loss: 0.0019 - val_root_mean_squared_error: 0.0433 - val_mae: 0.0290\n",
            "\n",
            "Epoch 00044: val_loss did not improve from 0.00183\n",
            "Epoch 45/50\n",
            "104/104 [==============================] - 5s 45ms/step - loss: 0.0041 - root_mean_squared_error: 0.0642 - mae: 0.0388 - val_loss: 0.0019 - val_root_mean_squared_error: 0.0433 - val_mae: 0.0290\n",
            "\n",
            "Epoch 00045: val_loss did not improve from 0.00183\n",
            "Epoch 46/50\n",
            "104/104 [==============================] - 5s 44ms/step - loss: 0.0039 - root_mean_squared_error: 0.0625 - mae: 0.0381 - val_loss: 0.0019 - val_root_mean_squared_error: 0.0433 - val_mae: 0.0291\n",
            "\n",
            "Epoch 00046: val_loss did not improve from 0.00183\n",
            "Epoch 47/50\n",
            "104/104 [==============================] - 5s 45ms/step - loss: 0.0042 - root_mean_squared_error: 0.0651 - mae: 0.0393 - val_loss: 0.0019 - val_root_mean_squared_error: 0.0433 - val_mae: 0.0291\n",
            "\n",
            "Epoch 00047: val_loss did not improve from 0.00183\n",
            "Epoch 48/50\n",
            "104/104 [==============================] - 5s 45ms/step - loss: 0.0039 - root_mean_squared_error: 0.0622 - mae: 0.0384 - val_loss: 0.0018 - val_root_mean_squared_error: 0.0428 - val_mae: 0.0288\n",
            "\n",
            "Epoch 00048: val_loss did not improve from 0.00183\n",
            "120/120 [==============================] - 2s 7ms/step - loss: 0.0018 - root_mean_squared_error: 0.0428 - mae: 0.0286\n"
          ],
          "name": "stdout"
        },
        {
          "output_type": "stream",
          "text": [
            "\r 50%|█████     | 3/6 [42:05<59:09, 1183.19s/it]  "
          ],
          "name": "stderr"
        },
        {
          "output_type": "stream",
          "text": [
            "{'n_neurons': 16, 'n_layers': 3, 'bs_double': 6, 'n_timewindow': 0.5}\n",
            "16\n",
            "Epoch 1/50\n",
            "105/105 [==============================] - 7s 22ms/step - loss: 0.2840 - root_mean_squared_error: 0.5005 - mae: 0.3354 - val_loss: 0.0134 - val_root_mean_squared_error: 0.1160 - val_mae: 0.1048\n",
            "\n",
            "Epoch 00001: val_loss improved from inf to 0.01345, saving model to /content/drive/My Drive/Colab Notebooks/Thesis/best model/LSTMGA_update_best_mse_data10164.hdf5\n",
            "Epoch 2/50\n",
            "105/105 [==============================] - 2s 16ms/step - loss: 0.0425 - root_mean_squared_error: 0.2058 - mae: 0.1280 - val_loss: 0.0199 - val_root_mean_squared_error: 0.1409 - val_mae: 0.1313\n",
            "\n",
            "Epoch 00002: val_loss did not improve from 0.01345\n",
            "Epoch 3/50\n",
            "105/105 [==============================] - 2s 15ms/step - loss: 0.0328 - root_mean_squared_error: 0.1806 - mae: 0.1118 - val_loss: 0.0247 - val_root_mean_squared_error: 0.1571 - val_mae: 0.1465\n",
            "\n",
            "Epoch 00003: val_loss did not improve from 0.01345\n",
            "Epoch 4/50\n",
            "105/105 [==============================] - 2s 15ms/step - loss: 0.0268 - root_mean_squared_error: 0.1629 - mae: 0.0936 - val_loss: 0.0222 - val_root_mean_squared_error: 0.1489 - val_mae: 0.1374\n",
            "\n",
            "Epoch 00004: val_loss did not improve from 0.01345\n",
            "Epoch 5/50\n",
            "105/105 [==============================] - 2s 17ms/step - loss: 0.0181 - root_mean_squared_error: 0.1340 - mae: 0.0823 - val_loss: 0.0146 - val_root_mean_squared_error: 0.1210 - val_mae: 0.1094\n",
            "\n",
            "Epoch 00005: val_loss did not improve from 0.01345\n",
            "Epoch 6/50\n",
            "105/105 [==============================] - 2s 15ms/step - loss: 0.0254 - root_mean_squared_error: 0.1587 - mae: 0.0859 - val_loss: 0.0079 - val_root_mean_squared_error: 0.0888 - val_mae: 0.0743\n",
            "\n",
            "Epoch 00006: val_loss improved from 0.01345 to 0.00789, saving model to /content/drive/My Drive/Colab Notebooks/Thesis/best model/LSTMGA_update_best_mse_data10164.hdf5\n",
            "Epoch 7/50\n",
            "105/105 [==============================] - 2s 16ms/step - loss: 0.0198 - root_mean_squared_error: 0.1398 - mae: 0.0746 - val_loss: 0.0049 - val_root_mean_squared_error: 0.0701 - val_mae: 0.0528\n",
            "\n",
            "Epoch 00007: val_loss improved from 0.00789 to 0.00492, saving model to /content/drive/My Drive/Colab Notebooks/Thesis/best model/LSTMGA_update_best_mse_data10164.hdf5\n",
            "Epoch 8/50\n",
            "105/105 [==============================] - 2s 16ms/step - loss: 0.0264 - root_mean_squared_error: 0.1618 - mae: 0.0780 - val_loss: 0.0072 - val_root_mean_squared_error: 0.0850 - val_mae: 0.0609\n",
            "\n",
            "Epoch 00008: val_loss did not improve from 0.00492\n",
            "Epoch 9/50\n",
            "105/105 [==============================] - 2s 16ms/step - loss: 0.0167 - root_mean_squared_error: 0.1288 - mae: 0.0680 - val_loss: 0.0051 - val_root_mean_squared_error: 0.0717 - val_mae: 0.0511\n",
            "\n",
            "Epoch 00009: val_loss did not improve from 0.00492\n",
            "Epoch 10/50\n",
            "105/105 [==============================] - 2s 16ms/step - loss: 0.0210 - root_mean_squared_error: 0.1442 - mae: 0.0689 - val_loss: 0.0038 - val_root_mean_squared_error: 0.0615 - val_mae: 0.0454\n",
            "\n",
            "Epoch 00010: val_loss improved from 0.00492 to 0.00378, saving model to /content/drive/My Drive/Colab Notebooks/Thesis/best model/LSTMGA_update_best_mse_data10164.hdf5\n",
            "Epoch 11/50\n",
            "105/105 [==============================] - 2s 16ms/step - loss: 0.0174 - root_mean_squared_error: 0.1310 - mae: 0.0664 - val_loss: 0.0039 - val_root_mean_squared_error: 0.0627 - val_mae: 0.0452\n",
            "\n",
            "Epoch 00011: val_loss did not improve from 0.00378\n",
            "Epoch 12/50\n",
            "105/105 [==============================] - 2s 16ms/step - loss: 0.0251 - root_mean_squared_error: 0.1577 - mae: 0.0696 - val_loss: 0.0039 - val_root_mean_squared_error: 0.0623 - val_mae: 0.0455\n",
            "\n",
            "Epoch 00012: val_loss did not improve from 0.00378\n",
            "Epoch 13/50\n",
            "105/105 [==============================] - 2s 16ms/step - loss: 0.0223 - root_mean_squared_error: 0.1486 - mae: 0.0641 - val_loss: 0.0030 - val_root_mean_squared_error: 0.0544 - val_mae: 0.0388\n",
            "\n",
            "Epoch 00013: val_loss improved from 0.00378 to 0.00296, saving model to /content/drive/My Drive/Colab Notebooks/Thesis/best model/LSTMGA_update_best_mse_data10164.hdf5\n",
            "Epoch 14/50\n",
            "105/105 [==============================] - 2s 15ms/step - loss: 0.0187 - root_mean_squared_error: 0.1359 - mae: 0.0644 - val_loss: 0.0036 - val_root_mean_squared_error: 0.0603 - val_mae: 0.0421\n",
            "\n",
            "Epoch 00014: val_loss did not improve from 0.00296\n",
            "Epoch 15/50\n",
            "105/105 [==============================] - 2s 17ms/step - loss: 0.0115 - root_mean_squared_error: 0.1069 - mae: 0.0575 - val_loss: 0.0026 - val_root_mean_squared_error: 0.0511 - val_mae: 0.0354\n",
            "\n",
            "Epoch 00015: val_loss improved from 0.00296 to 0.00261, saving model to /content/drive/My Drive/Colab Notebooks/Thesis/best model/LSTMGA_update_best_mse_data10164.hdf5\n",
            "Epoch 16/50\n",
            "105/105 [==============================] - 2s 16ms/step - loss: 0.0121 - root_mean_squared_error: 0.1098 - mae: 0.0556 - val_loss: 0.0025 - val_root_mean_squared_error: 0.0499 - val_mae: 0.0351\n",
            "\n",
            "Epoch 00016: val_loss improved from 0.00261 to 0.00249, saving model to /content/drive/My Drive/Colab Notebooks/Thesis/best model/LSTMGA_update_best_mse_data10164.hdf5\n",
            "Epoch 17/50\n",
            "105/105 [==============================] - 2s 16ms/step - loss: 0.0186 - root_mean_squared_error: 0.1354 - mae: 0.0598 - val_loss: 0.0025 - val_root_mean_squared_error: 0.0505 - val_mae: 0.0357\n",
            "\n",
            "Epoch 00017: val_loss did not improve from 0.00249\n",
            "Epoch 18/50\n",
            "105/105 [==============================] - 2s 16ms/step - loss: 0.0124 - root_mean_squared_error: 0.1105 - mae: 0.0535 - val_loss: 0.0025 - val_root_mean_squared_error: 0.0496 - val_mae: 0.0345\n",
            "\n",
            "Epoch 00018: val_loss improved from 0.00249 to 0.00246, saving model to /content/drive/My Drive/Colab Notebooks/Thesis/best model/LSTMGA_update_best_mse_data10164.hdf5\n",
            "Epoch 19/50\n",
            "105/105 [==============================] - 2s 15ms/step - loss: 0.0148 - root_mean_squared_error: 0.1215 - mae: 0.0575 - val_loss: 0.0025 - val_root_mean_squared_error: 0.0497 - val_mae: 0.0350\n",
            "\n",
            "Epoch 00019: val_loss did not improve from 0.00246\n",
            "Epoch 20/50\n",
            "105/105 [==============================] - 2s 16ms/step - loss: 0.0137 - root_mean_squared_error: 0.1166 - mae: 0.0589 - val_loss: 0.0076 - val_root_mean_squared_error: 0.0871 - val_mae: 0.0611\n",
            "\n",
            "Epoch 00020: val_loss did not improve from 0.00246\n",
            "Epoch 21/50\n",
            "105/105 [==============================] - 2s 16ms/step - loss: 0.0177 - root_mean_squared_error: 0.1318 - mae: 0.0596 - val_loss: 0.0038 - val_root_mean_squared_error: 0.0618 - val_mae: 0.0452\n",
            "\n",
            "Epoch 00021: val_loss did not improve from 0.00246\n",
            "Epoch 22/50\n",
            "105/105 [==============================] - 2s 16ms/step - loss: 0.0091 - root_mean_squared_error: 0.0951 - mae: 0.0521 - val_loss: 0.0033 - val_root_mean_squared_error: 0.0572 - val_mae: 0.0410\n",
            "\n",
            "Epoch 00022: val_loss did not improve from 0.00246\n",
            "Epoch 23/50\n",
            "105/105 [==============================] - 2s 16ms/step - loss: 0.0084 - root_mean_squared_error: 0.0914 - mae: 0.0510 - val_loss: 0.0033 - val_root_mean_squared_error: 0.0578 - val_mae: 0.0429\n",
            "\n",
            "Epoch 00023: val_loss did not improve from 0.00246\n",
            "120/120 [==============================] - 1s 3ms/step - loss: 0.0025 - root_mean_squared_error: 0.0496 - mae: 0.0345\n"
          ],
          "name": "stdout"
        },
        {
          "output_type": "stream",
          "text": [
            "\r 67%|██████▋   | 4/6 [42:52<28:04, 842.25s/it] "
          ],
          "name": "stderr"
        },
        {
          "output_type": "stream",
          "text": [
            "{'n_neurons': 16, 'n_layers': 3, 'bs_double': 5, 'n_timewindow': 1.5}\n",
            "16\n",
            "Epoch 1/50\n",
            "208/208 [==============================] - 11s 30ms/step - loss: 0.2500 - root_mean_squared_error: 0.4652 - mae: 0.3127 - val_loss: 0.0352 - val_root_mean_squared_error: 0.1877 - val_mae: 0.1753\n",
            "\n",
            "Epoch 00001: val_loss improved from inf to 0.03521, saving model to /content/drive/My Drive/Colab Notebooks/Thesis/best model/LSTMGA_update_best_mse_data10132.hdf5\n",
            "Epoch 2/50\n",
            "208/208 [==============================] - 6s 28ms/step - loss: 0.0461 - root_mean_squared_error: 0.2145 - mae: 0.1330 - val_loss: 0.0235 - val_root_mean_squared_error: 0.1534 - val_mae: 0.1392\n",
            "\n",
            "Epoch 00002: val_loss improved from 0.03521 to 0.02354, saving model to /content/drive/My Drive/Colab Notebooks/Thesis/best model/LSTMGA_update_best_mse_data10132.hdf5\n",
            "Epoch 3/50\n",
            "208/208 [==============================] - 6s 27ms/step - loss: 0.0376 - root_mean_squared_error: 0.1934 - mae: 0.1146 - val_loss: 0.0111 - val_root_mean_squared_error: 0.1055 - val_mae: 0.0847\n",
            "\n",
            "Epoch 00003: val_loss improved from 0.02354 to 0.01114, saving model to /content/drive/My Drive/Colab Notebooks/Thesis/best model/LSTMGA_update_best_mse_data10132.hdf5\n",
            "Epoch 4/50\n",
            "208/208 [==============================] - 6s 27ms/step - loss: 0.0296 - root_mean_squared_error: 0.1714 - mae: 0.1008 - val_loss: 0.0109 - val_root_mean_squared_error: 0.1045 - val_mae: 0.0814\n",
            "\n",
            "Epoch 00004: val_loss improved from 0.01114 to 0.01093, saving model to /content/drive/My Drive/Colab Notebooks/Thesis/best model/LSTMGA_update_best_mse_data10132.hdf5\n",
            "Epoch 5/50\n",
            "208/208 [==============================] - 6s 27ms/step - loss: 0.0269 - root_mean_squared_error: 0.1638 - mae: 0.0912 - val_loss: 0.0067 - val_root_mean_squared_error: 0.0817 - val_mae: 0.0631\n",
            "\n",
            "Epoch 00005: val_loss improved from 0.01093 to 0.00667, saving model to /content/drive/My Drive/Colab Notebooks/Thesis/best model/LSTMGA_update_best_mse_data10132.hdf5\n",
            "Epoch 6/50\n",
            "208/208 [==============================] - 6s 27ms/step - loss: 0.0220 - root_mean_squared_error: 0.1479 - mae: 0.0873 - val_loss: 0.0068 - val_root_mean_squared_error: 0.0827 - val_mae: 0.0613\n",
            "\n",
            "Epoch 00006: val_loss did not improve from 0.00667\n",
            "Epoch 7/50\n",
            "208/208 [==============================] - 6s 27ms/step - loss: 0.0244 - root_mean_squared_error: 0.1558 - mae: 0.0878 - val_loss: 0.0057 - val_root_mean_squared_error: 0.0756 - val_mae: 0.0565\n",
            "\n",
            "Epoch 00007: val_loss improved from 0.00667 to 0.00571, saving model to /content/drive/My Drive/Colab Notebooks/Thesis/best model/LSTMGA_update_best_mse_data10132.hdf5\n",
            "Epoch 8/50\n",
            "208/208 [==============================] - 6s 28ms/step - loss: 0.0198 - root_mean_squared_error: 0.1403 - mae: 0.0816 - val_loss: 0.0049 - val_root_mean_squared_error: 0.0703 - val_mae: 0.0523\n",
            "\n",
            "Epoch 00008: val_loss improved from 0.00571 to 0.00494, saving model to /content/drive/My Drive/Colab Notebooks/Thesis/best model/LSTMGA_update_best_mse_data10132.hdf5\n",
            "Epoch 9/50\n",
            "208/208 [==============================] - 6s 27ms/step - loss: 0.0220 - root_mean_squared_error: 0.1481 - mae: 0.0818 - val_loss: 0.0049 - val_root_mean_squared_error: 0.0699 - val_mae: 0.0525\n",
            "\n",
            "Epoch 00009: val_loss improved from 0.00494 to 0.00489, saving model to /content/drive/My Drive/Colab Notebooks/Thesis/best model/LSTMGA_update_best_mse_data10132.hdf5\n",
            "Epoch 10/50\n",
            "208/208 [==============================] - 6s 28ms/step - loss: 0.0194 - root_mean_squared_error: 0.1390 - mae: 0.0797 - val_loss: 0.0056 - val_root_mean_squared_error: 0.0750 - val_mae: 0.0556\n",
            "\n",
            "Epoch 00010: val_loss did not improve from 0.00489\n",
            "Epoch 11/50\n",
            "208/208 [==============================] - 6s 28ms/step - loss: 0.0203 - root_mean_squared_error: 0.1421 - mae: 0.0810 - val_loss: 0.0059 - val_root_mean_squared_error: 0.0766 - val_mae: 0.0622\n",
            "\n",
            "Epoch 00011: val_loss did not improve from 0.00489\n",
            "Epoch 12/50\n",
            "208/208 [==============================] - 6s 28ms/step - loss: 0.0125 - root_mean_squared_error: 0.1117 - mae: 0.0688 - val_loss: 0.0044 - val_root_mean_squared_error: 0.0660 - val_mae: 0.0497\n",
            "\n",
            "Epoch 00012: val_loss improved from 0.00489 to 0.00436, saving model to /content/drive/My Drive/Colab Notebooks/Thesis/best model/LSTMGA_update_best_mse_data10132.hdf5\n",
            "Epoch 13/50\n",
            "208/208 [==============================] - 6s 28ms/step - loss: 0.0147 - root_mean_squared_error: 0.1208 - mae: 0.0707 - val_loss: 0.0031 - val_root_mean_squared_error: 0.0560 - val_mae: 0.0411\n",
            "\n",
            "Epoch 00013: val_loss improved from 0.00436 to 0.00313, saving model to /content/drive/My Drive/Colab Notebooks/Thesis/best model/LSTMGA_update_best_mse_data10132.hdf5\n",
            "Epoch 14/50\n",
            "208/208 [==============================] - 6s 28ms/step - loss: 0.0105 - root_mean_squared_error: 0.1023 - mae: 0.0608 - val_loss: 0.0036 - val_root_mean_squared_error: 0.0599 - val_mae: 0.0440\n",
            "\n",
            "Epoch 00014: val_loss did not improve from 0.00313\n",
            "Epoch 15/50\n",
            "208/208 [==============================] - 6s 28ms/step - loss: 0.0101 - root_mean_squared_error: 0.1005 - mae: 0.0593 - val_loss: 0.0027 - val_root_mean_squared_error: 0.0519 - val_mae: 0.0369\n",
            "\n",
            "Epoch 00015: val_loss improved from 0.00313 to 0.00269, saving model to /content/drive/My Drive/Colab Notebooks/Thesis/best model/LSTMGA_update_best_mse_data10132.hdf5\n",
            "Epoch 16/50\n",
            "208/208 [==============================] - 6s 27ms/step - loss: 0.0085 - root_mean_squared_error: 0.0918 - mae: 0.0543 - val_loss: 0.0027 - val_root_mean_squared_error: 0.0522 - val_mae: 0.0373\n",
            "\n",
            "Epoch 00016: val_loss did not improve from 0.00269\n",
            "Epoch 17/50\n",
            "208/208 [==============================] - 6s 28ms/step - loss: 0.0089 - root_mean_squared_error: 0.0944 - mae: 0.0572 - val_loss: 0.0025 - val_root_mean_squared_error: 0.0504 - val_mae: 0.0360\n",
            "\n",
            "Epoch 00017: val_loss improved from 0.00269 to 0.00254, saving model to /content/drive/My Drive/Colab Notebooks/Thesis/best model/LSTMGA_update_best_mse_data10132.hdf5\n",
            "Epoch 18/50\n",
            "208/208 [==============================] - 6s 29ms/step - loss: 0.0079 - root_mean_squared_error: 0.0888 - mae: 0.0535 - val_loss: 0.0024 - val_root_mean_squared_error: 0.0491 - val_mae: 0.0348\n",
            "\n",
            "Epoch 00018: val_loss improved from 0.00254 to 0.00241, saving model to /content/drive/My Drive/Colab Notebooks/Thesis/best model/LSTMGA_update_best_mse_data10132.hdf5\n",
            "Epoch 19/50\n",
            "208/208 [==============================] - 6s 28ms/step - loss: 0.0066 - root_mean_squared_error: 0.0811 - mae: 0.0519 - val_loss: 0.0023 - val_root_mean_squared_error: 0.0482 - val_mae: 0.0337\n",
            "\n",
            "Epoch 00019: val_loss improved from 0.00241 to 0.00232, saving model to /content/drive/My Drive/Colab Notebooks/Thesis/best model/LSTMGA_update_best_mse_data10132.hdf5\n",
            "Epoch 20/50\n",
            "208/208 [==============================] - 6s 28ms/step - loss: 0.0065 - root_mean_squared_error: 0.0805 - mae: 0.0484 - val_loss: 0.0022 - val_root_mean_squared_error: 0.0474 - val_mae: 0.0327\n",
            "\n",
            "Epoch 00020: val_loss improved from 0.00232 to 0.00225, saving model to /content/drive/My Drive/Colab Notebooks/Thesis/best model/LSTMGA_update_best_mse_data10132.hdf5\n",
            "Epoch 21/50\n",
            "208/208 [==============================] - 6s 27ms/step - loss: 0.0067 - root_mean_squared_error: 0.0818 - mae: 0.0497 - val_loss: 0.0021 - val_root_mean_squared_error: 0.0459 - val_mae: 0.0316\n",
            "\n",
            "Epoch 00021: val_loss improved from 0.00225 to 0.00211, saving model to /content/drive/My Drive/Colab Notebooks/Thesis/best model/LSTMGA_update_best_mse_data10132.hdf5\n",
            "Epoch 22/50\n",
            "208/208 [==============================] - 6s 27ms/step - loss: 0.0076 - root_mean_squared_error: 0.0868 - mae: 0.0505 - val_loss: 0.0022 - val_root_mean_squared_error: 0.0467 - val_mae: 0.0319\n",
            "\n",
            "Epoch 00022: val_loss did not improve from 0.00211\n",
            "Epoch 23/50\n",
            "208/208 [==============================] - 6s 28ms/step - loss: 0.0063 - root_mean_squared_error: 0.0791 - mae: 0.0477 - val_loss: 0.0021 - val_root_mean_squared_error: 0.0457 - val_mae: 0.0314\n",
            "\n",
            "Epoch 00023: val_loss improved from 0.00211 to 0.00209, saving model to /content/drive/My Drive/Colab Notebooks/Thesis/best model/LSTMGA_update_best_mse_data10132.hdf5\n",
            "Epoch 24/50\n",
            "208/208 [==============================] - 6s 27ms/step - loss: 0.0062 - root_mean_squared_error: 0.0788 - mae: 0.0485 - val_loss: 0.0021 - val_root_mean_squared_error: 0.0457 - val_mae: 0.0311\n",
            "\n",
            "Epoch 00024: val_loss improved from 0.00209 to 0.00209, saving model to /content/drive/My Drive/Colab Notebooks/Thesis/best model/LSTMGA_update_best_mse_data10132.hdf5\n",
            "Epoch 25/50\n",
            "208/208 [==============================] - 6s 29ms/step - loss: 0.0066 - root_mean_squared_error: 0.0812 - mae: 0.0487 - val_loss: 0.0022 - val_root_mean_squared_error: 0.0465 - val_mae: 0.0313\n",
            "\n",
            "Epoch 00025: val_loss did not improve from 0.00209\n",
            "Epoch 26/50\n",
            "208/208 [==============================] - 6s 28ms/step - loss: 0.0062 - root_mean_squared_error: 0.0788 - mae: 0.0499 - val_loss: 0.0024 - val_root_mean_squared_error: 0.0493 - val_mae: 0.0347\n",
            "\n",
            "Epoch 00026: val_loss did not improve from 0.00209\n",
            "Epoch 27/50\n",
            "208/208 [==============================] - 6s 28ms/step - loss: 0.0055 - root_mean_squared_error: 0.0737 - mae: 0.0458 - val_loss: 0.0024 - val_root_mean_squared_error: 0.0487 - val_mae: 0.0334\n",
            "\n",
            "Epoch 00027: val_loss did not improve from 0.00209\n",
            "Epoch 28/50\n",
            "208/208 [==============================] - 6s 28ms/step - loss: 0.0044 - root_mean_squared_error: 0.0664 - mae: 0.0440 - val_loss: 0.0025 - val_root_mean_squared_error: 0.0503 - val_mae: 0.0343\n",
            "\n",
            "Epoch 00028: val_loss did not improve from 0.00209\n",
            "Epoch 29/50\n",
            "208/208 [==============================] - 6s 28ms/step - loss: 0.0041 - root_mean_squared_error: 0.0636 - mae: 0.0414 - val_loss: 0.0023 - val_root_mean_squared_error: 0.0477 - val_mae: 0.0329\n",
            "\n",
            "Epoch 00029: val_loss did not improve from 0.00209\n",
            "120/120 [==============================] - 1s 6ms/step - loss: 0.0021 - root_mean_squared_error: 0.0457 - mae: 0.0311\n"
          ],
          "name": "stdout"
        },
        {
          "output_type": "stream",
          "text": [
            "\r 83%|████████▎ | 5/6 [45:55<10:44, 644.47s/it]"
          ],
          "name": "stderr"
        },
        {
          "output_type": "stream",
          "text": [
            "{'n_neurons': 16, 'n_layers': 2, 'bs_double': 5, 'n_timewindow': 1.5}\n",
            "16\n",
            "Epoch 1/50\n",
            "208/208 [==============================] - 7s 20ms/step - loss: 0.3483 - root_mean_squared_error: 0.5415 - mae: 0.3699 - val_loss: 0.0134 - val_root_mean_squared_error: 0.1156 - val_mae: 0.0747\n",
            "\n",
            "Epoch 00001: val_loss improved from inf to 0.01335, saving model to /content/drive/My Drive/Colab Notebooks/Thesis/best model/LSTMGA_update_best_mse_data10132.hdf5\n",
            "Epoch 2/50\n",
            "208/208 [==============================] - 3s 16ms/step - loss: 0.0395 - root_mean_squared_error: 0.1987 - mae: 0.1352 - val_loss: 0.0214 - val_root_mean_squared_error: 0.1462 - val_mae: 0.1116\n",
            "\n",
            "Epoch 00002: val_loss did not improve from 0.01335\n",
            "Epoch 3/50\n",
            "208/208 [==============================] - 3s 17ms/step - loss: 0.0272 - root_mean_squared_error: 0.1649 - mae: 0.1076 - val_loss: 0.0122 - val_root_mean_squared_error: 0.1106 - val_mae: 0.0857\n",
            "\n",
            "Epoch 00003: val_loss improved from 0.01335 to 0.01224, saving model to /content/drive/My Drive/Colab Notebooks/Thesis/best model/LSTMGA_update_best_mse_data10132.hdf5\n",
            "Epoch 4/50\n",
            "208/208 [==============================] - 3s 16ms/step - loss: 0.0174 - root_mean_squared_error: 0.1317 - mae: 0.0868 - val_loss: 0.0054 - val_root_mean_squared_error: 0.0733 - val_mae: 0.0542\n",
            "\n",
            "Epoch 00004: val_loss improved from 0.01224 to 0.00537, saving model to /content/drive/My Drive/Colab Notebooks/Thesis/best model/LSTMGA_update_best_mse_data10132.hdf5\n",
            "Epoch 5/50\n",
            "208/208 [==============================] - 4s 17ms/step - loss: 0.0179 - root_mean_squared_error: 0.1335 - mae: 0.0824 - val_loss: 0.0042 - val_root_mean_squared_error: 0.0651 - val_mae: 0.0468\n",
            "\n",
            "Epoch 00005: val_loss improved from 0.00537 to 0.00423, saving model to /content/drive/My Drive/Colab Notebooks/Thesis/best model/LSTMGA_update_best_mse_data10132.hdf5\n",
            "Epoch 6/50\n",
            "208/208 [==============================] - 3s 17ms/step - loss: 0.0144 - root_mean_squared_error: 0.1200 - mae: 0.0747 - val_loss: 0.0044 - val_root_mean_squared_error: 0.0663 - val_mae: 0.0493\n",
            "\n",
            "Epoch 00006: val_loss did not improve from 0.00423\n",
            "Epoch 7/50\n",
            "208/208 [==============================] - 3s 17ms/step - loss: 0.0124 - root_mean_squared_error: 0.1110 - mae: 0.0696 - val_loss: 0.0032 - val_root_mean_squared_error: 0.0570 - val_mae: 0.0405\n",
            "\n",
            "Epoch 00007: val_loss improved from 0.00423 to 0.00325, saving model to /content/drive/My Drive/Colab Notebooks/Thesis/best model/LSTMGA_update_best_mse_data10132.hdf5\n",
            "Epoch 8/50\n",
            "208/208 [==============================] - 4s 17ms/step - loss: 0.0111 - root_mean_squared_error: 0.1054 - mae: 0.0670 - val_loss: 0.0036 - val_root_mean_squared_error: 0.0602 - val_mae: 0.0441\n",
            "\n",
            "Epoch 00008: val_loss did not improve from 0.00325\n",
            "Epoch 9/50\n",
            "208/208 [==============================] - 4s 17ms/step - loss: 0.0095 - root_mean_squared_error: 0.0973 - mae: 0.0639 - val_loss: 0.0030 - val_root_mean_squared_error: 0.0546 - val_mae: 0.0390\n",
            "\n",
            "Epoch 00009: val_loss improved from 0.00325 to 0.00298, saving model to /content/drive/My Drive/Colab Notebooks/Thesis/best model/LSTMGA_update_best_mse_data10132.hdf5\n",
            "Epoch 10/50\n",
            "208/208 [==============================] - 4s 17ms/step - loss: 0.0102 - root_mean_squared_error: 0.1008 - mae: 0.0642 - val_loss: 0.0045 - val_root_mean_squared_error: 0.0671 - val_mae: 0.0503\n",
            "\n",
            "Epoch 00010: val_loss did not improve from 0.00298\n",
            "Epoch 11/50\n",
            "208/208 [==============================] - 4s 17ms/step - loss: 0.0097 - root_mean_squared_error: 0.0985 - mae: 0.0647 - val_loss: 0.0045 - val_root_mean_squared_error: 0.0673 - val_mae: 0.0499\n",
            "\n",
            "Epoch 00011: val_loss did not improve from 0.00298\n",
            "Epoch 12/50\n",
            "208/208 [==============================] - 3s 17ms/step - loss: 0.0068 - root_mean_squared_error: 0.0822 - mae: 0.0567 - val_loss: 0.0044 - val_root_mean_squared_error: 0.0663 - val_mae: 0.0516\n",
            "\n",
            "Epoch 00012: val_loss did not improve from 0.00298\n",
            "Epoch 13/50\n",
            "208/208 [==============================] - 3s 16ms/step - loss: 0.0062 - root_mean_squared_error: 0.0786 - mae: 0.0529 - val_loss: 0.0026 - val_root_mean_squared_error: 0.0510 - val_mae: 0.0361\n",
            "\n",
            "Epoch 00013: val_loss improved from 0.00298 to 0.00260, saving model to /content/drive/My Drive/Colab Notebooks/Thesis/best model/LSTMGA_update_best_mse_data10132.hdf5\n",
            "Epoch 14/50\n",
            "208/208 [==============================] - 3s 17ms/step - loss: 0.0050 - root_mean_squared_error: 0.0708 - mae: 0.0477 - val_loss: 0.0028 - val_root_mean_squared_error: 0.0526 - val_mae: 0.0377\n",
            "\n",
            "Epoch 00014: val_loss did not improve from 0.00260\n",
            "Epoch 15/50\n",
            "208/208 [==============================] - 4s 17ms/step - loss: 0.0041 - root_mean_squared_error: 0.0639 - mae: 0.0435 - val_loss: 0.0023 - val_root_mean_squared_error: 0.0474 - val_mae: 0.0329\n",
            "\n",
            "Epoch 00015: val_loss improved from 0.00260 to 0.00225, saving model to /content/drive/My Drive/Colab Notebooks/Thesis/best model/LSTMGA_update_best_mse_data10132.hdf5\n",
            "Epoch 16/50\n",
            "208/208 [==============================] - 3s 17ms/step - loss: 0.0038 - root_mean_squared_error: 0.0615 - mae: 0.0425 - val_loss: 0.0024 - val_root_mean_squared_error: 0.0485 - val_mae: 0.0329\n",
            "\n",
            "Epoch 00016: val_loss did not improve from 0.00225\n",
            "Epoch 17/50\n",
            "208/208 [==============================] - 3s 17ms/step - loss: 0.0039 - root_mean_squared_error: 0.0622 - mae: 0.0427 - val_loss: 0.0025 - val_root_mean_squared_error: 0.0496 - val_mae: 0.0349\n",
            "\n",
            "Epoch 00017: val_loss did not improve from 0.00225\n",
            "Epoch 18/50\n",
            "208/208 [==============================] - 3s 17ms/step - loss: 0.0034 - root_mean_squared_error: 0.0583 - mae: 0.0397 - val_loss: 0.0022 - val_root_mean_squared_error: 0.0466 - val_mae: 0.0314\n",
            "\n",
            "Epoch 00018: val_loss improved from 0.00225 to 0.00217, saving model to /content/drive/My Drive/Colab Notebooks/Thesis/best model/LSTMGA_update_best_mse_data10132.hdf5\n",
            "Epoch 19/50\n",
            "208/208 [==============================] - 4s 17ms/step - loss: 0.0035 - root_mean_squared_error: 0.0594 - mae: 0.0407 - val_loss: 0.0021 - val_root_mean_squared_error: 0.0461 - val_mae: 0.0319\n",
            "\n",
            "Epoch 00019: val_loss improved from 0.00217 to 0.00212, saving model to /content/drive/My Drive/Colab Notebooks/Thesis/best model/LSTMGA_update_best_mse_data10132.hdf5\n",
            "Epoch 20/50\n",
            "208/208 [==============================] - 3s 17ms/step - loss: 0.0029 - root_mean_squared_error: 0.0537 - mae: 0.0374 - val_loss: 0.0022 - val_root_mean_squared_error: 0.0464 - val_mae: 0.0315\n",
            "\n",
            "Epoch 00020: val_loss did not improve from 0.00212\n",
            "Epoch 21/50\n",
            "208/208 [==============================] - 3s 17ms/step - loss: 0.0036 - root_mean_squared_error: 0.0601 - mae: 0.0394 - val_loss: 0.0019 - val_root_mean_squared_error: 0.0440 - val_mae: 0.0295\n",
            "\n",
            "Epoch 00021: val_loss improved from 0.00212 to 0.00194, saving model to /content/drive/My Drive/Colab Notebooks/Thesis/best model/LSTMGA_update_best_mse_data10132.hdf5\n",
            "Epoch 22/50\n",
            "208/208 [==============================] - 4s 18ms/step - loss: 0.0032 - root_mean_squared_error: 0.0561 - mae: 0.0381 - val_loss: 0.0020 - val_root_mean_squared_error: 0.0448 - val_mae: 0.0298\n",
            "\n",
            "Epoch 00022: val_loss did not improve from 0.00194\n",
            "Epoch 23/50\n",
            "208/208 [==============================] - 3s 17ms/step - loss: 0.0033 - root_mean_squared_error: 0.0574 - mae: 0.0381 - val_loss: 0.0019 - val_root_mean_squared_error: 0.0434 - val_mae: 0.0291\n",
            "\n",
            "Epoch 00023: val_loss improved from 0.00194 to 0.00188, saving model to /content/drive/My Drive/Colab Notebooks/Thesis/best model/LSTMGA_update_best_mse_data10132.hdf5\n",
            "Epoch 24/50\n",
            "208/208 [==============================] - 3s 16ms/step - loss: 0.0031 - root_mean_squared_error: 0.0552 - mae: 0.0381 - val_loss: 0.0020 - val_root_mean_squared_error: 0.0444 - val_mae: 0.0295\n",
            "\n",
            "Epoch 00024: val_loss did not improve from 0.00188\n",
            "Epoch 25/50\n",
            "208/208 [==============================] - 3s 16ms/step - loss: 0.0033 - root_mean_squared_error: 0.0575 - mae: 0.0394 - val_loss: 0.0023 - val_root_mean_squared_error: 0.0477 - val_mae: 0.0336\n",
            "\n",
            "Epoch 00025: val_loss did not improve from 0.00188\n",
            "Epoch 26/50\n",
            "208/208 [==============================] - 3s 17ms/step - loss: 0.0039 - root_mean_squared_error: 0.0622 - mae: 0.0420 - val_loss: 0.0021 - val_root_mean_squared_error: 0.0461 - val_mae: 0.0303\n",
            "\n",
            "Epoch 00026: val_loss did not improve from 0.00188\n",
            "Epoch 27/50\n",
            "208/208 [==============================] - 3s 17ms/step - loss: 0.0033 - root_mean_squared_error: 0.0571 - mae: 0.0388 - val_loss: 0.0023 - val_root_mean_squared_error: 0.0475 - val_mae: 0.0325\n",
            "\n",
            "Epoch 00027: val_loss did not improve from 0.00188\n",
            "Epoch 28/50\n",
            "208/208 [==============================] - 3s 17ms/step - loss: 0.0031 - root_mean_squared_error: 0.0552 - mae: 0.0371 - val_loss: 0.0023 - val_root_mean_squared_error: 0.0482 - val_mae: 0.0319\n",
            "\n",
            "Epoch 00028: val_loss did not improve from 0.00188\n",
            "120/120 [==============================] - 1s 4ms/step - loss: 0.0019 - root_mean_squared_error: 0.0434 - mae: 0.0291\n"
          ],
          "name": "stdout"
        },
        {
          "output_type": "stream",
          "text": [
            "100%|██████████| 6/6 [47:44<00:00, 477.45s/it]\n",
            "  0%|          | 0/6 [00:00<?, ?it/s]"
          ],
          "name": "stderr"
        },
        {
          "output_type": "stream",
          "text": [
            "[{'n_neurons': 16, 'n_layers': 3, 'bs_double': 6, 'n_timewindow': 2}, {'n_neurons': 16, 'n_layers': 2, 'bs_double': 5, 'n_timewindow': 1.5}, {'n_neurons': 16, 'n_layers': 2, 'bs_double': 5, 'n_timewindow': 2}, {'n_neurons': 16, 'n_layers': 3, 'bs_double': 5, 'n_timewindow': 2}, {'n_neurons': 16, 'n_layers': 3, 'bs_double': 5, 'n_timewindow': 1.5}, {'n_neurons': 16, 'n_layers': 3, 'bs_double': 8, 'n_timewindow': 2}, {'n_neurons': 64, 'n_layers': 3, 'bs_double': 5, 'n_timewindow': 2}, {'n_neurons': 16, 'n_layers': 2, 'bs_double': 6, 'n_timewindow': 2}, {'n_neurons': 16, 'n_layers': 3, 'bs_double': 5, 'n_timewindow': 1.5}, {'n_neurons': 32, 'n_layers': 3, 'bs_double': 6, 'n_timewindow': 2}]\n",
            "Iteration:  3\n",
            "{'n_neurons': 16, 'n_layers': 3, 'bs_double': 5, 'n_timewindow': 1.5}\n",
            "16\n",
            "Epoch 1/50\n",
            "208/208 [==============================] - 11s 31ms/step - loss: 0.2500 - root_mean_squared_error: 0.4652 - mae: 0.3127 - val_loss: 0.0352 - val_root_mean_squared_error: 0.1877 - val_mae: 0.1753\n",
            "\n",
            "Epoch 00001: val_loss improved from inf to 0.03521, saving model to /content/drive/My Drive/Colab Notebooks/Thesis/best model/LSTMGA_update_best_mse_data10132.hdf5\n",
            "Epoch 2/50\n",
            "208/208 [==============================] - 6s 28ms/step - loss: 0.0461 - root_mean_squared_error: 0.2145 - mae: 0.1330 - val_loss: 0.0235 - val_root_mean_squared_error: 0.1534 - val_mae: 0.1392\n",
            "\n",
            "Epoch 00002: val_loss improved from 0.03521 to 0.02354, saving model to /content/drive/My Drive/Colab Notebooks/Thesis/best model/LSTMGA_update_best_mse_data10132.hdf5\n",
            "Epoch 3/50\n",
            "208/208 [==============================] - 6s 28ms/step - loss: 0.0376 - root_mean_squared_error: 0.1934 - mae: 0.1146 - val_loss: 0.0111 - val_root_mean_squared_error: 0.1055 - val_mae: 0.0847\n",
            "\n",
            "Epoch 00003: val_loss improved from 0.02354 to 0.01114, saving model to /content/drive/My Drive/Colab Notebooks/Thesis/best model/LSTMGA_update_best_mse_data10132.hdf5\n",
            "Epoch 4/50\n",
            "208/208 [==============================] - 6s 28ms/step - loss: 0.0296 - root_mean_squared_error: 0.1714 - mae: 0.1008 - val_loss: 0.0109 - val_root_mean_squared_error: 0.1045 - val_mae: 0.0814\n",
            "\n",
            "Epoch 00004: val_loss improved from 0.01114 to 0.01093, saving model to /content/drive/My Drive/Colab Notebooks/Thesis/best model/LSTMGA_update_best_mse_data10132.hdf5\n",
            "Epoch 5/50\n",
            "208/208 [==============================] - 6s 28ms/step - loss: 0.0269 - root_mean_squared_error: 0.1638 - mae: 0.0912 - val_loss: 0.0067 - val_root_mean_squared_error: 0.0817 - val_mae: 0.0631\n",
            "\n",
            "Epoch 00005: val_loss improved from 0.01093 to 0.00667, saving model to /content/drive/My Drive/Colab Notebooks/Thesis/best model/LSTMGA_update_best_mse_data10132.hdf5\n",
            "Epoch 6/50\n",
            "208/208 [==============================] - 6s 27ms/step - loss: 0.0220 - root_mean_squared_error: 0.1479 - mae: 0.0873 - val_loss: 0.0068 - val_root_mean_squared_error: 0.0827 - val_mae: 0.0613\n",
            "\n",
            "Epoch 00006: val_loss did not improve from 0.00667\n",
            "Epoch 7/50\n",
            "208/208 [==============================] - 6s 27ms/step - loss: 0.0244 - root_mean_squared_error: 0.1558 - mae: 0.0878 - val_loss: 0.0057 - val_root_mean_squared_error: 0.0756 - val_mae: 0.0565\n",
            "\n",
            "Epoch 00007: val_loss improved from 0.00667 to 0.00571, saving model to /content/drive/My Drive/Colab Notebooks/Thesis/best model/LSTMGA_update_best_mse_data10132.hdf5\n",
            "Epoch 8/50\n",
            "208/208 [==============================] - 6s 28ms/step - loss: 0.0198 - root_mean_squared_error: 0.1403 - mae: 0.0816 - val_loss: 0.0049 - val_root_mean_squared_error: 0.0703 - val_mae: 0.0523\n",
            "\n",
            "Epoch 00008: val_loss improved from 0.00571 to 0.00494, saving model to /content/drive/My Drive/Colab Notebooks/Thesis/best model/LSTMGA_update_best_mse_data10132.hdf5\n",
            "Epoch 9/50\n",
            "208/208 [==============================] - 6s 28ms/step - loss: 0.0220 - root_mean_squared_error: 0.1481 - mae: 0.0818 - val_loss: 0.0049 - val_root_mean_squared_error: 0.0699 - val_mae: 0.0525\n",
            "\n",
            "Epoch 00009: val_loss improved from 0.00494 to 0.00489, saving model to /content/drive/My Drive/Colab Notebooks/Thesis/best model/LSTMGA_update_best_mse_data10132.hdf5\n",
            "Epoch 10/50\n",
            "208/208 [==============================] - 6s 28ms/step - loss: 0.0194 - root_mean_squared_error: 0.1390 - mae: 0.0797 - val_loss: 0.0056 - val_root_mean_squared_error: 0.0750 - val_mae: 0.0556\n",
            "\n",
            "Epoch 00010: val_loss did not improve from 0.00489\n",
            "Epoch 11/50\n",
            "208/208 [==============================] - 6s 27ms/step - loss: 0.0203 - root_mean_squared_error: 0.1421 - mae: 0.0810 - val_loss: 0.0059 - val_root_mean_squared_error: 0.0766 - val_mae: 0.0622\n",
            "\n",
            "Epoch 00011: val_loss did not improve from 0.00489\n",
            "Epoch 12/50\n",
            "208/208 [==============================] - 6s 28ms/step - loss: 0.0125 - root_mean_squared_error: 0.1117 - mae: 0.0688 - val_loss: 0.0044 - val_root_mean_squared_error: 0.0660 - val_mae: 0.0497\n",
            "\n",
            "Epoch 00012: val_loss improved from 0.00489 to 0.00436, saving model to /content/drive/My Drive/Colab Notebooks/Thesis/best model/LSTMGA_update_best_mse_data10132.hdf5\n",
            "Epoch 13/50\n",
            "208/208 [==============================] - 6s 28ms/step - loss: 0.0147 - root_mean_squared_error: 0.1208 - mae: 0.0707 - val_loss: 0.0031 - val_root_mean_squared_error: 0.0560 - val_mae: 0.0411\n",
            "\n",
            "Epoch 00013: val_loss improved from 0.00436 to 0.00313, saving model to /content/drive/My Drive/Colab Notebooks/Thesis/best model/LSTMGA_update_best_mse_data10132.hdf5\n",
            "Epoch 14/50\n",
            "208/208 [==============================] - 6s 28ms/step - loss: 0.0105 - root_mean_squared_error: 0.1023 - mae: 0.0608 - val_loss: 0.0036 - val_root_mean_squared_error: 0.0599 - val_mae: 0.0440\n",
            "\n",
            "Epoch 00014: val_loss did not improve from 0.00313\n",
            "Epoch 15/50\n",
            "208/208 [==============================] - 6s 27ms/step - loss: 0.0101 - root_mean_squared_error: 0.1005 - mae: 0.0593 - val_loss: 0.0027 - val_root_mean_squared_error: 0.0519 - val_mae: 0.0369\n",
            "\n",
            "Epoch 00015: val_loss improved from 0.00313 to 0.00269, saving model to /content/drive/My Drive/Colab Notebooks/Thesis/best model/LSTMGA_update_best_mse_data10132.hdf5\n",
            "Epoch 16/50\n",
            "208/208 [==============================] - 6s 27ms/step - loss: 0.0085 - root_mean_squared_error: 0.0918 - mae: 0.0543 - val_loss: 0.0027 - val_root_mean_squared_error: 0.0522 - val_mae: 0.0373\n",
            "\n",
            "Epoch 00016: val_loss did not improve from 0.00269\n",
            "Epoch 17/50\n",
            "208/208 [==============================] - 6s 28ms/step - loss: 0.0089 - root_mean_squared_error: 0.0944 - mae: 0.0572 - val_loss: 0.0025 - val_root_mean_squared_error: 0.0504 - val_mae: 0.0360\n",
            "\n",
            "Epoch 00017: val_loss improved from 0.00269 to 0.00254, saving model to /content/drive/My Drive/Colab Notebooks/Thesis/best model/LSTMGA_update_best_mse_data10132.hdf5\n",
            "Epoch 18/50\n",
            "208/208 [==============================] - 6s 27ms/step - loss: 0.0079 - root_mean_squared_error: 0.0888 - mae: 0.0535 - val_loss: 0.0024 - val_root_mean_squared_error: 0.0491 - val_mae: 0.0348\n",
            "\n",
            "Epoch 00018: val_loss improved from 0.00254 to 0.00241, saving model to /content/drive/My Drive/Colab Notebooks/Thesis/best model/LSTMGA_update_best_mse_data10132.hdf5\n",
            "Epoch 19/50\n",
            "208/208 [==============================] - 6s 28ms/step - loss: 0.0066 - root_mean_squared_error: 0.0811 - mae: 0.0519 - val_loss: 0.0023 - val_root_mean_squared_error: 0.0482 - val_mae: 0.0337\n",
            "\n",
            "Epoch 00019: val_loss improved from 0.00241 to 0.00232, saving model to /content/drive/My Drive/Colab Notebooks/Thesis/best model/LSTMGA_update_best_mse_data10132.hdf5\n",
            "Epoch 20/50\n",
            "208/208 [==============================] - 6s 28ms/step - loss: 0.0065 - root_mean_squared_error: 0.0805 - mae: 0.0484 - val_loss: 0.0022 - val_root_mean_squared_error: 0.0474 - val_mae: 0.0327\n",
            "\n",
            "Epoch 00020: val_loss improved from 0.00232 to 0.00225, saving model to /content/drive/My Drive/Colab Notebooks/Thesis/best model/LSTMGA_update_best_mse_data10132.hdf5\n",
            "Epoch 21/50\n",
            "208/208 [==============================] - 6s 29ms/step - loss: 0.0067 - root_mean_squared_error: 0.0818 - mae: 0.0497 - val_loss: 0.0021 - val_root_mean_squared_error: 0.0459 - val_mae: 0.0316\n",
            "\n",
            "Epoch 00021: val_loss improved from 0.00225 to 0.00211, saving model to /content/drive/My Drive/Colab Notebooks/Thesis/best model/LSTMGA_update_best_mse_data10132.hdf5\n",
            "Epoch 22/50\n",
            "208/208 [==============================] - 6s 28ms/step - loss: 0.0076 - root_mean_squared_error: 0.0868 - mae: 0.0505 - val_loss: 0.0022 - val_root_mean_squared_error: 0.0467 - val_mae: 0.0319\n",
            "\n",
            "Epoch 00022: val_loss did not improve from 0.00211\n",
            "Epoch 23/50\n",
            "208/208 [==============================] - 6s 28ms/step - loss: 0.0063 - root_mean_squared_error: 0.0791 - mae: 0.0477 - val_loss: 0.0021 - val_root_mean_squared_error: 0.0457 - val_mae: 0.0314\n",
            "\n",
            "Epoch 00023: val_loss improved from 0.00211 to 0.00209, saving model to /content/drive/My Drive/Colab Notebooks/Thesis/best model/LSTMGA_update_best_mse_data10132.hdf5\n",
            "Epoch 24/50\n",
            "208/208 [==============================] - 6s 28ms/step - loss: 0.0062 - root_mean_squared_error: 0.0788 - mae: 0.0485 - val_loss: 0.0021 - val_root_mean_squared_error: 0.0457 - val_mae: 0.0311\n",
            "\n",
            "Epoch 00024: val_loss improved from 0.00209 to 0.00209, saving model to /content/drive/My Drive/Colab Notebooks/Thesis/best model/LSTMGA_update_best_mse_data10132.hdf5\n",
            "Epoch 25/50\n",
            "208/208 [==============================] - 6s 28ms/step - loss: 0.0066 - root_mean_squared_error: 0.0812 - mae: 0.0487 - val_loss: 0.0022 - val_root_mean_squared_error: 0.0465 - val_mae: 0.0313\n",
            "\n",
            "Epoch 00025: val_loss did not improve from 0.00209\n",
            "Epoch 26/50\n",
            "208/208 [==============================] - 6s 29ms/step - loss: 0.0062 - root_mean_squared_error: 0.0788 - mae: 0.0499 - val_loss: 0.0024 - val_root_mean_squared_error: 0.0493 - val_mae: 0.0347\n",
            "\n",
            "Epoch 00026: val_loss did not improve from 0.00209\n",
            "Epoch 27/50\n",
            "208/208 [==============================] - 6s 28ms/step - loss: 0.0055 - root_mean_squared_error: 0.0737 - mae: 0.0458 - val_loss: 0.0024 - val_root_mean_squared_error: 0.0487 - val_mae: 0.0334\n",
            "\n",
            "Epoch 00027: val_loss did not improve from 0.00209\n",
            "Epoch 28/50\n",
            "208/208 [==============================] - 6s 28ms/step - loss: 0.0044 - root_mean_squared_error: 0.0664 - mae: 0.0440 - val_loss: 0.0025 - val_root_mean_squared_error: 0.0503 - val_mae: 0.0343\n",
            "\n",
            "Epoch 00028: val_loss did not improve from 0.00209\n",
            "Epoch 29/50\n",
            "208/208 [==============================] - 6s 27ms/step - loss: 0.0041 - root_mean_squared_error: 0.0636 - mae: 0.0414 - val_loss: 0.0023 - val_root_mean_squared_error: 0.0477 - val_mae: 0.0329\n",
            "\n",
            "Epoch 00029: val_loss did not improve from 0.00209\n",
            "120/120 [==============================] - 1s 5ms/step - loss: 0.0021 - root_mean_squared_error: 0.0457 - mae: 0.0311\n"
          ],
          "name": "stdout"
        },
        {
          "output_type": "stream",
          "text": [
            "\r 17%|█▋        | 1/6 [03:04<15:23, 184.78s/it]"
          ],
          "name": "stderr"
        },
        {
          "output_type": "stream",
          "text": [
            "{'n_neurons': 16, 'n_layers': 3, 'bs_double': 8, 'n_timewindow': 2}\n",
            "16\n",
            "Epoch 1/50\n",
            "26/26 [==============================] - 8s 135ms/step - loss: 0.5113 - root_mean_squared_error: 0.6833 - mae: 0.4632 - val_loss: 0.0102 - val_root_mean_squared_error: 0.1009 - val_mae: 0.0831\n",
            "\n",
            "Epoch 00001: val_loss improved from inf to 0.01018, saving model to /content/drive/My Drive/Colab Notebooks/Thesis/best model/LSTMGA_update_best_mse_data101256.hdf5\n",
            "Epoch 2/50\n",
            "26/26 [==============================] - 3s 104ms/step - loss: 0.0517 - root_mean_squared_error: 0.2273 - mae: 0.1530 - val_loss: 0.0125 - val_root_mean_squared_error: 0.1118 - val_mae: 0.0995\n",
            "\n",
            "Epoch 00002: val_loss did not improve from 0.01018\n",
            "Epoch 3/50\n",
            "26/26 [==============================] - 3s 103ms/step - loss: 0.0524 - root_mean_squared_error: 0.2288 - mae: 0.1391 - val_loss: 0.0140 - val_root_mean_squared_error: 0.1183 - val_mae: 0.1075\n",
            "\n",
            "Epoch 00003: val_loss did not improve from 0.01018\n",
            "Epoch 4/50\n",
            "26/26 [==============================] - 3s 104ms/step - loss: 0.0375 - root_mean_squared_error: 0.1937 - mae: 0.1219 - val_loss: 0.0170 - val_root_mean_squared_error: 0.1303 - val_mae: 0.1207\n",
            "\n",
            "Epoch 00004: val_loss did not improve from 0.01018\n",
            "Epoch 5/50\n",
            "26/26 [==============================] - 3s 103ms/step - loss: 0.0373 - root_mean_squared_error: 0.1930 - mae: 0.1167 - val_loss: 0.0195 - val_root_mean_squared_error: 0.1395 - val_mae: 0.1299\n",
            "\n",
            "Epoch 00005: val_loss did not improve from 0.01018\n",
            "Epoch 6/50\n",
            "26/26 [==============================] - 3s 103ms/step - loss: 0.0406 - root_mean_squared_error: 0.2012 - mae: 0.1126 - val_loss: 0.0218 - val_root_mean_squared_error: 0.1475 - val_mae: 0.1377\n",
            "\n",
            "Epoch 00006: val_loss did not improve from 0.01018\n",
            "120/120 [==============================] - 1s 7ms/step - loss: 0.0102 - root_mean_squared_error: 0.1009 - mae: 0.0831\n"
          ],
          "name": "stdout"
        },
        {
          "output_type": "stream",
          "text": [
            "\r 33%|███▎      | 2/6 [03:30<09:08, 137.20s/it]"
          ],
          "name": "stderr"
        },
        {
          "output_type": "stream",
          "text": [
            "{'n_neurons': 64, 'n_layers': 3, 'bs_double': 5, 'n_timewindow': 2}\n",
            "64\n",
            "Epoch 1/50\n",
            "208/208 [==============================] - 30s 126ms/step - loss: 0.3984 - root_mean_squared_error: 0.6055 - mae: 0.4360 - val_loss: 0.0101 - val_root_mean_squared_error: 0.1005 - val_mae: 0.0663\n",
            "\n",
            "Epoch 00001: val_loss improved from inf to 0.01011, saving model to /content/drive/My Drive/Colab Notebooks/Thesis/best model/LSTMGA_update_best_mse_data10132.hdf5\n",
            "Epoch 2/50\n",
            "208/208 [==============================] - 25s 122ms/step - loss: 0.0466 - root_mean_squared_error: 0.2157 - mae: 0.1475 - val_loss: 0.0145 - val_root_mean_squared_error: 0.1202 - val_mae: 0.0891\n",
            "\n",
            "Epoch 00002: val_loss did not improve from 0.01011\n",
            "Epoch 3/50\n",
            "208/208 [==============================] - 25s 122ms/step - loss: 0.0342 - root_mean_squared_error: 0.1848 - mae: 0.1246 - val_loss: 0.0282 - val_root_mean_squared_error: 0.1679 - val_mae: 0.1246\n",
            "\n",
            "Epoch 00003: val_loss did not improve from 0.01011\n",
            "Epoch 4/50\n",
            "208/208 [==============================] - 25s 121ms/step - loss: 0.0288 - root_mean_squared_error: 0.1696 - mae: 0.1156 - val_loss: 0.0069 - val_root_mean_squared_error: 0.0831 - val_mae: 0.0633\n",
            "\n",
            "Epoch 00004: val_loss improved from 0.01011 to 0.00691, saving model to /content/drive/My Drive/Colab Notebooks/Thesis/best model/LSTMGA_update_best_mse_data10132.hdf5\n",
            "Epoch 5/50\n",
            "208/208 [==============================] - 26s 123ms/step - loss: 0.0240 - root_mean_squared_error: 0.1544 - mae: 0.1002 - val_loss: 0.0088 - val_root_mean_squared_error: 0.0937 - val_mae: 0.0722\n",
            "\n",
            "Epoch 00005: val_loss did not improve from 0.00691\n",
            "Epoch 6/50\n",
            "208/208 [==============================] - 25s 122ms/step - loss: 0.0222 - root_mean_squared_error: 0.1488 - mae: 0.0963 - val_loss: 0.0067 - val_root_mean_squared_error: 0.0820 - val_mae: 0.0638\n",
            "\n",
            "Epoch 00006: val_loss improved from 0.00691 to 0.00673, saving model to /content/drive/My Drive/Colab Notebooks/Thesis/best model/LSTMGA_update_best_mse_data10132.hdf5\n",
            "Epoch 7/50\n",
            "208/208 [==============================] - 25s 122ms/step - loss: 0.0213 - root_mean_squared_error: 0.1458 - mae: 0.0908 - val_loss: 0.0045 - val_root_mean_squared_error: 0.0672 - val_mae: 0.0487\n",
            "\n",
            "Epoch 00007: val_loss improved from 0.00673 to 0.00451, saving model to /content/drive/My Drive/Colab Notebooks/Thesis/best model/LSTMGA_update_best_mse_data10132.hdf5\n",
            "Epoch 8/50\n",
            "208/208 [==============================] - 26s 123ms/step - loss: 0.0187 - root_mean_squared_error: 0.1368 - mae: 0.0862 - val_loss: 0.0038 - val_root_mean_squared_error: 0.0616 - val_mae: 0.0442\n",
            "\n",
            "Epoch 00008: val_loss improved from 0.00451 to 0.00380, saving model to /content/drive/My Drive/Colab Notebooks/Thesis/best model/LSTMGA_update_best_mse_data10132.hdf5\n",
            "Epoch 9/50\n",
            "208/208 [==============================] - 26s 123ms/step - loss: 0.0206 - root_mean_squared_error: 0.1433 - mae: 0.0894 - val_loss: 0.0040 - val_root_mean_squared_error: 0.0631 - val_mae: 0.0463\n",
            "\n",
            "Epoch 00009: val_loss did not improve from 0.00380\n",
            "Epoch 10/50\n",
            "208/208 [==============================] - 25s 123ms/step - loss: 0.0148 - root_mean_squared_error: 0.1215 - mae: 0.0786 - val_loss: 0.0193 - val_root_mean_squared_error: 0.1388 - val_mae: 0.1037\n",
            "\n",
            "Epoch 00010: val_loss did not improve from 0.00380\n",
            "Epoch 11/50\n",
            "208/208 [==============================] - 25s 122ms/step - loss: 0.0196 - root_mean_squared_error: 0.1398 - mae: 0.0939 - val_loss: 0.0055 - val_root_mean_squared_error: 0.0744 - val_mae: 0.0582\n",
            "\n",
            "Epoch 00011: val_loss did not improve from 0.00380\n",
            "Epoch 12/50\n",
            "208/208 [==============================] - 25s 122ms/step - loss: 0.0169 - root_mean_squared_error: 0.1291 - mae: 0.0848 - val_loss: 0.0212 - val_root_mean_squared_error: 0.1457 - val_mae: 0.0994\n",
            "\n",
            "Epoch 00012: val_loss did not improve from 0.00380\n",
            "Epoch 13/50\n",
            "208/208 [==============================] - 26s 123ms/step - loss: 0.0136 - root_mean_squared_error: 0.1164 - mae: 0.0769 - val_loss: 0.0085 - val_root_mean_squared_error: 0.0921 - val_mae: 0.0724\n",
            "\n",
            "Epoch 00013: val_loss did not improve from 0.00380\n",
            "120/120 [==============================] - 4s 27ms/step - loss: 0.0038 - root_mean_squared_error: 0.0616 - mae: 0.0442\n"
          ],
          "name": "stdout"
        },
        {
          "output_type": "stream",
          "text": [
            "\r 50%|█████     | 3/6 [09:18<10:00, 200.33s/it]"
          ],
          "name": "stderr"
        },
        {
          "output_type": "stream",
          "text": [
            "{'n_neurons': 16, 'n_layers': 2, 'bs_double': 6, 'n_timewindow': 2}\n",
            "16\n",
            "Epoch 1/50\n",
            "104/104 [==============================] - 6s 28ms/step - loss: 0.5187 - root_mean_squared_error: 0.6640 - mae: 0.4566 - val_loss: 0.0100 - val_root_mean_squared_error: 0.0999 - val_mae: 0.0658\n",
            "\n",
            "Epoch 00001: val_loss improved from inf to 0.00998, saving model to /content/drive/My Drive/Colab Notebooks/Thesis/best model/LSTMGA_update_best_mse_data10164.hdf5\n",
            "Epoch 2/50\n",
            "104/104 [==============================] - 3s 26ms/step - loss: 0.0406 - root_mean_squared_error: 0.2014 - mae: 0.1394 - val_loss: 0.0128 - val_root_mean_squared_error: 0.1133 - val_mae: 0.0726\n",
            "\n",
            "Epoch 00002: val_loss did not improve from 0.00998\n",
            "Epoch 3/50\n",
            "104/104 [==============================] - 2s 23ms/step - loss: 0.0337 - root_mean_squared_error: 0.1833 - mae: 0.1160 - val_loss: 0.0136 - val_root_mean_squared_error: 0.1168 - val_mae: 0.0799\n",
            "\n",
            "Epoch 00003: val_loss did not improve from 0.00998\n",
            "Epoch 4/50\n",
            "104/104 [==============================] - 2s 24ms/step - loss: 0.0243 - root_mean_squared_error: 0.1556 - mae: 0.1001 - val_loss: 0.0181 - val_root_mean_squared_error: 0.1347 - val_mae: 0.1019\n",
            "\n",
            "Epoch 00004: val_loss did not improve from 0.00998\n",
            "Epoch 5/50\n",
            "104/104 [==============================] - 2s 23ms/step - loss: 0.0235 - root_mean_squared_error: 0.1530 - mae: 0.0921 - val_loss: 0.0168 - val_root_mean_squared_error: 0.1295 - val_mae: 0.1032\n",
            "\n",
            "Epoch 00005: val_loss did not improve from 0.00998\n",
            "Epoch 6/50\n",
            "104/104 [==============================] - 2s 24ms/step - loss: 0.0185 - root_mean_squared_error: 0.1357 - mae: 0.0822 - val_loss: 0.0104 - val_root_mean_squared_error: 0.1021 - val_mae: 0.0812\n",
            "\n",
            "Epoch 00006: val_loss did not improve from 0.00998\n",
            "120/120 [==============================] - 1s 4ms/step - loss: 0.0100 - root_mean_squared_error: 0.0999 - mae: 0.0658\n"
          ],
          "name": "stdout"
        },
        {
          "output_type": "stream",
          "text": [
            "\r 67%|██████▋   | 4/6 [09:40<04:53, 146.92s/it]"
          ],
          "name": "stderr"
        },
        {
          "output_type": "stream",
          "text": [
            "{'n_neurons': 16, 'n_layers': 3, 'bs_double': 5, 'n_timewindow': 1.5}\n",
            "16\n",
            "Epoch 1/50\n",
            "208/208 [==============================] - 11s 31ms/step - loss: 0.2500 - root_mean_squared_error: 0.4652 - mae: 0.3127 - val_loss: 0.0352 - val_root_mean_squared_error: 0.1877 - val_mae: 0.1753\n",
            "\n",
            "Epoch 00001: val_loss improved from inf to 0.03521, saving model to /content/drive/My Drive/Colab Notebooks/Thesis/best model/LSTMGA_update_best_mse_data10132.hdf5\n",
            "Epoch 2/50\n",
            "208/208 [==============================] - 6s 27ms/step - loss: 0.0461 - root_mean_squared_error: 0.2145 - mae: 0.1330 - val_loss: 0.0235 - val_root_mean_squared_error: 0.1534 - val_mae: 0.1392\n",
            "\n",
            "Epoch 00002: val_loss improved from 0.03521 to 0.02354, saving model to /content/drive/My Drive/Colab Notebooks/Thesis/best model/LSTMGA_update_best_mse_data10132.hdf5\n",
            "Epoch 3/50\n",
            "208/208 [==============================] - 6s 27ms/step - loss: 0.0376 - root_mean_squared_error: 0.1934 - mae: 0.1146 - val_loss: 0.0111 - val_root_mean_squared_error: 0.1055 - val_mae: 0.0847\n",
            "\n",
            "Epoch 00003: val_loss improved from 0.02354 to 0.01114, saving model to /content/drive/My Drive/Colab Notebooks/Thesis/best model/LSTMGA_update_best_mse_data10132.hdf5\n",
            "Epoch 4/50\n",
            "208/208 [==============================] - 6s 27ms/step - loss: 0.0296 - root_mean_squared_error: 0.1714 - mae: 0.1008 - val_loss: 0.0109 - val_root_mean_squared_error: 0.1045 - val_mae: 0.0814\n",
            "\n",
            "Epoch 00004: val_loss improved from 0.01114 to 0.01093, saving model to /content/drive/My Drive/Colab Notebooks/Thesis/best model/LSTMGA_update_best_mse_data10132.hdf5\n",
            "Epoch 5/50\n",
            "208/208 [==============================] - 6s 28ms/step - loss: 0.0269 - root_mean_squared_error: 0.1638 - mae: 0.0912 - val_loss: 0.0067 - val_root_mean_squared_error: 0.0817 - val_mae: 0.0631\n",
            "\n",
            "Epoch 00005: val_loss improved from 0.01093 to 0.00667, saving model to /content/drive/My Drive/Colab Notebooks/Thesis/best model/LSTMGA_update_best_mse_data10132.hdf5\n",
            "Epoch 6/50\n",
            "208/208 [==============================] - 6s 27ms/step - loss: 0.0220 - root_mean_squared_error: 0.1479 - mae: 0.0873 - val_loss: 0.0068 - val_root_mean_squared_error: 0.0827 - val_mae: 0.0613\n",
            "\n",
            "Epoch 00006: val_loss did not improve from 0.00667\n",
            "Epoch 7/50\n",
            "208/208 [==============================] - 6s 28ms/step - loss: 0.0244 - root_mean_squared_error: 0.1558 - mae: 0.0878 - val_loss: 0.0057 - val_root_mean_squared_error: 0.0756 - val_mae: 0.0565\n",
            "\n",
            "Epoch 00007: val_loss improved from 0.00667 to 0.00571, saving model to /content/drive/My Drive/Colab Notebooks/Thesis/best model/LSTMGA_update_best_mse_data10132.hdf5\n",
            "Epoch 8/50\n",
            "208/208 [==============================] - 6s 27ms/step - loss: 0.0198 - root_mean_squared_error: 0.1403 - mae: 0.0816 - val_loss: 0.0049 - val_root_mean_squared_error: 0.0703 - val_mae: 0.0523\n",
            "\n",
            "Epoch 00008: val_loss improved from 0.00571 to 0.00494, saving model to /content/drive/My Drive/Colab Notebooks/Thesis/best model/LSTMGA_update_best_mse_data10132.hdf5\n",
            "Epoch 9/50\n",
            "208/208 [==============================] - 6s 28ms/step - loss: 0.0220 - root_mean_squared_error: 0.1481 - mae: 0.0818 - val_loss: 0.0049 - val_root_mean_squared_error: 0.0699 - val_mae: 0.0525\n",
            "\n",
            "Epoch 00009: val_loss improved from 0.00494 to 0.00489, saving model to /content/drive/My Drive/Colab Notebooks/Thesis/best model/LSTMGA_update_best_mse_data10132.hdf5\n",
            "Epoch 10/50\n",
            "208/208 [==============================] - 6s 27ms/step - loss: 0.0194 - root_mean_squared_error: 0.1390 - mae: 0.0797 - val_loss: 0.0056 - val_root_mean_squared_error: 0.0750 - val_mae: 0.0556\n",
            "\n",
            "Epoch 00010: val_loss did not improve from 0.00489\n",
            "Epoch 11/50\n",
            "208/208 [==============================] - 6s 28ms/step - loss: 0.0203 - root_mean_squared_error: 0.1421 - mae: 0.0810 - val_loss: 0.0059 - val_root_mean_squared_error: 0.0766 - val_mae: 0.0622\n",
            "\n",
            "Epoch 00011: val_loss did not improve from 0.00489\n",
            "Epoch 12/50\n",
            "208/208 [==============================] - 6s 28ms/step - loss: 0.0125 - root_mean_squared_error: 0.1117 - mae: 0.0688 - val_loss: 0.0044 - val_root_mean_squared_error: 0.0660 - val_mae: 0.0497\n",
            "\n",
            "Epoch 00012: val_loss improved from 0.00489 to 0.00436, saving model to /content/drive/My Drive/Colab Notebooks/Thesis/best model/LSTMGA_update_best_mse_data10132.hdf5\n",
            "Epoch 13/50\n",
            "208/208 [==============================] - 6s 27ms/step - loss: 0.0147 - root_mean_squared_error: 0.1208 - mae: 0.0707 - val_loss: 0.0031 - val_root_mean_squared_error: 0.0560 - val_mae: 0.0411\n",
            "\n",
            "Epoch 00013: val_loss improved from 0.00436 to 0.00313, saving model to /content/drive/My Drive/Colab Notebooks/Thesis/best model/LSTMGA_update_best_mse_data10132.hdf5\n",
            "Epoch 14/50\n",
            "208/208 [==============================] - 6s 27ms/step - loss: 0.0105 - root_mean_squared_error: 0.1023 - mae: 0.0608 - val_loss: 0.0036 - val_root_mean_squared_error: 0.0599 - val_mae: 0.0440\n",
            "\n",
            "Epoch 00014: val_loss did not improve from 0.00313\n",
            "Epoch 15/50\n",
            "208/208 [==============================] - 6s 27ms/step - loss: 0.0101 - root_mean_squared_error: 0.1005 - mae: 0.0593 - val_loss: 0.0027 - val_root_mean_squared_error: 0.0519 - val_mae: 0.0369\n",
            "\n",
            "Epoch 00015: val_loss improved from 0.00313 to 0.00269, saving model to /content/drive/My Drive/Colab Notebooks/Thesis/best model/LSTMGA_update_best_mse_data10132.hdf5\n",
            "Epoch 16/50\n",
            "208/208 [==============================] - 6s 27ms/step - loss: 0.0085 - root_mean_squared_error: 0.0918 - mae: 0.0543 - val_loss: 0.0027 - val_root_mean_squared_error: 0.0522 - val_mae: 0.0373\n",
            "\n",
            "Epoch 00016: val_loss did not improve from 0.00269\n",
            "Epoch 17/50\n",
            "208/208 [==============================] - 6s 27ms/step - loss: 0.0089 - root_mean_squared_error: 0.0944 - mae: 0.0572 - val_loss: 0.0025 - val_root_mean_squared_error: 0.0504 - val_mae: 0.0360\n",
            "\n",
            "Epoch 00017: val_loss improved from 0.00269 to 0.00254, saving model to /content/drive/My Drive/Colab Notebooks/Thesis/best model/LSTMGA_update_best_mse_data10132.hdf5\n",
            "Epoch 18/50\n",
            "208/208 [==============================] - 6s 27ms/step - loss: 0.0079 - root_mean_squared_error: 0.0888 - mae: 0.0535 - val_loss: 0.0024 - val_root_mean_squared_error: 0.0491 - val_mae: 0.0348\n",
            "\n",
            "Epoch 00018: val_loss improved from 0.00254 to 0.00241, saving model to /content/drive/My Drive/Colab Notebooks/Thesis/best model/LSTMGA_update_best_mse_data10132.hdf5\n",
            "Epoch 19/50\n",
            "208/208 [==============================] - 6s 27ms/step - loss: 0.0066 - root_mean_squared_error: 0.0811 - mae: 0.0519 - val_loss: 0.0023 - val_root_mean_squared_error: 0.0482 - val_mae: 0.0337\n",
            "\n",
            "Epoch 00019: val_loss improved from 0.00241 to 0.00232, saving model to /content/drive/My Drive/Colab Notebooks/Thesis/best model/LSTMGA_update_best_mse_data10132.hdf5\n",
            "Epoch 20/50\n",
            "208/208 [==============================] - 6s 27ms/step - loss: 0.0065 - root_mean_squared_error: 0.0805 - mae: 0.0484 - val_loss: 0.0022 - val_root_mean_squared_error: 0.0474 - val_mae: 0.0327\n",
            "\n",
            "Epoch 00020: val_loss improved from 0.00232 to 0.00225, saving model to /content/drive/My Drive/Colab Notebooks/Thesis/best model/LSTMGA_update_best_mse_data10132.hdf5\n",
            "Epoch 21/50\n",
            "208/208 [==============================] - 6s 27ms/step - loss: 0.0067 - root_mean_squared_error: 0.0818 - mae: 0.0497 - val_loss: 0.0021 - val_root_mean_squared_error: 0.0459 - val_mae: 0.0316\n",
            "\n",
            "Epoch 00021: val_loss improved from 0.00225 to 0.00211, saving model to /content/drive/My Drive/Colab Notebooks/Thesis/best model/LSTMGA_update_best_mse_data10132.hdf5\n",
            "Epoch 22/50\n",
            "208/208 [==============================] - 6s 27ms/step - loss: 0.0076 - root_mean_squared_error: 0.0868 - mae: 0.0505 - val_loss: 0.0022 - val_root_mean_squared_error: 0.0467 - val_mae: 0.0319\n",
            "\n",
            "Epoch 00022: val_loss did not improve from 0.00211\n",
            "Epoch 23/50\n",
            "208/208 [==============================] - 6s 27ms/step - loss: 0.0063 - root_mean_squared_error: 0.0791 - mae: 0.0477 - val_loss: 0.0021 - val_root_mean_squared_error: 0.0457 - val_mae: 0.0314\n",
            "\n",
            "Epoch 00023: val_loss improved from 0.00211 to 0.00209, saving model to /content/drive/My Drive/Colab Notebooks/Thesis/best model/LSTMGA_update_best_mse_data10132.hdf5\n",
            "Epoch 24/50\n",
            "208/208 [==============================] - 6s 28ms/step - loss: 0.0062 - root_mean_squared_error: 0.0788 - mae: 0.0485 - val_loss: 0.0021 - val_root_mean_squared_error: 0.0457 - val_mae: 0.0311\n",
            "\n",
            "Epoch 00024: val_loss improved from 0.00209 to 0.00209, saving model to /content/drive/My Drive/Colab Notebooks/Thesis/best model/LSTMGA_update_best_mse_data10132.hdf5\n",
            "Epoch 25/50\n",
            "208/208 [==============================] - 6s 28ms/step - loss: 0.0066 - root_mean_squared_error: 0.0812 - mae: 0.0487 - val_loss: 0.0022 - val_root_mean_squared_error: 0.0465 - val_mae: 0.0313\n",
            "\n",
            "Epoch 00025: val_loss did not improve from 0.00209\n",
            "Epoch 26/50\n",
            "208/208 [==============================] - 6s 28ms/step - loss: 0.0062 - root_mean_squared_error: 0.0788 - mae: 0.0499 - val_loss: 0.0024 - val_root_mean_squared_error: 0.0493 - val_mae: 0.0347\n",
            "\n",
            "Epoch 00026: val_loss did not improve from 0.00209\n",
            "Epoch 27/50\n",
            "208/208 [==============================] - 6s 27ms/step - loss: 0.0055 - root_mean_squared_error: 0.0737 - mae: 0.0458 - val_loss: 0.0024 - val_root_mean_squared_error: 0.0487 - val_mae: 0.0334\n",
            "\n",
            "Epoch 00027: val_loss did not improve from 0.00209\n",
            "Epoch 28/50\n",
            "208/208 [==============================] - 6s 28ms/step - loss: 0.0044 - root_mean_squared_error: 0.0664 - mae: 0.0440 - val_loss: 0.0025 - val_root_mean_squared_error: 0.0503 - val_mae: 0.0343\n",
            "\n",
            "Epoch 00028: val_loss did not improve from 0.00209\n",
            "Epoch 29/50\n",
            "208/208 [==============================] - 6s 29ms/step - loss: 0.0041 - root_mean_squared_error: 0.0636 - mae: 0.0414 - val_loss: 0.0023 - val_root_mean_squared_error: 0.0477 - val_mae: 0.0329\n",
            "\n",
            "Epoch 00029: val_loss did not improve from 0.00209\n",
            "120/120 [==============================] - 1s 6ms/step - loss: 0.0021 - root_mean_squared_error: 0.0457 - mae: 0.0311\n"
          ],
          "name": "stdout"
        },
        {
          "output_type": "stream",
          "text": [
            "\r 83%|████████▎ | 5/6 [12:41<02:37, 157.09s/it]"
          ],
          "name": "stderr"
        },
        {
          "output_type": "stream",
          "text": [
            "{'n_neurons': 32, 'n_layers': 3, 'bs_double': 6, 'n_timewindow': 2}\n",
            "32\n",
            "Epoch 1/50\n",
            "104/104 [==============================] - 13s 88ms/step - loss: 0.3301 - root_mean_squared_error: 0.5399 - mae: 0.3572 - val_loss: 0.0110 - val_root_mean_squared_error: 0.1051 - val_mae: 0.0900\n",
            "\n",
            "Epoch 00001: val_loss improved from inf to 0.01104, saving model to /content/drive/My Drive/Colab Notebooks/Thesis/best model/LSTMGA_update_best_mse_data10164.hdf5\n",
            "Epoch 2/50\n",
            "104/104 [==============================] - 8s 78ms/step - loss: 0.0395 - root_mean_squared_error: 0.1985 - mae: 0.1278 - val_loss: 0.0102 - val_root_mean_squared_error: 0.1010 - val_mae: 0.0830\n",
            "\n",
            "Epoch 00002: val_loss improved from 0.01104 to 0.01019, saving model to /content/drive/My Drive/Colab Notebooks/Thesis/best model/LSTMGA_update_best_mse_data10164.hdf5\n",
            "Epoch 3/50\n",
            "104/104 [==============================] - 8s 77ms/step - loss: 0.0376 - root_mean_squared_error: 0.1938 - mae: 0.1209 - val_loss: 0.0106 - val_root_mean_squared_error: 0.1030 - val_mae: 0.0858\n",
            "\n",
            "Epoch 00003: val_loss did not improve from 0.01019\n",
            "Epoch 4/50\n",
            "104/104 [==============================] - 8s 76ms/step - loss: 0.0312 - root_mean_squared_error: 0.1765 - mae: 0.1053 - val_loss: 0.0106 - val_root_mean_squared_error: 0.1029 - val_mae: 0.0859\n",
            "\n",
            "Epoch 00004: val_loss did not improve from 0.01019\n",
            "Epoch 5/50\n",
            "104/104 [==============================] - 8s 78ms/step - loss: 0.0309 - root_mean_squared_error: 0.1752 - mae: 0.1008 - val_loss: 0.0083 - val_root_mean_squared_error: 0.0913 - val_mae: 0.0730\n",
            "\n",
            "Epoch 00005: val_loss improved from 0.01019 to 0.00834, saving model to /content/drive/My Drive/Colab Notebooks/Thesis/best model/LSTMGA_update_best_mse_data10164.hdf5\n",
            "Epoch 6/50\n",
            "104/104 [==============================] - 8s 77ms/step - loss: 0.0269 - root_mean_squared_error: 0.1636 - mae: 0.0891 - val_loss: 0.0136 - val_root_mean_squared_error: 0.1168 - val_mae: 0.0906\n",
            "\n",
            "Epoch 00006: val_loss did not improve from 0.00834\n",
            "Epoch 7/50\n",
            "104/104 [==============================] - 8s 77ms/step - loss: 0.0229 - root_mean_squared_error: 0.1510 - mae: 0.0835 - val_loss: 0.0062 - val_root_mean_squared_error: 0.0787 - val_mae: 0.0595\n",
            "\n",
            "Epoch 00007: val_loss improved from 0.00834 to 0.00619, saving model to /content/drive/My Drive/Colab Notebooks/Thesis/best model/LSTMGA_update_best_mse_data10164.hdf5\n",
            "Epoch 8/50\n",
            "104/104 [==============================] - 8s 77ms/step - loss: 0.0212 - root_mean_squared_error: 0.1452 - mae: 0.0784 - val_loss: 0.0046 - val_root_mean_squared_error: 0.0675 - val_mae: 0.0509\n",
            "\n",
            "Epoch 00008: val_loss improved from 0.00619 to 0.00456, saving model to /content/drive/My Drive/Colab Notebooks/Thesis/best model/LSTMGA_update_best_mse_data10164.hdf5\n",
            "Epoch 9/50\n",
            "104/104 [==============================] - 8s 79ms/step - loss: 0.0190 - root_mean_squared_error: 0.1374 - mae: 0.0736 - val_loss: 0.0044 - val_root_mean_squared_error: 0.0662 - val_mae: 0.0495\n",
            "\n",
            "Epoch 00009: val_loss improved from 0.00456 to 0.00439, saving model to /content/drive/My Drive/Colab Notebooks/Thesis/best model/LSTMGA_update_best_mse_data10164.hdf5\n",
            "Epoch 10/50\n",
            "104/104 [==============================] - 8s 77ms/step - loss: 0.0221 - root_mean_squared_error: 0.1477 - mae: 0.0751 - val_loss: 0.0048 - val_root_mean_squared_error: 0.0691 - val_mae: 0.0509\n",
            "\n",
            "Epoch 00010: val_loss did not improve from 0.00439\n",
            "Epoch 11/50\n",
            "104/104 [==============================] - 8s 79ms/step - loss: 0.0177 - root_mean_squared_error: 0.1331 - mae: 0.0704 - val_loss: 0.0042 - val_root_mean_squared_error: 0.0644 - val_mae: 0.0487\n",
            "\n",
            "Epoch 00011: val_loss improved from 0.00439 to 0.00415, saving model to /content/drive/My Drive/Colab Notebooks/Thesis/best model/LSTMGA_update_best_mse_data10164.hdf5\n",
            "Epoch 12/50\n",
            "104/104 [==============================] - 8s 78ms/step - loss: 0.0178 - root_mean_squared_error: 0.1325 - mae: 0.0699 - val_loss: 0.0040 - val_root_mean_squared_error: 0.0629 - val_mae: 0.0469\n",
            "\n",
            "Epoch 00012: val_loss improved from 0.00415 to 0.00396, saving model to /content/drive/My Drive/Colab Notebooks/Thesis/best model/LSTMGA_update_best_mse_data10164.hdf5\n",
            "Epoch 13/50\n",
            "104/104 [==============================] - 8s 78ms/step - loss: 0.0156 - root_mean_squared_error: 0.1247 - mae: 0.0660 - val_loss: 0.0029 - val_root_mean_squared_error: 0.0543 - val_mae: 0.0395\n",
            "\n",
            "Epoch 00013: val_loss improved from 0.00396 to 0.00295, saving model to /content/drive/My Drive/Colab Notebooks/Thesis/best model/LSTMGA_update_best_mse_data10164.hdf5\n",
            "Epoch 14/50\n",
            "104/104 [==============================] - 8s 79ms/step - loss: 0.0163 - root_mean_squared_error: 0.1274 - mae: 0.0676 - val_loss: 0.0030 - val_root_mean_squared_error: 0.0552 - val_mae: 0.0403\n",
            "\n",
            "Epoch 00014: val_loss did not improve from 0.00295\n",
            "Epoch 15/50\n",
            "104/104 [==============================] - 8s 77ms/step - loss: 0.0141 - root_mean_squared_error: 0.1185 - mae: 0.0625 - val_loss: 0.0036 - val_root_mean_squared_error: 0.0596 - val_mae: 0.0444\n",
            "\n",
            "Epoch 00015: val_loss did not improve from 0.00295\n",
            "Epoch 16/50\n",
            "104/104 [==============================] - 8s 77ms/step - loss: 0.0184 - root_mean_squared_error: 0.1353 - mae: 0.0681 - val_loss: 0.0026 - val_root_mean_squared_error: 0.0513 - val_mae: 0.0364\n",
            "\n",
            "Epoch 00016: val_loss improved from 0.00295 to 0.00263, saving model to /content/drive/My Drive/Colab Notebooks/Thesis/best model/LSTMGA_update_best_mse_data10164.hdf5\n",
            "Epoch 17/50\n",
            "104/104 [==============================] - 8s 78ms/step - loss: 0.0148 - root_mean_squared_error: 0.1216 - mae: 0.0627 - val_loss: 0.0027 - val_root_mean_squared_error: 0.0516 - val_mae: 0.0370\n",
            "\n",
            "Epoch 00017: val_loss did not improve from 0.00263\n",
            "Epoch 18/50\n",
            "104/104 [==============================] - 8s 78ms/step - loss: 0.0178 - root_mean_squared_error: 0.1330 - mae: 0.0657 - val_loss: 0.0026 - val_root_mean_squared_error: 0.0510 - val_mae: 0.0361\n",
            "\n",
            "Epoch 00018: val_loss improved from 0.00263 to 0.00260, saving model to /content/drive/My Drive/Colab Notebooks/Thesis/best model/LSTMGA_update_best_mse_data10164.hdf5\n",
            "Epoch 19/50\n",
            "104/104 [==============================] - 8s 78ms/step - loss: 0.0165 - root_mean_squared_error: 0.1280 - mae: 0.0644 - val_loss: 0.0024 - val_root_mean_squared_error: 0.0488 - val_mae: 0.0343\n",
            "\n",
            "Epoch 00019: val_loss improved from 0.00260 to 0.00238, saving model to /content/drive/My Drive/Colab Notebooks/Thesis/best model/LSTMGA_update_best_mse_data10164.hdf5\n",
            "Epoch 20/50\n",
            "104/104 [==============================] - 8s 78ms/step - loss: 0.0150 - root_mean_squared_error: 0.1219 - mae: 0.0646 - val_loss: 0.0354 - val_root_mean_squared_error: 0.1882 - val_mae: 0.1118\n",
            "\n",
            "Epoch 00020: val_loss did not improve from 0.00238\n",
            "Epoch 21/50\n",
            "104/104 [==============================] - 8s 78ms/step - loss: 0.0154 - root_mean_squared_error: 0.1238 - mae: 0.0673 - val_loss: 0.0053 - val_root_mean_squared_error: 0.0730 - val_mae: 0.0520\n",
            "\n",
            "Epoch 00021: val_loss did not improve from 0.00238\n",
            "Epoch 22/50\n",
            "104/104 [==============================] - 8s 80ms/step - loss: 0.0139 - root_mean_squared_error: 0.1179 - mae: 0.0634 - val_loss: 0.0036 - val_root_mean_squared_error: 0.0596 - val_mae: 0.0459\n",
            "\n",
            "Epoch 00022: val_loss did not improve from 0.00238\n",
            "Epoch 23/50\n",
            "104/104 [==============================] - 8s 79ms/step - loss: 0.0109 - root_mean_squared_error: 0.1044 - mae: 0.0573 - val_loss: 0.0047 - val_root_mean_squared_error: 0.0684 - val_mae: 0.0463\n",
            "\n",
            "Epoch 00023: val_loss did not improve from 0.00238\n",
            "Epoch 24/50\n",
            "104/104 [==============================] - 8s 78ms/step - loss: 0.0096 - root_mean_squared_error: 0.0977 - mae: 0.0545 - val_loss: 0.0033 - val_root_mean_squared_error: 0.0572 - val_mae: 0.0419\n",
            "\n",
            "Epoch 00024: val_loss did not improve from 0.00238\n",
            "120/120 [==============================] - 2s 11ms/step - loss: 0.0024 - root_mean_squared_error: 0.0488 - mae: 0.0343\n"
          ],
          "name": "stdout"
        },
        {
          "output_type": "stream",
          "text": [
            "100%|██████████| 6/6 [16:21<00:00, 163.67s/it]\n",
            "  0%|          | 0/6 [00:00<?, ?it/s]"
          ],
          "name": "stderr"
        },
        {
          "output_type": "stream",
          "text": [
            "[{'n_neurons': 16, 'n_layers': 3, 'bs_double': 6, 'n_timewindow': 2}, {'n_neurons': 16, 'n_layers': 2, 'bs_double': 5, 'n_timewindow': 1.5}, {'n_neurons': 16, 'n_layers': 2, 'bs_double': 5, 'n_timewindow': 2}, {'n_neurons': 16, 'n_layers': 3, 'bs_double': 5, 'n_timewindow': 2}, {'n_neurons': 64, 'n_layers': 3, 'bs_double': 5, 'n_timewindow': 2}, {'n_neurons': 16, 'n_layers': 2, 'bs_double': 9, 'n_timewindow': 2}, {'n_neurons': 16, 'n_layers': 3, 'bs_double': 5, 'n_timewindow': 1.5}, {'n_neurons': 128, 'n_layers': 3, 'bs_double': 6, 'n_timewindow': 2}, {'n_neurons': 64, 'n_layers': 3, 'bs_double': 5, 'n_timewindow': 1.5}, {'n_neurons': 16, 'n_layers': 3, 'bs_double': 5, 'n_timewindow': 1.5}]\n",
            "Iteration:  4\n",
            "{'n_neurons': 64, 'n_layers': 3, 'bs_double': 5, 'n_timewindow': 2}\n",
            "64\n",
            "Epoch 1/50\n",
            "208/208 [==============================] - 31s 129ms/step - loss: 0.3984 - root_mean_squared_error: 0.6055 - mae: 0.4360 - val_loss: 0.0101 - val_root_mean_squared_error: 0.1005 - val_mae: 0.0663\n",
            "\n",
            "Epoch 00001: val_loss improved from inf to 0.01011, saving model to /content/drive/My Drive/Colab Notebooks/Thesis/best model/LSTMGA_update_best_mse_data10132.hdf5\n",
            "Epoch 2/50\n",
            "208/208 [==============================] - 26s 124ms/step - loss: 0.0466 - root_mean_squared_error: 0.2157 - mae: 0.1475 - val_loss: 0.0145 - val_root_mean_squared_error: 0.1202 - val_mae: 0.0891\n",
            "\n",
            "Epoch 00002: val_loss did not improve from 0.01011\n",
            "Epoch 3/50\n",
            "208/208 [==============================] - 26s 126ms/step - loss: 0.0342 - root_mean_squared_error: 0.1848 - mae: 0.1246 - val_loss: 0.0282 - val_root_mean_squared_error: 0.1679 - val_mae: 0.1246\n",
            "\n",
            "Epoch 00003: val_loss did not improve from 0.01011\n",
            "Epoch 4/50\n",
            "208/208 [==============================] - 26s 125ms/step - loss: 0.0288 - root_mean_squared_error: 0.1696 - mae: 0.1156 - val_loss: 0.0069 - val_root_mean_squared_error: 0.0831 - val_mae: 0.0633\n",
            "\n",
            "Epoch 00004: val_loss improved from 0.01011 to 0.00691, saving model to /content/drive/My Drive/Colab Notebooks/Thesis/best model/LSTMGA_update_best_mse_data10132.hdf5\n",
            "Epoch 5/50\n",
            "208/208 [==============================] - 26s 124ms/step - loss: 0.0240 - root_mean_squared_error: 0.1544 - mae: 0.1002 - val_loss: 0.0088 - val_root_mean_squared_error: 0.0937 - val_mae: 0.0722\n",
            "\n",
            "Epoch 00005: val_loss did not improve from 0.00691\n",
            "Epoch 6/50\n",
            "208/208 [==============================] - 26s 124ms/step - loss: 0.0222 - root_mean_squared_error: 0.1488 - mae: 0.0963 - val_loss: 0.0067 - val_root_mean_squared_error: 0.0820 - val_mae: 0.0638\n",
            "\n",
            "Epoch 00006: val_loss improved from 0.00691 to 0.00673, saving model to /content/drive/My Drive/Colab Notebooks/Thesis/best model/LSTMGA_update_best_mse_data10132.hdf5\n",
            "Epoch 7/50\n",
            "208/208 [==============================] - 26s 125ms/step - loss: 0.0213 - root_mean_squared_error: 0.1458 - mae: 0.0908 - val_loss: 0.0045 - val_root_mean_squared_error: 0.0672 - val_mae: 0.0487\n",
            "\n",
            "Epoch 00007: val_loss improved from 0.00673 to 0.00451, saving model to /content/drive/My Drive/Colab Notebooks/Thesis/best model/LSTMGA_update_best_mse_data10132.hdf5\n",
            "Epoch 8/50\n",
            "208/208 [==============================] - 26s 126ms/step - loss: 0.0187 - root_mean_squared_error: 0.1368 - mae: 0.0862 - val_loss: 0.0038 - val_root_mean_squared_error: 0.0616 - val_mae: 0.0442\n",
            "\n",
            "Epoch 00008: val_loss improved from 0.00451 to 0.00380, saving model to /content/drive/My Drive/Colab Notebooks/Thesis/best model/LSTMGA_update_best_mse_data10132.hdf5\n",
            "Epoch 9/50\n",
            "208/208 [==============================] - 27s 128ms/step - loss: 0.0206 - root_mean_squared_error: 0.1433 - mae: 0.0894 - val_loss: 0.0040 - val_root_mean_squared_error: 0.0631 - val_mae: 0.0463\n",
            "\n",
            "Epoch 00009: val_loss did not improve from 0.00380\n",
            "Epoch 10/50\n",
            "208/208 [==============================] - 26s 126ms/step - loss: 0.0148 - root_mean_squared_error: 0.1215 - mae: 0.0786 - val_loss: 0.0193 - val_root_mean_squared_error: 0.1388 - val_mae: 0.1037\n",
            "\n",
            "Epoch 00010: val_loss did not improve from 0.00380\n",
            "Epoch 11/50\n",
            "208/208 [==============================] - 26s 126ms/step - loss: 0.0196 - root_mean_squared_error: 0.1398 - mae: 0.0939 - val_loss: 0.0055 - val_root_mean_squared_error: 0.0744 - val_mae: 0.0582\n",
            "\n",
            "Epoch 00011: val_loss did not improve from 0.00380\n",
            "Epoch 12/50\n",
            "208/208 [==============================] - 26s 125ms/step - loss: 0.0169 - root_mean_squared_error: 0.1291 - mae: 0.0848 - val_loss: 0.0212 - val_root_mean_squared_error: 0.1457 - val_mae: 0.0994\n",
            "\n",
            "Epoch 00012: val_loss did not improve from 0.00380\n",
            "Epoch 13/50\n",
            "208/208 [==============================] - 26s 126ms/step - loss: 0.0136 - root_mean_squared_error: 0.1164 - mae: 0.0769 - val_loss: 0.0085 - val_root_mean_squared_error: 0.0921 - val_mae: 0.0724\n",
            "\n",
            "Epoch 00013: val_loss did not improve from 0.00380\n",
            "120/120 [==============================] - 4s 28ms/step - loss: 0.0038 - root_mean_squared_error: 0.0616 - mae: 0.0442\n"
          ],
          "name": "stdout"
        },
        {
          "output_type": "stream",
          "text": [
            "\r 17%|█▋        | 1/6 [05:58<29:50, 358.06s/it]"
          ],
          "name": "stderr"
        },
        {
          "output_type": "stream",
          "text": [
            "{'n_neurons': 16, 'n_layers': 2, 'bs_double': 9, 'n_timewindow': 2}\n",
            "16\n",
            "Epoch 1/50\n",
            "13/13 [==============================] - 5s 151ms/step - loss: 1.4694 - root_mean_squared_error: 1.1886 - mae: 0.9511 - val_loss: 0.0119 - val_root_mean_squared_error: 0.1092 - val_mae: 0.0682\n",
            "\n",
            "Epoch 00001: val_loss improved from inf to 0.01193, saving model to /content/drive/My Drive/Colab Notebooks/Thesis/best model/LSTMGA_update_best_mse_data101512.hdf5\n",
            "Epoch 2/50\n",
            "13/13 [==============================] - 1s 68ms/step - loss: 0.1897 - root_mean_squared_error: 0.4343 - mae: 0.3174 - val_loss: 0.0094 - val_root_mean_squared_error: 0.0969 - val_mae: 0.0692\n",
            "\n",
            "Epoch 00002: val_loss improved from 0.01193 to 0.00940, saving model to /content/drive/My Drive/Colab Notebooks/Thesis/best model/LSTMGA_update_best_mse_data101512.hdf5\n",
            "Epoch 3/50\n",
            "13/13 [==============================] - 1s 67ms/step - loss: 0.0770 - root_mean_squared_error: 0.2775 - mae: 0.2106 - val_loss: 0.0094 - val_root_mean_squared_error: 0.0970 - val_mae: 0.0724\n",
            "\n",
            "Epoch 00003: val_loss did not improve from 0.00940\n",
            "Epoch 4/50\n",
            "13/13 [==============================] - 1s 66ms/step - loss: 0.0534 - root_mean_squared_error: 0.2309 - mae: 0.1614 - val_loss: 0.0094 - val_root_mean_squared_error: 0.0971 - val_mae: 0.0687\n",
            "\n",
            "Epoch 00004: val_loss did not improve from 0.00940\n",
            "Epoch 5/50\n",
            "13/13 [==============================] - 1s 65ms/step - loss: 0.0377 - root_mean_squared_error: 0.1941 - mae: 0.1348 - val_loss: 0.0097 - val_root_mean_squared_error: 0.0986 - val_mae: 0.0663\n",
            "\n",
            "Epoch 00005: val_loss did not improve from 0.00940\n",
            "Epoch 6/50\n",
            "13/13 [==============================] - 1s 66ms/step - loss: 0.0361 - root_mean_squared_error: 0.1900 - mae: 0.1273 - val_loss: 0.0099 - val_root_mean_squared_error: 0.0994 - val_mae: 0.0658\n",
            "\n",
            "Epoch 00006: val_loss did not improve from 0.00940\n",
            "Epoch 7/50\n",
            "13/13 [==============================] - 1s 68ms/step - loss: 0.0356 - root_mean_squared_error: 0.1887 - mae: 0.1172 - val_loss: 0.0099 - val_root_mean_squared_error: 0.0997 - val_mae: 0.0657\n",
            "\n",
            "Epoch 00007: val_loss did not improve from 0.00940\n",
            "120/120 [==============================] - 1s 4ms/step - loss: 0.0094 - root_mean_squared_error: 0.0969 - mae: 0.0692\n"
          ],
          "name": "stdout"
        },
        {
          "output_type": "stream",
          "text": [
            "\r 33%|███▎      | 2/6 [06:10<16:57, 254.33s/it]"
          ],
          "name": "stderr"
        },
        {
          "output_type": "stream",
          "text": [
            "{'n_neurons': 16, 'n_layers': 3, 'bs_double': 5, 'n_timewindow': 1.5}\n",
            "16\n",
            "Epoch 1/50\n",
            "208/208 [==============================] - 11s 32ms/step - loss: 0.2500 - root_mean_squared_error: 0.4652 - mae: 0.3127 - val_loss: 0.0352 - val_root_mean_squared_error: 0.1877 - val_mae: 0.1753\n",
            "\n",
            "Epoch 00001: val_loss improved from inf to 0.03521, saving model to /content/drive/My Drive/Colab Notebooks/Thesis/best model/LSTMGA_update_best_mse_data10132.hdf5\n",
            "Epoch 2/50\n",
            "208/208 [==============================] - 6s 29ms/step - loss: 0.0461 - root_mean_squared_error: 0.2145 - mae: 0.1330 - val_loss: 0.0235 - val_root_mean_squared_error: 0.1534 - val_mae: 0.1392\n",
            "\n",
            "Epoch 00002: val_loss improved from 0.03521 to 0.02354, saving model to /content/drive/My Drive/Colab Notebooks/Thesis/best model/LSTMGA_update_best_mse_data10132.hdf5\n",
            "Epoch 3/50\n",
            "208/208 [==============================] - 6s 29ms/step - loss: 0.0376 - root_mean_squared_error: 0.1934 - mae: 0.1146 - val_loss: 0.0111 - val_root_mean_squared_error: 0.1055 - val_mae: 0.0847\n",
            "\n",
            "Epoch 00003: val_loss improved from 0.02354 to 0.01114, saving model to /content/drive/My Drive/Colab Notebooks/Thesis/best model/LSTMGA_update_best_mse_data10132.hdf5\n",
            "Epoch 4/50\n",
            "208/208 [==============================] - 6s 28ms/step - loss: 0.0296 - root_mean_squared_error: 0.1714 - mae: 0.1008 - val_loss: 0.0109 - val_root_mean_squared_error: 0.1045 - val_mae: 0.0814\n",
            "\n",
            "Epoch 00004: val_loss improved from 0.01114 to 0.01093, saving model to /content/drive/My Drive/Colab Notebooks/Thesis/best model/LSTMGA_update_best_mse_data10132.hdf5\n",
            "Epoch 5/50\n",
            "208/208 [==============================] - 6s 29ms/step - loss: 0.0269 - root_mean_squared_error: 0.1638 - mae: 0.0912 - val_loss: 0.0067 - val_root_mean_squared_error: 0.0817 - val_mae: 0.0631\n",
            "\n",
            "Epoch 00005: val_loss improved from 0.01093 to 0.00667, saving model to /content/drive/My Drive/Colab Notebooks/Thesis/best model/LSTMGA_update_best_mse_data10132.hdf5\n",
            "Epoch 6/50\n",
            "208/208 [==============================] - 6s 29ms/step - loss: 0.0220 - root_mean_squared_error: 0.1479 - mae: 0.0873 - val_loss: 0.0068 - val_root_mean_squared_error: 0.0827 - val_mae: 0.0613\n",
            "\n",
            "Epoch 00006: val_loss did not improve from 0.00667\n",
            "Epoch 7/50\n",
            "208/208 [==============================] - 6s 28ms/step - loss: 0.0244 - root_mean_squared_error: 0.1558 - mae: 0.0878 - val_loss: 0.0057 - val_root_mean_squared_error: 0.0756 - val_mae: 0.0565\n",
            "\n",
            "Epoch 00007: val_loss improved from 0.00667 to 0.00571, saving model to /content/drive/My Drive/Colab Notebooks/Thesis/best model/LSTMGA_update_best_mse_data10132.hdf5\n",
            "Epoch 8/50\n",
            "208/208 [==============================] - 6s 29ms/step - loss: 0.0198 - root_mean_squared_error: 0.1403 - mae: 0.0816 - val_loss: 0.0049 - val_root_mean_squared_error: 0.0703 - val_mae: 0.0523\n",
            "\n",
            "Epoch 00008: val_loss improved from 0.00571 to 0.00494, saving model to /content/drive/My Drive/Colab Notebooks/Thesis/best model/LSTMGA_update_best_mse_data10132.hdf5\n",
            "Epoch 9/50\n",
            "208/208 [==============================] - 6s 29ms/step - loss: 0.0220 - root_mean_squared_error: 0.1481 - mae: 0.0818 - val_loss: 0.0049 - val_root_mean_squared_error: 0.0699 - val_mae: 0.0525\n",
            "\n",
            "Epoch 00009: val_loss improved from 0.00494 to 0.00489, saving model to /content/drive/My Drive/Colab Notebooks/Thesis/best model/LSTMGA_update_best_mse_data10132.hdf5\n",
            "Epoch 10/50\n",
            "208/208 [==============================] - 6s 28ms/step - loss: 0.0194 - root_mean_squared_error: 0.1390 - mae: 0.0797 - val_loss: 0.0056 - val_root_mean_squared_error: 0.0750 - val_mae: 0.0556\n",
            "\n",
            "Epoch 00010: val_loss did not improve from 0.00489\n",
            "Epoch 11/50\n",
            "208/208 [==============================] - 6s 28ms/step - loss: 0.0203 - root_mean_squared_error: 0.1421 - mae: 0.0810 - val_loss: 0.0059 - val_root_mean_squared_error: 0.0766 - val_mae: 0.0622\n",
            "\n",
            "Epoch 00011: val_loss did not improve from 0.00489\n",
            "Epoch 12/50\n",
            "208/208 [==============================] - 6s 29ms/step - loss: 0.0125 - root_mean_squared_error: 0.1117 - mae: 0.0688 - val_loss: 0.0044 - val_root_mean_squared_error: 0.0660 - val_mae: 0.0497\n",
            "\n",
            "Epoch 00012: val_loss improved from 0.00489 to 0.00436, saving model to /content/drive/My Drive/Colab Notebooks/Thesis/best model/LSTMGA_update_best_mse_data10132.hdf5\n",
            "Epoch 13/50\n",
            "208/208 [==============================] - 6s 29ms/step - loss: 0.0147 - root_mean_squared_error: 0.1208 - mae: 0.0707 - val_loss: 0.0031 - val_root_mean_squared_error: 0.0560 - val_mae: 0.0411\n",
            "\n",
            "Epoch 00013: val_loss improved from 0.00436 to 0.00313, saving model to /content/drive/My Drive/Colab Notebooks/Thesis/best model/LSTMGA_update_best_mse_data10132.hdf5\n",
            "Epoch 14/50\n",
            "208/208 [==============================] - 6s 29ms/step - loss: 0.0105 - root_mean_squared_error: 0.1023 - mae: 0.0608 - val_loss: 0.0036 - val_root_mean_squared_error: 0.0599 - val_mae: 0.0440\n",
            "\n",
            "Epoch 00014: val_loss did not improve from 0.00313\n",
            "Epoch 15/50\n",
            "208/208 [==============================] - 6s 29ms/step - loss: 0.0101 - root_mean_squared_error: 0.1005 - mae: 0.0593 - val_loss: 0.0027 - val_root_mean_squared_error: 0.0519 - val_mae: 0.0369\n",
            "\n",
            "Epoch 00015: val_loss improved from 0.00313 to 0.00269, saving model to /content/drive/My Drive/Colab Notebooks/Thesis/best model/LSTMGA_update_best_mse_data10132.hdf5\n",
            "Epoch 16/50\n",
            "208/208 [==============================] - 6s 30ms/step - loss: 0.0085 - root_mean_squared_error: 0.0918 - mae: 0.0543 - val_loss: 0.0027 - val_root_mean_squared_error: 0.0522 - val_mae: 0.0373\n",
            "\n",
            "Epoch 00016: val_loss did not improve from 0.00269\n",
            "Epoch 17/50\n",
            "208/208 [==============================] - 6s 29ms/step - loss: 0.0089 - root_mean_squared_error: 0.0944 - mae: 0.0572 - val_loss: 0.0025 - val_root_mean_squared_error: 0.0504 - val_mae: 0.0360\n",
            "\n",
            "Epoch 00017: val_loss improved from 0.00269 to 0.00254, saving model to /content/drive/My Drive/Colab Notebooks/Thesis/best model/LSTMGA_update_best_mse_data10132.hdf5\n",
            "Epoch 18/50\n",
            "208/208 [==============================] - 6s 29ms/step - loss: 0.0079 - root_mean_squared_error: 0.0888 - mae: 0.0535 - val_loss: 0.0024 - val_root_mean_squared_error: 0.0491 - val_mae: 0.0348\n",
            "\n",
            "Epoch 00018: val_loss improved from 0.00254 to 0.00241, saving model to /content/drive/My Drive/Colab Notebooks/Thesis/best model/LSTMGA_update_best_mse_data10132.hdf5\n",
            "Epoch 19/50\n",
            "208/208 [==============================] - 6s 29ms/step - loss: 0.0066 - root_mean_squared_error: 0.0811 - mae: 0.0519 - val_loss: 0.0023 - val_root_mean_squared_error: 0.0482 - val_mae: 0.0337\n",
            "\n",
            "Epoch 00019: val_loss improved from 0.00241 to 0.00232, saving model to /content/drive/My Drive/Colab Notebooks/Thesis/best model/LSTMGA_update_best_mse_data10132.hdf5\n",
            "Epoch 20/50\n",
            "208/208 [==============================] - 6s 29ms/step - loss: 0.0065 - root_mean_squared_error: 0.0805 - mae: 0.0484 - val_loss: 0.0022 - val_root_mean_squared_error: 0.0474 - val_mae: 0.0327\n",
            "\n",
            "Epoch 00020: val_loss improved from 0.00232 to 0.00225, saving model to /content/drive/My Drive/Colab Notebooks/Thesis/best model/LSTMGA_update_best_mse_data10132.hdf5\n",
            "Epoch 21/50\n",
            "208/208 [==============================] - 6s 29ms/step - loss: 0.0067 - root_mean_squared_error: 0.0818 - mae: 0.0497 - val_loss: 0.0021 - val_root_mean_squared_error: 0.0459 - val_mae: 0.0316\n",
            "\n",
            "Epoch 00021: val_loss improved from 0.00225 to 0.00211, saving model to /content/drive/My Drive/Colab Notebooks/Thesis/best model/LSTMGA_update_best_mse_data10132.hdf5\n",
            "Epoch 22/50\n",
            "208/208 [==============================] - 6s 30ms/step - loss: 0.0076 - root_mean_squared_error: 0.0868 - mae: 0.0505 - val_loss: 0.0022 - val_root_mean_squared_error: 0.0467 - val_mae: 0.0319\n",
            "\n",
            "Epoch 00022: val_loss did not improve from 0.00211\n",
            "Epoch 23/50\n",
            "208/208 [==============================] - 6s 29ms/step - loss: 0.0063 - root_mean_squared_error: 0.0791 - mae: 0.0477 - val_loss: 0.0021 - val_root_mean_squared_error: 0.0457 - val_mae: 0.0314\n",
            "\n",
            "Epoch 00023: val_loss improved from 0.00211 to 0.00209, saving model to /content/drive/My Drive/Colab Notebooks/Thesis/best model/LSTMGA_update_best_mse_data10132.hdf5\n",
            "Epoch 24/50\n",
            "208/208 [==============================] - 6s 29ms/step - loss: 0.0062 - root_mean_squared_error: 0.0788 - mae: 0.0485 - val_loss: 0.0021 - val_root_mean_squared_error: 0.0457 - val_mae: 0.0311\n",
            "\n",
            "Epoch 00024: val_loss improved from 0.00209 to 0.00209, saving model to /content/drive/My Drive/Colab Notebooks/Thesis/best model/LSTMGA_update_best_mse_data10132.hdf5\n",
            "Epoch 25/50\n",
            "208/208 [==============================] - 6s 30ms/step - loss: 0.0066 - root_mean_squared_error: 0.0812 - mae: 0.0487 - val_loss: 0.0022 - val_root_mean_squared_error: 0.0465 - val_mae: 0.0313\n",
            "\n",
            "Epoch 00025: val_loss did not improve from 0.00209\n",
            "Epoch 26/50\n",
            "208/208 [==============================] - 6s 29ms/step - loss: 0.0062 - root_mean_squared_error: 0.0788 - mae: 0.0499 - val_loss: 0.0024 - val_root_mean_squared_error: 0.0493 - val_mae: 0.0347\n",
            "\n",
            "Epoch 00026: val_loss did not improve from 0.00209\n",
            "Epoch 27/50\n",
            "208/208 [==============================] - 6s 29ms/step - loss: 0.0055 - root_mean_squared_error: 0.0737 - mae: 0.0458 - val_loss: 0.0024 - val_root_mean_squared_error: 0.0487 - val_mae: 0.0334\n",
            "\n",
            "Epoch 00027: val_loss did not improve from 0.00209\n",
            "Epoch 28/50\n",
            "208/208 [==============================] - 6s 29ms/step - loss: 0.0044 - root_mean_squared_error: 0.0664 - mae: 0.0440 - val_loss: 0.0025 - val_root_mean_squared_error: 0.0503 - val_mae: 0.0343\n",
            "\n",
            "Epoch 00028: val_loss did not improve from 0.00209\n",
            "Epoch 29/50\n",
            "208/208 [==============================] - 6s 29ms/step - loss: 0.0041 - root_mean_squared_error: 0.0636 - mae: 0.0414 - val_loss: 0.0023 - val_root_mean_squared_error: 0.0477 - val_mae: 0.0329\n",
            "\n",
            "Epoch 00029: val_loss did not improve from 0.00209\n",
            "120/120 [==============================] - 1s 6ms/step - loss: 0.0021 - root_mean_squared_error: 0.0457 - mae: 0.0311\n"
          ],
          "name": "stdout"
        },
        {
          "output_type": "stream",
          "text": [
            "\r 50%|█████     | 3/6 [09:25<11:49, 236.60s/it]"
          ],
          "name": "stderr"
        },
        {
          "output_type": "stream",
          "text": [
            "{'n_neurons': 128, 'n_layers': 3, 'bs_double': 6, 'n_timewindow': 2}\n",
            "128\n",
            "Epoch 1/50\n",
            "104/104 [==============================] - 67s 605ms/step - loss: 0.8600 - root_mean_squared_error: 0.8920 - mae: 0.6063 - val_loss: 0.0142 - val_root_mean_squared_error: 0.1193 - val_mae: 0.1086\n",
            "\n",
            "Epoch 00001: val_loss improved from inf to 0.01423, saving model to /content/drive/My Drive/Colab Notebooks/Thesis/best model/LSTMGA_update_best_mse_data10164.hdf5\n",
            "Epoch 2/50\n",
            "104/104 [==============================] - 62s 599ms/step - loss: 0.3279 - root_mean_squared_error: 0.5688 - mae: 0.4029 - val_loss: 0.0691 - val_root_mean_squared_error: 0.2629 - val_mae: 0.2110\n",
            "\n",
            "Epoch 00002: val_loss did not improve from 0.01423\n",
            "Epoch 3/50\n",
            "104/104 [==============================] - 62s 592ms/step - loss: 0.2011 - root_mean_squared_error: 0.4478 - mae: 0.3125 - val_loss: 0.0217 - val_root_mean_squared_error: 0.1473 - val_mae: 0.1197\n",
            "\n",
            "Epoch 00003: val_loss did not improve from 0.01423\n",
            "Epoch 4/50\n",
            "104/104 [==============================] - 60s 581ms/step - loss: 0.0888 - root_mean_squared_error: 0.2975 - mae: 0.2133 - val_loss: 0.0423 - val_root_mean_squared_error: 0.2056 - val_mae: 0.1486\n",
            "\n",
            "Epoch 00004: val_loss did not improve from 0.01423\n",
            "Epoch 5/50\n",
            "104/104 [==============================] - 61s 586ms/step - loss: 0.0442 - root_mean_squared_error: 0.2103 - mae: 0.1458 - val_loss: 0.0511 - val_root_mean_squared_error: 0.2260 - val_mae: 0.1570\n",
            "\n",
            "Epoch 00005: val_loss did not improve from 0.01423\n",
            "Epoch 6/50\n",
            "104/104 [==============================] - 61s 589ms/step - loss: 0.0400 - root_mean_squared_error: 0.1996 - mae: 0.1414 - val_loss: 0.0241 - val_root_mean_squared_error: 0.1553 - val_mae: 0.1169\n",
            "\n",
            "Epoch 00006: val_loss did not improve from 0.01423\n",
            "120/120 [==============================] - 10s 79ms/step - loss: 0.0142 - root_mean_squared_error: 0.1193 - mae: 0.1086\n"
          ],
          "name": "stdout"
        },
        {
          "output_type": "stream",
          "text": [
            "\r 67%|██████▋   | 4/6 [15:54<09:24, 282.32s/it]"
          ],
          "name": "stderr"
        },
        {
          "output_type": "stream",
          "text": [
            "{'n_neurons': 64, 'n_layers': 3, 'bs_double': 5, 'n_timewindow': 1.5}\n",
            "64\n",
            "Epoch 1/50\n",
            "208/208 [==============================] - 25s 99ms/step - loss: 0.3890 - root_mean_squared_error: 0.5932 - mae: 0.4205 - val_loss: 0.0098 - val_root_mean_squared_error: 0.0992 - val_mae: 0.0655\n",
            "\n",
            "Epoch 00001: val_loss improved from inf to 0.00983, saving model to /content/drive/My Drive/Colab Notebooks/Thesis/best model/LSTMGA_update_best_mse_data10132.hdf5\n",
            "Epoch 2/50\n",
            "208/208 [==============================] - 20s 96ms/step - loss: 0.0505 - root_mean_squared_error: 0.2242 - mae: 0.1526 - val_loss: 0.0116 - val_root_mean_squared_error: 0.1076 - val_mae: 0.0770\n",
            "\n",
            "Epoch 00002: val_loss did not improve from 0.00983\n",
            "Epoch 3/50\n",
            "208/208 [==============================] - 20s 96ms/step - loss: 0.0341 - root_mean_squared_error: 0.1846 - mae: 0.1218 - val_loss: 0.0187 - val_root_mean_squared_error: 0.1366 - val_mae: 0.0946\n",
            "\n",
            "Epoch 00003: val_loss did not improve from 0.00983\n",
            "Epoch 4/50\n",
            "208/208 [==============================] - 20s 95ms/step - loss: 0.0283 - root_mean_squared_error: 0.1682 - mae: 0.1112 - val_loss: 0.0134 - val_root_mean_squared_error: 0.1159 - val_mae: 0.0933\n",
            "\n",
            "Epoch 00004: val_loss did not improve from 0.00983\n",
            "Epoch 5/50\n",
            "208/208 [==============================] - 20s 95ms/step - loss: 0.0268 - root_mean_squared_error: 0.1638 - mae: 0.1072 - val_loss: 0.0096 - val_root_mean_squared_error: 0.0981 - val_mae: 0.0759\n",
            "\n",
            "Epoch 00005: val_loss improved from 0.00983 to 0.00963, saving model to /content/drive/My Drive/Colab Notebooks/Thesis/best model/LSTMGA_update_best_mse_data10132.hdf5\n",
            "Epoch 6/50\n",
            "208/208 [==============================] - 20s 94ms/step - loss: 0.0218 - root_mean_squared_error: 0.1474 - mae: 0.0969 - val_loss: 0.0077 - val_root_mean_squared_error: 0.0880 - val_mae: 0.0660\n",
            "\n",
            "Epoch 00006: val_loss improved from 0.00963 to 0.00775, saving model to /content/drive/My Drive/Colab Notebooks/Thesis/best model/LSTMGA_update_best_mse_data10132.hdf5\n",
            "Epoch 7/50\n",
            "208/208 [==============================] - 19s 94ms/step - loss: 0.0245 - root_mean_squared_error: 0.1563 - mae: 0.0992 - val_loss: 0.0099 - val_root_mean_squared_error: 0.0993 - val_mae: 0.0738\n",
            "\n",
            "Epoch 00007: val_loss did not improve from 0.00775\n",
            "Epoch 8/50\n",
            "208/208 [==============================] - 20s 95ms/step - loss: 0.0218 - root_mean_squared_error: 0.1477 - mae: 0.0927 - val_loss: 0.0062 - val_root_mean_squared_error: 0.0785 - val_mae: 0.0564\n",
            "\n",
            "Epoch 00008: val_loss improved from 0.00775 to 0.00616, saving model to /content/drive/My Drive/Colab Notebooks/Thesis/best model/LSTMGA_update_best_mse_data10132.hdf5\n",
            "Epoch 9/50\n",
            "208/208 [==============================] - 20s 94ms/step - loss: 0.0210 - root_mean_squared_error: 0.1447 - mae: 0.0923 - val_loss: 0.0060 - val_root_mean_squared_error: 0.0771 - val_mae: 0.0569\n",
            "\n",
            "Epoch 00009: val_loss improved from 0.00616 to 0.00595, saving model to /content/drive/My Drive/Colab Notebooks/Thesis/best model/LSTMGA_update_best_mse_data10132.hdf5\n",
            "Epoch 10/50\n",
            "208/208 [==============================] - 20s 94ms/step - loss: 0.0185 - root_mean_squared_error: 0.1360 - mae: 0.0871 - val_loss: 0.0076 - val_root_mean_squared_error: 0.0872 - val_mae: 0.0633\n",
            "\n",
            "Epoch 00010: val_loss did not improve from 0.00595\n",
            "Epoch 11/50\n",
            "208/208 [==============================] - 20s 95ms/step - loss: 0.0200 - root_mean_squared_error: 0.1411 - mae: 0.0929 - val_loss: 0.0070 - val_root_mean_squared_error: 0.0839 - val_mae: 0.0609\n",
            "\n",
            "Epoch 00011: val_loss did not improve from 0.00595\n",
            "Epoch 12/50\n",
            "208/208 [==============================] - 20s 95ms/step - loss: 0.0160 - root_mean_squared_error: 0.1264 - mae: 0.0830 - val_loss: 0.0069 - val_root_mean_squared_error: 0.0833 - val_mae: 0.0642\n",
            "\n",
            "Epoch 00012: val_loss did not improve from 0.00595\n",
            "Epoch 13/50\n",
            "208/208 [==============================] - 20s 95ms/step - loss: 0.0155 - root_mean_squared_error: 0.1244 - mae: 0.0818 - val_loss: 0.0061 - val_root_mean_squared_error: 0.0779 - val_mae: 0.0574\n",
            "\n",
            "Epoch 00013: val_loss did not improve from 0.00595\n",
            "Epoch 14/50\n",
            "208/208 [==============================] - 20s 95ms/step - loss: 0.0148 - root_mean_squared_error: 0.1216 - mae: 0.0804 - val_loss: 0.0066 - val_root_mean_squared_error: 0.0811 - val_mae: 0.0564\n",
            "\n",
            "Epoch 00014: val_loss did not improve from 0.00595\n",
            "120/120 [==============================] - 3s 21ms/step - loss: 0.0060 - root_mean_squared_error: 0.0771 - mae: 0.0569\n"
          ],
          "name": "stdout"
        },
        {
          "output_type": "stream",
          "text": [
            "\r 83%|████████▎ | 5/6 [20:47<04:45, 285.52s/it]"
          ],
          "name": "stderr"
        },
        {
          "output_type": "stream",
          "text": [
            "{'n_neurons': 16, 'n_layers': 3, 'bs_double': 5, 'n_timewindow': 1.5}\n",
            "16\n",
            "Epoch 1/50\n",
            "208/208 [==============================] - 11s 31ms/step - loss: 0.2500 - root_mean_squared_error: 0.4652 - mae: 0.3127 - val_loss: 0.0352 - val_root_mean_squared_error: 0.1877 - val_mae: 0.1753\n",
            "\n",
            "Epoch 00001: val_loss improved from inf to 0.03521, saving model to /content/drive/My Drive/Colab Notebooks/Thesis/best model/LSTMGA_update_best_mse_data10132.hdf5\n",
            "Epoch 2/50\n",
            "208/208 [==============================] - 6s 28ms/step - loss: 0.0461 - root_mean_squared_error: 0.2145 - mae: 0.1330 - val_loss: 0.0235 - val_root_mean_squared_error: 0.1534 - val_mae: 0.1392\n",
            "\n",
            "Epoch 00002: val_loss improved from 0.03521 to 0.02354, saving model to /content/drive/My Drive/Colab Notebooks/Thesis/best model/LSTMGA_update_best_mse_data10132.hdf5\n",
            "Epoch 3/50\n",
            "208/208 [==============================] - 6s 28ms/step - loss: 0.0376 - root_mean_squared_error: 0.1934 - mae: 0.1146 - val_loss: 0.0111 - val_root_mean_squared_error: 0.1055 - val_mae: 0.0847\n",
            "\n",
            "Epoch 00003: val_loss improved from 0.02354 to 0.01114, saving model to /content/drive/My Drive/Colab Notebooks/Thesis/best model/LSTMGA_update_best_mse_data10132.hdf5\n",
            "Epoch 4/50\n",
            "208/208 [==============================] - 6s 28ms/step - loss: 0.0296 - root_mean_squared_error: 0.1714 - mae: 0.1008 - val_loss: 0.0109 - val_root_mean_squared_error: 0.1045 - val_mae: 0.0814\n",
            "\n",
            "Epoch 00004: val_loss improved from 0.01114 to 0.01093, saving model to /content/drive/My Drive/Colab Notebooks/Thesis/best model/LSTMGA_update_best_mse_data10132.hdf5\n",
            "Epoch 5/50\n",
            "208/208 [==============================] - 6s 28ms/step - loss: 0.0269 - root_mean_squared_error: 0.1638 - mae: 0.0912 - val_loss: 0.0067 - val_root_mean_squared_error: 0.0817 - val_mae: 0.0631\n",
            "\n",
            "Epoch 00005: val_loss improved from 0.01093 to 0.00667, saving model to /content/drive/My Drive/Colab Notebooks/Thesis/best model/LSTMGA_update_best_mse_data10132.hdf5\n",
            "Epoch 6/50\n",
            "208/208 [==============================] - 6s 29ms/step - loss: 0.0220 - root_mean_squared_error: 0.1479 - mae: 0.0873 - val_loss: 0.0068 - val_root_mean_squared_error: 0.0827 - val_mae: 0.0613\n",
            "\n",
            "Epoch 00006: val_loss did not improve from 0.00667\n",
            "Epoch 7/50\n",
            "208/208 [==============================] - 6s 29ms/step - loss: 0.0244 - root_mean_squared_error: 0.1558 - mae: 0.0878 - val_loss: 0.0057 - val_root_mean_squared_error: 0.0756 - val_mae: 0.0565\n",
            "\n",
            "Epoch 00007: val_loss improved from 0.00667 to 0.00571, saving model to /content/drive/My Drive/Colab Notebooks/Thesis/best model/LSTMGA_update_best_mse_data10132.hdf5\n",
            "Epoch 8/50\n",
            "208/208 [==============================] - 6s 29ms/step - loss: 0.0198 - root_mean_squared_error: 0.1403 - mae: 0.0816 - val_loss: 0.0049 - val_root_mean_squared_error: 0.0703 - val_mae: 0.0523\n",
            "\n",
            "Epoch 00008: val_loss improved from 0.00571 to 0.00494, saving model to /content/drive/My Drive/Colab Notebooks/Thesis/best model/LSTMGA_update_best_mse_data10132.hdf5\n",
            "Epoch 9/50\n",
            "208/208 [==============================] - 6s 30ms/step - loss: 0.0220 - root_mean_squared_error: 0.1481 - mae: 0.0818 - val_loss: 0.0049 - val_root_mean_squared_error: 0.0699 - val_mae: 0.0525\n",
            "\n",
            "Epoch 00009: val_loss improved from 0.00494 to 0.00489, saving model to /content/drive/My Drive/Colab Notebooks/Thesis/best model/LSTMGA_update_best_mse_data10132.hdf5\n",
            "Epoch 10/50\n",
            "208/208 [==============================] - 6s 28ms/step - loss: 0.0194 - root_mean_squared_error: 0.1390 - mae: 0.0797 - val_loss: 0.0056 - val_root_mean_squared_error: 0.0750 - val_mae: 0.0556\n",
            "\n",
            "Epoch 00010: val_loss did not improve from 0.00489\n",
            "Epoch 11/50\n",
            "208/208 [==============================] - 6s 29ms/step - loss: 0.0203 - root_mean_squared_error: 0.1421 - mae: 0.0810 - val_loss: 0.0059 - val_root_mean_squared_error: 0.0766 - val_mae: 0.0622\n",
            "\n",
            "Epoch 00011: val_loss did not improve from 0.00489\n",
            "Epoch 12/50\n",
            "208/208 [==============================] - 6s 30ms/step - loss: 0.0125 - root_mean_squared_error: 0.1117 - mae: 0.0688 - val_loss: 0.0044 - val_root_mean_squared_error: 0.0660 - val_mae: 0.0497\n",
            "\n",
            "Epoch 00012: val_loss improved from 0.00489 to 0.00436, saving model to /content/drive/My Drive/Colab Notebooks/Thesis/best model/LSTMGA_update_best_mse_data10132.hdf5\n",
            "Epoch 13/50\n",
            "208/208 [==============================] - 6s 29ms/step - loss: 0.0147 - root_mean_squared_error: 0.1208 - mae: 0.0707 - val_loss: 0.0031 - val_root_mean_squared_error: 0.0560 - val_mae: 0.0411\n",
            "\n",
            "Epoch 00013: val_loss improved from 0.00436 to 0.00313, saving model to /content/drive/My Drive/Colab Notebooks/Thesis/best model/LSTMGA_update_best_mse_data10132.hdf5\n",
            "Epoch 14/50\n",
            "208/208 [==============================] - 6s 29ms/step - loss: 0.0105 - root_mean_squared_error: 0.1023 - mae: 0.0608 - val_loss: 0.0036 - val_root_mean_squared_error: 0.0599 - val_mae: 0.0440\n",
            "\n",
            "Epoch 00014: val_loss did not improve from 0.00313\n",
            "Epoch 15/50\n",
            "208/208 [==============================] - 6s 29ms/step - loss: 0.0101 - root_mean_squared_error: 0.1005 - mae: 0.0593 - val_loss: 0.0027 - val_root_mean_squared_error: 0.0519 - val_mae: 0.0369\n",
            "\n",
            "Epoch 00015: val_loss improved from 0.00313 to 0.00269, saving model to /content/drive/My Drive/Colab Notebooks/Thesis/best model/LSTMGA_update_best_mse_data10132.hdf5\n",
            "Epoch 16/50\n",
            "208/208 [==============================] - 6s 28ms/step - loss: 0.0085 - root_mean_squared_error: 0.0918 - mae: 0.0543 - val_loss: 0.0027 - val_root_mean_squared_error: 0.0522 - val_mae: 0.0373\n",
            "\n",
            "Epoch 00016: val_loss did not improve from 0.00269\n",
            "Epoch 17/50\n",
            "208/208 [==============================] - 6s 28ms/step - loss: 0.0089 - root_mean_squared_error: 0.0944 - mae: 0.0572 - val_loss: 0.0025 - val_root_mean_squared_error: 0.0504 - val_mae: 0.0360\n",
            "\n",
            "Epoch 00017: val_loss improved from 0.00269 to 0.00254, saving model to /content/drive/My Drive/Colab Notebooks/Thesis/best model/LSTMGA_update_best_mse_data10132.hdf5\n",
            "Epoch 18/50\n",
            "208/208 [==============================] - 6s 28ms/step - loss: 0.0079 - root_mean_squared_error: 0.0888 - mae: 0.0535 - val_loss: 0.0024 - val_root_mean_squared_error: 0.0491 - val_mae: 0.0348\n",
            "\n",
            "Epoch 00018: val_loss improved from 0.00254 to 0.00241, saving model to /content/drive/My Drive/Colab Notebooks/Thesis/best model/LSTMGA_update_best_mse_data10132.hdf5\n",
            "Epoch 19/50\n",
            "208/208 [==============================] - 6s 28ms/step - loss: 0.0066 - root_mean_squared_error: 0.0811 - mae: 0.0519 - val_loss: 0.0023 - val_root_mean_squared_error: 0.0482 - val_mae: 0.0337\n",
            "\n",
            "Epoch 00019: val_loss improved from 0.00241 to 0.00232, saving model to /content/drive/My Drive/Colab Notebooks/Thesis/best model/LSTMGA_update_best_mse_data10132.hdf5\n",
            "Epoch 20/50\n",
            "208/208 [==============================] - 6s 28ms/step - loss: 0.0065 - root_mean_squared_error: 0.0805 - mae: 0.0484 - val_loss: 0.0022 - val_root_mean_squared_error: 0.0474 - val_mae: 0.0327\n",
            "\n",
            "Epoch 00020: val_loss improved from 0.00232 to 0.00225, saving model to /content/drive/My Drive/Colab Notebooks/Thesis/best model/LSTMGA_update_best_mse_data10132.hdf5\n",
            "Epoch 21/50\n",
            "208/208 [==============================] - 6s 29ms/step - loss: 0.0067 - root_mean_squared_error: 0.0818 - mae: 0.0497 - val_loss: 0.0021 - val_root_mean_squared_error: 0.0459 - val_mae: 0.0316\n",
            "\n",
            "Epoch 00021: val_loss improved from 0.00225 to 0.00211, saving model to /content/drive/My Drive/Colab Notebooks/Thesis/best model/LSTMGA_update_best_mse_data10132.hdf5\n",
            "Epoch 22/50\n",
            "208/208 [==============================] - 6s 28ms/step - loss: 0.0076 - root_mean_squared_error: 0.0868 - mae: 0.0505 - val_loss: 0.0022 - val_root_mean_squared_error: 0.0467 - val_mae: 0.0319\n",
            "\n",
            "Epoch 00022: val_loss did not improve from 0.00211\n",
            "Epoch 23/50\n",
            "208/208 [==============================] - 6s 28ms/step - loss: 0.0063 - root_mean_squared_error: 0.0791 - mae: 0.0477 - val_loss: 0.0021 - val_root_mean_squared_error: 0.0457 - val_mae: 0.0314\n",
            "\n",
            "Epoch 00023: val_loss improved from 0.00211 to 0.00209, saving model to /content/drive/My Drive/Colab Notebooks/Thesis/best model/LSTMGA_update_best_mse_data10132.hdf5\n",
            "Epoch 24/50\n",
            "208/208 [==============================] - 6s 28ms/step - loss: 0.0062 - root_mean_squared_error: 0.0788 - mae: 0.0485 - val_loss: 0.0021 - val_root_mean_squared_error: 0.0457 - val_mae: 0.0311\n",
            "\n",
            "Epoch 00024: val_loss improved from 0.00209 to 0.00209, saving model to /content/drive/My Drive/Colab Notebooks/Thesis/best model/LSTMGA_update_best_mse_data10132.hdf5\n",
            "Epoch 25/50\n",
            "208/208 [==============================] - 6s 28ms/step - loss: 0.0066 - root_mean_squared_error: 0.0812 - mae: 0.0487 - val_loss: 0.0022 - val_root_mean_squared_error: 0.0465 - val_mae: 0.0313\n",
            "\n",
            "Epoch 00025: val_loss did not improve from 0.00209\n",
            "Epoch 26/50\n",
            "208/208 [==============================] - 6s 28ms/step - loss: 0.0062 - root_mean_squared_error: 0.0788 - mae: 0.0499 - val_loss: 0.0024 - val_root_mean_squared_error: 0.0493 - val_mae: 0.0347\n",
            "\n",
            "Epoch 00026: val_loss did not improve from 0.00209\n",
            "Epoch 27/50\n",
            "208/208 [==============================] - 6s 28ms/step - loss: 0.0055 - root_mean_squared_error: 0.0737 - mae: 0.0458 - val_loss: 0.0024 - val_root_mean_squared_error: 0.0487 - val_mae: 0.0334\n",
            "\n",
            "Epoch 00027: val_loss did not improve from 0.00209\n",
            "Epoch 28/50\n",
            "208/208 [==============================] - 6s 28ms/step - loss: 0.0044 - root_mean_squared_error: 0.0664 - mae: 0.0440 - val_loss: 0.0025 - val_root_mean_squared_error: 0.0503 - val_mae: 0.0343\n",
            "\n",
            "Epoch 00028: val_loss did not improve from 0.00209\n",
            "Epoch 29/50\n",
            "208/208 [==============================] - 6s 28ms/step - loss: 0.0041 - root_mean_squared_error: 0.0636 - mae: 0.0414 - val_loss: 0.0023 - val_root_mean_squared_error: 0.0477 - val_mae: 0.0329\n",
            "\n",
            "Epoch 00029: val_loss did not improve from 0.00209\n",
            "120/120 [==============================] - 1s 6ms/step - loss: 0.0021 - root_mean_squared_error: 0.0457 - mae: 0.0311\n"
          ],
          "name": "stdout"
        },
        {
          "output_type": "stream",
          "text": [
            "100%|██████████| 6/6 [23:56<00:00, 239.38s/it]\n",
            "  0%|          | 0/10 [00:00<?, ?it/s]"
          ],
          "name": "stderr"
        },
        {
          "output_type": "stream",
          "text": [
            "[{'n_neurons': 16, 'n_layers': 3, 'bs_double': 6, 'n_timewindow': 2}, {'n_neurons': 16, 'n_layers': 2, 'bs_double': 5, 'n_timewindow': 1.5}, {'n_neurons': 16, 'n_layers': 2, 'bs_double': 5, 'n_timewindow': 2}, {'n_neurons': 16, 'n_layers': 3, 'bs_double': 5, 'n_timewindow': 2}, {'n_neurons': 16, 'n_layers': 3, 'bs_double': 7, 'n_timewindow': 2}, {'n_neurons': 16, 'n_layers': 2, 'bs_double': 7, 'n_timewindow': 2}, {'n_neurons': 16, 'n_layers': 4, 'bs_double': 6, 'n_timewindow': 1.5}, {'n_neurons': 16, 'n_layers': 2, 'bs_double': 9, 'n_timewindow': 2}, {'n_neurons': 128, 'n_layers': 2, 'bs_double': 5, 'n_timewindow': 2}, {'n_neurons': 16, 'n_layers': 2, 'bs_double': 6, 'n_timewindow': 2}]\n",
            "Iteration:  5\n",
            "{'n_neurons': 16, 'n_layers': 3, 'bs_double': 6, 'n_timewindow': 2}\n",
            "16\n",
            "Epoch 1/50\n",
            "104/104 [==============================] - 10s 52ms/step - loss: 0.2921 - root_mean_squared_error: 0.5076 - mae: 0.3355 - val_loss: 0.0186 - val_root_mean_squared_error: 0.1365 - val_mae: 0.1270\n",
            "\n",
            "Epoch 00001: val_loss improved from inf to 0.01864, saving model to /content/drive/My Drive/Colab Notebooks/Thesis/best model/LSTMGA_update_best_mse_data10164.hdf5\n",
            "Epoch 2/50\n",
            "104/104 [==============================] - 5s 46ms/step - loss: 0.0546 - root_mean_squared_error: 0.2332 - mae: 0.1444 - val_loss: 0.0219 - val_root_mean_squared_error: 0.1478 - val_mae: 0.1379\n",
            "\n",
            "Epoch 00002: val_loss did not improve from 0.01864\n",
            "Epoch 3/50\n",
            "104/104 [==============================] - 5s 44ms/step - loss: 0.0382 - root_mean_squared_error: 0.1949 - mae: 0.1193 - val_loss: 0.0294 - val_root_mean_squared_error: 0.1714 - val_mae: 0.1595\n",
            "\n",
            "Epoch 00003: val_loss did not improve from 0.01864\n",
            "Epoch 4/50\n",
            "104/104 [==============================] - 5s 44ms/step - loss: 0.0401 - root_mean_squared_error: 0.1989 - mae: 0.1131 - val_loss: 0.0233 - val_root_mean_squared_error: 0.1527 - val_mae: 0.1372\n",
            "\n",
            "Epoch 00004: val_loss did not improve from 0.01864\n",
            "Epoch 5/50\n",
            "104/104 [==============================] - 5s 45ms/step - loss: 0.0353 - root_mean_squared_error: 0.1871 - mae: 0.1058 - val_loss: 0.0143 - val_root_mean_squared_error: 0.1194 - val_mae: 0.1002\n",
            "\n",
            "Epoch 00005: val_loss improved from 0.01864 to 0.01427, saving model to /content/drive/My Drive/Colab Notebooks/Thesis/best model/LSTMGA_update_best_mse_data10164.hdf5\n",
            "Epoch 6/50\n",
            "104/104 [==============================] - 5s 45ms/step - loss: 0.0216 - root_mean_squared_error: 0.1469 - mae: 0.0904 - val_loss: 0.0089 - val_root_mean_squared_error: 0.0946 - val_mae: 0.0757\n",
            "\n",
            "Epoch 00006: val_loss improved from 0.01427 to 0.00895, saving model to /content/drive/My Drive/Colab Notebooks/Thesis/best model/LSTMGA_update_best_mse_data10164.hdf5\n",
            "Epoch 7/50\n",
            "104/104 [==============================] - 5s 45ms/step - loss: 0.0249 - root_mean_squared_error: 0.1575 - mae: 0.0894 - val_loss: 0.0073 - val_root_mean_squared_error: 0.0852 - val_mae: 0.0661\n",
            "\n",
            "Epoch 00007: val_loss improved from 0.00895 to 0.00725, saving model to /content/drive/My Drive/Colab Notebooks/Thesis/best model/LSTMGA_update_best_mse_data10164.hdf5\n",
            "Epoch 8/50\n",
            "104/104 [==============================] - 5s 45ms/step - loss: 0.0249 - root_mean_squared_error: 0.1577 - mae: 0.0873 - val_loss: 0.0071 - val_root_mean_squared_error: 0.0845 - val_mae: 0.0663\n",
            "\n",
            "Epoch 00008: val_loss improved from 0.00725 to 0.00714, saving model to /content/drive/My Drive/Colab Notebooks/Thesis/best model/LSTMGA_update_best_mse_data10164.hdf5\n",
            "Epoch 9/50\n",
            "104/104 [==============================] - 5s 44ms/step - loss: 0.0210 - root_mean_squared_error: 0.1448 - mae: 0.0824 - val_loss: 0.0065 - val_root_mean_squared_error: 0.0806 - val_mae: 0.0640\n",
            "\n",
            "Epoch 00009: val_loss improved from 0.00714 to 0.00649, saving model to /content/drive/My Drive/Colab Notebooks/Thesis/best model/LSTMGA_update_best_mse_data10164.hdf5\n",
            "Epoch 10/50\n",
            "104/104 [==============================] - 5s 45ms/step - loss: 0.0223 - root_mean_squared_error: 0.1482 - mae: 0.0813 - val_loss: 0.0054 - val_root_mean_squared_error: 0.0738 - val_mae: 0.0565\n",
            "\n",
            "Epoch 00010: val_loss improved from 0.00649 to 0.00545, saving model to /content/drive/My Drive/Colab Notebooks/Thesis/best model/LSTMGA_update_best_mse_data10164.hdf5\n",
            "Epoch 11/50\n",
            "104/104 [==============================] - 5s 45ms/step - loss: 0.0186 - root_mean_squared_error: 0.1359 - mae: 0.0778 - val_loss: 0.0046 - val_root_mean_squared_error: 0.0681 - val_mae: 0.0509\n",
            "\n",
            "Epoch 00011: val_loss improved from 0.00545 to 0.00464, saving model to /content/drive/My Drive/Colab Notebooks/Thesis/best model/LSTMGA_update_best_mse_data10164.hdf5\n",
            "Epoch 12/50\n",
            "104/104 [==============================] - 5s 44ms/step - loss: 0.0164 - root_mean_squared_error: 0.1275 - mae: 0.0714 - val_loss: 0.0047 - val_root_mean_squared_error: 0.0685 - val_mae: 0.0525\n",
            "\n",
            "Epoch 00012: val_loss did not improve from 0.00464\n",
            "Epoch 13/50\n",
            "104/104 [==============================] - 5s 45ms/step - loss: 0.0160 - root_mean_squared_error: 0.1263 - mae: 0.0718 - val_loss: 0.0042 - val_root_mean_squared_error: 0.0650 - val_mae: 0.0491\n",
            "\n",
            "Epoch 00013: val_loss improved from 0.00464 to 0.00422, saving model to /content/drive/My Drive/Colab Notebooks/Thesis/best model/LSTMGA_update_best_mse_data10164.hdf5\n",
            "Epoch 14/50\n",
            "104/104 [==============================] - 5s 45ms/step - loss: 0.0159 - root_mean_squared_error: 0.1257 - mae: 0.0705 - val_loss: 0.0038 - val_root_mean_squared_error: 0.0620 - val_mae: 0.0458\n",
            "\n",
            "Epoch 00014: val_loss improved from 0.00422 to 0.00384, saving model to /content/drive/My Drive/Colab Notebooks/Thesis/best model/LSTMGA_update_best_mse_data10164.hdf5\n",
            "Epoch 15/50\n",
            "104/104 [==============================] - 5s 45ms/step - loss: 0.0158 - root_mean_squared_error: 0.1256 - mae: 0.0700 - val_loss: 0.0037 - val_root_mean_squared_error: 0.0608 - val_mae: 0.0456\n",
            "\n",
            "Epoch 00015: val_loss improved from 0.00384 to 0.00369, saving model to /content/drive/My Drive/Colab Notebooks/Thesis/best model/LSTMGA_update_best_mse_data10164.hdf5\n",
            "Epoch 16/50\n",
            "104/104 [==============================] - 5s 44ms/step - loss: 0.0211 - root_mean_squared_error: 0.1446 - mae: 0.0749 - val_loss: 0.0035 - val_root_mean_squared_error: 0.0593 - val_mae: 0.0437\n",
            "\n",
            "Epoch 00016: val_loss improved from 0.00369 to 0.00351, saving model to /content/drive/My Drive/Colab Notebooks/Thesis/best model/LSTMGA_update_best_mse_data10164.hdf5\n",
            "Epoch 17/50\n",
            "104/104 [==============================] - 5s 45ms/step - loss: 0.0124 - root_mean_squared_error: 0.1110 - mae: 0.0637 - val_loss: 0.0033 - val_root_mean_squared_error: 0.0577 - val_mae: 0.0421\n",
            "\n",
            "Epoch 00017: val_loss improved from 0.00351 to 0.00333, saving model to /content/drive/My Drive/Colab Notebooks/Thesis/best model/LSTMGA_update_best_mse_data10164.hdf5\n",
            "Epoch 18/50\n",
            "104/104 [==============================] - 5s 46ms/step - loss: 0.0152 - root_mean_squared_error: 0.1225 - mae: 0.0674 - val_loss: 0.0033 - val_root_mean_squared_error: 0.0573 - val_mae: 0.0421\n",
            "\n",
            "Epoch 00018: val_loss improved from 0.00333 to 0.00328, saving model to /content/drive/My Drive/Colab Notebooks/Thesis/best model/LSTMGA_update_best_mse_data10164.hdf5\n",
            "Epoch 19/50\n",
            "104/104 [==============================] - 5s 45ms/step - loss: 0.0143 - root_mean_squared_error: 0.1196 - mae: 0.0647 - val_loss: 0.0032 - val_root_mean_squared_error: 0.0564 - val_mae: 0.0412\n",
            "\n",
            "Epoch 00019: val_loss improved from 0.00328 to 0.00318, saving model to /content/drive/My Drive/Colab Notebooks/Thesis/best model/LSTMGA_update_best_mse_data10164.hdf5\n",
            "Epoch 20/50\n",
            "104/104 [==============================] - 5s 45ms/step - loss: 0.0183 - root_mean_squared_error: 0.1347 - mae: 0.0695 - val_loss: 0.0044 - val_root_mean_squared_error: 0.0660 - val_mae: 0.0485\n",
            "\n",
            "Epoch 00020: val_loss did not improve from 0.00318\n",
            "Epoch 21/50\n",
            "104/104 [==============================] - 5s 45ms/step - loss: 0.0136 - root_mean_squared_error: 0.1163 - mae: 0.0662 - val_loss: 0.0036 - val_root_mean_squared_error: 0.0596 - val_mae: 0.0440\n",
            "\n",
            "Epoch 00021: val_loss did not improve from 0.00318\n",
            "Epoch 22/50\n",
            "104/104 [==============================] - 5s 45ms/step - loss: 0.0098 - root_mean_squared_error: 0.0988 - mae: 0.0582 - val_loss: 0.0041 - val_root_mean_squared_error: 0.0641 - val_mae: 0.0472\n",
            "\n",
            "Epoch 00022: val_loss did not improve from 0.00318\n",
            "Epoch 23/50\n",
            "104/104 [==============================] - 5s 45ms/step - loss: 0.0100 - root_mean_squared_error: 0.1000 - mae: 0.0570 - val_loss: 0.0029 - val_root_mean_squared_error: 0.0535 - val_mae: 0.0375\n",
            "\n",
            "Epoch 00023: val_loss improved from 0.00318 to 0.00286, saving model to /content/drive/My Drive/Colab Notebooks/Thesis/best model/LSTMGA_update_best_mse_data10164.hdf5\n",
            "Epoch 24/50\n",
            "104/104 [==============================] - 5s 45ms/step - loss: 0.0105 - root_mean_squared_error: 0.1017 - mae: 0.0545 - val_loss: 0.0027 - val_root_mean_squared_error: 0.0523 - val_mae: 0.0378\n",
            "\n",
            "Epoch 00024: val_loss improved from 0.00286 to 0.00273, saving model to /content/drive/My Drive/Colab Notebooks/Thesis/best model/LSTMGA_update_best_mse_data10164.hdf5\n",
            "Epoch 25/50\n",
            "104/104 [==============================] - 5s 45ms/step - loss: 0.0089 - root_mean_squared_error: 0.0939 - mae: 0.0530 - val_loss: 0.0025 - val_root_mean_squared_error: 0.0500 - val_mae: 0.0356\n",
            "\n",
            "Epoch 00025: val_loss improved from 0.00273 to 0.00250, saving model to /content/drive/My Drive/Colab Notebooks/Thesis/best model/LSTMGA_update_best_mse_data10164.hdf5\n",
            "Epoch 26/50\n",
            "104/104 [==============================] - 5s 45ms/step - loss: 0.0081 - root_mean_squared_error: 0.0900 - mae: 0.0522 - val_loss: 0.0031 - val_root_mean_squared_error: 0.0560 - val_mae: 0.0408\n",
            "\n",
            "Epoch 00026: val_loss did not improve from 0.00250\n",
            "Epoch 27/50\n",
            "104/104 [==============================] - 5s 45ms/step - loss: 0.0070 - root_mean_squared_error: 0.0834 - mae: 0.0490 - val_loss: 0.0031 - val_root_mean_squared_error: 0.0561 - val_mae: 0.0408\n",
            "\n",
            "Epoch 00027: val_loss did not improve from 0.00250\n",
            "Epoch 28/50\n",
            "104/104 [==============================] - 5s 44ms/step - loss: 0.0070 - root_mean_squared_error: 0.0837 - mae: 0.0478 - val_loss: 0.0022 - val_root_mean_squared_error: 0.0466 - val_mae: 0.0330\n",
            "\n",
            "Epoch 00028: val_loss improved from 0.00250 to 0.00217, saving model to /content/drive/My Drive/Colab Notebooks/Thesis/best model/LSTMGA_update_best_mse_data10164.hdf5\n",
            "Epoch 29/50\n",
            "104/104 [==============================] - 5s 45ms/step - loss: 0.0065 - root_mean_squared_error: 0.0801 - mae: 0.0460 - val_loss: 0.0022 - val_root_mean_squared_error: 0.0467 - val_mae: 0.0331\n",
            "\n",
            "Epoch 00029: val_loss did not improve from 0.00217\n",
            "Epoch 30/50\n",
            "104/104 [==============================] - 5s 46ms/step - loss: 0.0066 - root_mean_squared_error: 0.0810 - mae: 0.0455 - val_loss: 0.0021 - val_root_mean_squared_error: 0.0460 - val_mae: 0.0319\n",
            "\n",
            "Epoch 00030: val_loss improved from 0.00217 to 0.00211, saving model to /content/drive/My Drive/Colab Notebooks/Thesis/best model/LSTMGA_update_best_mse_data10164.hdf5\n",
            "Epoch 31/50\n",
            "104/104 [==============================] - 5s 46ms/step - loss: 0.0062 - root_mean_squared_error: 0.0784 - mae: 0.0454 - val_loss: 0.0020 - val_root_mean_squared_error: 0.0451 - val_mae: 0.0305\n",
            "\n",
            "Epoch 00031: val_loss improved from 0.00211 to 0.00204, saving model to /content/drive/My Drive/Colab Notebooks/Thesis/best model/LSTMGA_update_best_mse_data10164.hdf5\n",
            "Epoch 32/50\n",
            "104/104 [==============================] - 5s 45ms/step - loss: 0.0049 - root_mean_squared_error: 0.0702 - mae: 0.0432 - val_loss: 0.0021 - val_root_mean_squared_error: 0.0454 - val_mae: 0.0312\n",
            "\n",
            "Epoch 00032: val_loss did not improve from 0.00204\n",
            "Epoch 33/50\n",
            "104/104 [==============================] - 5s 47ms/step - loss: 0.0049 - root_mean_squared_error: 0.0698 - mae: 0.0414 - val_loss: 0.0021 - val_root_mean_squared_error: 0.0453 - val_mae: 0.0310\n",
            "\n",
            "Epoch 00033: val_loss did not improve from 0.00204\n",
            "Epoch 34/50\n",
            "104/104 [==============================] - 5s 46ms/step - loss: 0.0071 - root_mean_squared_error: 0.0840 - mae: 0.0451 - val_loss: 0.0020 - val_root_mean_squared_error: 0.0446 - val_mae: 0.0304\n",
            "\n",
            "Epoch 00034: val_loss improved from 0.00204 to 0.00199, saving model to /content/drive/My Drive/Colab Notebooks/Thesis/best model/LSTMGA_update_best_mse_data10164.hdf5\n",
            "Epoch 35/50\n",
            "104/104 [==============================] - 5s 45ms/step - loss: 0.0050 - root_mean_squared_error: 0.0706 - mae: 0.0419 - val_loss: 0.0020 - val_root_mean_squared_error: 0.0452 - val_mae: 0.0310\n",
            "\n",
            "Epoch 00035: val_loss did not improve from 0.00199\n",
            "Epoch 36/50\n",
            "104/104 [==============================] - 5s 46ms/step - loss: 0.0054 - root_mean_squared_error: 0.0734 - mae: 0.0422 - val_loss: 0.0019 - val_root_mean_squared_error: 0.0438 - val_mae: 0.0301\n",
            "\n",
            "Epoch 00036: val_loss improved from 0.00199 to 0.00192, saving model to /content/drive/My Drive/Colab Notebooks/Thesis/best model/LSTMGA_update_best_mse_data10164.hdf5\n",
            "Epoch 37/50\n",
            "104/104 [==============================] - 5s 46ms/step - loss: 0.0052 - root_mean_squared_error: 0.0717 - mae: 0.0414 - val_loss: 0.0020 - val_root_mean_squared_error: 0.0445 - val_mae: 0.0310\n",
            "\n",
            "Epoch 00037: val_loss did not improve from 0.00192\n",
            "Epoch 38/50\n",
            "104/104 [==============================] - 5s 45ms/step - loss: 0.0050 - root_mean_squared_error: 0.0706 - mae: 0.0414 - val_loss: 0.0020 - val_root_mean_squared_error: 0.0442 - val_mae: 0.0299\n",
            "\n",
            "Epoch 00038: val_loss did not improve from 0.00192\n",
            "Epoch 39/50\n",
            "104/104 [==============================] - 5s 46ms/step - loss: 0.0048 - root_mean_squared_error: 0.0694 - mae: 0.0407 - val_loss: 0.0019 - val_root_mean_squared_error: 0.0433 - val_mae: 0.0291\n",
            "\n",
            "Epoch 00039: val_loss improved from 0.00192 to 0.00187, saving model to /content/drive/My Drive/Colab Notebooks/Thesis/best model/LSTMGA_update_best_mse_data10164.hdf5\n",
            "Epoch 40/50\n",
            "104/104 [==============================] - 5s 47ms/step - loss: 0.0040 - root_mean_squared_error: 0.0635 - mae: 0.0390 - val_loss: 0.0020 - val_root_mean_squared_error: 0.0446 - val_mae: 0.0304\n",
            "\n",
            "Epoch 00040: val_loss did not improve from 0.00187\n",
            "Epoch 41/50\n",
            "104/104 [==============================] - 5s 46ms/step - loss: 0.0046 - root_mean_squared_error: 0.0674 - mae: 0.0402 - val_loss: 0.0019 - val_root_mean_squared_error: 0.0434 - val_mae: 0.0293\n",
            "\n",
            "Epoch 00041: val_loss did not improve from 0.00187\n",
            "Epoch 42/50\n",
            "104/104 [==============================] - 5s 45ms/step - loss: 0.0045 - root_mean_squared_error: 0.0669 - mae: 0.0392 - val_loss: 0.0019 - val_root_mean_squared_error: 0.0433 - val_mae: 0.0290\n",
            "\n",
            "Epoch 00042: val_loss improved from 0.00187 to 0.00187, saving model to /content/drive/My Drive/Colab Notebooks/Thesis/best model/LSTMGA_update_best_mse_data10164.hdf5\n",
            "Epoch 43/50\n",
            "104/104 [==============================] - 5s 46ms/step - loss: 0.0043 - root_mean_squared_error: 0.0658 - mae: 0.0387 - val_loss: 0.0018 - val_root_mean_squared_error: 0.0428 - val_mae: 0.0286\n",
            "\n",
            "Epoch 00043: val_loss improved from 0.00187 to 0.00183, saving model to /content/drive/My Drive/Colab Notebooks/Thesis/best model/LSTMGA_update_best_mse_data10164.hdf5\n",
            "Epoch 44/50\n",
            "104/104 [==============================] - 5s 45ms/step - loss: 0.0045 - root_mean_squared_error: 0.0669 - mae: 0.0390 - val_loss: 0.0019 - val_root_mean_squared_error: 0.0433 - val_mae: 0.0290\n",
            "\n",
            "Epoch 00044: val_loss did not improve from 0.00183\n",
            "Epoch 45/50\n",
            "104/104 [==============================] - 5s 45ms/step - loss: 0.0041 - root_mean_squared_error: 0.0642 - mae: 0.0388 - val_loss: 0.0019 - val_root_mean_squared_error: 0.0433 - val_mae: 0.0290\n",
            "\n",
            "Epoch 00045: val_loss did not improve from 0.00183\n",
            "Epoch 46/50\n",
            "104/104 [==============================] - 5s 45ms/step - loss: 0.0039 - root_mean_squared_error: 0.0625 - mae: 0.0381 - val_loss: 0.0019 - val_root_mean_squared_error: 0.0433 - val_mae: 0.0291\n",
            "\n",
            "Epoch 00046: val_loss did not improve from 0.00183\n",
            "Epoch 47/50\n",
            "104/104 [==============================] - 5s 47ms/step - loss: 0.0042 - root_mean_squared_error: 0.0651 - mae: 0.0393 - val_loss: 0.0019 - val_root_mean_squared_error: 0.0433 - val_mae: 0.0291\n",
            "\n",
            "Epoch 00047: val_loss did not improve from 0.00183\n",
            "Epoch 48/50\n",
            "104/104 [==============================] - 5s 45ms/step - loss: 0.0039 - root_mean_squared_error: 0.0622 - mae: 0.0384 - val_loss: 0.0018 - val_root_mean_squared_error: 0.0428 - val_mae: 0.0288\n",
            "\n",
            "Epoch 00048: val_loss did not improve from 0.00183\n",
            "120/120 [==============================] - 1s 7ms/step - loss: 0.0018 - root_mean_squared_error: 0.0428 - mae: 0.0286\n"
          ],
          "name": "stdout"
        },
        {
          "output_type": "stream",
          "text": [
            "\r 10%|█         | 1/10 [04:04<36:37, 244.17s/it]"
          ],
          "name": "stderr"
        },
        {
          "output_type": "stream",
          "text": [
            "{'n_neurons': 16, 'n_layers': 2, 'bs_double': 5, 'n_timewindow': 1.5}\n",
            "16\n",
            "Epoch 1/50\n",
            "208/208 [==============================] - 7s 19ms/step - loss: 0.3483 - root_mean_squared_error: 0.5415 - mae: 0.3699 - val_loss: 0.0134 - val_root_mean_squared_error: 0.1156 - val_mae: 0.0747\n",
            "\n",
            "Epoch 00001: val_loss improved from inf to 0.01335, saving model to /content/drive/My Drive/Colab Notebooks/Thesis/best model/LSTMGA_update_best_mse_data10132.hdf5\n",
            "Epoch 2/50\n",
            "208/208 [==============================] - 4s 17ms/step - loss: 0.0395 - root_mean_squared_error: 0.1987 - mae: 0.1352 - val_loss: 0.0214 - val_root_mean_squared_error: 0.1462 - val_mae: 0.1116\n",
            "\n",
            "Epoch 00002: val_loss did not improve from 0.01335\n",
            "Epoch 3/50\n",
            "208/208 [==============================] - 4s 17ms/step - loss: 0.0272 - root_mean_squared_error: 0.1649 - mae: 0.1076 - val_loss: 0.0122 - val_root_mean_squared_error: 0.1106 - val_mae: 0.0857\n",
            "\n",
            "Epoch 00003: val_loss improved from 0.01335 to 0.01224, saving model to /content/drive/My Drive/Colab Notebooks/Thesis/best model/LSTMGA_update_best_mse_data10132.hdf5\n",
            "Epoch 4/50\n",
            "208/208 [==============================] - 3s 17ms/step - loss: 0.0174 - root_mean_squared_error: 0.1317 - mae: 0.0868 - val_loss: 0.0054 - val_root_mean_squared_error: 0.0733 - val_mae: 0.0542\n",
            "\n",
            "Epoch 00004: val_loss improved from 0.01224 to 0.00537, saving model to /content/drive/My Drive/Colab Notebooks/Thesis/best model/LSTMGA_update_best_mse_data10132.hdf5\n",
            "Epoch 5/50\n",
            "208/208 [==============================] - 3s 17ms/step - loss: 0.0179 - root_mean_squared_error: 0.1335 - mae: 0.0824 - val_loss: 0.0042 - val_root_mean_squared_error: 0.0651 - val_mae: 0.0468\n",
            "\n",
            "Epoch 00005: val_loss improved from 0.00537 to 0.00423, saving model to /content/drive/My Drive/Colab Notebooks/Thesis/best model/LSTMGA_update_best_mse_data10132.hdf5\n",
            "Epoch 6/50\n",
            "208/208 [==============================] - 4s 17ms/step - loss: 0.0144 - root_mean_squared_error: 0.1200 - mae: 0.0747 - val_loss: 0.0044 - val_root_mean_squared_error: 0.0663 - val_mae: 0.0493\n",
            "\n",
            "Epoch 00006: val_loss did not improve from 0.00423\n",
            "Epoch 7/50\n",
            "208/208 [==============================] - 4s 17ms/step - loss: 0.0124 - root_mean_squared_error: 0.1110 - mae: 0.0696 - val_loss: 0.0032 - val_root_mean_squared_error: 0.0570 - val_mae: 0.0405\n",
            "\n",
            "Epoch 00007: val_loss improved from 0.00423 to 0.00325, saving model to /content/drive/My Drive/Colab Notebooks/Thesis/best model/LSTMGA_update_best_mse_data10132.hdf5\n",
            "Epoch 8/50\n",
            "208/208 [==============================] - 3s 17ms/step - loss: 0.0111 - root_mean_squared_error: 0.1054 - mae: 0.0670 - val_loss: 0.0036 - val_root_mean_squared_error: 0.0602 - val_mae: 0.0441\n",
            "\n",
            "Epoch 00008: val_loss did not improve from 0.00325\n",
            "Epoch 9/50\n",
            "208/208 [==============================] - 4s 17ms/step - loss: 0.0095 - root_mean_squared_error: 0.0973 - mae: 0.0639 - val_loss: 0.0030 - val_root_mean_squared_error: 0.0546 - val_mae: 0.0390\n",
            "\n",
            "Epoch 00009: val_loss improved from 0.00325 to 0.00298, saving model to /content/drive/My Drive/Colab Notebooks/Thesis/best model/LSTMGA_update_best_mse_data10132.hdf5\n",
            "Epoch 10/50\n",
            "208/208 [==============================] - 3s 17ms/step - loss: 0.0102 - root_mean_squared_error: 0.1008 - mae: 0.0642 - val_loss: 0.0045 - val_root_mean_squared_error: 0.0671 - val_mae: 0.0503\n",
            "\n",
            "Epoch 00010: val_loss did not improve from 0.00298\n",
            "Epoch 11/50\n",
            "208/208 [==============================] - 3s 17ms/step - loss: 0.0097 - root_mean_squared_error: 0.0985 - mae: 0.0647 - val_loss: 0.0045 - val_root_mean_squared_error: 0.0673 - val_mae: 0.0499\n",
            "\n",
            "Epoch 00011: val_loss did not improve from 0.00298\n",
            "Epoch 12/50\n",
            "208/208 [==============================] - 3s 17ms/step - loss: 0.0068 - root_mean_squared_error: 0.0822 - mae: 0.0567 - val_loss: 0.0044 - val_root_mean_squared_error: 0.0663 - val_mae: 0.0516\n",
            "\n",
            "Epoch 00012: val_loss did not improve from 0.00298\n",
            "Epoch 13/50\n",
            "208/208 [==============================] - 3s 17ms/step - loss: 0.0062 - root_mean_squared_error: 0.0786 - mae: 0.0529 - val_loss: 0.0026 - val_root_mean_squared_error: 0.0510 - val_mae: 0.0361\n",
            "\n",
            "Epoch 00013: val_loss improved from 0.00298 to 0.00260, saving model to /content/drive/My Drive/Colab Notebooks/Thesis/best model/LSTMGA_update_best_mse_data10132.hdf5\n",
            "Epoch 14/50\n",
            "208/208 [==============================] - 3s 16ms/step - loss: 0.0050 - root_mean_squared_error: 0.0708 - mae: 0.0477 - val_loss: 0.0028 - val_root_mean_squared_error: 0.0526 - val_mae: 0.0377\n",
            "\n",
            "Epoch 00014: val_loss did not improve from 0.00260\n",
            "Epoch 15/50\n",
            "208/208 [==============================] - 3s 17ms/step - loss: 0.0041 - root_mean_squared_error: 0.0639 - mae: 0.0435 - val_loss: 0.0023 - val_root_mean_squared_error: 0.0474 - val_mae: 0.0329\n",
            "\n",
            "Epoch 00015: val_loss improved from 0.00260 to 0.00225, saving model to /content/drive/My Drive/Colab Notebooks/Thesis/best model/LSTMGA_update_best_mse_data10132.hdf5\n",
            "Epoch 16/50\n",
            "208/208 [==============================] - 4s 18ms/step - loss: 0.0038 - root_mean_squared_error: 0.0615 - mae: 0.0425 - val_loss: 0.0024 - val_root_mean_squared_error: 0.0485 - val_mae: 0.0329\n",
            "\n",
            "Epoch 00016: val_loss did not improve from 0.00225\n",
            "Epoch 17/50\n",
            "208/208 [==============================] - 3s 17ms/step - loss: 0.0039 - root_mean_squared_error: 0.0622 - mae: 0.0427 - val_loss: 0.0025 - val_root_mean_squared_error: 0.0496 - val_mae: 0.0349\n",
            "\n",
            "Epoch 00017: val_loss did not improve from 0.00225\n",
            "Epoch 18/50\n",
            "208/208 [==============================] - 3s 17ms/step - loss: 0.0034 - root_mean_squared_error: 0.0583 - mae: 0.0397 - val_loss: 0.0022 - val_root_mean_squared_error: 0.0466 - val_mae: 0.0314\n",
            "\n",
            "Epoch 00018: val_loss improved from 0.00225 to 0.00217, saving model to /content/drive/My Drive/Colab Notebooks/Thesis/best model/LSTMGA_update_best_mse_data10132.hdf5\n",
            "Epoch 19/50\n",
            "208/208 [==============================] - 3s 16ms/step - loss: 0.0035 - root_mean_squared_error: 0.0594 - mae: 0.0407 - val_loss: 0.0021 - val_root_mean_squared_error: 0.0461 - val_mae: 0.0319\n",
            "\n",
            "Epoch 00019: val_loss improved from 0.00217 to 0.00212, saving model to /content/drive/My Drive/Colab Notebooks/Thesis/best model/LSTMGA_update_best_mse_data10132.hdf5\n",
            "Epoch 20/50\n",
            "208/208 [==============================] - 3s 17ms/step - loss: 0.0029 - root_mean_squared_error: 0.0537 - mae: 0.0374 - val_loss: 0.0022 - val_root_mean_squared_error: 0.0464 - val_mae: 0.0315\n",
            "\n",
            "Epoch 00020: val_loss did not improve from 0.00212\n",
            "Epoch 21/50\n",
            "208/208 [==============================] - 3s 17ms/step - loss: 0.0036 - root_mean_squared_error: 0.0601 - mae: 0.0394 - val_loss: 0.0019 - val_root_mean_squared_error: 0.0440 - val_mae: 0.0295\n",
            "\n",
            "Epoch 00021: val_loss improved from 0.00212 to 0.00194, saving model to /content/drive/My Drive/Colab Notebooks/Thesis/best model/LSTMGA_update_best_mse_data10132.hdf5\n",
            "Epoch 22/50\n",
            "208/208 [==============================] - 3s 17ms/step - loss: 0.0032 - root_mean_squared_error: 0.0561 - mae: 0.0381 - val_loss: 0.0020 - val_root_mean_squared_error: 0.0448 - val_mae: 0.0298\n",
            "\n",
            "Epoch 00022: val_loss did not improve from 0.00194\n",
            "Epoch 23/50\n",
            "208/208 [==============================] - 3s 17ms/step - loss: 0.0033 - root_mean_squared_error: 0.0574 - mae: 0.0381 - val_loss: 0.0019 - val_root_mean_squared_error: 0.0434 - val_mae: 0.0291\n",
            "\n",
            "Epoch 00023: val_loss improved from 0.00194 to 0.00188, saving model to /content/drive/My Drive/Colab Notebooks/Thesis/best model/LSTMGA_update_best_mse_data10132.hdf5\n",
            "Epoch 24/50\n",
            "208/208 [==============================] - 3s 17ms/step - loss: 0.0031 - root_mean_squared_error: 0.0552 - mae: 0.0381 - val_loss: 0.0020 - val_root_mean_squared_error: 0.0444 - val_mae: 0.0295\n",
            "\n",
            "Epoch 00024: val_loss did not improve from 0.00188\n",
            "Epoch 25/50\n",
            "208/208 [==============================] - 3s 17ms/step - loss: 0.0033 - root_mean_squared_error: 0.0575 - mae: 0.0394 - val_loss: 0.0023 - val_root_mean_squared_error: 0.0477 - val_mae: 0.0336\n",
            "\n",
            "Epoch 00025: val_loss did not improve from 0.00188\n",
            "Epoch 26/50\n",
            "208/208 [==============================] - 4s 17ms/step - loss: 0.0039 - root_mean_squared_error: 0.0622 - mae: 0.0420 - val_loss: 0.0021 - val_root_mean_squared_error: 0.0461 - val_mae: 0.0303\n",
            "\n",
            "Epoch 00026: val_loss did not improve from 0.00188\n",
            "Epoch 27/50\n",
            "208/208 [==============================] - 3s 17ms/step - loss: 0.0033 - root_mean_squared_error: 0.0571 - mae: 0.0388 - val_loss: 0.0023 - val_root_mean_squared_error: 0.0475 - val_mae: 0.0325\n",
            "\n",
            "Epoch 00027: val_loss did not improve from 0.00188\n",
            "Epoch 28/50\n",
            "208/208 [==============================] - 4s 17ms/step - loss: 0.0031 - root_mean_squared_error: 0.0552 - mae: 0.0371 - val_loss: 0.0023 - val_root_mean_squared_error: 0.0482 - val_mae: 0.0319\n",
            "\n",
            "Epoch 00028: val_loss did not improve from 0.00188\n",
            "120/120 [==============================] - 1s 4ms/step - loss: 0.0019 - root_mean_squared_error: 0.0434 - mae: 0.0291\n"
          ],
          "name": "stdout"
        },
        {
          "output_type": "stream",
          "text": [
            "\r 20%|██        | 2/10 [05:53<27:09, 203.65s/it]"
          ],
          "name": "stderr"
        },
        {
          "output_type": "stream",
          "text": [
            "{'n_neurons': 16, 'n_layers': 2, 'bs_double': 5, 'n_timewindow': 2}\n",
            "16\n",
            "Epoch 1/50\n",
            "208/208 [==============================] - 8s 24ms/step - loss: 0.3829 - root_mean_squared_error: 0.5631 - mae: 0.3789 - val_loss: 0.0118 - val_root_mean_squared_error: 0.1085 - val_mae: 0.0693\n",
            "\n",
            "Epoch 00001: val_loss improved from inf to 0.01177, saving model to /content/drive/My Drive/Colab Notebooks/Thesis/best model/LSTMGA_update_best_mse_data10132.hdf5\n",
            "Epoch 2/50\n",
            "208/208 [==============================] - 5s 22ms/step - loss: 0.0382 - root_mean_squared_error: 0.1952 - mae: 0.1316 - val_loss: 0.0161 - val_root_mean_squared_error: 0.1268 - val_mae: 0.0930\n",
            "\n",
            "Epoch 00002: val_loss did not improve from 0.01177\n",
            "Epoch 3/50\n",
            "208/208 [==============================] - 5s 22ms/step - loss: 0.0272 - root_mean_squared_error: 0.1647 - mae: 0.1064 - val_loss: 0.0127 - val_root_mean_squared_error: 0.1127 - val_mae: 0.0859\n",
            "\n",
            "Epoch 00003: val_loss did not improve from 0.01177\n",
            "Epoch 4/50\n",
            "208/208 [==============================] - 4s 21ms/step - loss: 0.0194 - root_mean_squared_error: 0.1392 - mae: 0.0878 - val_loss: 0.0067 - val_root_mean_squared_error: 0.0819 - val_mae: 0.0604\n",
            "\n",
            "Epoch 00004: val_loss improved from 0.01177 to 0.00670, saving model to /content/drive/My Drive/Colab Notebooks/Thesis/best model/LSTMGA_update_best_mse_data10132.hdf5\n",
            "Epoch 5/50\n",
            "208/208 [==============================] - 4s 21ms/step - loss: 0.0182 - root_mean_squared_error: 0.1349 - mae: 0.0834 - val_loss: 0.0078 - val_root_mean_squared_error: 0.0882 - val_mae: 0.0672\n",
            "\n",
            "Epoch 00005: val_loss did not improve from 0.00670\n",
            "Epoch 6/50\n",
            "208/208 [==============================] - 5s 22ms/step - loss: 0.0138 - root_mean_squared_error: 0.1173 - mae: 0.0737 - val_loss: 0.0053 - val_root_mean_squared_error: 0.0727 - val_mae: 0.0538\n",
            "\n",
            "Epoch 00006: val_loss improved from 0.00670 to 0.00529, saving model to /content/drive/My Drive/Colab Notebooks/Thesis/best model/LSTMGA_update_best_mse_data10132.hdf5\n",
            "Epoch 7/50\n",
            "208/208 [==============================] - 5s 22ms/step - loss: 0.0139 - root_mean_squared_error: 0.1173 - mae: 0.0725 - val_loss: 0.0047 - val_root_mean_squared_error: 0.0684 - val_mae: 0.0496\n",
            "\n",
            "Epoch 00007: val_loss improved from 0.00529 to 0.00468, saving model to /content/drive/My Drive/Colab Notebooks/Thesis/best model/LSTMGA_update_best_mse_data10132.hdf5\n",
            "Epoch 8/50\n",
            "208/208 [==============================] - 4s 21ms/step - loss: 0.0098 - root_mean_squared_error: 0.0991 - mae: 0.0649 - val_loss: 0.0037 - val_root_mean_squared_error: 0.0608 - val_mae: 0.0440\n",
            "\n",
            "Epoch 00008: val_loss improved from 0.00468 to 0.00370, saving model to /content/drive/My Drive/Colab Notebooks/Thesis/best model/LSTMGA_update_best_mse_data10132.hdf5\n",
            "Epoch 9/50\n",
            "208/208 [==============================] - 4s 21ms/step - loss: 0.0095 - root_mean_squared_error: 0.0976 - mae: 0.0628 - val_loss: 0.0040 - val_root_mean_squared_error: 0.0636 - val_mae: 0.0460\n",
            "\n",
            "Epoch 00009: val_loss did not improve from 0.00370\n",
            "Epoch 10/50\n",
            "208/208 [==============================] - 4s 21ms/step - loss: 0.0101 - root_mean_squared_error: 0.1002 - mae: 0.0631 - val_loss: 0.0052 - val_root_mean_squared_error: 0.0724 - val_mae: 0.0538\n",
            "\n",
            "Epoch 00010: val_loss did not improve from 0.00370\n",
            "Epoch 11/50\n",
            "208/208 [==============================] - 4s 22ms/step - loss: 0.0101 - root_mean_squared_error: 0.0993 - mae: 0.0634 - val_loss: 0.0053 - val_root_mean_squared_error: 0.0726 - val_mae: 0.0525\n",
            "\n",
            "Epoch 00011: val_loss did not improve from 0.00370\n",
            "Epoch 12/50\n",
            "208/208 [==============================] - 4s 21ms/step - loss: 0.0074 - root_mean_squared_error: 0.0857 - mae: 0.0562 - val_loss: 0.0031 - val_root_mean_squared_error: 0.0555 - val_mae: 0.0399\n",
            "\n",
            "Epoch 00012: val_loss improved from 0.00370 to 0.00308, saving model to /content/drive/My Drive/Colab Notebooks/Thesis/best model/LSTMGA_update_best_mse_data10132.hdf5\n",
            "Epoch 13/50\n",
            "208/208 [==============================] - 4s 21ms/step - loss: 0.0068 - root_mean_squared_error: 0.0821 - mae: 0.0526 - val_loss: 0.0032 - val_root_mean_squared_error: 0.0569 - val_mae: 0.0407\n",
            "\n",
            "Epoch 00013: val_loss did not improve from 0.00308\n",
            "Epoch 14/50\n",
            "208/208 [==============================] - 4s 21ms/step - loss: 0.0049 - root_mean_squared_error: 0.0697 - mae: 0.0484 - val_loss: 0.0028 - val_root_mean_squared_error: 0.0530 - val_mae: 0.0380\n",
            "\n",
            "Epoch 00014: val_loss improved from 0.00308 to 0.00281, saving model to /content/drive/My Drive/Colab Notebooks/Thesis/best model/LSTMGA_update_best_mse_data10132.hdf5\n",
            "Epoch 15/50\n",
            "208/208 [==============================] - 4s 21ms/step - loss: 0.0055 - root_mean_squared_error: 0.0739 - mae: 0.0462 - val_loss: 0.0025 - val_root_mean_squared_error: 0.0504 - val_mae: 0.0352\n",
            "\n",
            "Epoch 00015: val_loss improved from 0.00281 to 0.00254, saving model to /content/drive/My Drive/Colab Notebooks/Thesis/best model/LSTMGA_update_best_mse_data10132.hdf5\n",
            "Epoch 16/50\n",
            "208/208 [==============================] - 4s 22ms/step - loss: 0.0046 - root_mean_squared_error: 0.0673 - mae: 0.0441 - val_loss: 0.0021 - val_root_mean_squared_error: 0.0455 - val_mae: 0.0304\n",
            "\n",
            "Epoch 00016: val_loss improved from 0.00254 to 0.00207, saving model to /content/drive/My Drive/Colab Notebooks/Thesis/best model/LSTMGA_update_best_mse_data10132.hdf5\n",
            "Epoch 17/50\n",
            "208/208 [==============================] - 4s 21ms/step - loss: 0.0042 - root_mean_squared_error: 0.0645 - mae: 0.0433 - val_loss: 0.0024 - val_root_mean_squared_error: 0.0494 - val_mae: 0.0346\n",
            "\n",
            "Epoch 00017: val_loss did not improve from 0.00207\n",
            "Epoch 18/50\n",
            "208/208 [==============================] - 4s 21ms/step - loss: 0.0042 - root_mean_squared_error: 0.0649 - mae: 0.0424 - val_loss: 0.0020 - val_root_mean_squared_error: 0.0446 - val_mae: 0.0300\n",
            "\n",
            "Epoch 00018: val_loss improved from 0.00207 to 0.00199, saving model to /content/drive/My Drive/Colab Notebooks/Thesis/best model/LSTMGA_update_best_mse_data10132.hdf5\n",
            "Epoch 19/50\n",
            "208/208 [==============================] - 4s 21ms/step - loss: 0.0045 - root_mean_squared_error: 0.0666 - mae: 0.0421 - val_loss: 0.0022 - val_root_mean_squared_error: 0.0467 - val_mae: 0.0316\n",
            "\n",
            "Epoch 00019: val_loss did not improve from 0.00199\n",
            "Epoch 20/50\n",
            "208/208 [==============================] - 4s 21ms/step - loss: 0.0034 - root_mean_squared_error: 0.0586 - mae: 0.0400 - val_loss: 0.0020 - val_root_mean_squared_error: 0.0449 - val_mae: 0.0298\n",
            "\n",
            "Epoch 00020: val_loss did not improve from 0.00199\n",
            "Epoch 21/50\n",
            "208/208 [==============================] - 4s 21ms/step - loss: 0.0035 - root_mean_squared_error: 0.0593 - mae: 0.0388 - val_loss: 0.0020 - val_root_mean_squared_error: 0.0449 - val_mae: 0.0298\n",
            "\n",
            "Epoch 00021: val_loss did not improve from 0.00199\n",
            "Epoch 22/50\n",
            "208/208 [==============================] - 4s 21ms/step - loss: 0.0035 - root_mean_squared_error: 0.0593 - mae: 0.0384 - val_loss: 0.0021 - val_root_mean_squared_error: 0.0459 - val_mae: 0.0306\n",
            "\n",
            "Epoch 00022: val_loss did not improve from 0.00199\n",
            "Epoch 23/50\n",
            "208/208 [==============================] - 4s 21ms/step - loss: 0.0036 - root_mean_squared_error: 0.0598 - mae: 0.0395 - val_loss: 0.0020 - val_root_mean_squared_error: 0.0442 - val_mae: 0.0294\n",
            "\n",
            "Epoch 00023: val_loss improved from 0.00199 to 0.00195, saving model to /content/drive/My Drive/Colab Notebooks/Thesis/best model/LSTMGA_update_best_mse_data10132.hdf5\n",
            "Epoch 24/50\n",
            "208/208 [==============================] - 4s 21ms/step - loss: 0.0033 - root_mean_squared_error: 0.0573 - mae: 0.0380 - val_loss: 0.0019 - val_root_mean_squared_error: 0.0441 - val_mae: 0.0291\n",
            "\n",
            "Epoch 00024: val_loss improved from 0.00195 to 0.00194, saving model to /content/drive/My Drive/Colab Notebooks/Thesis/best model/LSTMGA_update_best_mse_data10132.hdf5\n",
            "Epoch 25/50\n",
            "208/208 [==============================] - 4s 21ms/step - loss: 0.0042 - root_mean_squared_error: 0.0648 - mae: 0.0438 - val_loss: 0.0037 - val_root_mean_squared_error: 0.0608 - val_mae: 0.0408\n",
            "\n",
            "Epoch 00025: val_loss did not improve from 0.00194\n",
            "Epoch 26/50\n",
            "208/208 [==============================] - 4s 21ms/step - loss: 0.0040 - root_mean_squared_error: 0.0632 - mae: 0.0433 - val_loss: 0.0032 - val_root_mean_squared_error: 0.0564 - val_mae: 0.0373\n",
            "\n",
            "Epoch 00026: val_loss did not improve from 0.00194\n",
            "Epoch 27/50\n",
            "208/208 [==============================] - 4s 21ms/step - loss: 0.0036 - root_mean_squared_error: 0.0596 - mae: 0.0401 - val_loss: 0.0020 - val_root_mean_squared_error: 0.0451 - val_mae: 0.0301\n",
            "\n",
            "Epoch 00027: val_loss did not improve from 0.00194\n",
            "Epoch 28/50\n",
            "208/208 [==============================] - 4s 21ms/step - loss: 0.0032 - root_mean_squared_error: 0.0565 - mae: 0.0380 - val_loss: 0.0025 - val_root_mean_squared_error: 0.0496 - val_mae: 0.0336\n",
            "\n",
            "Epoch 00028: val_loss did not improve from 0.00194\n",
            "Epoch 29/50\n",
            "208/208 [==============================] - 4s 21ms/step - loss: 0.0032 - root_mean_squared_error: 0.0563 - mae: 0.0378 - val_loss: 0.0020 - val_root_mean_squared_error: 0.0449 - val_mae: 0.0299\n",
            "\n",
            "Epoch 00029: val_loss did not improve from 0.00194\n",
            "120/120 [==============================] - 1s 4ms/step - loss: 0.0019 - root_mean_squared_error: 0.0441 - mae: 0.0291\n"
          ],
          "name": "stdout"
        },
        {
          "output_type": "stream",
          "text": [
            "\r 30%|███       | 3/10 [08:14<21:33, 184.79s/it]"
          ],
          "name": "stderr"
        },
        {
          "output_type": "stream",
          "text": [
            "{'n_neurons': 16, 'n_layers': 3, 'bs_double': 5, 'n_timewindow': 2}\n",
            "16\n",
            "Epoch 1/50\n",
            "208/208 [==============================] - 12s 40ms/step - loss: 0.2363 - root_mean_squared_error: 0.4626 - mae: 0.3199 - val_loss: 0.0228 - val_root_mean_squared_error: 0.1510 - val_mae: 0.1409\n",
            "\n",
            "Epoch 00001: val_loss improved from inf to 0.02281, saving model to /content/drive/My Drive/Colab Notebooks/Thesis/best model/LSTMGA_update_best_mse_data10132.hdf5\n",
            "Epoch 2/50\n",
            "208/208 [==============================] - 8s 39ms/step - loss: 0.0460 - root_mean_squared_error: 0.2141 - mae: 0.1371 - val_loss: 0.0195 - val_root_mean_squared_error: 0.1397 - val_mae: 0.1212\n",
            "\n",
            "Epoch 00002: val_loss improved from 0.02281 to 0.01951, saving model to /content/drive/My Drive/Colab Notebooks/Thesis/best model/LSTMGA_update_best_mse_data10132.hdf5\n",
            "Epoch 3/50\n",
            "208/208 [==============================] - 8s 37ms/step - loss: 0.0336 - root_mean_squared_error: 0.1833 - mae: 0.1126 - val_loss: 0.0101 - val_root_mean_squared_error: 0.1007 - val_mae: 0.0810\n",
            "\n",
            "Epoch 00003: val_loss improved from 0.01951 to 0.01015, saving model to /content/drive/My Drive/Colab Notebooks/Thesis/best model/LSTMGA_update_best_mse_data10132.hdf5\n",
            "Epoch 4/50\n",
            "208/208 [==============================] - 8s 36ms/step - loss: 0.0258 - root_mean_squared_error: 0.1603 - mae: 0.0992 - val_loss: 0.0112 - val_root_mean_squared_error: 0.1056 - val_mae: 0.0806\n",
            "\n",
            "Epoch 00004: val_loss did not improve from 0.01015\n",
            "Epoch 5/50\n",
            "208/208 [==============================] - 8s 36ms/step - loss: 0.0341 - root_mean_squared_error: 0.1837 - mae: 0.1029 - val_loss: 0.0078 - val_root_mean_squared_error: 0.0882 - val_mae: 0.0666\n",
            "\n",
            "Epoch 00005: val_loss improved from 0.01015 to 0.00777, saving model to /content/drive/My Drive/Colab Notebooks/Thesis/best model/LSTMGA_update_best_mse_data10132.hdf5\n",
            "Epoch 6/50\n",
            "208/208 [==============================] - 8s 36ms/step - loss: 0.0223 - root_mean_squared_error: 0.1493 - mae: 0.0876 - val_loss: 0.0077 - val_root_mean_squared_error: 0.0880 - val_mae: 0.0688\n",
            "\n",
            "Epoch 00006: val_loss improved from 0.00777 to 0.00774, saving model to /content/drive/My Drive/Colab Notebooks/Thesis/best model/LSTMGA_update_best_mse_data10132.hdf5\n",
            "Epoch 7/50\n",
            "208/208 [==============================] - 8s 37ms/step - loss: 0.0280 - root_mean_squared_error: 0.1661 - mae: 0.0928 - val_loss: 0.0061 - val_root_mean_squared_error: 0.0781 - val_mae: 0.0591\n",
            "\n",
            "Epoch 00007: val_loss improved from 0.00774 to 0.00609, saving model to /content/drive/My Drive/Colab Notebooks/Thesis/best model/LSTMGA_update_best_mse_data10132.hdf5\n",
            "Epoch 8/50\n",
            "208/208 [==============================] - 8s 36ms/step - loss: 0.0216 - root_mean_squared_error: 0.1463 - mae: 0.0818 - val_loss: 0.0064 - val_root_mean_squared_error: 0.0801 - val_mae: 0.0598\n",
            "\n",
            "Epoch 00008: val_loss did not improve from 0.00609\n",
            "Epoch 9/50\n",
            "208/208 [==============================] - 7s 36ms/step - loss: 0.0187 - root_mean_squared_error: 0.1361 - mae: 0.0791 - val_loss: 0.0051 - val_root_mean_squared_error: 0.0712 - val_mae: 0.0534\n",
            "\n",
            "Epoch 00009: val_loss improved from 0.00609 to 0.00507, saving model to /content/drive/My Drive/Colab Notebooks/Thesis/best model/LSTMGA_update_best_mse_data10132.hdf5\n",
            "Epoch 10/50\n",
            "208/208 [==============================] - 8s 37ms/step - loss: 0.0218 - root_mean_squared_error: 0.1473 - mae: 0.0819 - val_loss: 0.0071 - val_root_mean_squared_error: 0.0844 - val_mae: 0.0647\n",
            "\n",
            "Epoch 00010: val_loss did not improve from 0.00507\n",
            "Epoch 11/50\n",
            "208/208 [==============================] - 8s 36ms/step - loss: 0.0165 - root_mean_squared_error: 0.1282 - mae: 0.0773 - val_loss: 0.0051 - val_root_mean_squared_error: 0.0715 - val_mae: 0.0540\n",
            "\n",
            "Epoch 00011: val_loss did not improve from 0.00507\n",
            "Epoch 12/50\n",
            "208/208 [==============================] - 7s 36ms/step - loss: 0.0151 - root_mean_squared_error: 0.1229 - mae: 0.0705 - val_loss: 0.0038 - val_root_mean_squared_error: 0.0620 - val_mae: 0.0473\n",
            "\n",
            "Epoch 00012: val_loss improved from 0.00507 to 0.00385, saving model to /content/drive/My Drive/Colab Notebooks/Thesis/best model/LSTMGA_update_best_mse_data10132.hdf5\n",
            "Epoch 13/50\n",
            "208/208 [==============================] - 8s 37ms/step - loss: 0.0114 - root_mean_squared_error: 0.1067 - mae: 0.0634 - val_loss: 0.0033 - val_root_mean_squared_error: 0.0571 - val_mae: 0.0413\n",
            "\n",
            "Epoch 00013: val_loss improved from 0.00385 to 0.00326, saving model to /content/drive/My Drive/Colab Notebooks/Thesis/best model/LSTMGA_update_best_mse_data10132.hdf5\n",
            "Epoch 14/50\n",
            "208/208 [==============================] - 8s 36ms/step - loss: 0.0097 - root_mean_squared_error: 0.0986 - mae: 0.0606 - val_loss: 0.0036 - val_root_mean_squared_error: 0.0598 - val_mae: 0.0429\n",
            "\n",
            "Epoch 00014: val_loss did not improve from 0.00326\n",
            "Epoch 15/50\n",
            "208/208 [==============================] - 8s 36ms/step - loss: 0.0114 - root_mean_squared_error: 0.1066 - mae: 0.0591 - val_loss: 0.0024 - val_root_mean_squared_error: 0.0487 - val_mae: 0.0333\n",
            "\n",
            "Epoch 00015: val_loss improved from 0.00326 to 0.00237, saving model to /content/drive/My Drive/Colab Notebooks/Thesis/best model/LSTMGA_update_best_mse_data10132.hdf5\n",
            "Epoch 16/50\n",
            "208/208 [==============================] - 10s 50ms/step - loss: 0.0094 - root_mean_squared_error: 0.0967 - mae: 0.0558 - val_loss: 0.0025 - val_root_mean_squared_error: 0.0497 - val_mae: 0.0354\n",
            "\n",
            "Epoch 00016: val_loss did not improve from 0.00237\n",
            "Epoch 17/50\n",
            "208/208 [==============================] - 8s 39ms/step - loss: 0.0067 - root_mean_squared_error: 0.0818 - mae: 0.0511 - val_loss: 0.0025 - val_root_mean_squared_error: 0.0497 - val_mae: 0.0344\n",
            "\n",
            "Epoch 00017: val_loss did not improve from 0.00237\n",
            "Epoch 18/50\n",
            "208/208 [==============================] - 8s 36ms/step - loss: 0.0070 - root_mean_squared_error: 0.0834 - mae: 0.0503 - val_loss: 0.0024 - val_root_mean_squared_error: 0.0487 - val_mae: 0.0338\n",
            "\n",
            "Epoch 00018: val_loss did not improve from 0.00237\n",
            "Epoch 19/50\n",
            "208/208 [==============================] - 8s 37ms/step - loss: 0.0058 - root_mean_squared_error: 0.0759 - mae: 0.0477 - val_loss: 0.0023 - val_root_mean_squared_error: 0.0476 - val_mae: 0.0326\n",
            "\n",
            "Epoch 00019: val_loss improved from 0.00237 to 0.00226, saving model to /content/drive/My Drive/Colab Notebooks/Thesis/best model/LSTMGA_update_best_mse_data10132.hdf5\n",
            "Epoch 20/50\n",
            "208/208 [==============================] - 8s 37ms/step - loss: 0.0063 - root_mean_squared_error: 0.0792 - mae: 0.0474 - val_loss: 0.0021 - val_root_mean_squared_error: 0.0457 - val_mae: 0.0311\n",
            "\n",
            "Epoch 00020: val_loss improved from 0.00226 to 0.00209, saving model to /content/drive/My Drive/Colab Notebooks/Thesis/best model/LSTMGA_update_best_mse_data10132.hdf5\n",
            "Epoch 21/50\n",
            "208/208 [==============================] - 8s 37ms/step - loss: 0.0074 - root_mean_squared_error: 0.0860 - mae: 0.0493 - val_loss: 0.0021 - val_root_mean_squared_error: 0.0461 - val_mae: 0.0314\n",
            "\n",
            "Epoch 00021: val_loss did not improve from 0.00209\n",
            "Epoch 22/50\n",
            "208/208 [==============================] - 7s 36ms/step - loss: 0.0048 - root_mean_squared_error: 0.0692 - mae: 0.0431 - val_loss: 0.0021 - val_root_mean_squared_error: 0.0463 - val_mae: 0.0310\n",
            "\n",
            "Epoch 00022: val_loss did not improve from 0.00209\n",
            "Epoch 23/50\n",
            "208/208 [==============================] - 7s 36ms/step - loss: 0.0056 - root_mean_squared_error: 0.0747 - mae: 0.0457 - val_loss: 0.0020 - val_root_mean_squared_error: 0.0446 - val_mae: 0.0300\n",
            "\n",
            "Epoch 00023: val_loss improved from 0.00209 to 0.00199, saving model to /content/drive/My Drive/Colab Notebooks/Thesis/best model/LSTMGA_update_best_mse_data10132.hdf5\n",
            "Epoch 24/50\n",
            "208/208 [==============================] - 7s 36ms/step - loss: 0.0064 - root_mean_squared_error: 0.0795 - mae: 0.0452 - val_loss: 0.0020 - val_root_mean_squared_error: 0.0447 - val_mae: 0.0300\n",
            "\n",
            "Epoch 00024: val_loss did not improve from 0.00199\n",
            "Epoch 25/50\n",
            "208/208 [==============================] - 8s 36ms/step - loss: 0.0063 - root_mean_squared_error: 0.0791 - mae: 0.0491 - val_loss: 0.0028 - val_root_mean_squared_error: 0.0530 - val_mae: 0.0361\n",
            "\n",
            "Epoch 00025: val_loss did not improve from 0.00199\n",
            "Epoch 26/50\n",
            "208/208 [==============================] - 7s 36ms/step - loss: 0.0047 - root_mean_squared_error: 0.0688 - mae: 0.0450 - val_loss: 0.0030 - val_root_mean_squared_error: 0.0547 - val_mae: 0.0386\n",
            "\n",
            "Epoch 00026: val_loss did not improve from 0.00199\n",
            "Epoch 27/50\n",
            "208/208 [==============================] - 8s 36ms/step - loss: 0.0047 - root_mean_squared_error: 0.0684 - mae: 0.0441 - val_loss: 0.0021 - val_root_mean_squared_error: 0.0461 - val_mae: 0.0319\n",
            "\n",
            "Epoch 00027: val_loss did not improve from 0.00199\n",
            "Epoch 28/50\n",
            "208/208 [==============================] - 7s 36ms/step - loss: 0.0044 - root_mean_squared_error: 0.0663 - mae: 0.0421 - val_loss: 0.0021 - val_root_mean_squared_error: 0.0463 - val_mae: 0.0318\n",
            "\n",
            "Epoch 00028: val_loss did not improve from 0.00199\n",
            "120/120 [==============================] - 2s 7ms/step - loss: 0.0020 - root_mean_squared_error: 0.0446 - mae: 0.0300\n"
          ],
          "name": "stdout"
        },
        {
          "output_type": "stream",
          "text": [
            "\r 40%|████      | 4/10 [12:11<20:03, 200.52s/it]"
          ],
          "name": "stderr"
        },
        {
          "output_type": "stream",
          "text": [
            "{'n_neurons': 16, 'n_layers': 3, 'bs_double': 7, 'n_timewindow': 2}\n",
            "16\n",
            "Epoch 1/50\n",
            "52/52 [==============================] - 8s 76ms/step - loss: 0.3731 - root_mean_squared_error: 0.5766 - mae: 0.3853 - val_loss: 0.0130 - val_root_mean_squared_error: 0.1141 - val_mae: 0.1025\n",
            "\n",
            "Epoch 00001: val_loss improved from inf to 0.01303, saving model to /content/drive/My Drive/Colab Notebooks/Thesis/best model/LSTMGA_update_best_mse_data101128.hdf5\n",
            "Epoch 2/50\n",
            "52/52 [==============================] - 3s 64ms/step - loss: 0.0460 - root_mean_squared_error: 0.2145 - mae: 0.1392 - val_loss: 0.0171 - val_root_mean_squared_error: 0.1309 - val_mae: 0.1212\n",
            "\n",
            "Epoch 00002: val_loss did not improve from 0.01303\n",
            "Epoch 3/50\n",
            "52/52 [==============================] - 3s 61ms/step - loss: 0.0490 - root_mean_squared_error: 0.2209 - mae: 0.1278 - val_loss: 0.0208 - val_root_mean_squared_error: 0.1444 - val_mae: 0.1347\n",
            "\n",
            "Epoch 00003: val_loss did not improve from 0.01303\n",
            "Epoch 4/50\n",
            "52/52 [==============================] - 3s 61ms/step - loss: 0.0409 - root_mean_squared_error: 0.2017 - mae: 0.1201 - val_loss: 0.0224 - val_root_mean_squared_error: 0.1498 - val_mae: 0.1398\n",
            "\n",
            "Epoch 00004: val_loss did not improve from 0.01303\n",
            "Epoch 5/50\n",
            "52/52 [==============================] - 3s 61ms/step - loss: 0.0388 - root_mean_squared_error: 0.1969 - mae: 0.1157 - val_loss: 0.0277 - val_root_mean_squared_error: 0.1663 - val_mae: 0.1552\n",
            "\n",
            "Epoch 00005: val_loss did not improve from 0.01303\n",
            "Epoch 6/50\n",
            "52/52 [==============================] - 3s 60ms/step - loss: 0.0346 - root_mean_squared_error: 0.1853 - mae: 0.1065 - val_loss: 0.0289 - val_root_mean_squared_error: 0.1700 - val_mae: 0.1583\n",
            "\n",
            "Epoch 00006: val_loss did not improve from 0.01303\n",
            "120/120 [==============================] - 2s 7ms/step - loss: 0.0130 - root_mean_squared_error: 0.1141 - mae: 0.1025\n"
          ],
          "name": "stdout"
        },
        {
          "output_type": "stream",
          "text": [
            "\r 50%|█████     | 5/10 [12:40<12:25, 149.06s/it]"
          ],
          "name": "stderr"
        },
        {
          "output_type": "stream",
          "text": [
            "{'n_neurons': 16, 'n_layers': 2, 'bs_double': 7, 'n_timewindow': 2}\n",
            "16\n",
            "Epoch 1/50\n",
            "52/52 [==============================] - 6s 42ms/step - loss: 0.7356 - root_mean_squared_error: 0.8091 - mae: 0.5872 - val_loss: 0.0094 - val_root_mean_squared_error: 0.0971 - val_mae: 0.0684\n",
            "\n",
            "Epoch 00001: val_loss improved from inf to 0.00944, saving model to /content/drive/My Drive/Colab Notebooks/Thesis/best model/LSTMGA_update_best_mse_data101128.hdf5\n",
            "Epoch 2/50\n",
            "52/52 [==============================] - 2s 29ms/step - loss: 0.0503 - root_mean_squared_error: 0.2238 - mae: 0.1540 - val_loss: 0.0102 - val_root_mean_squared_error: 0.1009 - val_mae: 0.0655\n",
            "\n",
            "Epoch 00002: val_loss did not improve from 0.00944\n",
            "Epoch 3/50\n",
            "52/52 [==============================] - 1s 29ms/step - loss: 0.0361 - root_mean_squared_error: 0.1900 - mae: 0.1228 - val_loss: 0.0106 - val_root_mean_squared_error: 0.1030 - val_mae: 0.0659\n",
            "\n",
            "Epoch 00003: val_loss did not improve from 0.00944\n",
            "Epoch 4/50\n",
            "52/52 [==============================] - 2s 29ms/step - loss: 0.0318 - root_mean_squared_error: 0.1781 - mae: 0.1131 - val_loss: 0.0120 - val_root_mean_squared_error: 0.1094 - val_mae: 0.0699\n",
            "\n",
            "Epoch 00004: val_loss did not improve from 0.00944\n",
            "Epoch 5/50\n",
            "52/52 [==============================] - 1s 28ms/step - loss: 0.0267 - root_mean_squared_error: 0.1633 - mae: 0.1017 - val_loss: 0.0124 - val_root_mean_squared_error: 0.1114 - val_mae: 0.0732\n",
            "\n",
            "Epoch 00005: val_loss did not improve from 0.00944\n",
            "Epoch 6/50\n",
            "52/52 [==============================] - 2s 29ms/step - loss: 0.0228 - root_mean_squared_error: 0.1508 - mae: 0.0934 - val_loss: 0.0149 - val_root_mean_squared_error: 0.1221 - val_mae: 0.0863\n",
            "\n",
            "Epoch 00006: val_loss did not improve from 0.00944\n",
            "120/120 [==============================] - 1s 4ms/step - loss: 0.0094 - root_mean_squared_error: 0.0971 - mae: 0.0684\n"
          ],
          "name": "stdout"
        },
        {
          "output_type": "stream",
          "text": [
            "\r 60%|██████    | 6/10 [12:56<07:16, 109.14s/it]"
          ],
          "name": "stderr"
        },
        {
          "output_type": "stream",
          "text": [
            "{'n_neurons': 16, 'n_layers': 4, 'bs_double': 6, 'n_timewindow': 1.5}\n",
            "16\n",
            "Epoch 1/50\n",
            "104/104 [==============================] - 14s 82ms/step - loss: 0.2424 - root_mean_squared_error: 0.4698 - mae: 0.3055 - val_loss: 0.0116 - val_root_mean_squared_error: 0.1076 - val_mae: 0.0940\n",
            "\n",
            "Epoch 00001: val_loss improved from inf to 0.01159, saving model to /content/drive/My Drive/Colab Notebooks/Thesis/best model/LSTMGA_update_best_mse_data10164.hdf5\n",
            "Epoch 2/50\n",
            "104/104 [==============================] - 8s 75ms/step - loss: 0.0370 - root_mean_squared_error: 0.1922 - mae: 0.1258 - val_loss: 0.0145 - val_root_mean_squared_error: 0.1205 - val_mae: 0.1101\n",
            "\n",
            "Epoch 00002: val_loss did not improve from 0.01159\n",
            "Epoch 3/50\n",
            "104/104 [==============================] - 8s 73ms/step - loss: 0.0414 - root_mean_squared_error: 0.2033 - mae: 0.1247 - val_loss: 0.0124 - val_root_mean_squared_error: 0.1112 - val_mae: 0.0987\n",
            "\n",
            "Epoch 00003: val_loss did not improve from 0.01159\n",
            "Epoch 4/50\n",
            "104/104 [==============================] - 8s 73ms/step - loss: 0.0278 - root_mean_squared_error: 0.1659 - mae: 0.1015 - val_loss: 0.0106 - val_root_mean_squared_error: 0.1031 - val_mae: 0.0856\n",
            "\n",
            "Epoch 00004: val_loss improved from 0.01159 to 0.01063, saving model to /content/drive/My Drive/Colab Notebooks/Thesis/best model/LSTMGA_update_best_mse_data10164.hdf5\n",
            "Epoch 5/50\n",
            "104/104 [==============================] - 8s 76ms/step - loss: 0.0238 - root_mean_squared_error: 0.1541 - mae: 0.0938 - val_loss: 0.0104 - val_root_mean_squared_error: 0.1019 - val_mae: 0.0849\n",
            "\n",
            "Epoch 00005: val_loss improved from 0.01063 to 0.01039, saving model to /content/drive/My Drive/Colab Notebooks/Thesis/best model/LSTMGA_update_best_mse_data10164.hdf5\n",
            "Epoch 6/50\n",
            "104/104 [==============================] - 8s 73ms/step - loss: 0.0249 - root_mean_squared_error: 0.1573 - mae: 0.0933 - val_loss: 0.0102 - val_root_mean_squared_error: 0.1010 - val_mae: 0.0812\n",
            "\n",
            "Epoch 00006: val_loss improved from 0.01039 to 0.01020, saving model to /content/drive/My Drive/Colab Notebooks/Thesis/best model/LSTMGA_update_best_mse_data10164.hdf5\n",
            "Epoch 7/50\n",
            "104/104 [==============================] - 8s 73ms/step - loss: 0.0281 - root_mean_squared_error: 0.1664 - mae: 0.0939 - val_loss: 0.0096 - val_root_mean_squared_error: 0.0979 - val_mae: 0.0745\n",
            "\n",
            "Epoch 00007: val_loss improved from 0.01020 to 0.00958, saving model to /content/drive/My Drive/Colab Notebooks/Thesis/best model/LSTMGA_update_best_mse_data10164.hdf5\n",
            "Epoch 8/50\n",
            "104/104 [==============================] - 8s 73ms/step - loss: 0.0216 - root_mean_squared_error: 0.1465 - mae: 0.0880 - val_loss: 0.0093 - val_root_mean_squared_error: 0.0964 - val_mae: 0.0715\n",
            "\n",
            "Epoch 00008: val_loss improved from 0.00958 to 0.00929, saving model to /content/drive/My Drive/Colab Notebooks/Thesis/best model/LSTMGA_update_best_mse_data10164.hdf5\n",
            "Epoch 9/50\n",
            "104/104 [==============================] - 8s 73ms/step - loss: 0.0216 - root_mean_squared_error: 0.1468 - mae: 0.0874 - val_loss: 0.0082 - val_root_mean_squared_error: 0.0908 - val_mae: 0.0675\n",
            "\n",
            "Epoch 00009: val_loss improved from 0.00929 to 0.00824, saving model to /content/drive/My Drive/Colab Notebooks/Thesis/best model/LSTMGA_update_best_mse_data10164.hdf5\n",
            "Epoch 10/50\n",
            "104/104 [==============================] - 8s 74ms/step - loss: 0.0245 - root_mean_squared_error: 0.1566 - mae: 0.0925 - val_loss: 0.0085 - val_root_mean_squared_error: 0.0922 - val_mae: 0.0726\n",
            "\n",
            "Epoch 00010: val_loss did not improve from 0.00824\n",
            "Epoch 11/50\n",
            "104/104 [==============================] - 8s 73ms/step - loss: 0.0217 - root_mean_squared_error: 0.1468 - mae: 0.0868 - val_loss: 0.0080 - val_root_mean_squared_error: 0.0893 - val_mae: 0.0681\n",
            "\n",
            "Epoch 00011: val_loss improved from 0.00824 to 0.00798, saving model to /content/drive/My Drive/Colab Notebooks/Thesis/best model/LSTMGA_update_best_mse_data10164.hdf5\n",
            "Epoch 12/50\n",
            "104/104 [==============================] - 8s 73ms/step - loss: 0.0225 - root_mean_squared_error: 0.1495 - mae: 0.0867 - val_loss: 0.0084 - val_root_mean_squared_error: 0.0915 - val_mae: 0.0709\n",
            "\n",
            "Epoch 00012: val_loss did not improve from 0.00798\n",
            "Epoch 13/50\n",
            "104/104 [==============================] - 8s 72ms/step - loss: 0.0250 - root_mean_squared_error: 0.1576 - mae: 0.0890 - val_loss: 0.0079 - val_root_mean_squared_error: 0.0890 - val_mae: 0.0670\n",
            "\n",
            "Epoch 00013: val_loss improved from 0.00798 to 0.00791, saving model to /content/drive/My Drive/Colab Notebooks/Thesis/best model/LSTMGA_update_best_mse_data10164.hdf5\n",
            "Epoch 14/50\n",
            "104/104 [==============================] - 8s 73ms/step - loss: 0.0204 - root_mean_squared_error: 0.1426 - mae: 0.0854 - val_loss: 0.0084 - val_root_mean_squared_error: 0.0916 - val_mae: 0.0680\n",
            "\n",
            "Epoch 00014: val_loss did not improve from 0.00791\n",
            "Epoch 15/50\n",
            "104/104 [==============================] - 8s 73ms/step - loss: 0.0167 - root_mean_squared_error: 0.1292 - mae: 0.0799 - val_loss: 0.0080 - val_root_mean_squared_error: 0.0895 - val_mae: 0.0670\n",
            "\n",
            "Epoch 00015: val_loss did not improve from 0.00791\n",
            "Epoch 16/50\n",
            "104/104 [==============================] - 7s 72ms/step - loss: 0.0179 - root_mean_squared_error: 0.1337 - mae: 0.0809 - val_loss: 0.0069 - val_root_mean_squared_error: 0.0832 - val_mae: 0.0630\n",
            "\n",
            "Epoch 00016: val_loss improved from 0.00791 to 0.00692, saving model to /content/drive/My Drive/Colab Notebooks/Thesis/best model/LSTMGA_update_best_mse_data10164.hdf5\n",
            "Epoch 17/50\n",
            "104/104 [==============================] - 8s 73ms/step - loss: 0.0190 - root_mean_squared_error: 0.1374 - mae: 0.0823 - val_loss: 0.0069 - val_root_mean_squared_error: 0.0832 - val_mae: 0.0629\n",
            "\n",
            "Epoch 00017: val_loss improved from 0.00692 to 0.00692, saving model to /content/drive/My Drive/Colab Notebooks/Thesis/best model/LSTMGA_update_best_mse_data10164.hdf5\n",
            "Epoch 18/50\n",
            "104/104 [==============================] - 8s 74ms/step - loss: 0.0193 - root_mean_squared_error: 0.1388 - mae: 0.0830 - val_loss: 0.0066 - val_root_mean_squared_error: 0.0813 - val_mae: 0.0612\n",
            "\n",
            "Epoch 00018: val_loss improved from 0.00692 to 0.00661, saving model to /content/drive/My Drive/Colab Notebooks/Thesis/best model/LSTMGA_update_best_mse_data10164.hdf5\n",
            "Epoch 19/50\n",
            "104/104 [==============================] - 8s 73ms/step - loss: 0.0187 - root_mean_squared_error: 0.1362 - mae: 0.0820 - val_loss: 0.0066 - val_root_mean_squared_error: 0.0811 - val_mae: 0.0611\n",
            "\n",
            "Epoch 00019: val_loss improved from 0.00661 to 0.00657, saving model to /content/drive/My Drive/Colab Notebooks/Thesis/best model/LSTMGA_update_best_mse_data10164.hdf5\n",
            "Epoch 20/50\n",
            "104/104 [==============================] - 8s 73ms/step - loss: 0.0147 - root_mean_squared_error: 0.1209 - mae: 0.0776 - val_loss: 0.0083 - val_root_mean_squared_error: 0.0914 - val_mae: 0.0709\n",
            "\n",
            "Epoch 00020: val_loss did not improve from 0.00657\n",
            "Epoch 21/50\n",
            "104/104 [==============================] - 7s 72ms/step - loss: 0.0169 - root_mean_squared_error: 0.1297 - mae: 0.0792 - val_loss: 0.0087 - val_root_mean_squared_error: 0.0933 - val_mae: 0.0701\n",
            "\n",
            "Epoch 00021: val_loss did not improve from 0.00657\n",
            "Epoch 22/50\n",
            "104/104 [==============================] - 8s 73ms/step - loss: 0.0137 - root_mean_squared_error: 0.1168 - mae: 0.0716 - val_loss: 0.0070 - val_root_mean_squared_error: 0.0834 - val_mae: 0.0615\n",
            "\n",
            "Epoch 00022: val_loss did not improve from 0.00657\n",
            "Epoch 23/50\n",
            "104/104 [==============================] - 8s 73ms/step - loss: 0.0110 - root_mean_squared_error: 0.1049 - mae: 0.0648 - val_loss: 0.0052 - val_root_mean_squared_error: 0.0719 - val_mae: 0.0532\n",
            "\n",
            "Epoch 00023: val_loss improved from 0.00657 to 0.00516, saving model to /content/drive/My Drive/Colab Notebooks/Thesis/best model/LSTMGA_update_best_mse_data10164.hdf5\n",
            "Epoch 24/50\n",
            "104/104 [==============================] - 8s 73ms/step - loss: 0.0117 - root_mean_squared_error: 0.1082 - mae: 0.0644 - val_loss: 0.0054 - val_root_mean_squared_error: 0.0733 - val_mae: 0.0557\n",
            "\n",
            "Epoch 00024: val_loss did not improve from 0.00516\n",
            "Epoch 25/50\n",
            "104/104 [==============================] - 8s 73ms/step - loss: 0.0097 - root_mean_squared_error: 0.0984 - mae: 0.0574 - val_loss: 0.0034 - val_root_mean_squared_error: 0.0580 - val_mae: 0.0421\n",
            "\n",
            "Epoch 00025: val_loss improved from 0.00516 to 0.00337, saving model to /content/drive/My Drive/Colab Notebooks/Thesis/best model/LSTMGA_update_best_mse_data10164.hdf5\n",
            "Epoch 26/50\n",
            "104/104 [==============================] - 8s 73ms/step - loss: 0.0081 - root_mean_squared_error: 0.0901 - mae: 0.0552 - val_loss: 0.0031 - val_root_mean_squared_error: 0.0558 - val_mae: 0.0410\n",
            "\n",
            "Epoch 00026: val_loss improved from 0.00337 to 0.00311, saving model to /content/drive/My Drive/Colab Notebooks/Thesis/best model/LSTMGA_update_best_mse_data10164.hdf5\n",
            "Epoch 27/50\n",
            "104/104 [==============================] - 8s 74ms/step - loss: 0.0069 - root_mean_squared_error: 0.0829 - mae: 0.0497 - val_loss: 0.0033 - val_root_mean_squared_error: 0.0571 - val_mae: 0.0419\n",
            "\n",
            "Epoch 00027: val_loss did not improve from 0.00311\n",
            "Epoch 28/50\n",
            "104/104 [==============================] - 7s 72ms/step - loss: 0.0070 - root_mean_squared_error: 0.0836 - mae: 0.0500 - val_loss: 0.0034 - val_root_mean_squared_error: 0.0585 - val_mae: 0.0422\n",
            "\n",
            "Epoch 00028: val_loss did not improve from 0.00311\n",
            "Epoch 29/50\n",
            "104/104 [==============================] - 7s 72ms/step - loss: 0.0074 - root_mean_squared_error: 0.0861 - mae: 0.0501 - val_loss: 0.0029 - val_root_mean_squared_error: 0.0539 - val_mae: 0.0392\n",
            "\n",
            "Epoch 00029: val_loss improved from 0.00311 to 0.00290, saving model to /content/drive/My Drive/Colab Notebooks/Thesis/best model/LSTMGA_update_best_mse_data10164.hdf5\n",
            "Epoch 30/50\n",
            "104/104 [==============================] - 7s 72ms/step - loss: 0.0073 - root_mean_squared_error: 0.0853 - mae: 0.0508 - val_loss: 0.0027 - val_root_mean_squared_error: 0.0522 - val_mae: 0.0369\n",
            "\n",
            "Epoch 00030: val_loss improved from 0.00290 to 0.00273, saving model to /content/drive/My Drive/Colab Notebooks/Thesis/best model/LSTMGA_update_best_mse_data10164.hdf5\n",
            "Epoch 31/50\n",
            "104/104 [==============================] - 7s 72ms/step - loss: 0.0057 - root_mean_squared_error: 0.0751 - mae: 0.0455 - val_loss: 0.0024 - val_root_mean_squared_error: 0.0485 - val_mae: 0.0341\n",
            "\n",
            "Epoch 00031: val_loss improved from 0.00273 to 0.00235, saving model to /content/drive/My Drive/Colab Notebooks/Thesis/best model/LSTMGA_update_best_mse_data10164.hdf5\n",
            "Epoch 32/50\n",
            "104/104 [==============================] - 8s 73ms/step - loss: 0.0052 - root_mean_squared_error: 0.0721 - mae: 0.0441 - val_loss: 0.0028 - val_root_mean_squared_error: 0.0530 - val_mae: 0.0368\n",
            "\n",
            "Epoch 00032: val_loss did not improve from 0.00235\n",
            "Epoch 33/50\n",
            "104/104 [==============================] - 7s 72ms/step - loss: 0.0051 - root_mean_squared_error: 0.0715 - mae: 0.0454 - val_loss: 0.0028 - val_root_mean_squared_error: 0.0526 - val_mae: 0.0368\n",
            "\n",
            "Epoch 00033: val_loss did not improve from 0.00235\n",
            "Epoch 34/50\n",
            "104/104 [==============================] - 8s 75ms/step - loss: 0.0050 - root_mean_squared_error: 0.0706 - mae: 0.0424 - val_loss: 0.0024 - val_root_mean_squared_error: 0.0489 - val_mae: 0.0339\n",
            "\n",
            "Epoch 00034: val_loss did not improve from 0.00235\n",
            "Epoch 35/50\n",
            "104/104 [==============================] - 8s 73ms/step - loss: 0.0049 - root_mean_squared_error: 0.0701 - mae: 0.0437 - val_loss: 0.0027 - val_root_mean_squared_error: 0.0524 - val_mae: 0.0369\n",
            "\n",
            "Epoch 00035: val_loss did not improve from 0.00235\n",
            "Epoch 36/50\n",
            "104/104 [==============================] - 8s 73ms/step - loss: 0.0050 - root_mean_squared_error: 0.0709 - mae: 0.0433 - val_loss: 0.0021 - val_root_mean_squared_error: 0.0454 - val_mae: 0.0309\n",
            "\n",
            "Epoch 00036: val_loss improved from 0.00235 to 0.00206, saving model to /content/drive/My Drive/Colab Notebooks/Thesis/best model/LSTMGA_update_best_mse_data10164.hdf5\n",
            "Epoch 37/50\n",
            "104/104 [==============================] - 8s 74ms/step - loss: 0.0048 - root_mean_squared_error: 0.0690 - mae: 0.0416 - val_loss: 0.0022 - val_root_mean_squared_error: 0.0464 - val_mae: 0.0310\n",
            "\n",
            "Epoch 00037: val_loss did not improve from 0.00206\n",
            "Epoch 38/50\n",
            "104/104 [==============================] - 8s 73ms/step - loss: 0.0047 - root_mean_squared_error: 0.0682 - mae: 0.0417 - val_loss: 0.0021 - val_root_mean_squared_error: 0.0454 - val_mae: 0.0299\n",
            "\n",
            "Epoch 00038: val_loss did not improve from 0.00206\n",
            "Epoch 39/50\n",
            "104/104 [==============================] - 8s 73ms/step - loss: 0.0052 - root_mean_squared_error: 0.0720 - mae: 0.0431 - val_loss: 0.0021 - val_root_mean_squared_error: 0.0463 - val_mae: 0.0308\n",
            "\n",
            "Epoch 00039: val_loss did not improve from 0.00206\n",
            "Epoch 40/50\n",
            "104/104 [==============================] - 8s 73ms/step - loss: 0.0045 - root_mean_squared_error: 0.0670 - mae: 0.0402 - val_loss: 0.0020 - val_root_mean_squared_error: 0.0449 - val_mae: 0.0299\n",
            "\n",
            "Epoch 00040: val_loss improved from 0.00206 to 0.00202, saving model to /content/drive/My Drive/Colab Notebooks/Thesis/best model/LSTMGA_update_best_mse_data10164.hdf5\n",
            "Epoch 41/50\n",
            "104/104 [==============================] - 8s 73ms/step - loss: 0.0048 - root_mean_squared_error: 0.0694 - mae: 0.0418 - val_loss: 0.0020 - val_root_mean_squared_error: 0.0451 - val_mae: 0.0297\n",
            "\n",
            "Epoch 00041: val_loss did not improve from 0.00202\n",
            "Epoch 42/50\n",
            "104/104 [==============================] - 8s 73ms/step - loss: 0.0038 - root_mean_squared_error: 0.0613 - mae: 0.0382 - val_loss: 0.0020 - val_root_mean_squared_error: 0.0451 - val_mae: 0.0299\n",
            "\n",
            "Epoch 00042: val_loss did not improve from 0.00202\n",
            "Epoch 43/50\n",
            "104/104 [==============================] - 8s 73ms/step - loss: 0.0042 - root_mean_squared_error: 0.0649 - mae: 0.0398 - val_loss: 0.0020 - val_root_mean_squared_error: 0.0451 - val_mae: 0.0299\n",
            "\n",
            "Epoch 00043: val_loss did not improve from 0.00202\n",
            "Epoch 44/50\n",
            "104/104 [==============================] - 8s 73ms/step - loss: 0.0037 - root_mean_squared_error: 0.0606 - mae: 0.0387 - val_loss: 0.0021 - val_root_mean_squared_error: 0.0458 - val_mae: 0.0305\n",
            "\n",
            "Epoch 00044: val_loss did not improve from 0.00202\n",
            "Epoch 45/50\n",
            "104/104 [==============================] - 7s 72ms/step - loss: 0.0043 - root_mean_squared_error: 0.0654 - mae: 0.0399 - val_loss: 0.0020 - val_root_mean_squared_error: 0.0446 - val_mae: 0.0294\n",
            "\n",
            "Epoch 00045: val_loss improved from 0.00202 to 0.00199, saving model to /content/drive/My Drive/Colab Notebooks/Thesis/best model/LSTMGA_update_best_mse_data10164.hdf5\n",
            "Epoch 46/50\n",
            "104/104 [==============================] - 8s 73ms/step - loss: 0.0038 - root_mean_squared_error: 0.0613 - mae: 0.0370 - val_loss: 0.0020 - val_root_mean_squared_error: 0.0446 - val_mae: 0.0294\n",
            "\n",
            "Epoch 00046: val_loss improved from 0.00199 to 0.00199, saving model to /content/drive/My Drive/Colab Notebooks/Thesis/best model/LSTMGA_update_best_mse_data10164.hdf5\n",
            "Epoch 47/50\n",
            "104/104 [==============================] - 8s 72ms/step - loss: 0.0037 - root_mean_squared_error: 0.0606 - mae: 0.0375 - val_loss: 0.0021 - val_root_mean_squared_error: 0.0453 - val_mae: 0.0300\n",
            "\n",
            "Epoch 00047: val_loss did not improve from 0.00199\n",
            "Epoch 48/50\n",
            "104/104 [==============================] - 8s 75ms/step - loss: 0.0035 - root_mean_squared_error: 0.0592 - mae: 0.0374 - val_loss: 0.0020 - val_root_mean_squared_error: 0.0450 - val_mae: 0.0298\n",
            "\n",
            "Epoch 00048: val_loss did not improve from 0.00199\n",
            "Epoch 49/50\n",
            "104/104 [==============================] - 8s 73ms/step - loss: 0.0036 - root_mean_squared_error: 0.0598 - mae: 0.0385 - val_loss: 0.0030 - val_root_mean_squared_error: 0.0550 - val_mae: 0.0393\n",
            "\n",
            "Epoch 00049: val_loss did not improve from 0.00199\n",
            "Epoch 50/50\n",
            "104/104 [==============================] - 7s 72ms/step - loss: 0.0039 - root_mean_squared_error: 0.0626 - mae: 0.0412 - val_loss: 0.0034 - val_root_mean_squared_error: 0.0582 - val_mae: 0.0428\n",
            "\n",
            "Epoch 00050: val_loss did not improve from 0.00199\n",
            "120/120 [==============================] - 2s 10ms/step - loss: 0.0020 - root_mean_squared_error: 0.0446 - mae: 0.0294\n"
          ],
          "name": "stdout"
        },
        {
          "output_type": "stream",
          "text": [
            "\r 70%|███████   | 7/10 [19:58<10:08, 203.00s/it]"
          ],
          "name": "stderr"
        },
        {
          "output_type": "stream",
          "text": [
            "{'n_neurons': 16, 'n_layers': 2, 'bs_double': 9, 'n_timewindow': 2}\n",
            "16\n",
            "Epoch 1/50\n",
            "13/13 [==============================] - 4s 116ms/step - loss: 1.4694 - root_mean_squared_error: 1.1886 - mae: 0.9511 - val_loss: 0.0119 - val_root_mean_squared_error: 0.1092 - val_mae: 0.0682\n",
            "\n",
            "Epoch 00001: val_loss improved from inf to 0.01193, saving model to /content/drive/My Drive/Colab Notebooks/Thesis/best model/LSTMGA_update_best_mse_data101512.hdf5\n",
            "Epoch 2/50\n",
            "13/13 [==============================] - 1s 92ms/step - loss: 0.1897 - root_mean_squared_error: 0.4343 - mae: 0.3174 - val_loss: 0.0094 - val_root_mean_squared_error: 0.0969 - val_mae: 0.0692\n",
            "\n",
            "Epoch 00002: val_loss improved from 0.01193 to 0.00940, saving model to /content/drive/My Drive/Colab Notebooks/Thesis/best model/LSTMGA_update_best_mse_data101512.hdf5\n",
            "Epoch 3/50\n",
            "13/13 [==============================] - 1s 65ms/step - loss: 0.0770 - root_mean_squared_error: 0.2775 - mae: 0.2106 - val_loss: 0.0094 - val_root_mean_squared_error: 0.0970 - val_mae: 0.0724\n",
            "\n",
            "Epoch 00003: val_loss did not improve from 0.00940\n",
            "Epoch 4/50\n",
            "13/13 [==============================] - 1s 64ms/step - loss: 0.0534 - root_mean_squared_error: 0.2309 - mae: 0.1614 - val_loss: 0.0094 - val_root_mean_squared_error: 0.0971 - val_mae: 0.0687\n",
            "\n",
            "Epoch 00004: val_loss did not improve from 0.00940\n",
            "Epoch 5/50\n",
            "13/13 [==============================] - 1s 66ms/step - loss: 0.0377 - root_mean_squared_error: 0.1941 - mae: 0.1348 - val_loss: 0.0097 - val_root_mean_squared_error: 0.0986 - val_mae: 0.0663\n",
            "\n",
            "Epoch 00005: val_loss did not improve from 0.00940\n",
            "Epoch 6/50\n",
            "13/13 [==============================] - 1s 64ms/step - loss: 0.0361 - root_mean_squared_error: 0.1900 - mae: 0.1273 - val_loss: 0.0099 - val_root_mean_squared_error: 0.0994 - val_mae: 0.0658\n",
            "\n",
            "Epoch 00006: val_loss did not improve from 0.00940\n",
            "Epoch 7/50\n",
            "13/13 [==============================] - 1s 65ms/step - loss: 0.0356 - root_mean_squared_error: 0.1887 - mae: 0.1172 - val_loss: 0.0099 - val_root_mean_squared_error: 0.0997 - val_mae: 0.0657\n",
            "\n",
            "Epoch 00007: val_loss did not improve from 0.00940\n",
            "120/120 [==============================] - 1s 4ms/step - loss: 0.0094 - root_mean_squared_error: 0.0969 - mae: 0.0692\n"
          ],
          "name": "stdout"
        },
        {
          "output_type": "stream",
          "text": [
            "\r 80%|████████  | 8/10 [20:10<04:51, 145.84s/it]"
          ],
          "name": "stderr"
        },
        {
          "output_type": "stream",
          "text": [
            "{'n_neurons': 128, 'n_layers': 2, 'bs_double': 5, 'n_timewindow': 2}\n",
            "128\n",
            "Epoch 1/50\n",
            "208/208 [==============================] - 16s 63ms/step - loss: 0.4277 - root_mean_squared_error: 0.6212 - mae: 0.4450 - val_loss: 0.0191 - val_root_mean_squared_error: 0.1380 - val_mae: 0.1027\n",
            "\n",
            "Epoch 00001: val_loss improved from inf to 0.01905, saving model to /content/drive/My Drive/Colab Notebooks/Thesis/best model/LSTMGA_update_best_mse_data10132.hdf5\n",
            "Epoch 2/50\n",
            "208/208 [==============================] - 12s 60ms/step - loss: 0.0489 - root_mean_squared_error: 0.2210 - mae: 0.1643 - val_loss: 0.0093 - val_root_mean_squared_error: 0.0964 - val_mae: 0.0713\n",
            "\n",
            "Epoch 00002: val_loss improved from 0.01905 to 0.00930, saving model to /content/drive/My Drive/Colab Notebooks/Thesis/best model/LSTMGA_update_best_mse_data10132.hdf5\n",
            "Epoch 3/50\n",
            "208/208 [==============================] - 12s 59ms/step - loss: 0.0339 - root_mean_squared_error: 0.1841 - mae: 0.1352 - val_loss: 0.0139 - val_root_mean_squared_error: 0.1180 - val_mae: 0.0977\n",
            "\n",
            "Epoch 00003: val_loss did not improve from 0.00930\n",
            "Epoch 4/50\n",
            "208/208 [==============================] - 12s 59ms/step - loss: 0.0272 - root_mean_squared_error: 0.1647 - mae: 0.1174 - val_loss: 0.0058 - val_root_mean_squared_error: 0.0759 - val_mae: 0.0564\n",
            "\n",
            "Epoch 00004: val_loss improved from 0.00930 to 0.00575, saving model to /content/drive/My Drive/Colab Notebooks/Thesis/best model/LSTMGA_update_best_mse_data10132.hdf5\n",
            "Epoch 5/50\n",
            "208/208 [==============================] - 12s 60ms/step - loss: 0.0212 - root_mean_squared_error: 0.1454 - mae: 0.1007 - val_loss: 0.0055 - val_root_mean_squared_error: 0.0742 - val_mae: 0.0574\n",
            "\n",
            "Epoch 00005: val_loss improved from 0.00575 to 0.00551, saving model to /content/drive/My Drive/Colab Notebooks/Thesis/best model/LSTMGA_update_best_mse_data10132.hdf5\n",
            "Epoch 6/50\n",
            "208/208 [==============================] - 12s 59ms/step - loss: 0.0186 - root_mean_squared_error: 0.1363 - mae: 0.0906 - val_loss: 0.0051 - val_root_mean_squared_error: 0.0713 - val_mae: 0.0542\n",
            "\n",
            "Epoch 00006: val_loss improved from 0.00551 to 0.00509, saving model to /content/drive/My Drive/Colab Notebooks/Thesis/best model/LSTMGA_update_best_mse_data10132.hdf5\n",
            "Epoch 7/50\n",
            "208/208 [==============================] - 12s 59ms/step - loss: 0.0162 - root_mean_squared_error: 0.1272 - mae: 0.0868 - val_loss: 0.0037 - val_root_mean_squared_error: 0.0610 - val_mae: 0.0448\n",
            "\n",
            "Epoch 00007: val_loss improved from 0.00509 to 0.00372, saving model to /content/drive/My Drive/Colab Notebooks/Thesis/best model/LSTMGA_update_best_mse_data10132.hdf5\n",
            "Epoch 8/50\n",
            "208/208 [==============================] - 12s 59ms/step - loss: 0.0184 - root_mean_squared_error: 0.1354 - mae: 0.0908 - val_loss: 0.0030 - val_root_mean_squared_error: 0.0548 - val_mae: 0.0405\n",
            "\n",
            "Epoch 00008: val_loss improved from 0.00372 to 0.00300, saving model to /content/drive/My Drive/Colab Notebooks/Thesis/best model/LSTMGA_update_best_mse_data10132.hdf5\n",
            "Epoch 9/50\n",
            "208/208 [==============================] - 12s 59ms/step - loss: 0.0150 - root_mean_squared_error: 0.1225 - mae: 0.0805 - val_loss: 0.0028 - val_root_mean_squared_error: 0.0529 - val_mae: 0.0385\n",
            "\n",
            "Epoch 00009: val_loss improved from 0.00300 to 0.00280, saving model to /content/drive/My Drive/Colab Notebooks/Thesis/best model/LSTMGA_update_best_mse_data10132.hdf5\n",
            "Epoch 10/50\n",
            "208/208 [==============================] - 12s 60ms/step - loss: 0.0163 - root_mean_squared_error: 0.1277 - mae: 0.0834 - val_loss: 0.0131 - val_root_mean_squared_error: 0.1144 - val_mae: 0.0949\n",
            "\n",
            "Epoch 00010: val_loss did not improve from 0.00280\n",
            "Epoch 11/50\n",
            "208/208 [==============================] - 12s 59ms/step - loss: 0.0176 - root_mean_squared_error: 0.1324 - mae: 0.0942 - val_loss: 0.0060 - val_root_mean_squared_error: 0.0773 - val_mae: 0.0605\n",
            "\n",
            "Epoch 00011: val_loss did not improve from 0.00280\n",
            "Epoch 12/50\n",
            "208/208 [==============================] - 12s 57ms/step - loss: 0.0155 - root_mean_squared_error: 0.1243 - mae: 0.0875 - val_loss: 0.0041 - val_root_mean_squared_error: 0.0644 - val_mae: 0.0499\n",
            "\n",
            "Epoch 00012: val_loss did not improve from 0.00280\n",
            "Epoch 13/50\n",
            "208/208 [==============================] - 12s 58ms/step - loss: 0.0103 - root_mean_squared_error: 0.1015 - mae: 0.0704 - val_loss: 0.0047 - val_root_mean_squared_error: 0.0685 - val_mae: 0.0527\n",
            "\n",
            "Epoch 00013: val_loss did not improve from 0.00280\n",
            "Epoch 14/50\n",
            "208/208 [==============================] - 12s 59ms/step - loss: 0.0106 - root_mean_squared_error: 0.1027 - mae: 0.0715 - val_loss: 0.0039 - val_root_mean_squared_error: 0.0622 - val_mae: 0.0484\n",
            "\n",
            "Epoch 00014: val_loss did not improve from 0.00280\n",
            "120/120 [==============================] - 2s 12ms/step - loss: 0.0028 - root_mean_squared_error: 0.0529 - mae: 0.0385\n"
          ],
          "name": "stdout"
        },
        {
          "output_type": "stream",
          "text": [
            "\r 90%|█████████ | 9/10 [23:23<02:39, 159.81s/it]"
          ],
          "name": "stderr"
        },
        {
          "output_type": "stream",
          "text": [
            "{'n_neurons': 16, 'n_layers': 2, 'bs_double': 6, 'n_timewindow': 2}\n",
            "16\n",
            "Epoch 1/50\n",
            "104/104 [==============================] - 6s 32ms/step - loss: 0.5187 - root_mean_squared_error: 0.6640 - mae: 0.4566 - val_loss: 0.0100 - val_root_mean_squared_error: 0.0999 - val_mae: 0.0658\n",
            "\n",
            "Epoch 00001: val_loss improved from inf to 0.00998, saving model to /content/drive/My Drive/Colab Notebooks/Thesis/best model/LSTMGA_update_best_mse_data10164.hdf5\n",
            "Epoch 2/50\n",
            "104/104 [==============================] - 2s 23ms/step - loss: 0.0406 - root_mean_squared_error: 0.2014 - mae: 0.1394 - val_loss: 0.0128 - val_root_mean_squared_error: 0.1133 - val_mae: 0.0726\n",
            "\n",
            "Epoch 00002: val_loss did not improve from 0.00998\n",
            "Epoch 3/50\n",
            "104/104 [==============================] - 2s 24ms/step - loss: 0.0337 - root_mean_squared_error: 0.1833 - mae: 0.1160 - val_loss: 0.0136 - val_root_mean_squared_error: 0.1168 - val_mae: 0.0799\n",
            "\n",
            "Epoch 00003: val_loss did not improve from 0.00998\n",
            "Epoch 4/50\n",
            "104/104 [==============================] - 2s 24ms/step - loss: 0.0243 - root_mean_squared_error: 0.1556 - mae: 0.1001 - val_loss: 0.0181 - val_root_mean_squared_error: 0.1347 - val_mae: 0.1019\n",
            "\n",
            "Epoch 00004: val_loss did not improve from 0.00998\n",
            "Epoch 5/50\n",
            "104/104 [==============================] - 2s 24ms/step - loss: 0.0235 - root_mean_squared_error: 0.1530 - mae: 0.0921 - val_loss: 0.0168 - val_root_mean_squared_error: 0.1295 - val_mae: 0.1032\n",
            "\n",
            "Epoch 00005: val_loss did not improve from 0.00998\n",
            "Epoch 6/50\n",
            "104/104 [==============================] - 2s 24ms/step - loss: 0.0185 - root_mean_squared_error: 0.1357 - mae: 0.0822 - val_loss: 0.0104 - val_root_mean_squared_error: 0.1021 - val_mae: 0.0812\n",
            "\n",
            "Epoch 00006: val_loss did not improve from 0.00998\n",
            "120/120 [==============================] - 1s 5ms/step - loss: 0.0100 - root_mean_squared_error: 0.0999 - mae: 0.0658\n"
          ],
          "name": "stdout"
        },
        {
          "output_type": "stream",
          "text": [
            "100%|██████████| 10/10 [23:44<00:00, 142.46s/it]"
          ],
          "name": "stderr"
        },
        {
          "output_type": "stream",
          "text": [
            "time: 3h 15min 13s (started: 2021-01-25 22:38:27 +00:00)\n"
          ],
          "name": "stdout"
        },
        {
          "output_type": "stream",
          "text": [
            "\n"
          ],
          "name": "stderr"
        }
      ]
    },
    {
      "cell_type": "code",
      "metadata": {
        "id": "tAq7A8uSAMMG",
        "colab": {
          "base_uri": "https://localhost:8080/"
        },
        "outputId": "ddd8edf9-942b-4dc0-9116-62ea23780819"
      },
      "source": [
        "rmse, ga_network"
      ],
      "execution_count": null,
      "outputs": [
        {
          "output_type": "execute_result",
          "data": {
            "text/plain": [
              "([(0.042826101183891296,),\n",
              "  (0.04340127110481262,),\n",
              "  (0.04405916854739189,),\n",
              "  (0.044567640870809555,),\n",
              "  (0.04457038640975952,),\n",
              "  (0.052936770021915436,),\n",
              "  (0.09692955762147903,),\n",
              "  (0.09713941067457199,),\n",
              "  (0.09989364445209503,),\n",
              "  (0.11413893848657608,)],\n",
              " [{'bs_double': 6, 'n_layers': 3, 'n_neurons': 16, 'n_timewindow': 2},\n",
              "  {'bs_double': 5, 'n_layers': 2, 'n_neurons': 16, 'n_timewindow': 1.5},\n",
              "  {'bs_double': 5, 'n_layers': 2, 'n_neurons': 16, 'n_timewindow': 2},\n",
              "  {'bs_double': 6, 'n_layers': 4, 'n_neurons': 16, 'n_timewindow': 1.5},\n",
              "  {'bs_double': 5, 'n_layers': 3, 'n_neurons': 16, 'n_timewindow': 2},\n",
              "  {'bs_double': 5, 'n_layers': 2, 'n_neurons': 128, 'n_timewindow': 2},\n",
              "  {'bs_double': 9, 'n_layers': 2, 'n_neurons': 16, 'n_timewindow': 2},\n",
              "  {'bs_double': 7, 'n_layers': 2, 'n_neurons': 16, 'n_timewindow': 2},\n",
              "  {'bs_double': 6, 'n_layers': 2, 'n_neurons': 16, 'n_timewindow': 2},\n",
              "  {'bs_double': 7, 'n_layers': 3, 'n_neurons': 16, 'n_timewindow': 2}])"
            ]
          },
          "metadata": {
            "tags": []
          },
          "execution_count": 69
        },
        {
          "output_type": "stream",
          "text": [
            "time: 6.58 ms (started: 2021-01-26 01:53:40 +00:00)\n"
          ],
          "name": "stdout"
        }
      ]
    },
    {
      "cell_type": "code",
      "metadata": {
        "id": "MHVKn2mntc5z",
        "colab": {
          "base_uri": "https://localhost:8080/"
        },
        "outputId": "c90eedd6-9a22-494f-901c-228074095a81"
      },
      "source": [
        "#assign the first order as the best model\n",
        "best_model = ga_network[0]\n",
        "best_model"
      ],
      "execution_count": null,
      "outputs": [
        {
          "output_type": "execute_result",
          "data": {
            "text/plain": [
              "{'bs_double': 4, 'n_layers': 2, 'n_neurons': 32, 'n_timewindow': 0.5}"
            ]
          },
          "metadata": {
            "tags": []
          },
          "execution_count": 71
        },
        {
          "output_type": "stream",
          "text": [
            "time: 5.71 ms (started: 2021-01-14 16:27:25 +00:00)\n"
          ],
          "name": "stdout"
        }
      ]
    },
    {
      "cell_type": "code",
      "metadata": {
        "id": "D_sx3xJ9B0Ab",
        "colab": {
          "base_uri": "https://localhost:8080/"
        },
        "outputId": "188de8d5-1515-4963-deff-6260cd8037b7"
      },
      "source": [
        "#best_model ={'bs_double': 4, 'n_layers': 2, 'n_neurons': 32, 'n_timewindow': 0.5}#{'bs_double': 0, 'n_layers': 2, 'n_neurons': 16, 'n_timewindow': 1}\n",
        "best_model"
      ],
      "execution_count": null,
      "outputs": [
        {
          "output_type": "execute_result",
          "data": {
            "text/plain": [
              "{'bs_double': 4, 'n_layers': 2, 'n_neurons': 32, 'n_timewindow': 0.5}"
            ]
          },
          "metadata": {
            "tags": []
          },
          "execution_count": 120
        },
        {
          "output_type": "stream",
          "text": [
            "time: 7.43 ms (started: 2021-01-15 17:38:02 +00:00)\n"
          ],
          "name": "stdout"
        }
      ]
    },
    {
      "cell_type": "code",
      "metadata": {
        "id": "WnG601CDbinI",
        "colab": {
          "base_uri": "https://localhost:8080/"
        },
        "outputId": "cb337edf-8864-430d-a55c-7bc8f9e78169"
      },
      "source": [
        "best_model['n_timewindow']"
      ],
      "execution_count": null,
      "outputs": [
        {
          "output_type": "execute_result",
          "data": {
            "text/plain": [
              "0.5"
            ]
          },
          "metadata": {
            "tags": []
          },
          "execution_count": 121
        },
        {
          "output_type": "stream",
          "text": [
            "time: 3.37 ms (started: 2021-01-15 17:38:04 +00:00)\n"
          ],
          "name": "stdout"
        }
      ]
    },
    {
      "cell_type": "code",
      "metadata": {
        "id": "cpm7PWFqmdTw",
        "colab": {
          "base_uri": "https://localhost:8080/"
        },
        "outputId": "4f21c5af-d001-4815-cc55-c9a8c95af545"
      },
      "source": [
        "bs = 2**best_model['bs_double']\n",
        "bs_name = str(bs)"
      ],
      "execution_count": null,
      "outputs": [
        {
          "output_type": "stream",
          "text": [
            "time: 1.26 ms (started: 2021-01-15 17:38:05 +00:00)\n"
          ],
          "name": "stdout"
        }
      ]
    },
    {
      "cell_type": "code",
      "metadata": {
        "id": "iUk7LXJUEEU2",
        "colab": {
          "base_uri": "https://localhost:8080/"
        },
        "outputId": "e802dde9-c030-4aeb-db27-a648c0213252"
      },
      "source": [
        "look_back = int(np.ceil(size_trip*best_model['n_timewindow']))\n",
        "X_train, y_train, X_val, y_val, X_test, y_test, split_index_test, scaler = df_to_rnn_scaling(df=data, look_back=look_back, target_column='Driving_time_s')"
      ],
      "execution_count": null,
      "outputs": [
        {
          "output_type": "stream",
          "text": [
            "time: 37.7 ms (started: 2021-01-15 17:38:08 +00:00)\n"
          ],
          "name": "stdout"
        }
      ]
    },
    {
      "cell_type": "code",
      "metadata": {
        "id": "KVNznwrBvYOm",
        "colab": {
          "base_uri": "https://localhost:8080/"
        },
        "outputId": "ce9b2840-e6f2-4e9d-fe20-45e0f2eb502d"
      },
      "source": [
        "print('X_train_shape: ', X_train.shape,' ', 'X_val_shape: ', X_val.shape,' ', 'X_test_shape: ', X_test.shape)\n",
        "print('y_train_shape: ', y_train.shape,' ', 'y_val_shape: ', y_val.shape,' ', 'y_test_shape: ', y_test.shape)\n",
        "print(look_back, num_features)"
      ],
      "execution_count": null,
      "outputs": [
        {
          "output_type": "stream",
          "text": [
            "X_train_shape:  (4724, 5, 23)   X_val_shape:  (1516, 5, 23)   X_test_shape:  (436, 5, 23)\n",
            "y_train_shape:  (4724,)   y_val_shape:  (1516,)   y_test_shape:  (436,)\n",
            "5 23\n",
            "time: 3.28 ms (started: 2021-01-15 17:38:10 +00:00)\n"
          ],
          "name": "stdout"
        }
      ]
    },
    {
      "cell_type": "code",
      "metadata": {
        "id": "OCGpkf1xbJj3",
        "colab": {
          "base_uri": "https://localhost:8080/",
          "height": 1000
        },
        "outputId": "26189608-78fd-49c1-bda2-90e252953ea2"
      },
      "source": [
        "LSTM_train(X_train, y_train, X_test, y_test,X_test,y_test,n_neurons= best_model['n_neurons'], n_layers= best_model['n_layers'], bs_double= best_model['bs_double'], look_back=look_back)"
      ],
      "execution_count": null,
      "outputs": [
        {
          "output_type": "display_data",
          "data": {
            "image/png": "[encoded data removed]",
            "text/plain": [
              "<Figure size 864x864 with 4 Axes>"
            ]
          },
          "metadata": {
            "tags": [],
            "needs_background": "light"
          }
        },
        {
          "output_type": "stream",
          "text": [
            "Loss\n",
            "\ttraining         \t (min:    0.005, max:    0.100, cur:    0.005)\n",
            "\tvalidation       \t (min:    0.003, max:    0.012, cur:    0.004)\n",
            "mae\n",
            "\ttraining         \t (min:    0.051, max:    0.231, cur:    0.051)\n",
            "\tvalidation       \t (min:    0.041, max:    0.080, cur:    0.043)\n",
            "root_mean_squared_error\n",
            "\ttraining         \t (min:    0.070, max:    0.317, cur:    0.070)\n",
            "\tvalidation       \t (min:    0.059, max:    0.108, cur:    0.060)\n",
            "14/14 [==============================] - 1s 2ms/step - loss: 0.0035 - root_mean_squared_error: 0.0591 - mae: 0.0417\n"
          ],
          "name": "stdout"
        },
        {
          "output_type": "execute_result",
          "data": {
            "text/plain": [
              "(0.059139613062143326,)"
            ]
          },
          "metadata": {
            "tags": []
          },
          "execution_count": 125
        },
        {
          "output_type": "stream",
          "text": [
            "time: 1min 7s (started: 2021-01-15 17:38:11 +00:00)\n"
          ],
          "name": "stdout"
        }
      ]
    },
    {
      "cell_type": "markdown",
      "metadata": {
        "id": "Xp-YfPAuAwDg"
      },
      "source": [
        "# Cross validate on the test set"
      ]
    },
    {
      "cell_type": "code",
      "metadata": {
        "id": "0quBw7k4_Pyn",
        "colab": {
          "base_uri": "https://localhost:8080/"
        },
        "outputId": "c3f8ee04-8a69-47f9-8c85-c7dc40562d89"
      },
      "source": [
        "'''\n",
        "#set learning rate and optimizer\n",
        "lr=1.e-3\n",
        "n_steps=2000\n",
        "global_step=1\n",
        "LR = keras.experimental.CosineDecayRestarts(\n",
        "    initial_learning_rate=lr,\n",
        "    first_decay_steps=n_steps,\n",
        "    t_mul= 1.5,\n",
        "    m_mul= 1,\n",
        "    alpha=0.1,\n",
        "    name=None\n",
        ")\n",
        "adam = Adam(learning_rate=LR) #, weight_decay=1e-5)\n",
        "'''"
      ],
      "execution_count": null,
      "outputs": [
        {
          "output_type": "execute_result",
          "data": {
            "application/vnd.google.colaboratory.intrinsic+json": {
              "type": "string"
            },
            "text/plain": [
              "'\\n#set learning rate and optimizer\\nlr=1.e-3\\nn_steps=2000\\nglobal_step=1\\nLR = keras.experimental.CosineDecayRestarts(\\n    initial_learning_rate=lr,\\n    first_decay_steps=n_steps,\\n    t_mul= 1.5,\\n    m_mul= 1,\\n    alpha=0.1,\\n    name=None\\n)\\nadam = Adam(learning_rate=LR) #, weight_decay=1e-5)\\n'"
            ]
          },
          "metadata": {
            "tags": []
          },
          "execution_count": 126
        },
        {
          "output_type": "stream",
          "text": [
            "time: 7.91 ms (started: 2021-01-15 17:43:01 +00:00)\n"
          ],
          "name": "stdout"
        }
      ]
    },
    {
      "cell_type": "code",
      "metadata": {
        "id": "IfHfr-s9aE1_",
        "colab": {
          "base_uri": "https://localhost:8080/"
        },
        "outputId": "26f1cf1c-e6f2-4548-8a18-e797a0e00120"
      },
      "source": [
        "%time\n",
        "from keras.models import load_model\n",
        "\n",
        "# Load the saved model\n",
        "#model = load_model('/content/drive/My Drive/Colab Notebooks/Thesis/best model/LSTMGA_update_best_mse_data10116.hdf5')\n",
        "model = load_model(\"/content/drive/My Drive/Colab Notebooks/Thesis/best model/LSTMGA_update_best_mse_\"+path_end+bs_name+\".hdf5\") # Gave an error when loading without 'custom_objects'.. fixed by https://github.com/keras-team/keras/issues/3911\n",
        "\n",
        "# Compile with the same settings as it has been saved with earlier\n",
        "#model.compile(loss=\"mean_squared_error\", optimizer=adam, metrics=['RootMeanSquaredError', 'mae'])\n",
        "\n",
        "#print('FINISHED')"
      ],
      "execution_count": null,
      "outputs": [
        {
          "output_type": "stream",
          "text": [
            "CPU times: user 4 µs, sys: 0 ns, total: 4 µs\n",
            "Wall time: 10.7 µs\n",
            "time: 533 ms (started: 2021-01-15 17:43:02 +00:00)\n"
          ],
          "name": "stdout"
        }
      ]
    },
    {
      "cell_type": "code",
      "metadata": {
        "id": "8HxXLDTWo9K4",
        "colab": {
          "base_uri": "https://localhost:8080/"
        },
        "outputId": "ffc4a398-ab0b-42a7-ff6b-1a313fb1f959"
      },
      "source": [
        "model.summary()"
      ],
      "execution_count": null,
      "outputs": [
        {
          "output_type": "stream",
          "text": [
            "Model: \"sequential\"\n",
            "_________________________________________________________________\n",
            "Layer (type)                 Output Shape              Param #   \n",
            "=================================================================\n",
            "batch_norm_0 (BatchNormaliza (None, 5, 23)             92        \n",
            "_________________________________________________________________\n",
            "lstm_1 (LSTM)                (None, 5, 32)             7168      \n",
            "_________________________________________________________________\n",
            "leaky_re_lu (LeakyReLU)      (None, 5, 32)             0         \n",
            "_________________________________________________________________\n",
            "dropout_1 (Dropout)          (None, 5, 32)             0         \n",
            "_________________________________________________________________\n",
            "batch_norm_1 (BatchNormaliza (None, 5, 32)             128       \n",
            "_________________________________________________________________\n",
            "lstm_2 (LSTM)                (None, 32)                8192      \n",
            "_________________________________________________________________\n",
            "dropout_2 (Dropout)          (None, 32)                0         \n",
            "_________________________________________________________________\n",
            "batch_norm_2 (BatchNormaliza (None, 32)                128       \n",
            "_________________________________________________________________\n",
            "dense (Dense)                (None, 1)                 33        \n",
            "=================================================================\n",
            "Total params: 15,741\n",
            "Trainable params: 15,567\n",
            "Non-trainable params: 174\n",
            "_________________________________________________________________\n",
            "time: 11 ms (started: 2021-01-15 17:43:02 +00:00)\n"
          ],
          "name": "stdout"
        }
      ]
    },
    {
      "cell_type": "code",
      "metadata": {
        "id": "ThaH8zR7Au-A",
        "colab": {
          "base_uri": "https://localhost:8080/"
        },
        "outputId": "be7cd715-f725-42f5-8c80-2cecd8bf8545"
      },
      "source": [
        "#predict value for test set\n",
        "y_pred = model.predict(X_test) #, batch_size=1\n",
        "y_true = y_test.reshape(y_test.shape[0], 1)"
      ],
      "execution_count": null,
      "outputs": [
        {
          "output_type": "stream",
          "text": [
            "time: 616 ms (started: 2021-01-15 17:43:02 +00:00)\n"
          ],
          "name": "stdout"
        }
      ]
    },
    {
      "cell_type": "code",
      "metadata": {
        "id": "jFcgUCv6MDJ-",
        "colab": {
          "base_uri": "https://localhost:8080/"
        },
        "outputId": "792fdd49-12c2-4799-8b66-49f6f1a7eb3b"
      },
      "source": [
        "y_pred[128:150]"
      ],
      "execution_count": null,
      "outputs": [
        {
          "output_type": "execute_result",
          "data": {
            "text/plain": [
              "array([[0.06945898],\n",
              "       [0.17351858],\n",
              "       [0.21231565],\n",
              "       [0.0926829 ],\n",
              "       [0.18895593],\n",
              "       [0.09874538],\n",
              "       [0.08637334],\n",
              "       [0.19717857],\n",
              "       [0.13927992],\n",
              "       [0.06945898],\n",
              "       [0.17351858],\n",
              "       [0.21231565],\n",
              "       [0.08866873],\n",
              "       [0.18821932],\n",
              "       [0.10610776],\n",
              "       [0.09401831],\n",
              "       [0.23517485],\n",
              "       [0.1659061 ],\n",
              "       [0.06226054],\n",
              "       [0.19604614],\n",
              "       [0.2640328 ],\n",
              "       [0.08324629]], dtype=float32)"
            ]
          },
          "metadata": {
            "tags": []
          },
          "execution_count": 130
        },
        {
          "output_type": "stream",
          "text": [
            "time: 7.32 ms (started: 2021-01-15 17:43:03 +00:00)\n"
          ],
          "name": "stdout"
        }
      ]
    },
    {
      "cell_type": "code",
      "metadata": {
        "id": "a9f1RK2JFK1n",
        "colab": {
          "base_uri": "https://localhost:8080/"
        },
        "outputId": "90e3ae0b-bbe9-41e7-ed8d-afeb1ad838f7"
      },
      "source": [
        "y_pred[0][0]"
      ],
      "execution_count": null,
      "outputs": [
        {
          "output_type": "execute_result",
          "data": {
            "text/plain": [
              "0.3398101"
            ]
          },
          "metadata": {
            "tags": []
          },
          "execution_count": 131
        },
        {
          "output_type": "stream",
          "text": [
            "time: 6.72 ms (started: 2021-01-15 17:43:03 +00:00)\n"
          ],
          "name": "stdout"
        }
      ]
    },
    {
      "cell_type": "code",
      "metadata": {
        "id": "NUAtAF-xF651",
        "colab": {
          "base_uri": "https://localhost:8080/"
        },
        "outputId": "e4fa30a4-6225-41dc-bc47-43c75b6b6d8d"
      },
      "source": [
        "#evaluate the model result of the test set\n",
        "score = model.evaluate(X_val, y_val, batch_size=bs)[0]\n",
        "model.evaluate(X_test[:], y_test[:], batch_size=bs)[1]"
      ],
      "execution_count": null,
      "outputs": [
        {
          "output_type": "stream",
          "text": [
            "95/95 [==============================] - 1s 2ms/step - loss: 0.0038 - root_mean_squared_error: 0.0616 - mae: 0.0405\n",
            "28/28 [==============================] - 0s 2ms/step - loss: 0.0035 - root_mean_squared_error: 0.0591 - mae: 0.0417\n"
          ],
          "name": "stdout"
        },
        {
          "output_type": "execute_result",
          "data": {
            "text/plain": [
              "0.059139616787433624"
            ]
          },
          "metadata": {
            "tags": []
          },
          "execution_count": 132
        },
        {
          "output_type": "stream",
          "text": [
            "time: 992 ms (started: 2021-01-15 17:43:03 +00:00)\n"
          ],
          "name": "stdout"
        }
      ]
    },
    {
      "cell_type": "code",
      "metadata": {
        "id": "G9wxgHJC1smt",
        "colab": {
          "base_uri": "https://localhost:8080/"
        },
        "outputId": "21649a75-b822-4fb9-9ec7-b8cbcfd722ca"
      },
      "source": [
        "score"
      ],
      "execution_count": null,
      "outputs": [
        {
          "output_type": "execute_result",
          "data": {
            "text/plain": [
              "0.0037986410316079855"
            ]
          },
          "metadata": {
            "tags": []
          },
          "execution_count": 133
        },
        {
          "output_type": "stream",
          "text": [
            "time: 3.18 ms (started: 2021-01-15 17:43:04 +00:00)\n"
          ],
          "name": "stdout"
        }
      ]
    },
    {
      "cell_type": "code",
      "metadata": {
        "id": "v9oj-RW1FHJA",
        "colab": {
          "base_uri": "https://localhost:8080/"
        },
        "outputId": "2429ad3e-4e83-43bd-b5a6-6230d049085d"
      },
      "source": [
        "num_features"
      ],
      "execution_count": null,
      "outputs": [
        {
          "output_type": "execute_result",
          "data": {
            "text/plain": [
              "23"
            ]
          },
          "metadata": {
            "tags": []
          },
          "execution_count": 134
        },
        {
          "output_type": "stream",
          "text": [
            "time: 6.88 ms (started: 2021-01-15 17:43:04 +00:00)\n"
          ],
          "name": "stdout"
        }
      ]
    },
    {
      "cell_type": "code",
      "metadata": {
        "id": "8AIrGfWxF6GT",
        "colab": {
          "base_uri": "https://localhost:8080/"
        },
        "outputId": "9a2e4df6-3b00-4e9e-e150-4fda3b3dbaf5"
      },
      "source": [
        "# invert scaling for forecast\n",
        "inv_X_test = X_test.reshape((X_test.shape[0], look_back*num_features))\n",
        "inv_y_pred = np.concatenate((inv_X_test[:, -num_features:], y_pred), axis=1)\n",
        "inv_y_pred = scaler.inverse_transform(inv_y_pred)\n",
        "inv_y_pred = inv_y_pred[:,-1]"
      ],
      "execution_count": null,
      "outputs": [
        {
          "output_type": "stream",
          "text": [
            "time: 4.96 ms (started: 2021-01-15 17:43:04 +00:00)\n"
          ],
          "name": "stdout"
        }
      ]
    },
    {
      "cell_type": "code",
      "metadata": {
        "id": "Ly7GmVaGq2t9"
      },
      "source": [
        "inv_y_pred"
      ],
      "execution_count": null,
      "outputs": []
    },
    {
      "cell_type": "code",
      "metadata": {
        "id": "-jSxiMxO_SJk",
        "colab": {
          "base_uri": "https://localhost:8080/"
        },
        "outputId": "383b7367-6d61-4099-afba-b5e3af1066d7"
      },
      "source": [
        "inv_X_test.shape"
      ],
      "execution_count": null,
      "outputs": [
        {
          "output_type": "execute_result",
          "data": {
            "text/plain": [
              "(436, 115)"
            ]
          },
          "metadata": {
            "tags": []
          },
          "execution_count": 137
        },
        {
          "output_type": "stream",
          "text": [
            "time: 3.29 ms (started: 2021-01-15 17:43:04 +00:00)\n"
          ],
          "name": "stdout"
        }
      ]
    },
    {
      "cell_type": "code",
      "metadata": {
        "id": "tvXCZWadJIWD",
        "colab": {
          "base_uri": "https://localhost:8080/"
        },
        "outputId": "24d88e5f-62e8-433c-903f-ae305e5bba2e"
      },
      "source": [
        "# invert scaling for actual\n",
        "inv_y_true = np.concatenate((inv_X_test[:,- num_features:], y_true), axis=1)\n",
        "inv_y_true = scaler.inverse_transform(inv_y_true)\n",
        "inv_y_true = inv_y_true[:,-1]"
      ],
      "execution_count": null,
      "outputs": [
        {
          "output_type": "stream",
          "text": [
            "time: 4.83 ms (started: 2021-01-15 17:43:04 +00:00)\n"
          ],
          "name": "stdout"
        }
      ]
    },
    {
      "cell_type": "code",
      "metadata": {
        "id": "qg5_Hke-JQwo",
        "colab": {
          "base_uri": "https://localhost:8080/"
        },
        "outputId": "476315ec-46c3-4942-b8b0-34bc0d09afef"
      },
      "source": [
        "# calculate RMSE\n",
        "from sklearn.metrics import mean_squared_error, mean_absolute_error\n",
        "\n",
        "mse = mean_squared_error(inv_y_true, inv_y_pred)\n",
        "rmse = np.sqrt(mean_squared_error(inv_y_true, inv_y_pred))\n",
        "mae = mean_absolute_error(inv_y_true, inv_y_pred)\n",
        "print('Test MSE: %.3f' % mse)\n",
        "print('Test RMSE: %.3f' % rmse)\n",
        "print('Test MAE: %.3f' % mae)"
      ],
      "execution_count": null,
      "outputs": [
        {
          "output_type": "stream",
          "text": [
            "Test MSE: 1495.934\n",
            "Test RMSE: 38.677\n",
            "Test MAE: 27.249\n",
            "time: 10.3 ms (started: 2021-01-15 17:43:04 +00:00)\n"
          ],
          "name": "stdout"
        }
      ]
    },
    {
      "cell_type": "code",
      "metadata": {
        "id": "e6Sfvun2KuuO",
        "colab": {
          "base_uri": "https://localhost:8080/"
        },
        "outputId": "6ff85d38-fcf3-4679-fa7c-057ea8c292b1"
      },
      "source": [
        "#for plotting graph\n",
        "\n",
        "x = data[split_index_test:]\n",
        "\n",
        "datetime_difference = len(x) - len(y_true)\n",
        "x = x[datetime_difference:]"
      ],
      "execution_count": null,
      "outputs": [
        {
          "output_type": "stream",
          "text": [
            "time: 3.8 ms (started: 2021-01-15 17:43:04 +00:00)\n"
          ],
          "name": "stdout"
        }
      ]
    },
    {
      "cell_type": "markdown",
      "metadata": {
        "id": "1AMA-hgy3PQM"
      },
      "source": [
        "Show in the graph only first 50 points."
      ]
    },
    {
      "cell_type": "code",
      "metadata": {
        "id": "xH2d-0CwAUef",
        "colab": {
          "base_uri": "https://localhost:8080/"
        },
        "outputId": "d4f91089-a545-4be4-fc83-bbc7dfbb68b9"
      },
      "source": [
        "model.evaluate(X_train, y_train)"
      ],
      "execution_count": null,
      "outputs": [
        {
          "output_type": "stream",
          "text": [
            "148/148 [==============================] - 0s 2ms/step - loss: 0.0030 - root_mean_squared_error: 0.0548 - mae: 0.0396\n"
          ],
          "name": "stdout"
        },
        {
          "output_type": "execute_result",
          "data": {
            "text/plain": [
              "[0.0030048275366425514, 0.05481630563735962, 0.03962206095457077]"
            ]
          },
          "metadata": {
            "tags": []
          },
          "execution_count": 141
        },
        {
          "output_type": "stream",
          "text": [
            "time: 433 ms (started: 2021-01-15 17:43:04 +00:00)\n"
          ],
          "name": "stdout"
        }
      ]
    },
    {
      "cell_type": "code",
      "metadata": {
        "id": "_d_Csz7EBAs-",
        "colab": {
          "base_uri": "https://localhost:8080/"
        },
        "outputId": "41146030-3f2a-45a1-fdf4-336222a2f923"
      },
      "source": [
        "plt.figure(figsize=(20,10))\n",
        "plt.plot(inv_y_true[:200], '.-', color='red', label='Real values', alpha=0.5)\n",
        "plt.plot(inv_y_pred[:200], '.-', color='blue', label='Predicted values', alpha=1)\n",
        "\n",
        "plt.ylabel(r'Driving time [s]', fontsize=14)\n",
        "plt.xlabel('time point', fontsize=14) #TODO: set x values as actual dates\n",
        "\n",
        "plt.xticks(fontsize=10, rotation=90)\n",
        "plt.yticks(fontsize=10)\n",
        "\n",
        "plt.legend(loc='upper left', borderaxespad=0, frameon=False, fontsize=14, markerscale=3)\n",
        "\n",
        "mse_result, rmse_result, mae_result = model.evaluate(X_test, y_test)\n",
        "\n",
        "plt.title(path_name+'\\n LSTMGA %.0f hidden layers result \\n batch_size = 2**%.0f in %.0f time window and %.0f neurons in each lstm layer \\n MSE = %.2f \\n RMASE = %.1f  \\n MAE = %.1f' \n",
        "          % (best_model['n_layers'], best_model['bs_double'], \n",
        "             look_back, best_model['n_neurons'], \n",
        "             mse, rmse, mae), fontsize = 14)\n",
        "\n",
        "print('FINISHED')"
      ],
      "execution_count": null,
      "outputs": [
        {
          "output_type": "stream",
          "text": [
            "14/14 [==============================] - 0s 3ms/step - loss: 0.0035 - root_mean_squared_error: 0.0591 - mae: 0.0417\n",
            "FINISHED\n"
          ],
          "name": "stdout"
        },
        {
          "output_type": "display_data",
          "data": {
            "image/png": "[encoded data removed]",
            "text/plain": [
              "<Figure size 1440x720 with 1 Axes>"
            ]
          },
          "metadata": {
            "tags": [],
            "needs_background": "light"
          }
        },
        {
          "output_type": "stream",
          "text": [
            "time: 504 ms (started: 2021-01-15 17:43:05 +00:00)\n"
          ],
          "name": "stdout"
        }
      ]
    },
    {
      "cell_type": "code",
      "metadata": {
        "id": "ToZ1K7xALIZG",
        "colab": {
          "base_uri": "https://localhost:8080/"
        },
        "outputId": "4274d630-56e0-4105-8ae7-3565b10fafd7"
      },
      "source": [
        "plt.figure(figsize=(20,10))\n",
        "plt.plot( inv_y_true, '.-', color='red', label='Real values', alpha=0.5)\n",
        "plt.plot( inv_y_pred, '.-', color='blue', label='Predicted values', alpha=1)\n",
        "\n",
        "plt.ylabel(r'Driving time [s]', fontsize=14)\n",
        "plt.xlabel('datetime [-]', fontsize=14) #TODO: set x values as actual dates\n",
        "\n",
        "plt.xticks(fontsize=10, rotation=90)\n",
        "plt.yticks(fontsize=10)\n",
        "\n",
        "plt.legend(loc='upper left', borderaxespad=0, frameon=False, fontsize=14, markerscale=3)\n",
        "\n",
        "mse_result, rmse_result, mae_result = model.evaluate(X_test, y_test)\n",
        "\n",
        "plt.title(path_name+'\\n LSTM %.0f hidden layers result \\n batch_size = 2**%.0f in %.0f time window and %.0f neurons in each lstm layer \\n MSE = %.2f \\n RMASE = %.1f  \\n MAE = %.1f' \n",
        "          % (best_model['n_layers'], best_model['bs_double'], \n",
        "             look_back, best_model['n_neurons'],  mse, rmse, mae), fontsize = 14)\n",
        "\n",
        "print('FINISHED')"
      ],
      "execution_count": null,
      "outputs": [
        {
          "output_type": "stream",
          "text": [
            "14/14 [==============================] - 0s 3ms/step - loss: 0.0035 - root_mean_squared_error: 0.0591 - mae: 0.0417\n",
            "FINISHED\n"
          ],
          "name": "stdout"
        },
        {
          "output_type": "display_data",
          "data": {
            "image/png": "[encoded data removed]",
            "text/plain": [
              "<Figure size 1440x720 with 1 Axes>"
            ]
          },
          "metadata": {
            "tags": [],
            "needs_background": "light"
          }
        },
        {
          "output_type": "stream",
          "text": [
            "time: 529 ms (started: 2021-01-15 17:43:05 +00:00)\n"
          ],
          "name": "stdout"
        }
      ]
    },
    {
      "cell_type": "markdown",
      "metadata": {
        "id": "TmJnUXtLMPVD"
      },
      "source": [
        "# Combine results"
      ]
    },
    {
      "cell_type": "code",
      "metadata": {
        "id": "BshbaVGdZqHj",
        "colab": {
          "base_uri": "https://localhost:8080/"
        },
        "outputId": "080a0891-31f1-4ebb-9e24-754344046c0a"
      },
      "source": [
        "comb_result = st_comb_result.copy()\n",
        "comb_result = comb_result.drop(['Unnamed: 0'], axis=1) #, 'Unnamed: 0.1', 'Unnamed: 0.1.1'"
      ],
      "execution_count": null,
      "outputs": [
        {
          "output_type": "stream",
          "text": [
            "time: 5.04 ms (started: 2021-01-15 17:43:07 +00:00)\n"
          ],
          "name": "stdout"
        }
      ]
    },
    {
      "cell_type": "code",
      "metadata": {
        "id": "SXSxFSMBXT4Q"
      },
      "source": [
        "st_comb_result"
      ],
      "execution_count": null,
      "outputs": []
    },
    {
      "cell_type": "code",
      "metadata": {
        "id": "eF0GBFcEIvzZ",
        "colab": {
          "base_uri": "https://localhost:8080/"
        },
        "outputId": "d38cebbb-2b68-4f82-e0c9-3fb9a6354f07"
      },
      "source": [
        "comb_result = comb_result.rename(columns= {'Unnamed: 0.1':'index'})"
      ],
      "execution_count": null,
      "outputs": [
        {
          "output_type": "stream",
          "text": [
            "time: 3.25 ms (started: 2021-01-15 17:43:19 +00:00)\n"
          ],
          "name": "stdout"
        }
      ]
    },
    {
      "cell_type": "code",
      "metadata": {
        "id": "ZEORRsIS_qYM"
      },
      "source": [
        "#comb_result = comb_result.loc[comb_result.index>=int(size_trip*np.ceil(best_model['n_timewindow']))].reset_index(drop = True)\n",
        "#comb_result = comb_result.loc[comb_result.index>=62].reset_index(drop = True)\n",
        "#comb_result = comb_result[:40]\n",
        "comb_result"
      ],
      "execution_count": null,
      "outputs": []
    },
    {
      "cell_type": "code",
      "metadata": {
        "id": "7D7G2DStW17j",
        "colab": {
          "base_uri": "https://localhost:8080/"
        },
        "outputId": "90b50797-d2f0-4f14-a09e-e1e32de1bf70"
      },
      "source": [
        "len(comb_result)"
      ],
      "execution_count": null,
      "outputs": [
        {
          "output_type": "execute_result",
          "data": {
            "text/plain": [
              "432"
            ]
          },
          "metadata": {
            "tags": []
          },
          "execution_count": 148
        },
        {
          "output_type": "stream",
          "text": [
            "time: 7.3 ms (started: 2021-01-15 17:43:36 +00:00)\n"
          ],
          "name": "stdout"
        }
      ]
    },
    {
      "cell_type": "code",
      "metadata": {
        "id": "A1fzZDD8E0eN",
        "colab": {
          "base_uri": "https://localhost:8080/"
        },
        "outputId": "e0394252-97c5-4152-d1a5-906f3e8186fb"
      },
      "source": [
        "len(inv_y_pred[-len(comb_result):])"
      ],
      "execution_count": null,
      "outputs": [
        {
          "output_type": "execute_result",
          "data": {
            "text/plain": [
              "432"
            ]
          },
          "metadata": {
            "tags": []
          },
          "execution_count": 149
        },
        {
          "output_type": "stream",
          "text": [
            "time: 4.32 ms (started: 2021-01-15 17:43:38 +00:00)\n"
          ],
          "name": "stdout"
        }
      ]
    },
    {
      "cell_type": "code",
      "metadata": {
        "id": "vntydP7qMItu"
      },
      "source": [
        "(inv_y_pred[-len(comb_result):])"
      ],
      "execution_count": null,
      "outputs": []
    },
    {
      "cell_type": "code",
      "metadata": {
        "id": "fy7dQKzhNIp6"
      },
      "source": [
        "inv_y_pred[int(np.floor(size_trip*best_model['n_timewindow'])):]"
      ],
      "execution_count": null,
      "outputs": []
    },
    {
      "cell_type": "code",
      "metadata": {
        "id": "h1mAVAfBMOPA"
      },
      "source": [
        "comb_result['LSTMGA_'+str(best_model['n_layers'])+'H_'+bs_name] = inv_y_pred[-len(comb_result):]\n",
        "#comb_result= comb_result.drop(['LSTMGA_test|_'], axis=1)\n",
        "#comb_result['LSTMGA_'+str(best_model['n_layers'])+'H_'+bs_name] = inv_y_pred\n",
        "#comb_result = comb_result[20:].reset_index(drop = True)\n",
        "comb_result"
      ],
      "execution_count": null,
      "outputs": []
    },
    {
      "cell_type": "code",
      "metadata": {
        "id": "hlL6EP2qNZr1",
        "colab": {
          "base_uri": "https://localhost:8080/"
        },
        "outputId": "571e5a13-0870-42d3-db24-6130d2c4c31a"
      },
      "source": [
        "if route == 202:\n",
        "  route_unique = np.array(['Lufthansa-Basis (Haupteingang)|Obenhauptstraße',\n",
        "        'Obenhauptstraße|Alsterkrugchaussee (Mitte)',\n",
        "        'Alsterkrugchaussee (Mitte)|Moltrechtweg',\n",
        "        'Moltrechtweg|Brabandstraße', 'Brabandstraße|Hindenburgstraße',\n",
        "        'Hindenburgstraße|U Alsterdorf', 'U Alsterdorf|Sydneystraße',\n",
        "        'Sydneystraße|Manilabrücke', 'Manilabrücke|Kapstadtring',\n",
        "        'Kapstadtring|S Rübenkamp', 'S Rübenkamp|AK Barmbek', 'AK Barmbek|Hartzloh',\n",
        "        'Hartzloh|Habichtsplatz', 'Habichtsplatz|U Habichtstraße',\n",
        "        'U Habichtstraße|Habichtstraße (Mitte)',\n",
        "        'Habichtstraße (Mitte)|U Alter Teichweg',\n",
        "        'U Alter Teichweg|U Straßburger Straße',\n",
        "        'U Straßburger Straße|Wandsbeker Allee',\n",
        "        'Wandsbeker Allee|U Wandsbek Markt'], dtype= object)\n",
        "else:\n",
        "  route_unique = (comb_result.Path.unique())\n",
        "route_unique"
      ],
      "execution_count": null,
      "outputs": [
        {
          "output_type": "execute_result",
          "data": {
            "text/plain": [
              "array(['S Rübenkamp|AK Barmbek', 'AK Barmbek|Hartzloh',\n",
              "       'Hartzloh|Habichtsplatz', 'Habichtsplatz|U Habichtstraße',\n",
              "       'U Habichtstraße|Habichtstraße (Mitte)',\n",
              "       'Habichtstraße (Mitte)|U Alter Teichweg',\n",
              "       'U Alter Teichweg|U Straßburger Straße',\n",
              "       'U Straßburger Straße|Wandsbeker Allee',\n",
              "       'Wandsbeker Allee|U Wandsbek Markt'], dtype=object)"
            ]
          },
          "metadata": {
            "tags": []
          },
          "execution_count": 153
        },
        {
          "output_type": "stream",
          "text": [
            "time: 11.9 ms (started: 2021-01-15 17:44:21 +00:00)\n"
          ],
          "name": "stdout"
        }
      ]
    },
    {
      "cell_type": "code",
      "metadata": {
        "id": "TVJ84ivTUeqY",
        "colab": {
          "base_uri": "https://localhost:8080/"
        },
        "outputId": "ebdb5636-ac14-49b9-8b1c-d7cc4ec73cb6"
      },
      "source": [
        "comb_result['Path']"
      ],
      "execution_count": null,
      "outputs": [
        {
          "output_type": "execute_result",
          "data": {
            "text/plain": [
              "0                      S Rübenkamp|AK Barmbek\n",
              "1                         AK Barmbek|Hartzloh\n",
              "2                      Hartzloh|Habichtsplatz\n",
              "3               Habichtsplatz|U Habichtstraße\n",
              "4       U Habichtstraße|Habichtstraße (Mitte)\n",
              "                        ...                  \n",
              "427     U Habichtstraße|Habichtstraße (Mitte)\n",
              "428    Habichtstraße (Mitte)|U Alter Teichweg\n",
              "429     U Alter Teichweg|U Straßburger Straße\n",
              "430     U Straßburger Straße|Wandsbeker Allee\n",
              "431         Wandsbeker Allee|U Wandsbek Markt\n",
              "Name: Path, Length: 432, dtype: object"
            ]
          },
          "metadata": {
            "tags": []
          },
          "execution_count": 154
        },
        {
          "output_type": "stream",
          "text": [
            "time: 11.2 ms (started: 2021-01-15 17:44:24 +00:00)\n"
          ],
          "name": "stdout"
        }
      ]
    },
    {
      "cell_type": "code",
      "metadata": {
        "id": "5T_diThVNgxZ"
      },
      "source": [
        "#add new column for trip accumulate\n",
        "comb_result['LSTMGA_'+str(best_model['n_layers'])+'H_'+bs_name+'_trip_cum'] = 0\n",
        "a = 0\n",
        "for i in range(len(comb_result)):\n",
        "  if comb_result['Path'][i] == route_unique[0]: #the first path\n",
        "    a = comb_result['LSTMGA_'+str(best_model['n_layers'])+'H_'+bs_name][i]\n",
        "    comb_result['LSTMGA_'+str(best_model['n_layers'])+'H_'+bs_name+'_trip_cum'][i] = a\n",
        "  else:\n",
        "    a += comb_result['LSTMGA_'+str(best_model['n_layers'])+'H_'+bs_name][i] \n",
        "    comb_result['LSTMGA_'+str(best_model['n_layers'])+'H_'+bs_name+'_trip_cum'][i] = a\n",
        "comb_result[:]"
      ],
      "execution_count": null,
      "outputs": []
    },
    {
      "cell_type": "code",
      "metadata": {
        "colab": {
          "base_uri": "https://localhost:8080/"
        },
        "id": "GIUGy47IJlCH",
        "outputId": "b2760f71-7db6-4328-c423-69844c297823"
      },
      "source": [
        "#comb_result = comb_result[['Date time','Path','Actual','Actual_trip_cum','MLP','MLP_trip_cum','MLP_Kalman','MLP_Kalman_trip_cum','LSTM_2H_128','LSTM_2H_128_trip_cum','LSTMGA_2H_16','LSTMGA_2H_16_trip_cum','MLPGA_4H_16','MLPGA_4H_16_trip_cum']]"
      ],
      "execution_count": null,
      "outputs": [
        {
          "output_type": "stream",
          "text": [
            "time: 4.11 ms (started: 2021-01-15 17:47:12 +00:00)\n"
          ],
          "name": "stdout"
        }
      ]
    },
    {
      "cell_type": "markdown",
      "metadata": {
        "id": "GKyin5mMmQQW"
      },
      "source": [
        "# Export data"
      ]
    },
    {
      "cell_type": "code",
      "metadata": {
        "id": "hFZbMxb3lwvu",
        "colab": {
          "base_uri": "https://localhost:8080/"
        },
        "outputId": "c08a5da3-7092-4845-9323-6c4e1617a1f8"
      },
      "source": [
        "#path_file = 'combine_result'+path_end+'.csv'\n",
        "#comb_result.to_csv(\"/content/drive/My Drive/Colab Notebooks/Thesis/Tue_1_5_combine_result_\"+path_end+\".csv\")\n",
        "#comb_result_rmse.to_csv(\"/content/drive/My Drive/Colab Notebooks/Thesis/Tue_1_5_combine_result_rmse_\"+path_end+\".csv\")\n",
        "#!cp path_file \"/content/drive/My Drive/Colab Notebooks/Thesis\"\n",
        "\n",
        "comb_result.to_csv(\"/content/drive/My Drive/Colab Notebooks/Thesis/combine_result_\"+path_end+\"_m\"+str(month)+\".csv\")\n",
        "#comb_result_rmse.to_csv(\"/content/drive/My Drive/Colab Notebooks/Thesis/combine_result_rmse_\"+path_end+\"_m\"+str(month)+\".csv\")"
      ],
      "execution_count": null,
      "outputs": [
        {
          "output_type": "stream",
          "text": [
            "time: 38.4 ms (started: 2021-01-15 17:47:22 +00:00)\n"
          ],
          "name": "stdout"
        }
      ]
    }
  ]
}